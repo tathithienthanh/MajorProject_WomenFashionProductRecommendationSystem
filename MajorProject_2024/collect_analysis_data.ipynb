{
 "cells": [
  {
   "cell_type": "markdown",
   "id": "2240abd4-edf6-4ba6-bc8e-1ae410041e5b",
   "metadata": {},
   "source": [
    "Run this cell if the computer hasn't installed the numpy, pandas, matplotlib and seaborn libraries yet"
   ]
  },
  {
   "cell_type": "code",
   "execution_count": null,
   "id": "fa0446d2-a27d-4a69-b046-47ff17bec7c6",
   "metadata": {},
   "outputs": [],
   "source": [
    "# !pip install numpy\n",
    "# !pip install pandas\n",
    "# !pip install matplotlib\n",
    "# !pip install seaborn"
   ]
  },
  {
   "cell_type": "code",
   "execution_count": null,
   "id": "31400f32-1d5f-4dd2-997f-c2daa68a98a8",
   "metadata": {},
   "outputs": [],
   "source": [
    "import numpy as np\n",
    "import pandas as pd\n",
    "import matplotlib.pyplot as plt\n",
    "import seaborn as sns"
   ]
  },
  {
   "cell_type": "markdown",
   "id": "682fd1f6-080b-4659-afdd-171d1d8201ad",
   "metadata": {},
   "source": [
    "# Setup Selenium and Web Driver"
   ]
  },
  {
   "cell_type": "markdown",
   "id": "29edec24-4e80-405a-9da3-ebe7a37b3d2f",
   "metadata": {},
   "source": [
    "Run this cell if the computer hasn't installed the selenium and webdriver-manager libraries yet"
   ]
  },
  {
   "cell_type": "code",
   "execution_count": null,
   "id": "4548699c-ff7c-40fa-9c7d-bd8000885626",
   "metadata": {},
   "outputs": [],
   "source": [
    "# !pip install selenium\n",
    "# !pip install webdriver-manager"
   ]
  },
  {
   "cell_type": "code",
   "execution_count": null,
   "id": "62d8bd07-19d0-4955-87fd-50fd166e11fe",
   "metadata": {},
   "outputs": [],
   "source": [
    "from selenium import webdriver\n",
    "from selenium.webdriver.common.by import By\n",
    "from selenium.webdriver.chrome.service import Service\n",
    "from webdriver_manager.chrome import ChromeDriverManager\n",
    "from selenium.common.exceptions import NoSuchElementException\n",
    "import time\n",
    "\n",
    "service = Service(ChromeDriverManager().install())\n",
    "driver = webdriver.Chrome(service=service)\n",
    "driver.maximize_window()"
   ]
  },
  {
   "cell_type": "markdown",
   "id": "fe3f38d0-02cc-4d58-bd1b-586d14696572",
   "metadata": {},
   "source": [
    "# Scrape Data from Websites"
   ]
  },
  {
   "cell_type": "markdown",
   "id": "c72b2000-586a-4429-adce-7f596aa2b4b2",
   "metadata": {},
   "source": [
    "## Lazada website"
   ]
  },
  {
   "cell_type": "code",
   "execution_count": null,
   "id": "c96ada92-0e17-48b5-9aef-09c7ccf7efc7",
   "metadata": {},
   "outputs": [],
   "source": [
    "df_Laz_product = pd.DataFrame(columns = ['Url', 'Name', 'Price', 'Sold'])\n",
    "df_Laz_feedback = pd.DataFrame(columns = ['Product_Url', 'Content'])"
   ]
  },
  {
   "cell_type": "markdown",
   "id": "a1ae9288-4a8e-4c2e-9f92-18120cef26d4",
   "metadata": {},
   "source": [
    "Extract information from 120 products on Lazada website"
   ]
  },
  {
   "cell_type": "code",
   "execution_count": null,
   "id": "fc5350c2-de68-45ea-944b-8b9010140cd2",
   "metadata": {
    "scrolled": true
   },
   "outputs": [],
   "source": [
    "url = 'https://www.lazada.vn/#?'\n",
    "driver.get(url)\n",
    "search_box = driver.find_element(By.CSS_SELECTOR, \"input.search-box__input--O34g\")\n",
    "search_box.send_keys(\"Đầm\")\n",
    "search_button = driver.find_element(By.CSS_SELECTOR, \"a.search-box__button--1oH7\")\n",
    "search_button.click()\n",
    "\n",
    "button_nextPage = driver.find_element(By.CSS_SELECTOR, 'li[title=\"Next Page\"] button')\n",
    "\n",
    "for i in range (0, 3):\n",
    "    time.sleep(2)\n",
    "\n",
    "    try:\n",
    "        name_elements = driver.find_elements(By.CSS_SELECTOR, '.RfADt a')\n",
    "        names = [e.text for e in name_elements]\n",
    "        urls = [e.get_attribute('href') for e in name_elements]\n",
    "    except NoSuchElementException:\n",
    "        print('NoSuchElementException')\n",
    "        \n",
    "    try:\n",
    "        price_elements = driver.find_elements(By.CSS_SELECTOR, '.aBrP0')\n",
    "        prices = [e.text for e in price_elements]\n",
    "    except NoSuchElementException:\n",
    "        print('NoSuchElementException')\n",
    "        \n",
    "    try:\n",
    "        sold_elements = driver.find_elements(By.CSS_SELECTOR, 'span._1cEkb')\n",
    "        solds = [e.text for e in sold_elements]\n",
    "    except NoSuchElementException:\n",
    "        print('NoSuchElementException')\n",
    "    \n",
    "    default_length = len(urls)\n",
    "            \n",
    "    if len(names) < default_length:\n",
    "        names.extend([\"0\"] * (default_length - len(names)))\n",
    "    if len(prices) < default_length:\n",
    "        prices.extend([\"0%\"] * (default_length - len(prices)))\n",
    "    if len(solds) < default_length:\n",
    "        solds.extend([\"0\"] * (default_length - len(solds)))\n",
    "\n",
    "    df = pd.DataFrame({\n",
    "            'Url': urls,\n",
    "            'Name': names,\n",
    "            'Price': prices,\n",
    "            'Sold': solds\n",
    "        })\n",
    "\n",
    "    df_Laz_product = pd.concat([df_Laz_product, df], ignore_index = True)\n",
    "        \n",
    "    button_nextPage.click()"
   ]
  },
  {
   "cell_type": "code",
   "execution_count": null,
   "id": "3de92ffa-a8c3-43b0-8b4a-5187be22cd32",
   "metadata": {},
   "outputs": [],
   "source": [
    "df_Laz_product"
   ]
  },
  {
   "cell_type": "code",
   "execution_count": null,
   "id": "6d15c22b-f462-4332-9ba2-a8f2de0e92c0",
   "metadata": {},
   "outputs": [],
   "source": [
    "product_urls = list(df_Laz_product['Url'])"
   ]
  },
  {
   "cell_type": "code",
   "execution_count": null,
   "id": "01b8fb32-1836-4fbe-bf5c-94a2d77338fe",
   "metadata": {
    "scrolled": true
   },
   "outputs": [],
   "source": [
    "print(len(product_urls))\n",
    "for url in product_urls:\n",
    "    print(url)"
   ]
  },
  {
   "cell_type": "markdown",
   "id": "9e7b5ce2-d750-46f8-911b-1ff9b5db1a32",
   "metadata": {},
   "source": [
    "Store the product URLs in a text file as a backup"
   ]
  },
  {
   "cell_type": "code",
   "execution_count": null,
   "id": "e8a12252-d997-4eb7-a88d-d468a3d58cf3",
   "metadata": {},
   "outputs": [],
   "source": [
    "with open('Laz_product_urls.txt', mode='a') as file:\n",
    "    for row in product_urls:\n",
    "        file.write(row + \"\\n\")"
   ]
  },
  {
   "cell_type": "markdown",
   "id": "50f1351d-fe30-48eb-b77d-03fe36dbe32d",
   "metadata": {},
   "source": [
    "Retrieve the list of product URLs from the backup file"
   ]
  },
  {
   "cell_type": "code",
   "execution_count": null,
   "id": "978eeef0-d460-47e2-b380-724d5c6f638f",
   "metadata": {
    "scrolled": true
   },
   "outputs": [],
   "source": [
    "with open('Laz_product_urls.txt', mode='r') as file:\n",
    "    links = file.readlines()\n",
    "links = [link.strip() for link in links]\n",
    "# print(links)"
   ]
  },
  {
   "cell_type": "markdown",
   "id": "26279167-ee70-491a-8e80-679171ed7edf",
   "metadata": {},
   "source": [
    "Store the product dataframe in a csv file as a backup"
   ]
  },
  {
   "cell_type": "code",
   "execution_count": null,
   "id": "faac775c-0e3d-47ca-a66d-a7ea4e5a1de6",
   "metadata": {},
   "outputs": [],
   "source": [
    "df_Laz_product.to_csv('lazada_products.csv', mode = 'a', index=False)"
   ]
  },
  {
   "cell_type": "markdown",
   "id": "148abc4c-ada4-4bfd-be3e-19f502047ca4",
   "metadata": {},
   "source": [
    "Retrieve the product dataframe from the backup file"
   ]
  },
  {
   "cell_type": "code",
   "execution_count": null,
   "id": "75276a91-7d4c-4b35-ba3a-1578d6fa8573",
   "metadata": {},
   "outputs": [],
   "source": [
    "df_Laz_product = pd.read_csv('lazada_products.csv')\n",
    "df_Laz_product"
   ]
  },
  {
   "cell_type": "markdown",
   "id": "f7318182-756e-4b2d-9ba5-d269c5c32fa9",
   "metadata": {},
   "source": [
    "Extract feedbacks from 120 products on Lazada website"
   ]
  },
  {
   "cell_type": "code",
   "execution_count": null,
   "id": "51bc8d12-b1bc-4ab6-a69e-339ec7d9b6e7",
   "metadata": {},
   "outputs": [],
   "source": [
    "len(product_urls)"
   ]
  },
  {
   "cell_type": "code",
   "execution_count": null,
   "id": "f3a4f566-22f6-400e-a481-792c0ac8440a",
   "metadata": {
    "scrolled": true
   },
   "outputs": [],
   "source": [
    "for url in links:\n",
    "    driver.get(url)\n",
    "    time.sleep(5)\n",
    "    \n",
    "    driver.execute_script(f\"window.scrollTo(0, 1550);\")\n",
    "    time.sleep(5)\n",
    "    \n",
    "    while True:\n",
    "        try:\n",
    "            content_elements = driver.find_elements(By.CSS_SELECTOR, '.item div:nth-child(3) .content')\n",
    "            contents = [e.text for e in content_elements]\n",
    "        except NoSuchElementException:\n",
    "            print('NoSuchElementException')\n",
    "\n",
    "        default_length = len(contents)\n",
    "        urls = [url for i in range(0, default_length)]\n",
    "    \n",
    "        df = pd.DataFrame({\n",
    "                'Product_Url': urls,\n",
    "                'Content': contents\n",
    "            })\n",
    "        df_Laz_feedback = pd.concat([df_Laz_feedback, df], ignore_index = True)\n",
    "    \n",
    "        driver.execute_script(f\"window.scrollTo(0, 2280);\")\n",
    "        time.sleep(5)\n",
    "        \n",
    "        try:\n",
    "            next_button = driver.find_element(By.CSS_SELECTOR, 'button.next-btn.next-btn-normal.next-btn-medium.next-pagination-item.next')\n",
    "        except NoSuchElementException:\n",
    "            break\n",
    "            print('NoSuchElementException')\n",
    "        \n",
    "        if next_button.get_attribute('disabled'):\n",
    "            print(\"No more pages to scrape.\")\n",
    "            break\n",
    "        else:\n",
    "            next_button.click()\n",
    "            time.sleep(5)"
   ]
  },
  {
   "cell_type": "code",
   "execution_count": null,
   "id": "dc2f3c94-29bb-408c-9203-731443e14ba3",
   "metadata": {},
   "outputs": [],
   "source": [
    "df_Laz_feedback"
   ]
  },
  {
   "cell_type": "code",
   "execution_count": null,
   "id": "f060a394-d992-4669-b766-9bbd8e2909fc",
   "metadata": {},
   "outputs": [],
   "source": [
    "unique_values = df_Laz_feedback['Product_Url'].unique()\n",
    "print(len(unique_values))"
   ]
  },
  {
   "cell_type": "markdown",
   "id": "b5c9d54f-33af-4a75-ac89-c6fde7bf0f12",
   "metadata": {},
   "source": [
    "Store the feedback dataframe in a csv file as a backup"
   ]
  },
  {
   "cell_type": "code",
   "execution_count": null,
   "id": "b5c21752-f943-4f75-88e4-cbe04939a079",
   "metadata": {},
   "outputs": [],
   "source": [
    "df_Laz_feedback.to_csv('lazada_feedbacks.csv', mode = 'a', index=False)"
   ]
  },
  {
   "cell_type": "markdown",
   "id": "7f74cde9-467e-4659-aaa6-253e96fe3909",
   "metadata": {},
   "source": [
    "Retrieve the feedback dataframe from the backup file"
   ]
  },
  {
   "cell_type": "code",
   "execution_count": null,
   "id": "4a6d879b-5668-407f-a6c1-5946727f4589",
   "metadata": {},
   "outputs": [],
   "source": [
    "df_Laz_feedback = pd.read_csv('lazada_feedbacks.csv')\n",
    "df_Laz_feedback"
   ]
  },
  {
   "cell_type": "code",
   "execution_count": null,
   "id": "ec283396-100d-4ec9-8217-5b793b296289",
   "metadata": {},
   "outputs": [],
   "source": [
    "df_Laz_feedback = df_Laz_feedback.drop_duplicates()"
   ]
  },
  {
   "cell_type": "markdown",
   "id": "88cfebe3-9f88-4fa9-a89e-479225aaf755",
   "metadata": {},
   "source": [
    "## Tiki website"
   ]
  },
  {
   "cell_type": "code",
   "execution_count": null,
   "id": "99e66d7e-b07b-4a38-b864-07a6e88ab03f",
   "metadata": {},
   "outputs": [],
   "source": [
    "df_Tiki_product = pd.DataFrame(columns = ['Url', 'Name', 'Price', 'Sold'])\n",
    "df_Tiki_feedback = pd.DataFrame(columns = ['Product_Url', 'Content'])"
   ]
  },
  {
   "cell_type": "markdown",
   "id": "526e5380-5c28-4332-a5d1-d49ff7409ae3",
   "metadata": {},
   "source": [
    "Extract information from 120 products on Tiki website"
   ]
  },
  {
   "cell_type": "code",
   "execution_count": null,
   "id": "aa5fc581-f729-47c2-8264-ddbab1e7b2b3",
   "metadata": {
    "scrolled": true
   },
   "outputs": [],
   "source": [
    "#The url below is the original link to homepage of Tiki website\n",
    "#url = 'https://tiki.vn/'\n",
    "\n",
    "#This url is the Tiki website after send key 'xxxxx' to the search input \n",
    "url_sample = 'https://tiki.vn/search?q=%C4%91%E1%BA%A7m'\n",
    "driver.get(url_sample)\n",
    "time.sleep(5)\n",
    "\n",
    "button_nextPage = driver.find_element(By.CSS_SELECTOR, 'a[data-view-id=\"product_list_pagination_item\"]')\n",
    "\n",
    "for i in range (1, 4):\n",
    "    #url = url_sample.format('&page=' + str(i))\n",
    "    url = f'{url_sample}&page={i}'\n",
    "    driver.get(url)\n",
    "    time.sleep(2)\n",
    "\n",
    "    try:\n",
    "        url_elements = driver.find_elements(By.CSS_SELECTOR, 'a[data-view-id=\"product_list_item\"]')\n",
    "        urls = [e.get_attribute('href') for e in url_elements]\n",
    "    except NoSuchElementException:\n",
    "        print('NoSuchElementException')\n",
    "        \n",
    "    try:\n",
    "        name_elements = driver.find_elements(By.CSS_SELECTOR, 'h3.style__NameStyled-sc-139nb47-8')\n",
    "        names = [e.text for e in name_elements]\n",
    "    except NoSuchElementException:\n",
    "        print('NoSuchElementException')\n",
    "        \n",
    "    try:\n",
    "        price_elements = driver.find_elements(By.CSS_SELECTOR, '.price-discount__price')\n",
    "        prices = [e.text for e in price_elements]\n",
    "    except NoSuchElementException:\n",
    "        print('NoSuchElementException')\n",
    "        \n",
    "    try:\n",
    "        sold_elements = driver.find_elements(By.CSS_SELECTOR, 'span.quantity')\n",
    "        solds = [e.text for e in sold_elements]\n",
    "    except NoSuchElementException:\n",
    "        print('NoSuchElementException')\n",
    "    \n",
    "    default_length = len(urls)\n",
    "            \n",
    "    if len(names) < default_length:\n",
    "        names.extend([\"0\"] * (default_length - len(names)))\n",
    "    if len(prices) < default_length:\n",
    "        prices.extend([\"0%\"] * (default_length - len(prices)))\n",
    "    if len(solds) < default_length:\n",
    "        solds.extend([\"0\"] * (default_length - len(solds)))\n",
    "\n",
    "    df = pd.DataFrame({\n",
    "            'Url': urls,\n",
    "            'Name': names,\n",
    "            'Price': prices,\n",
    "            'Sold': solds\n",
    "        })\n",
    "\n",
    "    df_Tiki_product = pd.concat([df_Tiki_product, df], ignore_index = True)\n",
    "    print(len(df))"
   ]
  },
  {
   "cell_type": "code",
   "execution_count": null,
   "id": "dd1e44ec-56d2-4448-b8eb-10e553fb0fd9",
   "metadata": {},
   "outputs": [],
   "source": [
    "product_urls = list(df_Tiki_product['Url'])"
   ]
  },
  {
   "cell_type": "code",
   "execution_count": null,
   "id": "c0585ff4-5f2e-4ed3-ba14-f9b5071bbad7",
   "metadata": {
    "scrolled": true
   },
   "outputs": [],
   "source": [
    "df_Tiki_product"
   ]
  },
  {
   "cell_type": "markdown",
   "id": "5396c9b0-a52e-495f-a63f-800a06e0788b",
   "metadata": {},
   "source": [
    "Store the product URLs in a text file as a backup"
   ]
  },
  {
   "cell_type": "code",
   "execution_count": null,
   "id": "f369f555-aa32-4281-9f2f-1b2bccf0636b",
   "metadata": {},
   "outputs": [],
   "source": [
    "with open('Tiki_product_urls.txt', mode='a') as file:\n",
    "    for row in product_urls:\n",
    "        file.write(row + \"\\n\")"
   ]
  },
  {
   "cell_type": "markdown",
   "id": "6193c3cc-ef98-46a3-b44c-b719b76502cc",
   "metadata": {},
   "source": [
    "Retrieve the list of product URLs from the backup file"
   ]
  },
  {
   "cell_type": "code",
   "execution_count": null,
   "id": "f736b9d9-41ec-4df7-944f-9ce39667a2ea",
   "metadata": {
    "scrolled": true
   },
   "outputs": [],
   "source": [
    "with open('Tiki_product_urls.txt', mode='r') as file:\n",
    "    links = file.readlines()\n",
    "links = [link.strip() for link in links]\n",
    "# print(links)"
   ]
  },
  {
   "cell_type": "code",
   "execution_count": null,
   "id": "855d4e3c-120e-4846-b043-7c3917ed0eb2",
   "metadata": {},
   "outputs": [],
   "source": [
    "Tiki_product_urls = links"
   ]
  },
  {
   "cell_type": "markdown",
   "id": "77c45399-b29e-40da-b015-e3d6caea40bc",
   "metadata": {},
   "source": [
    "Store the product dataframe in a csv file as a backup"
   ]
  },
  {
   "cell_type": "code",
   "execution_count": null,
   "id": "b30679be-f74e-4d5a-a6bd-247402e6712e",
   "metadata": {},
   "outputs": [],
   "source": [
    "df_Tiki_product.to_csv('tiki_products.csv', index=False)"
   ]
  },
  {
   "cell_type": "markdown",
   "id": "d59979b1-2c97-4182-9379-206cfad162bb",
   "metadata": {},
   "source": [
    "Retrieve the product dataframe from the backup file"
   ]
  },
  {
   "cell_type": "code",
   "execution_count": null,
   "id": "2bd6377b-f025-4ccc-b8e6-5081585e58ec",
   "metadata": {},
   "outputs": [],
   "source": [
    "df_Tiki_product = pd.read_csv('tiki_products.csv')\n",
    "df_Tiki_product"
   ]
  },
  {
   "cell_type": "code",
   "execution_count": null,
   "id": "6d054252-9478-4550-8339-c467f63a62c2",
   "metadata": {
    "scrolled": true
   },
   "outputs": [],
   "source": [
    "print(len(Tiki_product_urls))"
   ]
  },
  {
   "cell_type": "code",
   "execution_count": null,
   "id": "5c841c60-10ba-4d38-8c64-bbbe0dca883a",
   "metadata": {},
   "outputs": [],
   "source": [
    "for url in Tiki_product_urls:\n",
    "    driver.get(url)\n",
    "    time.sleep(5)\n",
    "    \n",
    "    driver.execute_script(f\"window.scrollTo(0, 1550);\")\n",
    "    time.sleep(5)\n",
    "    \n",
    "    while True:\n",
    "        try:\n",
    "            content_elements = driver.find_elements(By.CSS_SELECTOR, '.review-comment__content')\n",
    "            contents = [e.text for e in content_elements]\n",
    "        except NoSuchElementException:\n",
    "            print('NoSuchElementException')\n",
    "            \n",
    "        urls = [url for i in range(0, len(contents))]\n",
    "    \n",
    "        df = pd.DataFrame({\n",
    "                'Product_Url': urls,\n",
    "                'Content': contents\n",
    "            })\n",
    "        df_Tiki_feedback = pd.concat([df_Tiki_feedback, df], ignore_index = True)\n",
    "    \n",
    "        driver.execute_script(f\"window.scrollTo(0, 2280);\")\n",
    "        time.sleep(5)\n",
    "        \n",
    "        try:\n",
    "            next_button = driver.find_element(By.CSS_SELECTOR, 'a.next')\n",
    "        except NoSuchElementException:\n",
    "            break\n",
    "            print('NoSuchElementException')\n",
    "        \n",
    "        if next_button.get_attribute('color') == \"#C4C4CF\":\n",
    "            print(\"No more pages to scrape.\")\n",
    "            break\n",
    "        else:\n",
    "            next_button.click()\n",
    "            time.sleep(5)"
   ]
  },
  {
   "cell_type": "code",
   "execution_count": null,
   "id": "617c8857-a465-4a80-b2b0-ebf0553ec68f",
   "metadata": {
    "scrolled": true
   },
   "outputs": [],
   "source": [
    "df_Tiki_feedback"
   ]
  },
  {
   "cell_type": "code",
   "execution_count": null,
   "id": "59a94e4b-9109-49d7-8743-3bd98b5d66ad",
   "metadata": {},
   "outputs": [],
   "source": [
    "unique_urls = df_Tiki_feedback['Product_Url'].nunique()\n",
    "print(f\"Số lượng giá trị không trùng nhau trong cột 'Url': {unique_urls}\")"
   ]
  },
  {
   "cell_type": "markdown",
   "id": "bee76024-4fb9-4d4f-988d-31016c222476",
   "metadata": {},
   "source": [
    "Store the feedback dataframe in a csv file as a backup"
   ]
  },
  {
   "cell_type": "code",
   "execution_count": null,
   "id": "b24433f8-03c4-423b-84d7-39cc3ba69602",
   "metadata": {},
   "outputs": [],
   "source": [
    "df_Tiki_feedback.to_csv('tiki_feedbacks.csv', index=False)"
   ]
  },
  {
   "cell_type": "markdown",
   "id": "0fbe420f-1fb7-4b0f-bf82-71a454930800",
   "metadata": {},
   "source": [
    "Retrieve the feedback dataframe from the backup file"
   ]
  },
  {
   "cell_type": "code",
   "execution_count": null,
   "id": "89b57acc-8e4f-4032-b13d-86ba846f4ed0",
   "metadata": {},
   "outputs": [],
   "source": [
    "df_Tiki_feedback = pd.read_csv('tiki_feedbacks.csv')\n",
    "df_Tiki_feedback"
   ]
  },
  {
   "cell_type": "code",
   "execution_count": null,
   "id": "72591335-0b0a-4966-a4b3-6e6e95948c28",
   "metadata": {},
   "outputs": [],
   "source": [
    "df_Tiki_feedback = df_Tiki_feedback.drop_duplicates()"
   ]
  },
  {
   "cell_type": "code",
   "execution_count": null,
   "id": "9f96ea0e-62cc-495f-ba9b-a9141101609c",
   "metadata": {},
   "outputs": [],
   "source": [
    "df_Tiki_product = df_Tiki_product.drop_duplicates()"
   ]
  },
  {
   "cell_type": "code",
   "execution_count": null,
   "id": "2e5798a5-10b2-47f6-96c1-f2509d6b01a5",
   "metadata": {},
   "outputs": [],
   "source": [
    "driver.quit()"
   ]
  },
  {
   "cell_type": "markdown",
   "id": "6a84fcaf-083d-4989-9f16-1aa80d8f72f7",
   "metadata": {},
   "source": [
    "## Sendo website"
   ]
  },
  {
   "cell_type": "code",
   "execution_count": null,
   "id": "d0baeef8-792d-49e6-9039-1c1f533d696c",
   "metadata": {},
   "outputs": [],
   "source": [
    "df_Sen_product = pd.DataFrame(columns = ['Url', 'Name', 'Price', 'Sold'])\n",
    "df_Sen_feedback = pd.DataFrame(columns = ['Product_Url', 'Content'])"
   ]
  },
  {
   "cell_type": "markdown",
   "id": "1181ae48-64bb-4e90-b32b-49011092b347",
   "metadata": {},
   "source": [
    "Extract information from 120 products on Sendo website"
   ]
  },
  {
   "cell_type": "code",
   "execution_count": null,
   "id": "9e9ebd97-c650-4642-95fa-6bd977dbdebc",
   "metadata": {
    "scrolled": true
   },
   "outputs": [],
   "source": [
    "url = 'https://www.sendo.vn/ao-nu?q=%C4%91%E1%BA%A7m'\n",
    "driver.get(url)\n",
    "# search_box = driver.find_element(By.CSS_SELECTOR, \"input#sendo-search\")\n",
    "# search_box.send_keys(\"Thời Trang Nữ\")\n",
    "# search_button = driver.find_element(By.CSS_SELECTOR, 'button[aria-label=\"button submit\"]')\n",
    "# search_button.click()\n",
    "\n",
    "time.sleep(10)\n",
    "\n",
    "try:\n",
    "    url_elements = driver.find_elements(By.CSS_SELECTOR, '.d7ed-d4keTB a')\n",
    "    urls = [e.get_attribute('href') for e in url_elements]\n",
    "except NoSuchElementException:\n",
    "    print('NoSuchElementException')\n",
    "\n",
    "try:\n",
    "    name_elements = driver.find_elements(By.CSS_SELECTOR, 'span.d7ed-Vp2Ugh._0032-Zwkt7j.undefined.d7ed-KXpuoS.d7ed-mzOLVa')\n",
    "    names = [e.text for e in name_elements]\n",
    "except NoSuchElementException:\n",
    "    print('NoSuchElementException')\n",
    "    \n",
    "try:\n",
    "    price_elements = driver.find_elements(By.CSS_SELECTOR, 'span._0032-GpBMYp._0032-npoTU_.d7ed-CLUDGW.d7ed-AHa8cD.d7ed-giDKVr')\n",
    "    prices = [e.text for e in price_elements]\n",
    "except NoSuchElementException:\n",
    "    print('NoSuchElementException')\n",
    "    \n",
    "# try:\n",
    "#     sold_elements = driver.find_elements(By.CSS_SELECTOR, 'span.undefined.d7ed-bm83Kw.d7ed-mzOLVa')\n",
    "#     solds = [e.text for e in sold_elements]\n",
    "# except NoSuchElementException:\n",
    "#     print('NoSuchElementException')\n",
    "\n",
    "solds = []\n",
    "\n",
    "default_length = len(urls)\n",
    "        \n",
    "if len(names) < default_length:\n",
    "    names.extend([\"0\"] * (default_length - len(names)))\n",
    "if len(prices) < default_length:\n",
    "    prices.extend([\"0%\"] * (default_length - len(prices)))\n",
    "if len(solds) < default_length:\n",
    "    solds.extend([\"0\"] * (default_length - len(solds)))\n",
    "\n",
    "df = pd.DataFrame({\n",
    "        'Url': urls,\n",
    "        'Name': names,\n",
    "        'Price': prices,\n",
    "        'Sold': solds\n",
    "    })\n",
    "\n",
    "df_Sen_product = pd.concat([df_Sen_product, df], ignore_index = True)\n",
    "    \n",
    "# button_nextPage.click()"
   ]
  },
  {
   "cell_type": "code",
   "execution_count": null,
   "id": "b45aa464-23d2-4421-9b04-c890ac51f6bc",
   "metadata": {},
   "outputs": [],
   "source": [
    "df_Sen_product"
   ]
  },
  {
   "cell_type": "code",
   "execution_count": null,
   "id": "d4768605-2539-4916-931a-e5b265373490",
   "metadata": {},
   "outputs": [],
   "source": [
    "product_urls = list(df_Sen_product['Url'])"
   ]
  },
  {
   "cell_type": "code",
   "execution_count": null,
   "id": "61b82c29-6bb3-4c0f-bbbc-5e271a1e542e",
   "metadata": {
    "scrolled": true
   },
   "outputs": [],
   "source": [
    "print(len(product_urls))\n",
    "for url in product_urls:\n",
    "    print(url)"
   ]
  },
  {
   "cell_type": "markdown",
   "id": "60081849-dec6-4e7d-ae85-364206c59f46",
   "metadata": {},
   "source": [
    "Store the product URLs in a text file as a backup"
   ]
  },
  {
   "cell_type": "code",
   "execution_count": null,
   "id": "1c77fad3-f07a-4129-ae6f-b96f2a984d80",
   "metadata": {},
   "outputs": [],
   "source": [
    "with open('Sen_product_urls.txt', mode='a') as file:\n",
    "    for row in product_urls:\n",
    "        file.write(row + \"\\n\")"
   ]
  },
  {
   "cell_type": "markdown",
   "id": "4f7f1e00-1c09-4e10-9d4f-edf0e78f51a3",
   "metadata": {},
   "source": [
    "Retrieve the list of product URLs from the backup file"
   ]
  },
  {
   "cell_type": "code",
   "execution_count": null,
   "id": "d520c113-10d4-405a-a387-3b9af9f6b689",
   "metadata": {
    "scrolled": true
   },
   "outputs": [],
   "source": [
    "with open('Sen_product_urls.txt', mode='r') as file:\n",
    "    links = file.readlines()\n",
    "links = [link.strip() for link in links]\n",
    "# print(links)"
   ]
  },
  {
   "cell_type": "markdown",
   "id": "0b09616c-f649-4f20-9297-f273fd59c040",
   "metadata": {},
   "source": [
    "Store the product dataframe in a csv file as a backup"
   ]
  },
  {
   "cell_type": "code",
   "execution_count": null,
   "id": "4177e1cc-7593-49d8-b078-cc707d2ab278",
   "metadata": {},
   "outputs": [],
   "source": [
    "df_Sen_product.to_csv('sendo_products.csv', index=False)"
   ]
  },
  {
   "cell_type": "markdown",
   "id": "15096cf2-583b-445c-9e74-3587d77b2aa6",
   "metadata": {},
   "source": [
    "Retrieve the product dataframe from the backup file"
   ]
  },
  {
   "cell_type": "code",
   "execution_count": null,
   "id": "dbe127cf-31db-427b-bbe8-fac23f913882",
   "metadata": {},
   "outputs": [],
   "source": [
    "df_Sen_product = pd.read_csv('sendo_products.csv')\n",
    "df_Sen_product"
   ]
  },
  {
   "cell_type": "markdown",
   "id": "fa11cc6c-fc66-4fa4-b0b9-475eddc691e3",
   "metadata": {},
   "source": [
    "Extract feedbacks from 120 products on Sendo website"
   ]
  },
  {
   "cell_type": "code",
   "execution_count": null,
   "id": "003cc6a8-a56a-4d61-923d-6b0761270e47",
   "metadata": {},
   "outputs": [],
   "source": [
    "len(product_urls)"
   ]
  },
  {
   "cell_type": "code",
   "execution_count": null,
   "id": "07d622e3-063d-44e7-8c62-7fbfd9c837ec",
   "metadata": {
    "scrolled": true
   },
   "outputs": [],
   "source": [
    "for url in links:\n",
    "    driver.get(url)\n",
    "    time.sleep(5)\n",
    "    \n",
    "    driver.execute_script(f\"window.scrollTo(0, 1550);\")\n",
    "    time.sleep(5)\n",
    "    \n",
    "    while True:\n",
    "        try:\n",
    "            content_elements = driver.find_elements(By.CSS_SELECTOR, '.item div:nth-child(3) .content')\n",
    "            contents = [e.text for e in content_elements]\n",
    "        except NoSuchElementException:\n",
    "            print('NoSuchElementException')\n",
    "\n",
    "        default_length = len(contents)\n",
    "        urls = [url for i in range(0, default_length)]\n",
    "    \n",
    "        df = pd.DataFrame({\n",
    "                'Product_Url': urls,\n",
    "                'Content': contents\n",
    "            })\n",
    "        df_Sen_feedback = pd.concat([df_Sen_feedback, df], ignore_index = True)\n",
    "    \n",
    "        driver.execute_script(f\"window.scrollTo(0, 2280);\")\n",
    "        time.sleep(5)\n",
    "        \n",
    "        try:\n",
    "            next_button = driver.find_element(By.CSS_SELECTOR, 'button.next-btn.next-btn-normal.next-btn-medium.next-pagination-item.next')\n",
    "        except NoSuchElementException:\n",
    "            break\n",
    "            print('NoSuchElementException')\n",
    "        \n",
    "        if next_button.get_attribute('disabled'):\n",
    "            print(\"No more pages to scrape.\")\n",
    "            break\n",
    "        else:\n",
    "            next_button.click()\n",
    "            time.sleep(5)"
   ]
  },
  {
   "cell_type": "code",
   "execution_count": null,
   "id": "73776522-3a72-40c6-9775-d8dc69a7e9e2",
   "metadata": {},
   "outputs": [],
   "source": [
    "df_Sen_feedback"
   ]
  },
  {
   "cell_type": "code",
   "execution_count": null,
   "id": "0dcf2a23-9074-44b3-a143-0cd05ea72daf",
   "metadata": {},
   "outputs": [],
   "source": [
    "unique_values = df_Sen_feedback['Product_Url'].unique()\n",
    "print(len(unique_values))"
   ]
  },
  {
   "cell_type": "markdown",
   "id": "8474acc3-be4e-49c1-bbdb-2a0a0c43c344",
   "metadata": {},
   "source": [
    "Store the feedback dataframe in a csv file as a backup"
   ]
  },
  {
   "cell_type": "code",
   "execution_count": null,
   "id": "690b66b4-76fe-4a42-8b8b-e564cfeddcb0",
   "metadata": {},
   "outputs": [],
   "source": [
    "df_Sen_feedback.to_csv('sendo_feedbacks.csv', mode = 'a', index=False)"
   ]
  },
  {
   "cell_type": "markdown",
   "id": "9c0e8fa6-c3dc-44bf-b3d8-1816ebe9dfa7",
   "metadata": {},
   "source": [
    "Retrieve the feedback dataframe from the backup file"
   ]
  },
  {
   "cell_type": "code",
   "execution_count": null,
   "id": "fc10263e-8c9d-4b56-a65f-f0a88ecbbb3b",
   "metadata": {},
   "outputs": [],
   "source": [
    "df_Sen_feedback = pd.read_csv('sendo_feedbacks.csv')\n",
    "df_Sen_feedback"
   ]
  },
  {
   "cell_type": "code",
   "execution_count": null,
   "id": "cf3a31b8-aeb4-4126-b88a-de2a5dc32e4e",
   "metadata": {},
   "outputs": [],
   "source": [
    "df_Sen_feedback = df_Sen_feedback.drop_duplicates()"
   ]
  },
  {
   "cell_type": "code",
   "execution_count": null,
   "id": "57397a57-8e49-4d48-b4ab-49fd0d467ba7",
   "metadata": {},
   "outputs": [],
   "source": [
    "df_Sen_product = df_Sen_product.drop_duplicates()"
   ]
  },
  {
   "cell_type": "markdown",
   "id": "393b57b5-2219-4195-a1f7-ac0717b93afb",
   "metadata": {},
   "source": [
    "## Shopee website"
   ]
  },
  {
   "cell_type": "code",
   "execution_count": null,
   "id": "bfa9af7f-082b-4076-a05f-c6452671d50f",
   "metadata": {},
   "outputs": [],
   "source": [
    "df_Shop_product = pd.DataFrame(columns = ['Url', 'Name', 'Price', 'Sold'])\n",
    "df_Shop_feedback = pd.DataFrame(columns = ['Product_Url', 'Content'])"
   ]
  },
  {
   "cell_type": "markdown",
   "id": "845bac23-fe66-4010-b486-f930de92aa46",
   "metadata": {},
   "source": [
    "Extract information from 120 products on Shopee website"
   ]
  },
  {
   "cell_type": "code",
   "execution_count": null,
   "id": "fab5d0d8-ca3f-438c-86f8-34332670aff0",
   "metadata": {
    "scrolled": true
   },
   "outputs": [],
   "source": [
    "url = ''\n",
    "driver.get(url)\n",
    "# search_box = driver.find_element(By.CSS_SELECTOR, \"\")\n",
    "# search_box.send_keys(\"Thời Trang Nữ\")\n",
    "# search_button = driver.find_element(By.CSS_SELECTOR, '')\n",
    "# search_button.click()\n",
    "\n",
    "time.sleep(10)\n",
    "\n",
    "try:\n",
    "    url_elements = driver.find_elements(By.CSS_SELECTOR, '.d7ed-d4keTB a')\n",
    "    urls = [e.get_attribute('href') for e in url_elements]\n",
    "except NoSuchElementException:\n",
    "    print('NoSuchElementException')\n",
    "\n",
    "try:\n",
    "    name_elements = driver.find_elements(By.CSS_SELECTOR, 'span.d7ed-Vp2Ugh._0032-Zwkt7j.undefined.d7ed-KXpuoS.d7ed-mzOLVa')\n",
    "    names = [e.text for e in name_elements]\n",
    "except NoSuchElementException:\n",
    "    print('NoSuchElementException')\n",
    "    \n",
    "try:\n",
    "    price_elements = driver.find_elements(By.CSS_SELECTOR, 'span._0032-GpBMYp._0032-npoTU_.d7ed-CLUDGW.d7ed-AHa8cD.d7ed-giDKVr')\n",
    "    prices = [e.text for e in price_elements]\n",
    "except NoSuchElementException:\n",
    "    print('NoSuchElementException')\n",
    "    \n",
    "# try:\n",
    "#     sold_elements = driver.find_elements(By.CSS_SELECTOR, 'span.undefined.d7ed-bm83Kw.d7ed-mzOLVa')\n",
    "#     solds = [e.text for e in sold_elements]\n",
    "# except NoSuchElementException:\n",
    "#     print('NoSuchElementException')\n",
    "\n",
    "solds = []\n",
    "\n",
    "default_length = len(urls)\n",
    "        \n",
    "if len(names) < default_length:\n",
    "    names.extend([\"0\"] * (default_length - len(names)))\n",
    "if len(prices) < default_length:\n",
    "    prices.extend([\"0%\"] * (default_length - len(prices)))\n",
    "if len(solds) < default_length:\n",
    "    solds.extend([\"0\"] * (default_length - len(solds)))\n",
    "\n",
    "df = pd.DataFrame({\n",
    "        'Url': urls,\n",
    "        'Name': names,\n",
    "        'Price': prices,\n",
    "        'Sold': solds\n",
    "    })\n",
    "\n",
    "df_Sen_product = pd.concat([df_Sen_product, df], ignore_index = True)\n",
    "    \n",
    "# button_nextPage.click()"
   ]
  },
  {
   "cell_type": "code",
   "execution_count": null,
   "id": "d6ffa25d-94af-4bf7-ad8d-aa0c81c8ff12",
   "metadata": {},
   "outputs": [],
   "source": [
    "df_Shop_product"
   ]
  },
  {
   "cell_type": "code",
   "execution_count": null,
   "id": "7a26af58-07d8-4fbe-8a1a-5423ddb7a4eb",
   "metadata": {},
   "outputs": [],
   "source": [
    "product_urls = list(df_Sen_product['Url'])"
   ]
  },
  {
   "cell_type": "code",
   "execution_count": null,
   "id": "bfe637fd-8bde-442e-935d-e4c17fec70d4",
   "metadata": {
    "scrolled": true
   },
   "outputs": [],
   "source": [
    "print(len(product_urls))\n",
    "for url in product_urls:\n",
    "    print(url)"
   ]
  },
  {
   "cell_type": "markdown",
   "id": "c25118d8-5ada-40cc-97fe-a67cfff4120e",
   "metadata": {},
   "source": [
    "Store the product URLs in a text file as a backup"
   ]
  },
  {
   "cell_type": "code",
   "execution_count": null,
   "id": "d7dec63b-4c63-40c5-b8b5-0999f48855aa",
   "metadata": {},
   "outputs": [],
   "source": [
    "with open('Shop_product_urls.txt', mode='a') as file:\n",
    "    for row in product_urls:\n",
    "        file.write(row + \"\\n\")"
   ]
  },
  {
   "cell_type": "markdown",
   "id": "c225b72e-9d47-4013-8b23-3d0dfda754f9",
   "metadata": {},
   "source": [
    "Retrieve the list of product URLs from the backup file"
   ]
  },
  {
   "cell_type": "code",
   "execution_count": null,
   "id": "ca940208-a513-489e-83b6-01143bef6454",
   "metadata": {
    "scrolled": true
   },
   "outputs": [],
   "source": [
    "with open('Shop_product_urls.txt', mode='r') as file:\n",
    "    links = file.readlines()\n",
    "links = [link.strip() for link in links]\n",
    "# print(links)"
   ]
  },
  {
   "cell_type": "markdown",
   "id": "06a8e00a-0c6c-4d09-a8be-0065be66a3e9",
   "metadata": {},
   "source": [
    "Store the product dataframe in a csv file as a backup"
   ]
  },
  {
   "cell_type": "code",
   "execution_count": null,
   "id": "8a89cc7b-1f4a-416b-818a-1017de445933",
   "metadata": {},
   "outputs": [],
   "source": [
    "df_Shop_product.to_csv('shopee_products.csv', index=False)"
   ]
  },
  {
   "cell_type": "markdown",
   "id": "06fecdc7-ed51-432c-9a0c-34692969101c",
   "metadata": {},
   "source": [
    "Retrieve the product dataframe from the backup file"
   ]
  },
  {
   "cell_type": "code",
   "execution_count": null,
   "id": "2fa72650-e3ed-4a81-b1e8-60b0d25bdddf",
   "metadata": {},
   "outputs": [],
   "source": [
    "df_Shop_product = pd.read_csv('shopee_products.csv')\n",
    "df_Shop_product"
   ]
  },
  {
   "cell_type": "markdown",
   "id": "23d6e484-c028-44b7-8a6f-645857859c3e",
   "metadata": {},
   "source": [
    "Extract feedbacks from 120 products on Shopee website"
   ]
  },
  {
   "cell_type": "code",
   "execution_count": null,
   "id": "22ba55c3-08e4-49b5-b60a-8a328823cd68",
   "metadata": {},
   "outputs": [],
   "source": [
    "len(product_urls)"
   ]
  },
  {
   "cell_type": "code",
   "execution_count": null,
   "id": "65ada873-422b-4733-8687-9df68f504833",
   "metadata": {
    "scrolled": true
   },
   "outputs": [],
   "source": [
    "for url in links:\n",
    "    driver.get(url)\n",
    "    time.sleep(5)\n",
    "    \n",
    "    driver.execute_script(f\"window.scrollTo(0, 1550);\")\n",
    "    time.sleep(5)\n",
    "    \n",
    "    while True:\n",
    "        try:\n",
    "            content_elements = driver.find_elements(By.CSS_SELECTOR, '.item div:nth-child(3) .content')\n",
    "            contents = [e.text for e in content_elements]\n",
    "        except NoSuchElementException:\n",
    "            print('NoSuchElementException')\n",
    "\n",
    "        default_length = len(contents)\n",
    "        urls = [url for i in range(0, default_length)]\n",
    "    \n",
    "        df = pd.DataFrame({\n",
    "                'Product_Url': urls,\n",
    "                'Content': contents\n",
    "            })\n",
    "        df_Shop_feedback = pd.concat([df_Shop_feedback, df], ignore_index = True)\n",
    "    \n",
    "        driver.execute_script(f\"window.scrollTo(0, 2280);\")\n",
    "        time.sleep(5)\n",
    "        \n",
    "        try:\n",
    "            next_button = driver.find_element(By.CSS_SELECTOR, 'button.next-btn.next-btn-normal.next-btn-medium.next-pagination-item.next')\n",
    "        except NoSuchElementException:\n",
    "            break\n",
    "            print('NoSuchElementException')\n",
    "        \n",
    "        if next_button.get_attribute('disabled'):\n",
    "            print(\"No more pages to scrape.\")\n",
    "            break\n",
    "        else:\n",
    "            next_button.click()\n",
    "            time.sleep(5)"
   ]
  },
  {
   "cell_type": "code",
   "execution_count": null,
   "id": "0595d06b-3d79-4335-bdc8-4ebc3df22747",
   "metadata": {},
   "outputs": [],
   "source": [
    "df_Shop_feedback"
   ]
  },
  {
   "cell_type": "code",
   "execution_count": null,
   "id": "351b1a46-e38c-48cd-b422-b92477556492",
   "metadata": {},
   "outputs": [],
   "source": [
    "unique_values = df_Shop_feedback['Product_Url'].unique()\n",
    "print(len(unique_values))"
   ]
  },
  {
   "cell_type": "markdown",
   "id": "0a2bb64b-a4de-445e-80bf-8eafc69dcec4",
   "metadata": {},
   "source": [
    "Store the feedback dataframe in a csv file as a backup"
   ]
  },
  {
   "cell_type": "code",
   "execution_count": null,
   "id": "c86f7f7c-86c5-4023-963d-59c35f1dc77d",
   "metadata": {},
   "outputs": [],
   "source": [
    "df_Shop_feedback.to_csv('shopee_feedbacks.csv', mode = 'a', index=False)"
   ]
  },
  {
   "cell_type": "markdown",
   "id": "f623c99e-b1f5-42ed-afe6-714dd662b29b",
   "metadata": {},
   "source": [
    "Retrieve the feedback dataframe from the backup file"
   ]
  },
  {
   "cell_type": "code",
   "execution_count": null,
   "id": "f89bad43-5e10-40cd-a619-6e66f53104f4",
   "metadata": {},
   "outputs": [],
   "source": [
    "df_Shop_feedback = pd.read_csv('shopee_feedbacks.csv')\n",
    "df_Shop_feedback"
   ]
  },
  {
   "cell_type": "code",
   "execution_count": null,
   "id": "8422d2a9-e3db-489c-b2df-c3caa89205d3",
   "metadata": {},
   "outputs": [],
   "source": [
    "df_Shop_feedback = df_Shop_feedback.drop_duplicates()"
   ]
  },
  {
   "cell_type": "code",
   "execution_count": null,
   "id": "bddd4568-9d81-4c10-bfde-81689765715f",
   "metadata": {},
   "outputs": [],
   "source": [
    "df_Shop_product = df_Shop_product.drop_duplicates()"
   ]
  },
  {
   "cell_type": "markdown",
   "id": "58808100-1ebc-4ef5-a3ef-acf20a78190b",
   "metadata": {},
   "source": [
    "# Pre-proccesing data"
   ]
  },
  {
   "cell_type": "markdown",
   "id": "842fe322-5649-4d92-b686-c736e8ef6969",
   "metadata": {},
   "source": [
    "## Lazada"
   ]
  },
  {
   "cell_type": "markdown",
   "id": "1d458f0e-06ff-4869-93f2-efa4fe0361a7",
   "metadata": {},
   "source": [
    "### df_Laz_product"
   ]
  },
  {
   "cell_type": "code",
   "execution_count": null,
   "id": "c7cea2e1-88da-400c-9695-f21074075e10",
   "metadata": {},
   "outputs": [],
   "source": [
    "df_Laz_product = pd.read_csv('lazada_products.csv')"
   ]
  },
  {
   "cell_type": "code",
   "execution_count": null,
   "id": "e6759bc3-e1c4-412f-81c2-5697a64a1bc6",
   "metadata": {},
   "outputs": [],
   "source": [
    "df_Laz_product"
   ]
  },
  {
   "cell_type": "code",
   "execution_count": null,
   "id": "5fddbcf8-d3a3-4039-919b-e8db3754db2d",
   "metadata": {},
   "outputs": [],
   "source": [
    "df_Laz_product.info()"
   ]
  },
  {
   "cell_type": "markdown",
   "id": "36a246db-3c7f-4ba3-9939-05fac91601b8",
   "metadata": {},
   "source": [
    "Convert column `['Price']` to float"
   ]
  },
  {
   "cell_type": "code",
   "execution_count": null,
   "id": "28557834-98aa-47b7-9768-8d67a18d40c5",
   "metadata": {},
   "outputs": [],
   "source": [
    "df_Laz_product['Price'] = df_Laz_product['Price'].str.replace(',', '').str.replace('₫', '').astype(float)\n",
    "df_Laz_product['Price']"
   ]
  },
  {
   "cell_type": "markdown",
   "id": "c487d52f-650c-4a79-b889-eba6ac14bc60",
   "metadata": {},
   "source": [
    "Convert `['Sold']` to int"
   ]
  },
  {
   "cell_type": "code",
   "execution_count": null,
   "id": "ae6a0e05-00fe-42c6-b109-cc31b57fd101",
   "metadata": {},
   "outputs": [],
   "source": [
    "def convert_sold_to_int(sold_value):\n",
    "    if 'K' in sold_value:\n",
    "        return int(float(sold_value.replace('K', '')) * 1000)\n",
    "    return int(sold_value)"
   ]
  },
  {
   "cell_type": "code",
   "execution_count": null,
   "id": "40ced11e-3aab-4774-ab73-fd1e69243519",
   "metadata": {},
   "outputs": [],
   "source": [
    "df_Laz_product['Sold'] = df_Laz_product['Sold'].str.replace(' sold', '')\n",
    "df_Laz_product['Sold'] = df_Laz_product['Sold'].apply(convert_sold_to_int)\n",
    "df_Laz_product['Sold']"
   ]
  },
  {
   "cell_type": "markdown",
   "id": "1a17a70a-fe25-4ac9-8bec-b6b72cd3dabf",
   "metadata": {},
   "source": [
    "Run this cell if the computer hasn't installed the nltk library yet"
   ]
  },
  {
   "cell_type": "code",
   "execution_count": null,
   "id": "a1d696fe-f2fb-4cb0-9246-880ede3413bb",
   "metadata": {},
   "outputs": [],
   "source": [
    "# !pip install nltk"
   ]
  },
  {
   "cell_type": "code",
   "execution_count": null,
   "id": "f3a70a09-04b0-4ad1-866a-3daf715ecef1",
   "metadata": {},
   "outputs": [],
   "source": [
    "categories_keywords = {\n",
    "    \"đồ bộ\": [\"đồ bộ\", \"set\", \"bộ\", \"quần áo\", \"sét\"],\n",
    "    \"đồ lót\": [\"đồ lót\", \"underwear\", \"quần lót\", \"áo lót\", \"áo ngực\", \"bra\", \"panty\", \"boxer\", \"quần chíp\"],\n",
    "    \"váy/quần\": [\"váy\", \"quần\", \"skirt\", \"pants\", \"jeans\"],\n",
    "    \"áo\": [\"áo\", \"t-shirt\", \"shirt\", \"croptop\", \"yếm\", \"khoác\", \"áo khoác\", \"vest\", \"blazer\"],\n",
    "    \"đầm\": [\"đầm\", \"dress\", \"váy ngủ\"], \n",
    "    \"nón\": [\"nón\", \"mũ\", \"hat\", \"helmet\"],\n",
    "    \"vớ\": [\"vớ\", \"tất\", \"socks\"],\n",
    "    \"giày/dép\": [\"giày\", \"dép\", \"bata\", \"cao gót\", \"shoes\", \"slipper\", \"guốc\", \"boots\", \"xăng đan\", \"sandals\", \"sneakers\"],\n",
    "    \"trang sức\": [\"trang sức\", \"nhẫn\", \"vòng\", \"dây chuyền\", \"earrings\", \"necklace\"]\n",
    "}"
   ]
  },
  {
   "cell_type": "code",
   "execution_count": null,
   "id": "01154457-7989-43ad-a9a2-2adb04459f3c",
   "metadata": {},
   "outputs": [],
   "source": [
    "for c, k in categories_keywords.items():\n",
    "    print('{0}: {1}'.format(c, k))"
   ]
  },
  {
   "cell_type": "markdown",
   "id": "88374610-aecc-4d8f-a251-5ac62db51f5d",
   "metadata": {},
   "source": [
    "Classify products using n-grams techniques"
   ]
  },
  {
   "cell_type": "code",
   "execution_count": null,
   "id": "d558c52c-627c-420f-a141-5e0ab979db6c",
   "metadata": {},
   "outputs": [],
   "source": [
    "import unicodedata\n",
    "import nltk\n",
    "from nltk.tokenize import word_tokenize\n",
    "nltk.download('punkt_tab')\n",
    "\n",
    "def generate_ngrams(string, n):\n",
    "    string = unicodedata.normalize('NFC', string)\n",
    "    tokens = word_tokenize(string, language='english')\n",
    "    tokens = [token.lower() for token in tokens]\n",
    "    return [' '.join(tokens[i:i + n]) for i in range(len(tokens) - n + 1)]\n",
    "    \n",
    "def classify_product(name, categories_keywords):\n",
    "    _2grams = generate_ngrams(name, 2)\n",
    "    _1grams = generate_ngrams(name, 1)\n",
    "    \n",
    "    for category, keywords in categories_keywords.items():\n",
    "        for keyword in keywords:\n",
    "            if keyword in _2grams + _1grams: \n",
    "                return category \n",
    "    \n",
    "    return \"khác\""
   ]
  },
  {
   "cell_type": "markdown",
   "id": "3272305f-d1a8-4a0c-9191-16d6a7c3712d",
   "metadata": {},
   "source": [
    "Add a column `['Category']` to the `df_Laz_product` DataFrame using the `classify_product` function provided above"
   ]
  },
  {
   "cell_type": "code",
   "execution_count": null,
   "id": "3c32cba2-d57d-4da1-9599-6d066b4d86d9",
   "metadata": {},
   "outputs": [],
   "source": [
    "df_Laz_product['Category'] = df_Laz_product['Name'].apply(lambda name: classify_product(name, categories_keywords))"
   ]
  },
  {
   "cell_type": "markdown",
   "id": "bd49988e-4a51-4ca1-b226-18b4fe7d84f7",
   "metadata": {},
   "source": [
    "Re-check the new column"
   ]
  },
  {
   "cell_type": "code",
   "execution_count": null,
   "id": "1cf27852-f2a7-429e-b2e4-a5a80d51e3b7",
   "metadata": {},
   "outputs": [],
   "source": [
    "Laz_category_counts = df_Laz_product['Category'].value_counts()\n",
    "print(Laz_category_counts)"
   ]
  },
  {
   "cell_type": "markdown",
   "id": "9605c831-ee7d-4478-af5a-a2192dfe89a8",
   "metadata": {},
   "source": [
    "Identify the outliers and manually replace them with the correct values"
   ]
  },
  {
   "cell_type": "code",
   "execution_count": null,
   "id": "8e286004-d0b7-4d94-ba2b-39ff8d9e4662",
   "metadata": {},
   "outputs": [],
   "source": [
    "df_Laz_product[df_Laz_product['Category'] == 'khác']"
   ]
  },
  {
   "cell_type": "code",
   "execution_count": null,
   "id": "3294b6ea-cd59-4f82-9489-ccd9918032aa",
   "metadata": {},
   "outputs": [],
   "source": [
    "df_Laz_product.loc[119, 'Url']"
   ]
  },
  {
   "cell_type": "code",
   "execution_count": null,
   "id": "6db7a74b-e5a6-433a-8a04-4a85c3c12013",
   "metadata": {},
   "outputs": [],
   "source": [
    "df_Laz_product.loc[17, 'Category'] = 'đồ bộ'\n",
    "df_Laz_product.loc[38, 'Category'] = 'đồ bộ'\n",
    "df_Laz_product.loc[39, 'Category'] = 'áo'\n",
    "df_Laz_product.loc[66, 'Category'] = 'đồ bộ'\n",
    "df_Laz_product.loc[111, 'Category'] = 'đồ bộ'\n",
    "df_Laz_product.loc[119, 'Category'] = 'đồ bộ'"
   ]
  },
  {
   "cell_type": "markdown",
   "id": "0a3aa3e6-5e79-449e-9de6-9d63a75e63aa",
   "metadata": {},
   "source": [
    "Check if the dataframe has NaN value"
   ]
  },
  {
   "cell_type": "code",
   "execution_count": null,
   "id": "ab19545c-0ea2-44eb-a802-4776b00ce01e",
   "metadata": {},
   "outputs": [],
   "source": [
    "Laz_nan_summary = df_Laz_product.isna().sum()\n",
    "print(Laz_nan_summary)"
   ]
  },
  {
   "cell_type": "markdown",
   "id": "a541d10c-ada6-4157-96dd-2b0778d03410",
   "metadata": {},
   "source": [
    "Check if the dataframe has duplicated value"
   ]
  },
  {
   "cell_type": "code",
   "execution_count": null,
   "id": "ebbfcee8-30ef-407d-bc06-ce97a2a305a1",
   "metadata": {},
   "outputs": [],
   "source": [
    "print(len(df_Laz_product[df_Laz_product.duplicated()]))"
   ]
  },
  {
   "cell_type": "markdown",
   "id": "c981adda-3178-4cec-9952-e1219016450b",
   "metadata": {
    "jp-MarkdownHeadingCollapsed": true
   },
   "source": [
    "### df_Laz_feedback"
   ]
  },
  {
   "cell_type": "markdown",
   "id": "e50f25fc-8f0c-4356-a13a-6f007f5c98bc",
   "metadata": {},
   "source": [
    "Overview the feedback dataframe"
   ]
  },
  {
   "cell_type": "code",
   "execution_count": null,
   "id": "79366374-ea43-4e39-a238-1602d8c6d246",
   "metadata": {},
   "outputs": [],
   "source": [
    "df_Laz_feedback = pd.read_csv('lazada_feedbacks.csv')"
   ]
  },
  {
   "cell_type": "code",
   "execution_count": null,
   "id": "9b76a0dc-e3ee-40f6-8369-d0d7f7ca1ecd",
   "metadata": {
    "scrolled": true
   },
   "outputs": [],
   "source": [
    "df_Laz_feedback"
   ]
  },
  {
   "cell_type": "code",
   "execution_count": null,
   "id": "782c6fc7-844f-408d-9bf5-2de2ebfbda59",
   "metadata": {},
   "outputs": [],
   "source": [
    "df_Laz_feedback.info()"
   ]
  },
  {
   "cell_type": "markdown",
   "id": "04fdaed5-9d9f-42b2-ba9c-dc2f7285f6f4",
   "metadata": {},
   "source": [
    "Check if the dataframe has NaN value"
   ]
  },
  {
   "cell_type": "code",
   "execution_count": null,
   "id": "095f2702-2ce0-4628-8460-7532e545e7be",
   "metadata": {},
   "outputs": [],
   "source": [
    "print(df_Laz_feedback.isna().sum())"
   ]
  },
  {
   "cell_type": "markdown",
   "id": "de608a7e-fdab-41e8-a8ef-60b5c9e8df16",
   "metadata": {},
   "source": [
    "Delete all the record containing NaN value"
   ]
  },
  {
   "cell_type": "code",
   "execution_count": null,
   "id": "ea0fdf15-baf3-4fea-83d7-8cca5229692c",
   "metadata": {},
   "outputs": [],
   "source": [
    "df_Laz_feedback = df_Laz_feedback.dropna(subset=['Content'])"
   ]
  },
  {
   "cell_type": "markdown",
   "id": "5b6b4310-689d-4883-bb10-52717757278d",
   "metadata": {},
   "source": [
    "Check if the dataframe has duplicated value"
   ]
  },
  {
   "cell_type": "code",
   "execution_count": null,
   "id": "5177c263-2358-4845-a809-28fec0cc263e",
   "metadata": {},
   "outputs": [],
   "source": [
    "print(len(df_Laz_feedback[df_Laz_feedback.duplicated()]))"
   ]
  },
  {
   "cell_type": "markdown",
   "id": "8cc130f9-3839-4c0a-8bb4-24c7a201f030",
   "metadata": {},
   "source": [
    "Delete all the record containing duplicated value"
   ]
  },
  {
   "cell_type": "code",
   "execution_count": null,
   "id": "1e426985-7ce7-4733-80e4-5c172fdda112",
   "metadata": {},
   "outputs": [],
   "source": [
    "df_Laz_feedback = df_Laz_feedback.drop_duplicates()"
   ]
  },
  {
   "cell_type": "markdown",
   "id": "3d5b875b-cce1-4b57-a001-63415bd6457c",
   "metadata": {},
   "source": [
    "## Tiki"
   ]
  },
  {
   "cell_type": "markdown",
   "id": "ca13d457-c707-4f64-b3d8-bd44eda4e52d",
   "metadata": {
    "jp-MarkdownHeadingCollapsed": true
   },
   "source": [
    "### df_Tiki_product"
   ]
  },
  {
   "cell_type": "code",
   "execution_count": null,
   "id": "962726fb-7641-4c1b-b5bc-a0f99e1d783b",
   "metadata": {},
   "outputs": [],
   "source": [
    "df_Tiki_product = pd.read_csv('tiki_products.csv')"
   ]
  },
  {
   "cell_type": "code",
   "execution_count": null,
   "id": "e020dd72-c5f8-4410-8d38-0f739bc0d545",
   "metadata": {},
   "outputs": [],
   "source": [
    "df_Tiki_product.info()"
   ]
  },
  {
   "cell_type": "code",
   "execution_count": null,
   "id": "8599efe6-73d5-4def-8435-e7ce4da5082e",
   "metadata": {},
   "outputs": [],
   "source": [
    "df_Tiki_product"
   ]
  },
  {
   "cell_type": "markdown",
   "id": "77095d89-d08b-4bf3-a95a-28f81f86e721",
   "metadata": {},
   "source": [
    "Convert `['Price']` to float"
   ]
  },
  {
   "cell_type": "code",
   "execution_count": null,
   "id": "8fbd76eb-2c16-44f0-83a7-36069f297da9",
   "metadata": {},
   "outputs": [],
   "source": [
    "df_Tiki_product['Price'] = df_Tiki_product['Price'].str.replace('.', '').str.replace('₫', '').astype(float)\n",
    "df_Tiki_product['Price']"
   ]
  },
  {
   "cell_type": "markdown",
   "id": "26c0c0c3-e6e5-4ee5-a2c9-89427be2e499",
   "metadata": {},
   "source": [
    "Convert `['Sold']` to int"
   ]
  },
  {
   "cell_type": "code",
   "execution_count": null,
   "id": "1291574d-e6dc-4938-8fcd-b44849fab486",
   "metadata": {},
   "outputs": [],
   "source": [
    "df_Tiki_product['Sold'] = df_Tiki_product['Sold'].str.replace('Đã bán ', '')\n",
    "df_Tiki_product['Sold'] = df_Tiki_product['Sold'].apply(convert_sold_to_int)\n",
    "df_Tiki_product['Sold']"
   ]
  },
  {
   "cell_type": "markdown",
   "id": "27a578ed-d7e3-4676-a177-9d2dd65977a2",
   "metadata": {},
   "source": [
    "Run this cell if the computer hasn't installed the nltk library yet"
   ]
  },
  {
   "cell_type": "code",
   "execution_count": null,
   "id": "66fac6ce-65e4-46a4-9df0-469f4f49bfb2",
   "metadata": {},
   "outputs": [],
   "source": [
    "# !pip install nltk"
   ]
  },
  {
   "cell_type": "code",
   "execution_count": null,
   "id": "78ac5820-853a-40ea-8e1b-faf6737e9a7d",
   "metadata": {},
   "outputs": [],
   "source": [
    "categories_keywords = {\n",
    "    \"đồ bộ\": [\"đồ bộ\", \"set\", \"bộ\", \"quần áo\", \"sét\"],\n",
    "    \"đồ lót\": [\"đồ lót\", \"underwear\", \"quần lót\", \"áo lót\", \"áo ngực\", \"bra\", \"panty\", \"boxer\", \"quần chíp\"],\n",
    "    \"váy/quần\": [\"váy\", \"quần\", \"skirt\", \"pants\", \"jeans\"],\n",
    "    \"áo\": [\"áo\", \"t-shirt\", \"shirt\", \"croptop\", \"yếm\", \"khoác\", \"áo khoác\", \"vest\", \"blazer\"],\n",
    "    \"đầm\": [\"đầm\", \"dress\", \"váy ngủ\"], \n",
    "    \"nón\": [\"nón\", \"mũ\", \"hat\", \"helmet\"],\n",
    "    \"vớ\": [\"vớ\", \"tất\", \"socks\"],\n",
    "    \"giày/dép\": [\"giày\", \"dép\", \"bata\", \"cao gót\", \"shoes\", \"slipper\", \"guốc\", \"boots\", \"xăng đan\", \"sandals\", \"sneakers\"],\n",
    "    \"trang sức\": [\"trang sức\", \"nhẫn\", \"vòng\", \"dây chuyền\", \"earrings\", \"necklace\"]\n",
    "}"
   ]
  },
  {
   "cell_type": "code",
   "execution_count": null,
   "id": "d010f57c-7a9c-4b1d-8716-29ac03e40b1b",
   "metadata": {},
   "outputs": [],
   "source": [
    "for c, k in categories_keywords.items():\n",
    "    print('{0}: {1}'.format(c, k))"
   ]
  },
  {
   "cell_type": "markdown",
   "id": "17371d28-2ae7-4134-a122-3e42e2eb8d5d",
   "metadata": {},
   "source": [
    "Classify products using n-grams techniques"
   ]
  },
  {
   "cell_type": "code",
   "execution_count": null,
   "id": "e19ec99b-cdac-4ac2-bd5f-17beb277be8c",
   "metadata": {},
   "outputs": [],
   "source": [
    "import unicodedata\n",
    "import nltk\n",
    "from nltk.tokenize import word_tokenize\n",
    "nltk.download('punkt_tab')\n",
    "\n",
    "def generate_ngrams(string, n):\n",
    "    string = unicodedata.normalize('NFC', string)\n",
    "    tokens = word_tokenize(string, language='english')\n",
    "    tokens = [token.lower() for token in tokens]\n",
    "    return [' '.join(tokens[i:i + n]) for i in range(len(tokens) - n + 1)]\n",
    "    \n",
    "def classify_product(name, categories_keywords):\n",
    "    _2grams = generate_ngrams(name, 2)\n",
    "    _1grams = generate_ngrams(name, 1)\n",
    "    \n",
    "    for category, keywords in categories_keywords.items():\n",
    "        for keyword in keywords:\n",
    "            if keyword in _2grams + _1grams: \n",
    "                return category \n",
    "    \n",
    "    return \"khác\""
   ]
  },
  {
   "cell_type": "markdown",
   "id": "8c1ca39d-db1b-4c03-82de-d4bbeb4aa39a",
   "metadata": {},
   "source": [
    "Add a column `['Category']` to the `df_Tiki_product` DataFrame using the `classify_product` function provided above"
   ]
  },
  {
   "cell_type": "code",
   "execution_count": null,
   "id": "fb9cd9b3-1d76-4768-9d17-60e15d20b8cd",
   "metadata": {},
   "outputs": [],
   "source": [
    "df_Tiki_product['Category'] = df_Tiki_product['Name'].apply(lambda name: classify_product(name, categories_keywords))"
   ]
  },
  {
   "cell_type": "markdown",
   "id": "184370ea-c1dc-4112-a78a-38d27e3b8116",
   "metadata": {},
   "source": [
    "Re-check the new column"
   ]
  },
  {
   "cell_type": "code",
   "execution_count": null,
   "id": "0bbda302-b0a3-4657-bca6-e09e0a56fc0f",
   "metadata": {},
   "outputs": [],
   "source": [
    "Tiki_category_counts = df_Tiki_product['Category'].value_counts()\n",
    "print(Tiki_category_counts)"
   ]
  },
  {
   "cell_type": "markdown",
   "id": "7193fbd7-e64b-4bed-8c41-2e50c7bd33ff",
   "metadata": {},
   "source": [
    "Identify the outliers and manually replace them with the correct values"
   ]
  },
  {
   "cell_type": "code",
   "execution_count": null,
   "id": "1234de17-202b-42af-849a-20f4de5bfa09",
   "metadata": {},
   "outputs": [],
   "source": [
    "df_Tiki_product[df_Tiki_product['Category'] == 'khác']"
   ]
  },
  {
   "cell_type": "code",
   "execution_count": null,
   "id": "9b09df2b-17c4-492f-a63a-72e4a04d87f9",
   "metadata": {},
   "outputs": [],
   "source": [
    "df_Tiki_product.loc[104, 'Category'] = 'đồ bộ'"
   ]
  },
  {
   "cell_type": "markdown",
   "id": "8c07a553-ef9f-4705-85dc-ba3e02e60fa2",
   "metadata": {},
   "source": [
    "Check if the dataframe has NaN value"
   ]
  },
  {
   "cell_type": "code",
   "execution_count": null,
   "id": "1038b140-3913-48b4-8708-a24547da0e56",
   "metadata": {},
   "outputs": [],
   "source": [
    "Tiki_nan_summary = df_Tiki_product.isna().sum()\n",
    "print(Tiki_nan_summary)"
   ]
  },
  {
   "cell_type": "markdown",
   "id": "bc273271-9398-431a-968f-bfc3848748a8",
   "metadata": {},
   "source": [
    "Check if the dataframe has duplicated value"
   ]
  },
  {
   "cell_type": "code",
   "execution_count": null,
   "id": "7fc31639-ce6e-4d47-af9d-870c4d13bdd9",
   "metadata": {},
   "outputs": [],
   "source": [
    "print(len(df_Tiki_product[df_Tiki_product.duplicated()]))"
   ]
  },
  {
   "cell_type": "markdown",
   "id": "c02f8fb4-170f-4342-8838-d76213293b0e",
   "metadata": {},
   "source": [
    "### df_Tiki_feedback"
   ]
  },
  {
   "cell_type": "code",
   "execution_count": null,
   "id": "be4a2663-c17d-44a6-87bf-921acb5d74ae",
   "metadata": {},
   "outputs": [],
   "source": [
    "df_Tiki_feedback = pd.read_csv('tiki_feedbacks.csv')"
   ]
  },
  {
   "cell_type": "code",
   "execution_count": null,
   "id": "c921ecca-892d-486e-ad18-5a393df5c28b",
   "metadata": {
    "scrolled": true
   },
   "outputs": [],
   "source": [
    "df_Tiki_feedback"
   ]
  },
  {
   "cell_type": "code",
   "execution_count": null,
   "id": "8779ab1f-1004-4ad2-9e34-20081b205f44",
   "metadata": {},
   "outputs": [],
   "source": [
    "df_Tiki_feedback.info()"
   ]
  },
  {
   "cell_type": "markdown",
   "id": "4b43e652-962e-4fc9-8f7f-d526f03bc016",
   "metadata": {},
   "source": [
    "Check if the dataframe has NaN value"
   ]
  },
  {
   "cell_type": "code",
   "execution_count": null,
   "id": "6e336b32-0d39-46dd-b003-dd378541aa59",
   "metadata": {},
   "outputs": [],
   "source": [
    "print(df_Tiki_feedback.isna().sum())"
   ]
  },
  {
   "cell_type": "markdown",
   "id": "e164f7d8-6dac-4608-a155-0301488ceb0b",
   "metadata": {},
   "source": [
    "Delete all the record containing NaN value"
   ]
  },
  {
   "cell_type": "code",
   "execution_count": null,
   "id": "5ca6991d-1b10-452a-9f6a-e59848f44f10",
   "metadata": {},
   "outputs": [],
   "source": [
    "df_Tiki_feedback = df_Tiki_feedback.dropna(subset=['Content'])"
   ]
  },
  {
   "cell_type": "markdown",
   "id": "69dd69ac-f46c-4644-a43b-29236c55094e",
   "metadata": {},
   "source": [
    "Check if the dataframe has duplicated value"
   ]
  },
  {
   "cell_type": "code",
   "execution_count": null,
   "id": "52563c3f-6c59-410f-9a72-0ecee02ac5cd",
   "metadata": {},
   "outputs": [],
   "source": [
    "print(len(df_Tiki_feedback[df_Tiki_feedback.duplicated()]))"
   ]
  },
  {
   "cell_type": "markdown",
   "id": "496f186c-36d0-4999-a17c-095bbf91f775",
   "metadata": {},
   "source": [
    "Delete all the record containing duplicated value"
   ]
  },
  {
   "cell_type": "code",
   "execution_count": null,
   "id": "44f5a476-605e-4187-bfd6-47a355bf97f9",
   "metadata": {},
   "outputs": [],
   "source": [
    "df_Tiki_feedback = df_Tiki_feedback.drop_duplicates()"
   ]
  },
  {
   "cell_type": "markdown",
   "id": "0cb432fc-6471-4a21-95d6-fe6462a245aa",
   "metadata": {},
   "source": [
    "# Analysis on each e-market platform"
   ]
  },
  {
   "cell_type": "markdown",
   "id": "4d540c3d-2a04-464f-a24e-7b0d922d3334",
   "metadata": {},
   "source": [
    "## Lazada"
   ]
  },
  {
   "cell_type": "markdown",
   "id": "73c2c8d2-f3db-41ab-8917-15397369dd81",
   "metadata": {},
   "source": [
    "### df_Laz_product"
   ]
  },
  {
   "cell_type": "code",
   "execution_count": null,
   "id": "a3618cb9-31ca-47d9-a716-d88630031829",
   "metadata": {},
   "outputs": [],
   "source": [
    "df_Laz_product.info()"
   ]
  },
  {
   "cell_type": "code",
   "execution_count": null,
   "id": "034f9419-0fb3-46dc-a6f1-db9ae22befa4",
   "metadata": {
    "scrolled": true
   },
   "outputs": [],
   "source": [
    "df_Laz_product.describe()"
   ]
  },
  {
   "cell_type": "code",
   "execution_count": null,
   "id": "58a0d837-0ca6-4a4a-a7bb-1b135a3c4d60",
   "metadata": {},
   "outputs": [],
   "source": [
    "Laz_category_counts = df_Laz_product['Category'].value_counts()\n",
    "print(Laz_category_counts)"
   ]
  },
  {
   "cell_type": "code",
   "execution_count": null,
   "id": "54ce7826-01e2-4b5f-af22-a952dc251f28",
   "metadata": {},
   "outputs": [],
   "source": [
    "plt.figure(figsize = (10, 6))\n",
    "sns.barplot(x = Laz_category_counts.index, y = Laz_category_counts.values, palette = 'pastel')\n",
    "plt.title('Phân bố các giá trị trong cột Category', fontsize = 16)\n",
    "plt.xlabel('Loại', fontsize = 14)\n",
    "plt.ylabel('Số lượng', fontsize = 14)\n",
    "plt.xticks(rotation = 45, ha = 'right')\n",
    "plt.show()"
   ]
  },
  {
   "cell_type": "code",
   "execution_count": null,
   "id": "ec022844-e66e-45e6-a764-9b0c919d3984",
   "metadata": {},
   "outputs": [],
   "source": [
    "df_Laz_product.to_csv('lazada_products_.csv', index=False)"
   ]
  },
  {
   "cell_type": "code",
   "execution_count": null,
   "id": "1cdfed5a-bb73-43be-8282-2386a0c4be3e",
   "metadata": {},
   "outputs": [],
   "source": [
    "Laz_avgPrice_per_category = df_Laz_product.groupby('Category')['Price'].mean().round()"
   ]
  },
  {
   "cell_type": "code",
   "execution_count": null,
   "id": "f254f821-804d-4157-a010-b8c1305e8e2a",
   "metadata": {},
   "outputs": [],
   "source": [
    "print(Laz_avgPrice_per_category)"
   ]
  },
  {
   "cell_type": "code",
   "execution_count": null,
   "id": "482b2bc1-10a4-4654-ade2-9e4e11eb9403",
   "metadata": {},
   "outputs": [],
   "source": [
    "plt.figure(figsize = (10, 6))\n",
    "sns.barplot(x = Laz_avgPrice_per_category.index, y = Laz_avgPrice_per_category.values, palette = 'pastel')\n",
    "plt.title('Giá tiền trung bình mỗi loại', fontsize = 16)\n",
    "plt.xlabel('Loại', fontsize = 14)\n",
    "plt.ylabel('Giá trung bình', fontsize = 14)\n",
    "plt.xticks(rotation = 45, ha = 'right')\n",
    "plt.show()"
   ]
  },
  {
   "cell_type": "code",
   "execution_count": null,
   "id": "efc63409-d7b0-464e-a63f-28b3498a6049",
   "metadata": {},
   "outputs": [],
   "source": [
    "df_Laz_product[df_Laz_product['Category'] == 'áo'][['Name', 'Price', 'Sold', 'Category']]"
   ]
  },
  {
   "cell_type": "code",
   "execution_count": null,
   "id": "ce32e8f4-0d61-4eb2-904e-ed35f1c1ed44",
   "metadata": {},
   "outputs": [],
   "source": [
    "df_Laz_product[df_Laz_product['Price'] == df_Laz_product['Price'].max()][['Name', 'Price', 'Sold', 'Category']]"
   ]
  },
  {
   "cell_type": "code",
   "execution_count": null,
   "id": "1813a8e8-a6ec-4d09-9544-974b2eb24e5d",
   "metadata": {},
   "outputs": [],
   "source": [
    "df_Laz_product[df_Laz_product['Price'] == df_Laz_product['Price'].min()][['Name', 'Price', 'Sold', 'Category']]"
   ]
  },
  {
   "cell_type": "code",
   "execution_count": null,
   "id": "48245637-792b-4104-bf08-4d246c3c6e75",
   "metadata": {},
   "outputs": [],
   "source": [
    "df_Laz_product[df_Laz_product['Price'] > 150000][['Name', 'Price', 'Sold', 'Category']]"
   ]
  },
  {
   "cell_type": "code",
   "execution_count": null,
   "id": "81bd4952-a18d-4db1-91ba-caf8653e5838",
   "metadata": {},
   "outputs": [],
   "source": [
    "df_Laz_product[(df_Laz_product['Category'] == 'đồ bộ') & (df_Laz_product['Price'] > 150000)][['Name', 'Price', 'Sold', 'Category']]"
   ]
  },
  {
   "cell_type": "code",
   "execution_count": null,
   "id": "3379591a-4f03-4dbf-b79a-1851ee26c38e",
   "metadata": {},
   "outputs": [],
   "source": [
    "df_Laz_product[(df_Laz_product['Category'] == 'đồ bộ') & (df_Laz_product['Price'] <= 150000)][['Name', 'Price', 'Sold', 'Category']]"
   ]
  },
  {
   "cell_type": "code",
   "execution_count": null,
   "id": "40b542c1-8c6b-4798-98ec-1876dc918326",
   "metadata": {},
   "outputs": [],
   "source": [
    "df_Laz_product[df_Laz_product['Price'] > 150000]['Category'].value_counts()"
   ]
  },
  {
   "cell_type": "code",
   "execution_count": null,
   "id": "20615629-3427-46ee-85cf-2bf28322a34c",
   "metadata": {},
   "outputs": [],
   "source": [
    "df_Laz_product[df_Laz_product['Price'] <= 150000]['Category'].value_counts()"
   ]
  },
  {
   "cell_type": "code",
   "execution_count": null,
   "id": "925e6145-9eed-4cce-9e83-e5b34c21f846",
   "metadata": {},
   "outputs": [],
   "source": [
    "df_Laz_product_dobo = df_Laz_product[df_Laz_product['Category'] == 'đồ bộ'].copy(deep = True)\n",
    "df_Laz_product_dobo['Phân khúc'] = df_Laz_product_dobo['Price'].apply(lambda x: 1 if x > 150000 else 0)"
   ]
  },
  {
   "cell_type": "code",
   "execution_count": null,
   "id": "3903b571-07e7-46aa-a5b1-622a99a1767e",
   "metadata": {},
   "outputs": [],
   "source": [
    "df_Laz_product_dobo"
   ]
  },
  {
   "cell_type": "code",
   "execution_count": null,
   "id": "ed73ab6e-9527-483f-9caa-107fbce275bf",
   "metadata": {},
   "outputs": [],
   "source": [
    "count_by_segment = df_Laz_product_dobo['Phân khúc'].value_counts().reset_index()\n",
    "count_by_segment.columns = ['Phân khúc', 'Số lượng sản phẩm']\n",
    "\n",
    "plt.figure(figsize=(10, 6))\n",
    "sns.barplot(x='Phân khúc', y='Số lượng sản phẩm', data=count_by_segment, palette='pastel')\n",
    "plt.title('Số lượng sản phẩm theo Phân khúc')\n",
    "plt.xlabel('Phân khúc')\n",
    "plt.ylabel('Số lượng sản phẩm')\n",
    "plt.show()"
   ]
  },
  {
   "cell_type": "code",
   "execution_count": null,
   "id": "817a25c0-4ff6-4472-a634-c9fe8e8822e9",
   "metadata": {},
   "outputs": [],
   "source": [
    "df_Laz_product[df_Laz_product['Category'] == 'đồ bộ']['Price'].describe()"
   ]
  },
  {
   "cell_type": "code",
   "execution_count": null,
   "id": "255a09a3-20cc-4187-911f-f36f8be8da0d",
   "metadata": {},
   "outputs": [],
   "source": [
    "df_Laz_product[df_Laz_product['Category'] == 'đồ bộ'][['Name', 'Price', 'Sold', 'Category']]"
   ]
  },
  {
   "cell_type": "code",
   "execution_count": null,
   "id": "05b82b84-d63e-42ae-9c27-204eaaefdd3f",
   "metadata": {},
   "outputs": [],
   "source": [
    "plt.figure(figsize=(10, 6))\n",
    "sns.boxplot(x='Price', data=df_Laz_product, palette='Set2')\n",
    "plt.title(' Biểu đồ Box Plot thể hiện sự phân phối của giá sản phẩm quần áo nữ trên Lazada (VNĐ)')\n",
    "plt.xlabel('Giá tiền')\n",
    "plt.ylabel('')\n",
    "plt.show()"
   ]
  },
  {
   "cell_type": "code",
   "execution_count": null,
   "id": "ce930f46-c146-49db-b700-5b78cd65838c",
   "metadata": {},
   "outputs": [],
   "source": [
    "stats = {\n",
    "    'Mean': df_Laz_product['Price'].mean(),\n",
    "    'Median': df_Laz_product['Price'].median(),\n",
    "    'Min': df_Laz_product['Price'].min(),\n",
    "    'Max': df_Laz_product['Price'].max(),\n",
    "    'Std': df_Laz_product['Price'].std()\n",
    "}\n",
    "\n",
    "colors = ['#FF9999', '#66B3FF', '#99FF99', '#FFCC99', '#FFD700']\n",
    "plt.bar(stats.keys(), stats.values(), color = colors)\n",
    "plt.title('Thống kê giá tiền các sản phẩm quần áo nữ trên Lazada (VNĐ)')\n",
    "plt.show()"
   ]
  },
  {
   "cell_type": "markdown",
   "id": "18923d87-791e-4f3e-9f3d-01064ae8705b",
   "metadata": {},
   "source": [
    "Run this cell if the computer hasn't installed the scikit-learn libraries yet"
   ]
  },
  {
   "cell_type": "code",
   "execution_count": null,
   "id": "7ae3281f-e184-46e8-b731-3faa3fcf1e69",
   "metadata": {},
   "outputs": [],
   "source": [
    "# !pip install scikit-learn"
   ]
  },
  {
   "cell_type": "code",
   "execution_count": null,
   "id": "405b6dcc-23d8-41f5-bd8b-0149e6f096b3",
   "metadata": {},
   "outputs": [],
   "source": [
    "from sklearn.preprocessing import StandardScaler\n",
    "from sklearn.cluster import DBSCAN\n",
    "\n",
    "cluster_price = df_Laz_product.copy(deep = True)\n",
    "\n",
    "prices = cluster_price[['Price']].values\n",
    "scaler = StandardScaler()\n",
    "prices_scaled = scaler.fit_transform(prices)\n",
    "\n",
    "dbscan = DBSCAN(eps = 0.5, min_samples = 5)\n",
    "cluster_price['Cluster_DBSCAN'] = dbscan.fit_predict(prices_scaled)\n",
    "\n",
    "print(cluster_price)"
   ]
  },
  {
   "cell_type": "code",
   "execution_count": null,
   "id": "09854302-18df-4388-82e8-2551ead93392",
   "metadata": {},
   "outputs": [],
   "source": [
    "cluster_price[cluster_price['Cluster_DBSCAN'] == 0][['Price', 'Cluster_DBSCAN']].describe()"
   ]
  },
  {
   "cell_type": "code",
   "execution_count": null,
   "id": "6a937662-0424-4dfb-9968-de858bc12e20",
   "metadata": {},
   "outputs": [],
   "source": [
    "cluster_price[cluster_price['Cluster_DBSCAN'] != 0][['Price', 'Cluster_DBSCAN']].describe()"
   ]
  },
  {
   "cell_type": "code",
   "execution_count": null,
   "id": "13dec548-014b-4762-8091-dfbbf4d60ef6",
   "metadata": {},
   "outputs": [],
   "source": [
    "plt.scatter(cluster_price['Price'], np.zeros_like(cluster_price['Price']),\n",
    "            c=cluster_price['Cluster_DBSCAN'], cmap='viridis', marker='o')\n",
    "plt.xlabel('Price')\n",
    "plt.title('DBSCAN Clustering')\n",
    "plt.colorbar(label='Cluster')\n",
    "plt.show()"
   ]
  },
  {
   "cell_type": "code",
   "execution_count": null,
   "id": "3d783349-ee4a-45f7-ac56-7fbb96c23ba1",
   "metadata": {},
   "outputs": [],
   "source": [
    "df_Laz_product_pk = df_Laz_product.copy(deep = True)\n",
    "df_Laz_product_pk['Phân khúc'] = df_Laz_product_pk['Price'].apply(lambda x: 1 if x > 150000 else 0)\n",
    "\n",
    "count_by_segment = df_Laz_product_pk['Phân khúc'].value_counts().reset_index()\n",
    "count_by_segment.columns = ['Phân khúc', 'Số lượng sản phẩm']\n",
    "\n",
    "plt.figure(figsize=(10, 6))\n",
    "sns.barplot(x='Phân khúc', y='Số lượng sản phẩm', data=count_by_segment, palette='pastel')\n",
    "plt.title('Số lượng sản phẩm theo Phân khúc')\n",
    "plt.xlabel('Phân khúc')\n",
    "plt.ylabel('Số lượng sản phẩm')\n",
    "plt.show()"
   ]
  },
  {
   "cell_type": "code",
   "execution_count": null,
   "id": "3c94f7bf-0522-432f-bd41-51e79377fa97",
   "metadata": {},
   "outputs": [],
   "source": [
    "df_Laz_product['Sold'].sum()"
   ]
  },
  {
   "cell_type": "code",
   "execution_count": null,
   "id": "b8a4b83e-8284-4c94-8cf6-615ef46dbe2f",
   "metadata": {},
   "outputs": [],
   "source": [
    "df_Laz_product['Sold'].describe()"
   ]
  },
  {
   "cell_type": "code",
   "execution_count": null,
   "id": "32414bc0-3408-4282-9bf2-f93d98dd8fcb",
   "metadata": {},
   "outputs": [],
   "source": [
    "stats = {\n",
    "    'Mean': df_Laz_product['Sold'].mean(),\n",
    "    'Median': df_Laz_product['Sold'].median(),\n",
    "    'Min': df_Laz_product['Sold'].min(),\n",
    "    'Max': df_Laz_product['Sold'].max(),\n",
    "    'Std': df_Laz_product['Sold'].std()\n",
    "}\n",
    "\n",
    "colors = ['#FF9999', '#66B3FF', '#99FF99', '#FFCC99', '#FFD700']\n",
    "plt.bar(stats.keys(), stats.values(), color = colors)\n",
    "plt.title('Thống kê số lượng bán các sản phẩm quần áo nữ trên Lazada')\n",
    "plt.show()"
   ]
  },
  {
   "cell_type": "code",
   "execution_count": null,
   "id": "419046a0-3034-4400-89e0-859a2b1641a7",
   "metadata": {},
   "outputs": [],
   "source": [
    "df_Laz_product[df_Laz_product['Sold'] == 0]"
   ]
  },
  {
   "cell_type": "code",
   "execution_count": null,
   "id": "f2de2f32-5a26-4510-8557-4252e3b208df",
   "metadata": {},
   "outputs": [],
   "source": [
    "plt.figure(figsize=(10, 6))\n",
    "sns.histplot(df_Laz_product['Sold'], bins=10, kde=False, color='skyblue')\n",
    "plt.title('Độ phân bố số lượng bán')\n",
    "plt.xlabel('Số lượng bán')\n",
    "plt.ylabel('Số sản phẩm')\n",
    "plt.show()"
   ]
  },
  {
   "cell_type": "code",
   "execution_count": null,
   "id": "a1d88a1b-d4c7-4cc0-a40c-b1795a61ac3a",
   "metadata": {},
   "outputs": [],
   "source": [
    "plt.figure(figsize=(10, 6))\n",
    "sns.histplot(df_Laz_product[df_Laz_product['Sold'] > 2000]['Sold'], bins=5, kde=False, color='skyblue')\n",
    "plt.title('Độ phân bố số lượng bán')\n",
    "plt.xlabel('Số lượng bán')\n",
    "plt.ylabel('Số sản phẩm')\n",
    "plt.show()"
   ]
  },
  {
   "cell_type": "code",
   "execution_count": null,
   "id": "ebe9614b-6f64-4f2a-a381-855e08b6a9d5",
   "metadata": {},
   "outputs": [],
   "source": [
    "df_Laz_product[df_Laz_product['Sold'] > 4000]"
   ]
  },
  {
   "cell_type": "code",
   "execution_count": null,
   "id": "efa83850-a3ee-40e3-8fa9-8260a9c3f8d0",
   "metadata": {},
   "outputs": [],
   "source": [
    "plt.figure(figsize=(10, 6))\n",
    "plt.scatter(df_Laz_product['Price'], df_Laz_product['Sold'], alpha=0.5)\n",
    "plt.title('Mối tương quan giữa Giá và Số lượng bán')\n",
    "plt.xlabel('Giá')\n",
    "plt.ylabel('Số lượng bán')\n",
    "plt.show()"
   ]
  },
  {
   "cell_type": "code",
   "execution_count": null,
   "id": "fd34ec09-44e2-47e6-a75a-016038fced51",
   "metadata": {},
   "outputs": [],
   "source": [
    "from sklearn.cluster import KMeans\n",
    "from sklearn.metrics import silhouette_score\n",
    "import matplotlib.pyplot as plt\n",
    "import numpy as np\n",
    "\n",
    "df_Laz_product_kmeans = df_Laz_product[['Price', 'Sold']].copy(deep = True)\n",
    "X = df_Laz_product_kmeans\n",
    "\n",
    "scaler = StandardScaler()\n",
    "X_scaled = scaler.fit_transform(X)\n",
    "\n",
    "# Phương pháp Elbow\n",
    "sse = []\n",
    "k_range = range(1, 11)\n",
    "\n",
    "for k in k_range:\n",
    "    kmeans = KMeans(n_clusters=k, random_state=42)\n",
    "    kmeans.fit(X_scaled)\n",
    "    sse.append(kmeans.inertia_)  # inertia_ là tổng khoảng cách từ điểm đến tâm cụm\n",
    "\n",
    "# Vẽ biểu đồ Elbow\n",
    "plt.figure(figsize=(8, 5))\n",
    "plt.plot(k_range, sse, marker='o')\n",
    "plt.xlabel('Số lượng cụm (k)')\n",
    "plt.ylabel('Tổng khoảng cách (SSE)')\n",
    "plt.title('Phương pháp Elbow để tìm số cụm hợp lý')\n",
    "plt.show()\n",
    "\n",
    "# Phương pháp Silhouette\n",
    "silhouette_scores = []\n",
    "\n",
    "for k in range(2, 11):\n",
    "    kmeans = KMeans(n_clusters=k, random_state=42)\n",
    "    labels = kmeans.fit_predict(X_scaled)\n",
    "    silhouette_scores.append(silhouette_score(X_scaled, labels))\n",
    "\n",
    "# Vẽ biểu đồ Silhouette\n",
    "plt.figure(figsize=(8, 5))\n",
    "plt.plot(range(2, 11), silhouette_scores, marker='o')\n",
    "plt.xlabel('Số lượng cụm (k)')\n",
    "plt.ylabel('Chỉ số Silhouette')\n",
    "plt.title('Phương pháp Silhouette để tìm số cụm hợp lý')\n",
    "plt.show()"
   ]
  },
  {
   "cell_type": "code",
   "execution_count": null,
   "id": "a6b413c7-2e74-4be2-ad8a-e3509398c28b",
   "metadata": {},
   "outputs": [],
   "source": [
    "from sklearn.cluster import KMeans\n",
    "\n",
    "df_Laz_product_kmeans = df_Laz_product[['Price', 'Sold']].copy(deep = True)\n",
    "X = df_Laz_product_kmeans\n",
    "scaler = StandardScaler()\n",
    "X_scaled = scaler.fit_transform(X)\n",
    "\n",
    "kmeans = KMeans(n_clusters=4, random_state=42)\n",
    "df_Laz_product_kmeans['Cluster'] = kmeans.fit_predict(X_scaled)\n",
    "\n",
    "plt.figure(figsize=(10, 6))\n",
    "plt.scatter(df_Laz_product_kmeans['Price'], df_Laz_product_kmeans['Sold'], c=df_Laz_product_kmeans['Cluster'], cmap='viridis', alpha=0.6, s=100)\n",
    "plt.title('Phân cụm KMeans dựa trên Giá và Số lượng bán')\n",
    "plt.xlabel('Giá tiền')\n",
    "plt.ylabel('Số lượng bán')\n",
    "plt.colorbar(label='Cluster')\n",
    "plt.show()"
   ]
  },
  {
   "cell_type": "code",
   "execution_count": null,
   "id": "9fe26cfa-ce0c-44cd-847a-5e5191a675b7",
   "metadata": {},
   "outputs": [],
   "source": [
    "df_Laz_product_kmeans[df_Laz_product_kmeans['Cluster'] == 1]"
   ]
  },
  {
   "cell_type": "code",
   "execution_count": null,
   "id": "88a27284-dddf-4c84-938c-7dc07e4398d3",
   "metadata": {},
   "outputs": [],
   "source": [
    "df_Laz_product['Product_Object'] = df_Laz_product_kmeans['Cluster']"
   ]
  },
  {
   "cell_type": "code",
   "execution_count": null,
   "id": "4e5161fb-4ad0-4fde-b762-896bbd04ba54",
   "metadata": {},
   "outputs": [],
   "source": [
    "df_Laz_product[df_Laz_product['Product_Object'] == 1] = 3"
   ]
  },
  {
   "cell_type": "code",
   "execution_count": null,
   "id": "9d0a2bf8-a120-4221-93f5-07884157d4be",
   "metadata": {},
   "outputs": [],
   "source": [
    "df_Laz_product['Product_Object'] = df_Laz_product['Product_Object'].apply(lambda x: 1 if x == 2 else 2 if x == 0 else 3 if x == 3 else x)"
   ]
  },
  {
   "cell_type": "code",
   "execution_count": null,
   "id": "3336990a-80cd-4f4e-a812-4896d8efef6c",
   "metadata": {},
   "outputs": [],
   "source": [
    "df_Laz_product.to_csv('cleaned_lazada_products.csv', index=False)"
   ]
  },
  {
   "cell_type": "markdown",
   "id": "25bef1ff-4867-4bf9-a56c-667e3955dcd4",
   "metadata": {},
   "source": [
    "### df_Laz_feedback"
   ]
  },
  {
   "cell_type": "code",
   "execution_count": null,
   "id": "b984b881-6b9d-4aec-b502-b3c3ddc84896",
   "metadata": {},
   "outputs": [],
   "source": [
    "df_Laz_feedback.info()"
   ]
  },
  {
   "cell_type": "code",
   "execution_count": null,
   "id": "cedddc85-1afe-41aa-a35a-3544c25d1b61",
   "metadata": {
    "scrolled": true
   },
   "outputs": [],
   "source": [
    "set(list(df_Laz_feedback['Product_Url']))"
   ]
  },
  {
   "cell_type": "code",
   "execution_count": null,
   "id": "78ff9ab1-1766-4c78-bc81-0567bde7b6c7",
   "metadata": {},
   "outputs": [],
   "source": [
    "len(set(list(df_Laz_feedback['Product_Url'])))"
   ]
  },
  {
   "cell_type": "code",
   "execution_count": null,
   "id": "2a94ccd1-d609-4bde-8e35-b7f0914a8bbd",
   "metadata": {},
   "outputs": [],
   "source": [
    "feedbacks = df_Laz_feedback['Content']"
   ]
  },
  {
   "cell_type": "code",
   "execution_count": null,
   "id": "7fd955e7-24f3-4b11-bf53-53a28d44d0da",
   "metadata": {},
   "outputs": [],
   "source": [
    "import re\n",
    "def text_preprocess(text):\n",
    "    text = text.lower()\n",
    "    text = re.sub(r'([:,./?:#()])', r' ', text)\n",
    "    text = re.sub(r'[^\\w\\s]', ' ', text)\n",
    "    text = re.sub(r'\\s+', ' ', text).strip()\n",
    "    return text.split()"
   ]
  },
  {
   "cell_type": "code",
   "execution_count": null,
   "id": "72387678-7ba8-4c8a-9814-9579c610ae57",
   "metadata": {},
   "outputs": [],
   "source": [
    "feedbacks = [text_preprocess(fb) for fb in feedbacks]"
   ]
  },
  {
   "cell_type": "markdown",
   "id": "09dffb08-e914-446f-97b1-1f13b16ea7d0",
   "metadata": {},
   "source": [
    "Run this cell if the computer hasn't installed the gensim library yet"
   ]
  },
  {
   "cell_type": "code",
   "execution_count": null,
   "id": "6f43b515-0b68-44b4-bb06-52745b4f547a",
   "metadata": {},
   "outputs": [],
   "source": [
    "# !pip install gensim"
   ]
  },
  {
   "cell_type": "code",
   "execution_count": null,
   "id": "f4c9fef4-452e-423c-bef2-450bd04aca97",
   "metadata": {},
   "outputs": [],
   "source": [
    "from gensim.models import Word2Vec\n",
    "model = Word2Vec(feedbacks, vector_size=100, window=10, min_count=1, workers=4)"
   ]
  },
  {
   "cell_type": "code",
   "execution_count": null,
   "id": "b64f2360-9647-413f-b21b-089f819043cd",
   "metadata": {},
   "outputs": [],
   "source": [
    "similar_words = model.wv.most_similar('tốt', topn=20)\n",
    "print(similar_words)"
   ]
  },
  {
   "cell_type": "code",
   "execution_count": null,
   "id": "40d86083-ebd5-4051-8744-6ea2d47be59c",
   "metadata": {},
   "outputs": [],
   "source": [
    "similar_words = model.wv.most_similar('đẹp', topn=20)\n",
    "print(similar_words)"
   ]
  },
  {
   "cell_type": "code",
   "execution_count": null,
   "id": "9d178dca-6dd0-4897-ba0f-ebfb6a1d9cb5",
   "metadata": {},
   "outputs": [],
   "source": [
    "similar_words = model.wv.most_similar('tệ', topn=10)\n",
    "print(similar_words)"
   ]
  },
  {
   "cell_type": "code",
   "execution_count": null,
   "id": "e1238bec-6da6-4c19-bc48-3230f58780fd",
   "metadata": {},
   "outputs": [],
   "source": [
    "similar_words = model.wv.most_similar('xấu', topn=10)\n",
    "print(similar_words)"
   ]
  },
  {
   "cell_type": "code",
   "execution_count": null,
   "id": "f17cc938-d039-464b-8feb-f0b6719726b3",
   "metadata": {},
   "outputs": [],
   "source": [
    "similar_words = model.wv.most_similar('ổn', topn=5)\n",
    "print(similar_words)"
   ]
  },
  {
   "cell_type": "code",
   "execution_count": null,
   "id": "8df11ea3-df95-4eb0-b648-c6034b4b8052",
   "metadata": {},
   "outputs": [],
   "source": [
    "from nltk import ngrams\n",
    "\n",
    "positive_words = ['tuyệt vời', 'hài lòng', 'thích', 'đẹp', 'mát', 'xinh', 'mát', 'dày dặn', 'ưng ý', 'lý tưởng', 'hấp dẫn', 'hoàn hảo', 'thoải mái', 'mê', 'tốt', 'ưng', 'bền', 'vừa ý', 'dễ thương', 'cute', 'đáng mua', 'nên mua']\n",
    "negative_words = ['không hài lòng', 'thất vọng', 'kém', 'xấu', 'tệ', 'gớm', 'chán', 'nóng', 'lỗi', 'khó chịu', 'kì', 'cứng', 'thấy ghê', 'hơi', 'mắc', 'đắt', 'không đúng', 'ko đúng', 'vớ vẩn', 'ni lông', 'nilon', 'không thích', 'ko thích', 'ko ưng', 'phải chi', 'thô']\n",
    "\n",
    "def calculate_satisfaction_score(review):\n",
    "    score = 0\n",
    "    for word in review:\n",
    "        if word in positive_words:\n",
    "            score += 1 \n",
    "        elif word in negative_words:\n",
    "            score -= 1 \n",
    "\n",
    "    bigrams = ngrams(review, 2)\n",
    "    for bigram in bigrams:\n",
    "        bigram_str = ' '.join(bigram)\n",
    "        if bigram_str in positive_words:\n",
    "            score += 1 \n",
    "        elif bigram_str in negative_words:\n",
    "            score -= 1 \n",
    "\n",
    "    return score\n",
    "\n",
    "satisfaction_scores = [calculate_satisfaction_score(fb) for fb in feedbacks]\n",
    "df_Laz_feedback['SentScore'] = satisfaction_scores"
   ]
  },
  {
   "cell_type": "code",
   "execution_count": null,
   "id": "ce9648f2-ac5a-4762-ad19-d367d1ed4ddb",
   "metadata": {},
   "outputs": [],
   "source": [
    "df_Laz_feedback[['Content', 'SentScore']]"
   ]
  },
  {
   "cell_type": "code",
   "execution_count": null,
   "id": "7231ae73-43ac-46ac-b751-4ca577b2f846",
   "metadata": {
    "scrolled": true
   },
   "outputs": [],
   "source": [
    "def get_review_vector(review):\n",
    "    words = review\n",
    "    vectors = [model.wv[word] for word in words if word in model.wv]\n",
    "    return np.mean(vectors, axis=0) if vectors else np.zeros(model.vector_size)"
   ]
  },
  {
   "cell_type": "code",
   "execution_count": null,
   "id": "7f9f50e2-df44-457e-9672-5e970797ee4d",
   "metadata": {},
   "outputs": [],
   "source": [
    "def classify_score(score):\n",
    "    if score < 0:\n",
    "        return 0\n",
    "    elif score == 0:\n",
    "        return 1\n",
    "    else:\n",
    "        return 2"
   ]
  },
  {
   "cell_type": "code",
   "execution_count": null,
   "id": "43985ef2-d444-4e4f-8453-cbe78549df21",
   "metadata": {},
   "outputs": [],
   "source": [
    "labels = df_Laz_feedback['SentScore'].apply(classify_score)"
   ]
  },
  {
   "cell_type": "code",
   "execution_count": null,
   "id": "a8568b6e-835b-4498-bef7-2c667c7b21d0",
   "metadata": {},
   "outputs": [],
   "source": [
    "df_Laz_feedback['Label'] = labels"
   ]
  },
  {
   "cell_type": "code",
   "execution_count": null,
   "id": "b81ba1a3-0a38-4f28-9407-8ee93859a563",
   "metadata": {},
   "outputs": [],
   "source": [
    "df_Laz_feedback['Label'].value_counts()"
   ]
  },
  {
   "cell_type": "code",
   "execution_count": null,
   "id": "727b5742-107a-4cdb-9d65-8f6f4a991331",
   "metadata": {},
   "outputs": [],
   "source": [
    "df_Laz_feedback['Label'].value_counts().plot(kind='bar', color='skyblue')\n",
    "plt.title('Số lượng đánh giá theo mức độ hài lòng')\n",
    "plt.xlabel('Mức độ hài lòng')\n",
    "plt.ylabel('Số lượng đánh giá')\n",
    "plt.xticks(ticks=[0, 1, 2], labels=['Tiêu cực', 'Trung tính', 'Tích cực'], rotation=0)\n",
    "plt.show()"
   ]
  },
  {
   "cell_type": "markdown",
   "id": "e792ff20-6b2e-41ca-b4db-14860974cdf8",
   "metadata": {},
   "source": [
    "Run this cell if the computer hasn't installed the wordcloud library yet"
   ]
  },
  {
   "cell_type": "code",
   "execution_count": null,
   "id": "6bd7a7fa-d266-4f0e-a4c2-7a063eeab503",
   "metadata": {},
   "outputs": [],
   "source": [
    "# !pip install wordcloud"
   ]
  },
  {
   "cell_type": "code",
   "execution_count": null,
   "id": "f60c90eb-df69-4ff6-999d-7ea363faadd5",
   "metadata": {},
   "outputs": [],
   "source": [
    "from wordcloud import WordCloud\n",
    "\n",
    "positive_comments = ' '.join(df_Laz_feedback[df_Laz_feedback['Label'] == 2]['Content'])\n",
    "neutral_comments = ' '.join(df_Laz_feedback[df_Laz_feedback['Label'] == 1]['Content'])\n",
    "negative_comments = ' '.join(df_Laz_feedback[df_Laz_feedback['Label'] == 0]['Content'])\n",
    "\n",
    "wordcloud = WordCloud(width=800, height=400, background_color='white').generate(positive_comments)\n",
    "plt.figure(figsize=(10, 5))\n",
    "plt.imshow(wordcloud, interpolation='bilinear')\n",
    "plt.axis('off')\n",
    "plt.title('Word Cloud cho Đánh Giá Tích Cực')\n",
    "plt.show()"
   ]
  },
  {
   "cell_type": "code",
   "execution_count": null,
   "id": "3c4743f2-530e-4147-a272-f8cbd940c534",
   "metadata": {},
   "outputs": [],
   "source": [
    "from wordcloud import WordCloud\n",
    "\n",
    "positive_comments = ' '.join(df_Laz_feedback[df_Laz_feedback['Label'] == 2]['Content'])\n",
    "neutral_comments = ' '.join(df_Laz_feedback[df_Laz_feedback['Label'] == 1]['Content'])\n",
    "negative_comments = ' '.join(df_Laz_feedback[df_Laz_feedback['Label'] == 0]['Content'])\n",
    "\n",
    "wordcloud = WordCloud(width=800, height=400, background_color='white').generate(negative_comments)\n",
    "plt.figure(figsize=(10, 5))\n",
    "plt.imshow(wordcloud, interpolation='bilinear')\n",
    "plt.axis('off')\n",
    "plt.title('Word Cloud cho Đánh Giá Tiêu Cực')\n",
    "plt.show()"
   ]
  },
  {
   "cell_type": "code",
   "execution_count": null,
   "id": "2ce6f225-2589-49cb-bc48-f06153428c18",
   "metadata": {},
   "outputs": [],
   "source": [
    "df_Laz_feedback['Length'] = df_Laz_feedback['Content'].str.split().str.len()\n",
    "mean_length = df_Laz_feedback.groupby('Label')['Length'].mean()\n",
    "\n",
    "colors = ['#FF6F61', '#FFCC6A', '#6D9DC5']\n",
    "mean_length.plot(kind='bar', color=colors)\n",
    "\n",
    "plt.title('Độ dài trung bình của đánh giá theo mức độ hài lòng')\n",
    "plt.xlabel('Mức độ hài lòng')\n",
    "plt.ylabel('Độ dài trung bình')\n",
    "plt.xticks(ticks=[0, 1, 2], labels=['Tiêu cực', 'Trung tính', 'Tích cực'], rotation=0)\n",
    "plt.show()"
   ]
  },
  {
   "cell_type": "code",
   "execution_count": null,
   "id": "e3f789b9-27f9-49fb-990d-388cd4ac0da2",
   "metadata": {},
   "outputs": [],
   "source": [
    "df_Laz_feedback['Length'].mean()"
   ]
  },
  {
   "cell_type": "code",
   "execution_count": null,
   "id": "09b97b7e-7f7b-47af-826e-2931e6d783a4",
   "metadata": {},
   "outputs": [],
   "source": [
    "mean_length"
   ]
  },
  {
   "cell_type": "code",
   "execution_count": null,
   "id": "816303cd-0950-44c9-b021-fbd047dea4eb",
   "metadata": {},
   "outputs": [],
   "source": [
    "df_merged = pd.merge(df_Laz_feedback, df_Laz_product, left_on='Product_Url', right_on='Url')"
   ]
  },
  {
   "cell_type": "code",
   "execution_count": null,
   "id": "87af9f30-35b8-4b5c-8178-888379783a98",
   "metadata": {},
   "outputs": [],
   "source": [
    "df_merged['Category'].value_counts()"
   ]
  },
  {
   "cell_type": "code",
   "execution_count": null,
   "id": "2c2e8167-1c26-46b2-a74a-ecfc5ceeb551",
   "metadata": {},
   "outputs": [],
   "source": [
    "label_counts = df_merged['Label'].value_counts()\n",
    "\n",
    "plt.figure(figsize=(8, 8))\n",
    "wedges, texts, autotexts = plt.pie(label_counts, autopct='%1.1f%%', startangle=90, colors=plt.cm.Pastel1.colors)\n",
    "\n",
    "labels = ['Tích cực (2)', 'Trung tính (1)', 'Tiêu cực (0)']\n",
    "plt.legend(wedges, labels, title=\"Mức độ hài lòng\", loc=\"center left\", bbox_to_anchor=(1, 0, 0.5, 1))\n",
    "\n",
    "plt.title('Phân bố mức độ hài lòng của khách hàng (%)')\n",
    "plt.axis('equal')\n",
    "plt.show()\n"
   ]
  },
  {
   "cell_type": "code",
   "execution_count": null,
   "id": "3fec1a89-2dec-45bc-80b3-6e8e8fcc6643",
   "metadata": {},
   "outputs": [],
   "source": [
    "df_merged['Label'].value_counts()"
   ]
  },
  {
   "cell_type": "code",
   "execution_count": null,
   "id": "94d35845-2ea2-4b64-b2ec-629a898b57e8",
   "metadata": {},
   "outputs": [],
   "source": [
    "category_feedback = df_merged.groupby('Category')['Label'].mean().reset_index()\n",
    "category_feedback.columns = ['Category', 'Average Satisfaction']\n",
    "\n",
    "pastel_colors = ['#FFB3BA', '#FFDFBA', '#BAFFC9', '#BAE1FF', '#FFC3A0', '#FF677D']\n",
    "category_feedback.plot(kind='bar', x='Category', y='Average Satisfaction', color=pastel_colors[:len(category_feedback)])\n",
    "plt.title('Mức độ hài lòng trung bình theo loại sản phẩm')\n",
    "plt.xlabel('Loại sản phẩm')\n",
    "plt.ylabel('Mức độ hài lòng trung bình')\n",
    "plt.xticks(rotation=45)\n",
    "plt.show()"
   ]
  },
  {
   "cell_type": "code",
   "execution_count": null,
   "id": "242a038d-b48b-4aa2-ba3f-6a8fb5c3c317",
   "metadata": {},
   "outputs": [],
   "source": [
    "product_satisfaction = df_merged.groupby('Product_Object')['Label'].mean().reset_index()\n",
    "product_satisfaction.columns = ['Product_Object', 'Average_Satisfaction']\n",
    "\n",
    "pastel_colors = ['#FFB3BA', '#FFDFBA', '#BAFFC9', '#BAE1FF', '#FF677D', '#FFC3A0']\n",
    "product_satisfaction.plot(kind='bar', x='Product_Object', y='Average_Satisfaction', color=pastel_colors[:len(product_satisfaction)])\n",
    "plt.title('Mức độ hài lòng trung bình của từng đối tượng sản phẩm')\n",
    "plt.xlabel('Đối tượng khách hàng')\n",
    "plt.ylabel('Mức độ hài lòng trung bình')\n",
    "plt.xticks(ticks=[0, 1, 2], labels=['Đối tượng 1', 'Đối tượng 2', 'Đối tượng 3'], rotation=0)\n",
    "plt.show()"
   ]
  },
  {
   "cell_type": "code",
   "execution_count": null,
   "id": "4d7a704e-93a9-4a87-a8b7-7468fbffc895",
   "metadata": {},
   "outputs": [],
   "source": [
    "df_merged['Label'].mean()"
   ]
  },
  {
   "cell_type": "code",
   "execution_count": null,
   "id": "dfd614da-3241-4fdb-9d21-5a578f79ea79",
   "metadata": {},
   "outputs": [],
   "source": [
    "product_satisfaction"
   ]
  },
  {
   "cell_type": "code",
   "execution_count": null,
   "id": "60e27460-dc4d-47bf-9e56-005afcfeb2fe",
   "metadata": {},
   "outputs": [],
   "source": [
    "label_distribution = df_merged.groupby(['Product_Object', 'Label']).size().unstack().fillna(0)\n",
    "\n",
    "labels = ['Tiêu cực', 'Trung tính', 'Tích cực']\n",
    "colors = ['#FFB3BA', '#FFDFBA', '#BAFFC9']\n",
    "\n",
    "fig, axes = plt.subplots(1, 3, figsize=(18, 6))\n",
    "\n",
    "for i, Product_Object in enumerate(label_distribution.index):\n",
    "    axes[i].pie(label_distribution.loc[Product_Object], \n",
    "                labels=labels, \n",
    "                autopct='%1.1f%%', \n",
    "                startangle=90, \n",
    "                colors=colors)\n",
    "    axes[i].set_title(f'Đối tượng {Product_Object}')\n",
    "\n",
    "plt.suptitle('Phân bố mức độ hài lòng của từng đối tượng sản phẩm')\n",
    "plt.tight_layout()\n",
    "plt.show()"
   ]
  },
  {
   "cell_type": "code",
   "execution_count": null,
   "id": "125d39ac-8fdb-484d-8fa2-86cf74ee2248",
   "metadata": {},
   "outputs": [],
   "source": [
    "df_Laz_feedback"
   ]
  },
  {
   "cell_type": "code",
   "execution_count": null,
   "id": "90ffc295-24b6-4401-a28c-8d67382f4e1a",
   "metadata": {},
   "outputs": [],
   "source": [
    "df_Laz_feedback.to_csv('cleaned_lazada_feedbacks.csv', index=False)"
   ]
  },
  {
   "cell_type": "markdown",
   "id": "30cf15da-4459-4095-915f-879e4db7ffa2",
   "metadata": {},
   "source": [
    "## Tiki"
   ]
  },
  {
   "cell_type": "markdown",
   "id": "b59ea5a9-2904-48a3-ab0f-cd8b660990e7",
   "metadata": {},
   "source": [
    "### df_Tiki_product"
   ]
  },
  {
   "cell_type": "code",
   "execution_count": null,
   "id": "20008387-eb0f-4fbe-8c54-ae7db6e34041",
   "metadata": {},
   "outputs": [],
   "source": [
    "df_Tiki_product.info()"
   ]
  },
  {
   "cell_type": "code",
   "execution_count": null,
   "id": "3bc9a1ce-ffeb-4a45-9bfe-36c0d8e8e703",
   "metadata": {
    "scrolled": true
   },
   "outputs": [],
   "source": [
    "df_Tiki_product.describe()"
   ]
  },
  {
   "cell_type": "code",
   "execution_count": null,
   "id": "eeb85bbf-494f-40aa-8564-392c1330a804",
   "metadata": {},
   "outputs": [],
   "source": [
    "Tiki_category_counts = df_Tiki_product['Category'].value_counts()\n",
    "print(Tiki_category_counts)"
   ]
  },
  {
   "cell_type": "code",
   "execution_count": null,
   "id": "a1f768a3-6fcd-4983-bfcc-f13f8eb92888",
   "metadata": {},
   "outputs": [],
   "source": [
    "plt.figure(figsize = (10, 6))\n",
    "sns.barplot(x = Tiki_category_counts.index, y = Tiki_category_counts.values, palette = 'pastel')\n",
    "plt.title('Phân bố các giá trị trong cột Category', fontsize = 16)\n",
    "plt.xlabel('Loại', fontsize = 14)\n",
    "plt.ylabel('Số lượng', fontsize = 14)\n",
    "plt.xticks(rotation = 45, ha = 'right')\n",
    "plt.show()"
   ]
  },
  {
   "cell_type": "code",
   "execution_count": null,
   "id": "9d4f4508-3877-4a95-a057-940989a99ae4",
   "metadata": {},
   "outputs": [],
   "source": [
    "Tiki_avgPrice_per_category = df_Tiki_product.groupby('Category')['Price'].mean().round()"
   ]
  },
  {
   "cell_type": "code",
   "execution_count": null,
   "id": "4e857434-8925-4b95-b40b-e695cd8d6c75",
   "metadata": {},
   "outputs": [],
   "source": [
    "print(Tiki_avgPrice_per_category)"
   ]
  },
  {
   "cell_type": "code",
   "execution_count": null,
   "id": "dd5344c4-3084-4431-879d-8829f689743f",
   "metadata": {},
   "outputs": [],
   "source": [
    "plt.figure(figsize = (10, 6))\n",
    "sns.barplot(x = Tiki_avgPrice_per_category.index, y = Tiki_avgPrice_per_category.values, palette = 'pastel')\n",
    "plt.title('Giá tiền trung bình mỗi loại', fontsize = 16)\n",
    "plt.xlabel('Loại', fontsize = 14)\n",
    "plt.ylabel('Giá trung bình', fontsize = 14)\n",
    "plt.xticks(rotation = 45, ha = 'right')\n",
    "plt.show()"
   ]
  },
  {
   "cell_type": "code",
   "execution_count": null,
   "id": "6b2668a3-9235-410b-85e6-a4004f6a4405",
   "metadata": {},
   "outputs": [],
   "source": [
    "df_Tiki_product[df_Tiki_product['Category'] == 'đồ lót'][['Name', 'Price', 'Category']]"
   ]
  },
  {
   "cell_type": "code",
   "execution_count": null,
   "id": "afeab7d8-90ab-49e8-8ff5-b6801ed0688a",
   "metadata": {},
   "outputs": [],
   "source": [
    "df_Tiki_product[df_Tiki_product['Category'] == 'váy/quần'][['Name', 'Price', 'Category']]"
   ]
  },
  {
   "cell_type": "code",
   "execution_count": null,
   "id": "23c586e8-08a3-4633-8662-a3f12362ff47",
   "metadata": {},
   "outputs": [],
   "source": [
    "plt.figure(figsize=(10, 6))\n",
    "sns.boxplot(x='Price', data=df_Tiki_product, palette='Set2')\n",
    "plt.title(' Biểu đồ Box Plot thể hiện sự phân phối của giá sản phẩm quần áo nữ trên Tiki (VNĐ)')\n",
    "plt.xlabel('Giá tiền')\n",
    "plt.ylabel('')\n",
    "plt.show()"
   ]
  },
  {
   "cell_type": "code",
   "execution_count": null,
   "id": "571d7250-11e0-4320-8759-59bfdeaa32d7",
   "metadata": {},
   "outputs": [],
   "source": [
    "stats = {\n",
    "    'Mean': df_Tiki_product['Price'].mean(),\n",
    "    'Median': df_Tiki_product['Price'].median(),\n",
    "    'Min': df_Tiki_product['Price'].min(),\n",
    "    'Max': df_Tiki_product['Price'].max(),\n",
    "    'Std': df_Tiki_product['Price'].std()\n",
    "}\n",
    "\n",
    "colors = ['#FF9999', '#66B3FF', '#99FF99', '#FFCC99', '#FFD700']\n",
    "plt.bar(stats.keys(), stats.values(), color = colors)\n",
    "plt.title('Thống kê giá tiền các sản phẩm quần áo nữ trên Tiki (VNĐ)')\n",
    "plt.show()"
   ]
  },
  {
   "cell_type": "code",
   "execution_count": null,
   "id": "a8e75986-f1bb-4b0f-9ade-01c5774e9f76",
   "metadata": {},
   "outputs": [],
   "source": [
    "from sklearn.preprocessing import StandardScaler\n",
    "from sklearn.cluster import DBSCAN\n",
    "\n",
    "cluster_price = df_Tiki_product.copy(deep = True)\n",
    "\n",
    "prices = cluster_price[['Price']].values\n",
    "scaler = StandardScaler()\n",
    "prices_scaled = scaler.fit_transform(prices)\n",
    "\n",
    "dbscan = DBSCAN(eps = 0.5, min_samples = 20)\n",
    "cluster_price['Cluster_DBSCAN'] = dbscan.fit_predict(prices_scaled)\n",
    "\n",
    "print(cluster_price)"
   ]
  },
  {
   "cell_type": "code",
   "execution_count": null,
   "id": "e2ccee4d-c932-4e06-836b-1b5bf4ea57aa",
   "metadata": {},
   "outputs": [],
   "source": [
    "cluster_price[cluster_price['Cluster_DBSCAN'] == 0][['Price', 'Cluster_DBSCAN']].describe()"
   ]
  },
  {
   "cell_type": "code",
   "execution_count": null,
   "id": "504cac81-4d2c-4d12-9237-2471b171b086",
   "metadata": {},
   "outputs": [],
   "source": [
    "cluster_price[cluster_price['Cluster_DBSCAN'] != 0][['Price', 'Cluster_DBSCAN']].describe()"
   ]
  },
  {
   "cell_type": "code",
   "execution_count": null,
   "id": "14393158-b57c-434d-9771-ab3dedd1cf68",
   "metadata": {},
   "outputs": [],
   "source": [
    "plt.scatter(cluster_price['Price'], np.zeros_like(cluster_price['Price']),\n",
    "            c=cluster_price['Cluster_DBSCAN'], cmap='viridis', marker='o')\n",
    "plt.xlabel('Price')\n",
    "plt.title('DBSCAN Clustering')\n",
    "plt.colorbar(label='Cluster')\n",
    "plt.show()"
   ]
  },
  {
   "cell_type": "code",
   "execution_count": null,
   "id": "274c11c6-6f4d-421b-9875-540272962a11",
   "metadata": {},
   "outputs": [],
   "source": [
    "df_Tiki_product_pk = df_Tiki_product.copy(deep = True)\n",
    "df_Tiki_product_pk['Phân khúc'] = df_Tiki_product_pk['Price'].apply(lambda x: 1 if x > 310000 else 0)\n",
    "\n",
    "count_by_segment = df_Tiki_product_pk['Phân khúc'].value_counts().reset_index()\n",
    "count_by_segment.columns = ['Phân khúc', 'Số lượng sản phẩm']\n",
    "\n",
    "plt.figure(figsize=(10, 6))\n",
    "sns.barplot(x='Phân khúc', y='Số lượng sản phẩm', data=count_by_segment, palette='pastel')\n",
    "plt.title('Số lượng sản phẩm theo Phân khúc')\n",
    "plt.xlabel('Phân khúc')\n",
    "plt.ylabel('Số lượng sản phẩm')\n",
    "plt.show()"
   ]
  },
  {
   "cell_type": "code",
   "execution_count": null,
   "id": "0ed13c52-7e38-4ef5-b219-452615a8b1f1",
   "metadata": {},
   "outputs": [],
   "source": [
    "df_Tiki_product_pk[df_Tiki_product_pk['Phân khúc'] == 0].describe()"
   ]
  },
  {
   "cell_type": "code",
   "execution_count": null,
   "id": "689fb3c1-7b3e-4ae7-94ec-28c1b1c7f937",
   "metadata": {},
   "outputs": [],
   "source": [
    "df_Tiki_product_pk[df_Tiki_product_pk['Phân khúc'] == 1].describe()"
   ]
  },
  {
   "cell_type": "code",
   "execution_count": null,
   "id": "0691a85c-a386-499b-a6d5-fe505657c17b",
   "metadata": {},
   "outputs": [],
   "source": [
    "categories = df_Tiki_product['Category'].unique()\n",
    "\n",
    "fig, axs = plt.subplots(2, 2, figsize=(20, 20))\n",
    "colors = ['#ffb3ba', '#ffdfba']\n",
    "for i, category in enumerate(categories):\n",
    "    # Lọc các sản phẩm theo loại Category\n",
    "    category_data = df_Tiki_product[df_Tiki_product['Category'] == category]\n",
    "\n",
    "    low_price_count = (category_data['Price'] <= 310000).sum()\n",
    "    high_price_count = (category_data['Price'] > 310000).sum()\n",
    "\n",
    "    sizes = [low_price_count, high_price_count]\n",
    "    labels = ['Giá thấp (≤ 310.000 VNĐ)', 'Giá cao (> 310.000 VNĐ)']\n",
    "\n",
    "    ax = axs[i//2, i%2]\n",
    "    ax.pie(sizes, labels=labels, colors=colors, autopct='%1.1f%%', startangle=90, textprops={'fontsize': 16})\n",
    "    ax.set_title(f'Phân bố giá của {category.capitalize()}', fontsize = 18)\n",
    "\n",
    "plt.subplots_adjust(hspace=0, wspace=0)\n",
    "plt.tight_layout()\n",
    "plt.show()"
   ]
  },
  {
   "cell_type": "code",
   "execution_count": null,
   "id": "3aba6fcd-11c9-4ed4-ad57-045f30aa447e",
   "metadata": {},
   "outputs": [],
   "source": [
    "df_Tiki_product['Sold'].sum()"
   ]
  },
  {
   "cell_type": "code",
   "execution_count": null,
   "id": "1484637c-d396-4807-b00a-6971dfc9f936",
   "metadata": {},
   "outputs": [],
   "source": [
    "df_Tiki_product['Sold'].describe()"
   ]
  },
  {
   "cell_type": "code",
   "execution_count": null,
   "id": "5b3b2100-9d3d-497a-8aa9-fad8525b087d",
   "metadata": {},
   "outputs": [],
   "source": [
    "stats = {\n",
    "    'Mean': df_Tiki_product['Sold'].mean(),\n",
    "    'Median': df_Tiki_product['Sold'].median(),\n",
    "    'Min': df_Tiki_product['Sold'].min(),\n",
    "    'Max': df_Tiki_product['Sold'].max(),\n",
    "    'Std': df_Tiki_product['Sold'].std()\n",
    "}\n",
    "\n",
    "colors = ['#FF9999', '#66B3FF', '#99FF99', '#FFCC99', '#FFD700']\n",
    "plt.bar(stats.keys(), stats.values(), color = colors)\n",
    "plt.title('Thống kê số lượng bán các sản phẩm quần áo nữ trên Tiki')\n",
    "plt.show()"
   ]
  },
  {
   "cell_type": "code",
   "execution_count": null,
   "id": "031438c5-25e3-469e-8028-22a785a7db86",
   "metadata": {},
   "outputs": [],
   "source": [
    "len(df_Tiki_product[df_Tiki_product['Sold'] == 0])"
   ]
  },
  {
   "cell_type": "code",
   "execution_count": null,
   "id": "a951e17b-5c68-402e-a197-618fdf36c8a4",
   "metadata": {},
   "outputs": [],
   "source": [
    "plt.figure(figsize=(10, 6))\n",
    "sns.histplot(df_Tiki_product['Sold'], bins=10, kde=False, color='skyblue')\n",
    "plt.title('Độ phân bố số lượng bán')\n",
    "plt.xlabel('Số lượng bán')\n",
    "plt.ylabel('Số sản phẩm')\n",
    "plt.show()"
   ]
  },
  {
   "cell_type": "code",
   "execution_count": null,
   "id": "ae08f430-9fdd-4aa1-b0da-dd1ec2e1ff82",
   "metadata": {},
   "outputs": [],
   "source": [
    "df_Tiki_product[df_Tiki_product['Sold'] > 150]"
   ]
  },
  {
   "cell_type": "code",
   "execution_count": null,
   "id": "35cc25e3-ac98-4431-84e3-775b88f66384",
   "metadata": {},
   "outputs": [],
   "source": [
    "plt.figure(figsize=(10, 6))\n",
    "plt.scatter(df_Tiki_product['Price'], df_Tiki_product['Sold'], alpha=0.5)\n",
    "plt.title('Mối tương quan giữa Giá và Số lượng bán')\n",
    "plt.xlabel('Giá')\n",
    "plt.ylabel('Số lượng bán')\n",
    "plt.show()"
   ]
  },
  {
   "cell_type": "code",
   "execution_count": null,
   "id": "9d8f776c-4d36-4d72-b655-b19604edd335",
   "metadata": {},
   "outputs": [],
   "source": [
    "from sklearn.cluster import KMeans\n",
    "from sklearn.metrics import silhouette_score\n",
    "import matplotlib.pyplot as plt\n",
    "import numpy as np\n",
    "\n",
    "df_Tiki_product_kmeans = df_Tiki_product[['Price', 'Sold']].copy(deep = True)\n",
    "X = df_Tiki_product_kmeans\n",
    "\n",
    "scaler = StandardScaler()\n",
    "X_scaled = scaler.fit_transform(X)\n",
    "\n",
    "sse = []\n",
    "k_range = range(1, 11)\n",
    "\n",
    "for k in k_range:\n",
    "    kmeans = KMeans(n_clusters=k, random_state=42)\n",
    "    kmeans.fit(X_scaled)\n",
    "    sse.append(kmeans.inertia_)\n",
    "\n",
    "# Vẽ biểu đồ Elbow\n",
    "plt.figure(figsize=(8, 5))\n",
    "plt.plot(k_range, sse, marker='o')\n",
    "plt.xlabel('Số lượng cụm (k)')\n",
    "plt.ylabel('Tổng khoảng cách (SSE)')\n",
    "plt.title('Phương pháp Elbow để tìm số cụm hợp lý')\n",
    "plt.show()\n",
    "\n",
    "# Phương pháp Silhouette\n",
    "silhouette_scores = []\n",
    "\n",
    "for k in range(2, 11):\n",
    "    kmeans = KMeans(n_clusters=k, random_state=42)\n",
    "    labels = kmeans.fit_predict(X_scaled)\n",
    "    silhouette_scores.append(silhouette_score(X_scaled, labels))\n",
    "\n",
    "# Vẽ biểu đồ Silhouette\n",
    "plt.figure(figsize=(8, 5))\n",
    "plt.plot(range(2, 11), silhouette_scores, marker='o')\n",
    "plt.xlabel('Số lượng cụm (k)')\n",
    "plt.ylabel('Chỉ số Silhouette')\n",
    "plt.title('Phương pháp Silhouette để tìm số cụm hợp lý')\n",
    "plt.show()"
   ]
  },
  {
   "cell_type": "code",
   "execution_count": null,
   "id": "6abb59e4-d03c-4493-8711-9313633941a1",
   "metadata": {},
   "outputs": [],
   "source": [
    "from sklearn.cluster import KMeans\n",
    "\n",
    "df_Tiki_product_kmeans = df_Tiki_product[['Price', 'Sold']].copy(deep = True)\n",
    "X = df_Tiki_product_kmeans\n",
    "scaler = StandardScaler()\n",
    "X_scaled = scaler.fit_transform(X)\n",
    "\n",
    "kmeans = KMeans(n_clusters=2, random_state=42)\n",
    "df_Tiki_product_kmeans['Cluster'] = kmeans.fit_predict(X_scaled)\n",
    "\n",
    "plt.figure(figsize=(10, 6))\n",
    "plt.scatter(df_Tiki_product_kmeans['Price'], df_Tiki_product_kmeans['Sold'], c=df_Tiki_product_kmeans['Cluster'], cmap='viridis', alpha=0.6, s=100)\n",
    "plt.title('Phân cụm KMeans dựa trên Giá và Số lượng bán')\n",
    "plt.xlabel('Giá tiền')\n",
    "plt.ylabel('Số lượng bán')\n",
    "plt.colorbar(label='Cluster')\n",
    "plt.show()"
   ]
  },
  {
   "cell_type": "code",
   "execution_count": null,
   "id": "19a4f1e5-4df8-4ca6-b9c1-8f3805ae5475",
   "metadata": {},
   "outputs": [],
   "source": [
    "from sklearn.cluster import KMeans\n",
    "\n",
    "df_Tiki_product_kmeans = df_Tiki_product[['Price', 'Sold']].copy(deep = True)\n",
    "X = df_Tiki_product_kmeans\n",
    "scaler = StandardScaler()\n",
    "X_scaled = scaler.fit_transform(X)\n",
    "\n",
    "kmeans = KMeans(n_clusters=3, random_state=42)\n",
    "df_Tiki_product_kmeans['Cluster'] = kmeans.fit_predict(X_scaled)\n",
    "\n",
    "plt.figure(figsize=(10, 6))\n",
    "plt.scatter(df_Tiki_product_kmeans['Price'], df_Tiki_product_kmeans['Sold'], c=df_Tiki_product_kmeans['Cluster'], cmap='viridis', alpha=0.6, s=100)\n",
    "plt.title('Phân cụm KMeans dựa trên Giá và Số lượng bán')\n",
    "plt.xlabel('Giá tiền')\n",
    "plt.ylabel('Số lượng bán')\n",
    "plt.colorbar(label='Cluster')\n",
    "plt.show()"
   ]
  },
  {
   "cell_type": "code",
   "execution_count": null,
   "id": "8f8e7ec9-83ba-44f0-aede-abc050e01957",
   "metadata": {},
   "outputs": [],
   "source": [
    "df_Tiki_product_kmeans[df_Tiki_product_kmeans['Cluster'] == 0].describe()"
   ]
  },
  {
   "cell_type": "code",
   "execution_count": null,
   "id": "163a1df4-82e0-4211-897f-a2df33c4a968",
   "metadata": {},
   "outputs": [],
   "source": [
    "df_Tiki_product_kmeans[df_Tiki_product_kmeans['Cluster'] == 1].describe()"
   ]
  },
  {
   "cell_type": "code",
   "execution_count": null,
   "id": "5af8338f-d337-4234-b289-ec9b93fea9a8",
   "metadata": {},
   "outputs": [],
   "source": [
    "df_Tiki_product_kmeans[df_Tiki_product_kmeans['Cluster'] == 2]"
   ]
  },
  {
   "cell_type": "code",
   "execution_count": null,
   "id": "b32bcf13-2fa1-4dde-8d65-a19038d55bff",
   "metadata": {},
   "outputs": [],
   "source": [
    "df_Tiki_product['Product_Object'] = df_Tiki_product_kmeans['Cluster']"
   ]
  },
  {
   "cell_type": "code",
   "execution_count": null,
   "id": "f094e308-3bac-49a7-b792-5822935cbfe9",
   "metadata": {},
   "outputs": [],
   "source": [
    "df_Tiki_product['Product_Object'] = df_Tiki_product['Product_Object'].apply(lambda x: 1 if x == 0 else 2 if x == 1 else 3 if x == 2 else x)"
   ]
  },
  {
   "cell_type": "code",
   "execution_count": null,
   "id": "355dd51e-f7ab-4408-b2ed-20a842fcb530",
   "metadata": {},
   "outputs": [],
   "source": [
    "df_Tiki_product.to_csv('cleaned_tiki_products.csv', index=False)"
   ]
  },
  {
   "cell_type": "markdown",
   "id": "e908e569-d47b-4ba7-8749-27d1e08b3a0f",
   "metadata": {
    "jp-MarkdownHeadingCollapsed": true
   },
   "source": [
    "### df_Tiki_feedback"
   ]
  },
  {
   "cell_type": "code",
   "execution_count": null,
   "id": "93b625f9-dce3-4038-89c7-eb0c53b30e35",
   "metadata": {},
   "outputs": [],
   "source": [
    "df_Tiki_feedback.info()"
   ]
  },
  {
   "cell_type": "code",
   "execution_count": null,
   "id": "c4a06fa7-591f-474d-ba5a-ab9e34b9d4db",
   "metadata": {
    "scrolled": true
   },
   "outputs": [],
   "source": [
    "set(list(df_Tiki_feedback['Product_Url']))"
   ]
  },
  {
   "cell_type": "code",
   "execution_count": null,
   "id": "c30ebef6-1680-4f24-80ed-596a6cfbf0c0",
   "metadata": {},
   "outputs": [],
   "source": [
    "len(set(list(df_Tiki_feedback['Product_Url'])))"
   ]
  },
  {
   "cell_type": "code",
   "execution_count": null,
   "id": "0ed47f41-cefa-44db-ba56-b791de4cee8b",
   "metadata": {},
   "outputs": [],
   "source": [
    "feedbacks = df_Tiki_feedback['Content']"
   ]
  },
  {
   "cell_type": "code",
   "execution_count": null,
   "id": "6e30e35c-9c49-489d-aa42-c5ee17cadf4e",
   "metadata": {},
   "outputs": [],
   "source": [
    "import re\n",
    "def text_preprocess(text):\n",
    "    text = text.lower()\n",
    "    text = re.sub(r'([:,./?:#()])', r' ', text)\n",
    "    text = re.sub(r'[^\\w\\s]', ' ', text)\n",
    "    text = re.sub(r'\\s+', ' ', text).strip()\n",
    "    return text.split()"
   ]
  },
  {
   "cell_type": "code",
   "execution_count": null,
   "id": "dd4f512a-2dce-44e2-953a-9e4e00581c6c",
   "metadata": {},
   "outputs": [],
   "source": [
    "feedbacks = [text_preprocess(fb) for fb in feedbacks]"
   ]
  },
  {
   "cell_type": "markdown",
   "id": "c88e90a7-1f90-4d4c-b71e-8f5cbb89dd6d",
   "metadata": {},
   "source": [
    "Run this cell if the computer hasn't installed the gensim library yet"
   ]
  },
  {
   "cell_type": "code",
   "execution_count": null,
   "id": "1ab9b0b2-0d7e-4090-8607-44e99313f204",
   "metadata": {},
   "outputs": [],
   "source": [
    "# !pip install gensim"
   ]
  },
  {
   "cell_type": "code",
   "execution_count": null,
   "id": "b225d914-c44f-4004-9610-f3ec4ca6cc91",
   "metadata": {},
   "outputs": [],
   "source": [
    "from gensim.models import Word2Vec\n",
    "model = Word2Vec(feedbacks, vector_size=100, window=10, min_count=1, workers=4)"
   ]
  },
  {
   "cell_type": "code",
   "execution_count": null,
   "id": "8745f557-3163-4cbf-95be-1033c6a70b48",
   "metadata": {},
   "outputs": [],
   "source": [
    "similar_words = model.wv.most_similar('tốt', topn=20)\n",
    "print(similar_words)"
   ]
  },
  {
   "cell_type": "code",
   "execution_count": null,
   "id": "ecd6ea26-ee0b-4b8a-baa0-b78668711947",
   "metadata": {},
   "outputs": [],
   "source": [
    "similar_words = model.wv.most_similar('đẹp', topn=20)\n",
    "print(similar_words)"
   ]
  },
  {
   "cell_type": "code",
   "execution_count": null,
   "id": "5b6e9ef1-7a33-428a-90f3-44d9b1c38a8e",
   "metadata": {},
   "outputs": [],
   "source": [
    "similar_words = model.wv.most_similar('tệ', topn=10)\n",
    "print(similar_words)"
   ]
  },
  {
   "cell_type": "code",
   "execution_count": null,
   "id": "5e533223-518a-463a-98ae-28c189f24090",
   "metadata": {},
   "outputs": [],
   "source": [
    "similar_words = model.wv.most_similar('xấu', topn=10)\n",
    "print(similar_words)"
   ]
  },
  {
   "cell_type": "code",
   "execution_count": null,
   "id": "453f3f19-2e18-4c68-9d99-d990e027ab99",
   "metadata": {},
   "outputs": [],
   "source": [
    "similar_words = model.wv.most_similar('ổn', topn=5)\n",
    "print(similar_words)"
   ]
  },
  {
   "cell_type": "code",
   "execution_count": null,
   "id": "e2d189f8-870e-464d-9006-b710a0de8cef",
   "metadata": {},
   "outputs": [],
   "source": [
    "from nltk import ngrams\n",
    "\n",
    "positive_words = ['tuyệt vời', 'hài lòng', 'thích', 'đẹp', 'mát', 'xinh', 'mát', 'dày dặn', 'ưng ý', 'lý tưởng', 'hấp dẫn', 'hoàn hảo', 'thoải mái', 'mê', 'tốt', 'ưng', 'bền', 'vừa ý', 'dễ thương', 'cute', 'đáng mua', 'nên mua']\n",
    "negative_words = ['không hài lòng', 'thất vọng', 'kém', 'xấu', 'tệ', 'gớm', 'chán', 'nóng', 'lỗi', 'khó chịu', 'kì', 'cứng', 'thấy ghê', 'hơi', 'mắc', 'đắt', 'không đúng', 'ko đúng', 'vớ vẩn', 'ni lông', 'nilon', 'không thích', 'ko thích', 'ko ưng', 'phải chi', 'thô']\n",
    "\n",
    "def calculate_satisfaction_score(review):\n",
    "    score = 0\n",
    "    for word in review:\n",
    "        if word in positive_words:\n",
    "            score += 1 \n",
    "        elif word in negative_words:\n",
    "            score -= 1 \n",
    "\n",
    "    bigrams = ngrams(review, 2)\n",
    "    for bigram in bigrams:\n",
    "        bigram_str = ' '.join(bigram)\n",
    "        if bigram_str in positive_words:\n",
    "            score += 1 \n",
    "        elif bigram_str in negative_words:\n",
    "            score -= 1 \n",
    "\n",
    "    return score\n",
    "\n",
    "satisfaction_scores = [calculate_satisfaction_score(fb) for fb in feedbacks]\n",
    "df_Tiki_feedback['SentScore'] = satisfaction_scores"
   ]
  },
  {
   "cell_type": "code",
   "execution_count": null,
   "id": "9c7eb0fa-a3c1-4b47-aa31-ed1f05d04bc3",
   "metadata": {},
   "outputs": [],
   "source": [
    "df_Tiki_feedback[['Content', 'SentScore']]"
   ]
  },
  {
   "cell_type": "code",
   "execution_count": null,
   "id": "4c799b00-ab5f-404a-89a8-c34d567d4baf",
   "metadata": {
    "scrolled": true
   },
   "outputs": [],
   "source": [
    "def get_review_vector(review):\n",
    "    words = review\n",
    "    vectors = [model.wv[word] for word in words if word in model.wv]\n",
    "    return np.mean(vectors, axis=0) if vectors else np.zeros(model.vector_size)"
   ]
  },
  {
   "cell_type": "code",
   "execution_count": null,
   "id": "019c1caf-a2b2-4fc6-96c3-ce70ae101211",
   "metadata": {},
   "outputs": [],
   "source": [
    "def classify_score(score):\n",
    "    if score < 0:\n",
    "        return 0\n",
    "    elif score == 0:\n",
    "        return 1\n",
    "    else:\n",
    "        return 2"
   ]
  },
  {
   "cell_type": "code",
   "execution_count": null,
   "id": "9e0e782e-85a3-437b-8f1d-630a71b59127",
   "metadata": {},
   "outputs": [],
   "source": [
    "labels = df_Tiki_feedback['SentScore'].apply(classify_score)"
   ]
  },
  {
   "cell_type": "code",
   "execution_count": null,
   "id": "95b47edc-30c0-44e1-a4a5-bab9a520bb16",
   "metadata": {},
   "outputs": [],
   "source": [
    "df_Tiki_feedback['Label'] = labels"
   ]
  },
  {
   "cell_type": "code",
   "execution_count": null,
   "id": "e77ec45c-ff41-4c9b-b0fc-941fcd7457b8",
   "metadata": {},
   "outputs": [],
   "source": [
    "df_Tiki_feedback['Label'].value_counts()"
   ]
  },
  {
   "cell_type": "code",
   "execution_count": null,
   "id": "541dc6e7-d0cc-4ef7-a95a-96715cc4b30d",
   "metadata": {},
   "outputs": [],
   "source": [
    "df_Tiki_feedback['Label'].value_counts().plot(kind='bar', color='skyblue')\n",
    "plt.title('Số lượng đánh giá theo mức độ hài lòng')\n",
    "plt.xlabel('Mức độ hài lòng')\n",
    "plt.ylabel('Số lượng đánh giá')\n",
    "plt.xticks(ticks=[0, 1, 2], labels=['Tiêu cực', 'Trung tính', 'Tích cực'], rotation=0)\n",
    "plt.show()"
   ]
  },
  {
   "cell_type": "markdown",
   "id": "16a65485-21c6-4b80-b7fa-f4d65fc0c2aa",
   "metadata": {},
   "source": [
    "Run this cell if the computer hasn't installed the wordcloud library yet"
   ]
  },
  {
   "cell_type": "code",
   "execution_count": null,
   "id": "58f785a9-1f20-43ea-a6d4-dc3fd324a89e",
   "metadata": {},
   "outputs": [],
   "source": [
    "# !pip install wordcloud"
   ]
  },
  {
   "cell_type": "code",
   "execution_count": null,
   "id": "8f6df642-6a21-4c91-867d-28ddc3487950",
   "metadata": {},
   "outputs": [],
   "source": [
    "from wordcloud import WordCloud\n",
    "\n",
    "positive_comments = ' '.join(df_Tiki_feedback[df_Tiki_feedback['Label'] == 2]['Content'])\n",
    "neutral_comments = ' '.join(df_Tiki_feedback[df_Tiki_feedback['Label'] == 1]['Content'])\n",
    "negative_comments = ' '.join(df_Tiki_feedback[df_Tiki_feedback['Label'] == 0]['Content'])\n",
    "\n",
    "wordcloud = WordCloud(width=800, height=400, background_color='white').generate(positive_comments)\n",
    "plt.figure(figsize=(10, 5))\n",
    "plt.imshow(wordcloud, interpolation='bilinear')\n",
    "plt.axis('off')\n",
    "plt.title('Word Cloud cho Đánh Giá Tích Cực')\n",
    "plt.show()"
   ]
  },
  {
   "cell_type": "code",
   "execution_count": null,
   "id": "be4e7fe6-954e-41fd-a393-5353e7dbcf41",
   "metadata": {},
   "outputs": [],
   "source": [
    "from wordcloud import WordCloud\n",
    "\n",
    "positive_comments = ' '.join(df_Tiki_feedback[df_Tiki_feedback['Label'] == 2]['Content'])\n",
    "neutral_comments = ' '.join(df_Tiki_feedback[df_Tiki_feedback['Label'] == 1]['Content'])\n",
    "negative_comments = ' '.join(df_Tiki_feedback[df_Tiki_feedback['Label'] == 0]['Content'])\n",
    "\n",
    "wordcloud = WordCloud(width=800, height=400, background_color='white').generate(negative_comments)\n",
    "plt.figure(figsize=(10, 5))\n",
    "plt.imshow(wordcloud, interpolation='bilinear')\n",
    "plt.axis('off')\n",
    "plt.title('Word Cloud cho Đánh Giá Tiêu Cực')\n",
    "plt.show()"
   ]
  },
  {
   "cell_type": "code",
   "execution_count": null,
   "id": "a182ea2a-9b4d-4f96-bb71-dc36d05d83b9",
   "metadata": {},
   "outputs": [],
   "source": [
    "df_Tiki_feedback['Length'] = df_Tiki_feedback['Content'].str.split().str.len()\n",
    "mean_length = df_Tiki_feedback.groupby('Label')['Length'].mean()\n",
    "\n",
    "colors = ['#FF6F61', '#FFCC6A', '#6D9DC5']\n",
    "mean_length.plot(kind='bar', color=colors)\n",
    "\n",
    "plt.title('Độ dài trung bình của đánh giá theo mức độ hài lòng')\n",
    "plt.xlabel('Mức độ hài lòng')\n",
    "plt.ylabel('Độ dài trung bình')\n",
    "plt.xticks(ticks=[0, 1, 2], labels=['Tiêu cực', 'Trung tính', 'Tích cực'], rotation=0)\n",
    "plt.show()"
   ]
  },
  {
   "cell_type": "code",
   "execution_count": null,
   "id": "f1a5a55e-18ff-42fb-9589-925da150c009",
   "metadata": {},
   "outputs": [],
   "source": [
    "df_Tiki_feedback['Length'].mean()"
   ]
  },
  {
   "cell_type": "code",
   "execution_count": null,
   "id": "c8deca3d-1f88-4502-953b-69e45e1417d7",
   "metadata": {},
   "outputs": [],
   "source": [
    "mean_length"
   ]
  },
  {
   "cell_type": "code",
   "execution_count": null,
   "id": "bdbf53e3-365c-4992-9d33-e26dcbdad635",
   "metadata": {},
   "outputs": [],
   "source": [
    "df_merged = pd.merge(df_Tiki_feedback, df_Tiki_product, left_on='Product_Url', right_on='Url')"
   ]
  },
  {
   "cell_type": "code",
   "execution_count": null,
   "id": "1d6a1063-a0ee-4729-abe3-11f0d0afb475",
   "metadata": {},
   "outputs": [],
   "source": [
    "df_merged['Category'].value_counts()"
   ]
  },
  {
   "cell_type": "code",
   "execution_count": null,
   "id": "a896d376-3805-43ef-a898-5e2fd286adde",
   "metadata": {},
   "outputs": [],
   "source": [
    "label_counts = df_merged['Label'].value_counts()\n",
    "\n",
    "plt.figure(figsize=(8, 8))\n",
    "wedges, texts, autotexts = plt.pie(label_counts, autopct='%1.1f%%', startangle=90, colors=plt.cm.Pastel1.colors)\n",
    "\n",
    "labels = ['Tích cực (2)', 'Trung tính (1)', 'Tiêu cực (0)']\n",
    "plt.legend(wedges, labels, title=\"Mức độ hài lòng\", loc=\"center left\", bbox_to_anchor=(1, 0, 0.5, 1))\n",
    "\n",
    "plt.title('Phân bố mức độ hài lòng của khách hàng (%)')\n",
    "plt.axis('equal')\n",
    "plt.show()"
   ]
  },
  {
   "cell_type": "code",
   "execution_count": null,
   "id": "c685fbd5-5ddd-4b4a-a329-9563ce01d9b7",
   "metadata": {},
   "outputs": [],
   "source": [
    "df_merged['Label'].value_counts()"
   ]
  },
  {
   "cell_type": "code",
   "execution_count": null,
   "id": "d3e4f9d8-20f4-4b8e-ace0-75a7791d042a",
   "metadata": {},
   "outputs": [],
   "source": [
    "category_feedback = df_merged.groupby('Category')['Label'].mean().reset_index()\n",
    "category_feedback.columns = ['Category', 'Average Satisfaction']\n",
    "\n",
    "pastel_colors = ['#FFB3BA', '#FFDFBA', '#BAFFC9', '#BAE1FF', '#FFC3A0', '#FF677D']\n",
    "category_feedback.plot(kind='bar', x='Category', y='Average Satisfaction', color=pastel_colors[:len(category_feedback)])\n",
    "plt.title('Mức độ hài lòng trung bình theo loại sản phẩm')\n",
    "plt.xlabel('Loại sản phẩm')\n",
    "plt.ylabel('Mức độ hài lòng trung bình')\n",
    "plt.xticks(rotation=45)\n",
    "plt.show()"
   ]
  },
  {
   "cell_type": "code",
   "execution_count": null,
   "id": "7dd17625-f306-4370-b711-1126f5f64849",
   "metadata": {},
   "outputs": [],
   "source": [
    "df_merged.groupby('Category')['Label'].mean()"
   ]
  },
  {
   "cell_type": "code",
   "execution_count": null,
   "id": "b15ec8f0-f0d5-4070-851a-aa2798eac6d2",
   "metadata": {},
   "outputs": [],
   "source": [
    "product_satisfaction = df_merged.groupby('Product_Object')['Label'].mean().reset_index()\n",
    "product_satisfaction.columns = ['Product_Object', 'Average_Satisfaction']\n",
    "\n",
    "pastel_colors = ['#FFB3BA', '#FFDFBA', '#BAFFC9', '#BAE1FF', '#FF677D', '#FFC3A0']\n",
    "product_satisfaction.plot(kind='bar', x='Product_Object', y='Average_Satisfaction', color=pastel_colors[:len(product_satisfaction)])\n",
    "plt.title('Mức độ hài lòng trung bình của từng đối tượng sản phẩm')\n",
    "plt.xlabel('Đối tượng khách hàng')\n",
    "plt.ylabel('Mức độ hài lòng trung bình')\n",
    "plt.xticks(ticks=[0, 1, 2], labels=['Đối tượng 1', 'Đối tượng 2', 'Đối tượng 3'], rotation=0)\n",
    "plt.show()"
   ]
  },
  {
   "cell_type": "code",
   "execution_count": null,
   "id": "fb663d9f-d5fb-47c2-a8b0-eca30cf521f1",
   "metadata": {},
   "outputs": [],
   "source": [
    "df_merged['Label'].mean()"
   ]
  },
  {
   "cell_type": "code",
   "execution_count": null,
   "id": "c03800af-587b-4419-9f92-f1889062d76a",
   "metadata": {},
   "outputs": [],
   "source": [
    "product_satisfaction"
   ]
  },
  {
   "cell_type": "code",
   "execution_count": null,
   "id": "a78ef1da-a1af-4984-afe3-3ffda592ed5e",
   "metadata": {},
   "outputs": [],
   "source": [
    "label_distribution = df_merged.groupby(['Product_Object', 'Label']).size().unstack().fillna(0)\n",
    "\n",
    "labels = ['Tiêu cực', 'Trung tính', 'Tích cực']\n",
    "colors = ['#FFB3BA', '#FFDFBA', '#BAFFC9']\n",
    "\n",
    "fig, axes = plt.subplots(1, 3, figsize=(18, 6))\n",
    "\n",
    "for i, Product_Object in enumerate(label_distribution.index):\n",
    "    axes[i].pie(label_distribution.loc[Product_Object], \n",
    "                labels=labels, \n",
    "                autopct='%1.1f%%', \n",
    "                startangle=90, \n",
    "                colors=colors)\n",
    "    axes[i].set_title(f'Đối tượng {Product_Object}')\n",
    "\n",
    "plt.suptitle('Phân bố mức độ hài lòng của từng đối tượng sản phẩm')\n",
    "plt.tight_layout()\n",
    "plt.show()"
   ]
  },
  {
   "cell_type": "code",
   "execution_count": null,
   "id": "1844a14a-6a76-4c86-a441-700b72612e7b",
   "metadata": {},
   "outputs": [],
   "source": [
    "label_distribution"
   ]
  },
  {
   "cell_type": "code",
   "execution_count": null,
   "id": "6a755db6-67d3-4928-a31e-9c6abe02126a",
   "metadata": {},
   "outputs": [],
   "source": [
    "len(df_merged[df_merged['Product_Object'] == 1])"
   ]
  },
  {
   "cell_type": "code",
   "execution_count": null,
   "id": "4867119d-5d99-42fc-b3d6-1a5d46d3046f",
   "metadata": {},
   "outputs": [],
   "source": [
    "len(df_merged[df_merged['Product_Object'] == 2])"
   ]
  },
  {
   "cell_type": "code",
   "execution_count": null,
   "id": "f7a22ec8-1d7d-4b48-ac9d-c96c28eb9e50",
   "metadata": {},
   "outputs": [],
   "source": [
    "len(df_merged[df_merged['Product_Object'] == 3])"
   ]
  },
  {
   "cell_type": "code",
   "execution_count": null,
   "id": "1a31e6ae-975e-4b6c-97bf-bcf71b76dd76",
   "metadata": {},
   "outputs": [],
   "source": [
    "df_Tiki_feedback"
   ]
  },
  {
   "cell_type": "code",
   "execution_count": null,
   "id": "3877acbb-6e8d-4e04-8452-e941f8be902b",
   "metadata": {},
   "outputs": [],
   "source": [
    "df_Tiki_feedback.to_csv('cleaned_tiki_feedbacks.csv', index=False)"
   ]
  },
  {
   "cell_type": "markdown",
   "id": "69fc6165-421c-41f6-b4fe-71b68f958aeb",
   "metadata": {},
   "source": [
    "# Analysis comprehensive overview based on the whole 2 datasets"
   ]
  },
  {
   "cell_type": "code",
   "execution_count": null,
   "id": "bc9cac7c-34a1-4f3a-acb7-846043536cda",
   "metadata": {},
   "outputs": [],
   "source": [
    "df_Laz_product = pd.read_csv('cleaned_lazada_products.csv')\n",
    "df_Laz_feedback = pd.read_csv('cleaned_lazada_feedbacks.csv')\n",
    "df_Tiki_product = pd.read_csv('cleaned_tiki_products.csv')\n",
    "df_Tiki_feedback = pd.read_csv('cleaned_tiki_feedbacks.csv')"
   ]
  },
  {
   "cell_type": "code",
   "execution_count": null,
   "id": "c059247a-4e61-4e67-938c-fd96d10b3635",
   "metadata": {},
   "outputs": [],
   "source": [
    "df_Laz_product"
   ]
  },
  {
   "cell_type": "code",
   "execution_count": null,
   "id": "b6159e32-59de-4a70-a09b-99df610d1be5",
   "metadata": {},
   "outputs": [],
   "source": [
    "df_Laz_feedback"
   ]
  },
  {
   "cell_type": "code",
   "execution_count": null,
   "id": "3142cd76-15f8-42c1-ba3a-50143552eff7",
   "metadata": {},
   "outputs": [],
   "source": [
    "df_Tiki_product"
   ]
  },
  {
   "cell_type": "code",
   "execution_count": null,
   "id": "e3278e18-67c4-469c-9f5a-4d680d5980ae",
   "metadata": {},
   "outputs": [],
   "source": [
    "df_Tiki_feedback"
   ]
  },
  {
   "cell_type": "code",
   "execution_count": null,
   "id": "5899b669-b2b3-4499-9dfe-461a914db3c1",
   "metadata": {},
   "outputs": [],
   "source": [
    "df_Laz_product['Platform'] = 'Lazada'\n",
    "df_Tiki_product['Platform'] = 'Tiki'\n",
    "df_product = pd.concat([df_Laz_product, df_Tiki_product])"
   ]
  },
  {
   "cell_type": "code",
   "execution_count": null,
   "id": "7ad43b25-9f3a-4388-a5be-60e60c2ceeaf",
   "metadata": {},
   "outputs": [],
   "source": [
    "df_Laz_feedback['Platform'] = 'Lazada'\n",
    "df_Tiki_feedback['Platform'] = 'Tiki'\n",
    "df_feedback = pd.concat([df_Laz_feedback, df_Tiki_feedback])"
   ]
  },
  {
   "cell_type": "code",
   "execution_count": null,
   "id": "5d00b402-1541-4149-b031-5422a710538f",
   "metadata": {},
   "outputs": [],
   "source": [
    "df_feedback"
   ]
  },
  {
   "cell_type": "code",
   "execution_count": null,
   "id": "c86c749c-0eb3-428c-9e79-0e7e5bc54a7f",
   "metadata": {},
   "outputs": [],
   "source": [
    "df_product"
   ]
  },
  {
   "cell_type": "code",
   "execution_count": null,
   "id": "90648f74-d024-41fd-a944-88edd8ad8d0f",
   "metadata": {},
   "outputs": [],
   "source": [
    "plt.figure(figsize=(10, 6))\n",
    "colors = {'Lazada': '#A3C1F0', 'Tiki': '#F7B799'}\n",
    "sns.boxplot(x='Platform', y='Sold', data=df_product, palette=colors)\n",
    "plt.title('Phân phối số lượng bán giữa Lazada và Tiki')\n",
    "plt.ylabel('Số lượng bán')\n",
    "plt.show()"
   ]
  },
  {
   "cell_type": "code",
   "execution_count": null,
   "id": "2781b06d-9673-4399-b736-50460ddedb3d",
   "metadata": {},
   "outputs": [],
   "source": [
    "plt.figure(figsize=(10, 6))\n",
    "colors = {'Lazada': '#A3C1F0', 'Tiki': '#F7B799'}\n",
    "sns.boxplot(x='Platform', y='Price', data=df_product, palette=colors)\n",
    "plt.title('Phân phối giá sản phẩm giữa Lazada và Tiki')\n",
    "plt.ylabel('Giá sản phẩm (VNĐ)')\n",
    "plt.show()"
   ]
  },
  {
   "cell_type": "code",
   "execution_count": null,
   "id": "ff60036d-bb7e-4577-8e55-bce956ef1d59",
   "metadata": {},
   "outputs": [],
   "source": [
    "avg_label = df_feedback.groupby('Platform')['Label'].mean().reset_index()\n",
    "\n",
    "plt.figure(figsize=(8, 5))\n",
    "colors = {'Lazada': '#A3C1F0', 'Tiki': '#F7B799'}\n",
    "sns.barplot(x='Platform', y='Label', data=avg_label, palette=colors)\n",
    "plt.title('Mức độ hài lòng trung bình giữa Lazada và Tiki')\n",
    "plt.ylabel('SentScore trung bình')\n",
    "plt.show()"
   ]
  },
  {
   "cell_type": "code",
   "execution_count": null,
   "id": "a12c6e60-4044-41ae-99c7-d19581b0b555",
   "metadata": {},
   "outputs": [],
   "source": [
    "avg_label"
   ]
  },
  {
   "cell_type": "code",
   "execution_count": null,
   "id": "3809abd0-0360-46e1-824d-621539e74720",
   "metadata": {},
   "outputs": [],
   "source": [
    "df_feedback['Label'].mean()"
   ]
  },
  {
   "cell_type": "code",
   "execution_count": null,
   "id": "0c6e28dd-6293-47af-831a-94feacac1812",
   "metadata": {},
   "outputs": [],
   "source": [
    "plt.figure(figsize=(10, 6))\n",
    "colors = {'Lazada': '#A3C1F0', 'Tiki': '#F7B799'}\n",
    "sns.countplot(x='Label', hue='Platform', data=df_feedback, palette=colors)\n",
    "plt.title('Phân phối mức độ hài lòng (Label) giữa Lazada và Tiki')\n",
    "plt.xlabel('Label (0: Tiêu cực, 1: Trung tính, 2: Tích cực)')\n",
    "plt.ylabel('Số lượng đánh giá')\n",
    "plt.show()"
   ]
  },
  {
   "cell_type": "code",
   "execution_count": null,
   "id": "f6f847eb-fb07-4061-a421-b92588465006",
   "metadata": {},
   "outputs": [],
   "source": [
    "plt.figure(figsize=(10, 6))\n",
    "colors = {'Lazada': '#A3C1F0', 'Tiki': '#F7B799'}\n",
    "sns.scatterplot(x='Price', y='Sold', hue='Platform_y', data=df_product.merge(df_feedback, left_on='Url', right_on='Product_Url'), palette=colors)\n",
    "plt.title('Mối quan hệ giữa số lượng bán và giá sản phẩm')\n",
    "plt.xlabel('Giá sản phẩm')\n",
    "plt.ylabel('Số lượng bán')\n",
    "plt.show()"
   ]
  },
  {
   "cell_type": "code",
   "execution_count": null,
   "id": "dc9fdb06-30c1-4e87-88b6-31ce25215be0",
   "metadata": {},
   "outputs": [],
   "source": [
    "plt.figure(figsize=(10, 6))\n",
    "colors = {'Lazada': '#A3C1F0', 'Tiki': '#F7B799'}\n",
    "sns.scatterplot(x='Sold', y='SentScore', hue='Platform_y', data=df_product.merge(df_feedback, left_on='Url', right_on='Product_Url'), palette=colors)\n",
    "plt.title('Mối quan hệ giữa số lượng bán và điểm đánh giá')\n",
    "plt.xlabel('Số lượng bán')\n",
    "plt.ylabel('SentScore')\n",
    "plt.show()"
   ]
  },
  {
   "cell_type": "code",
   "execution_count": null,
   "id": "5054dbbe-a490-44e7-a2a8-81da4101f385",
   "metadata": {},
   "outputs": [],
   "source": [
    "plt.figure(figsize=(10, 6))\n",
    "colors = {'Lazada': '#A3C1F0', 'Tiki': '#F7B799'}\n",
    "sns.scatterplot(x='Length', y='SentScore', hue='Platform', data=df_feedback, palette=colors)\n",
    "plt.title('Mối quan hệ giữa độ dài đánh giá và điểm SentScore')\n",
    "plt.xlabel('Độ dài đánh giá (Length)')\n",
    "plt.ylabel('SentScore')\n",
    "plt.show()"
   ]
  },
  {
   "cell_type": "code",
   "execution_count": null,
   "id": "8c3f927a-c70c-4c0b-9afb-7cb1691bf46e",
   "metadata": {},
   "outputs": [],
   "source": [
    "from scipy.stats import skew\n",
    "\n",
    "skewness_lazada = skew(df_Laz_feedback['SentScore'])\n",
    "skewness_tiki = skew(df_Tiki_feedback['SentScore'])\n",
    "\n",
    "plt.figure(figsize=(10, 6))\n",
    "sns.kdeplot(df_Laz_feedback['SentScore'], label=f'Lazada (Skewness: {skewness_lazada:.2f})', shade=True, color='blue')\n",
    "sns.kdeplot(df_Tiki_feedback['SentScore'], label=f'Tiki (Skewness: {skewness_tiki:.2f})', shade=True, color='orange')\n",
    "plt.title('Phân phối SentScore giữa Lazada và Tiki')\n",
    "plt.xlabel('SentScore')\n",
    "plt.ylabel('Mật độ')\n",
    "plt.legend()\n",
    "plt.show()"
   ]
  },
  {
   "cell_type": "code",
   "execution_count": null,
   "id": "08421805-c541-4696-b35a-32f4dd010ff5",
   "metadata": {},
   "outputs": [],
   "source": [
    "skewness_lazada"
   ]
  },
  {
   "cell_type": "code",
   "execution_count": null,
   "id": "647c4ad1-424a-41c1-86f8-2bc6a7512bd5",
   "metadata": {},
   "outputs": [],
   "source": [
    "skewness_tiki"
   ]
  },
  {
   "cell_type": "code",
   "execution_count": null,
   "id": "56988f2d-e0de-4699-a58c-496daba4394e",
   "metadata": {},
   "outputs": [],
   "source": [
    "df_merged = df_product.merge(df_feedback, left_on='Url', right_on='Product_Url', how='inner')"
   ]
  },
  {
   "cell_type": "code",
   "execution_count": null,
   "id": "f533d2f7-4fa8-4f34-8378-b6d908d6672b",
   "metadata": {},
   "outputs": [],
   "source": [
    "df_merged = df_merged.drop(columns=['Url', 'Product_Url', 'Product_Object', 'Platform_x'], errors='ignore')"
   ]
  },
  {
   "cell_type": "code",
   "execution_count": null,
   "id": "dcf828f1-7627-4831-b102-375dbad73cb8",
   "metadata": {
    "scrolled": true
   },
   "outputs": [],
   "source": [
    "df_merged"
   ]
  },
  {
   "cell_type": "code",
   "execution_count": null,
   "id": "a584741b-2b4b-44a8-b6f0-830262f1710e",
   "metadata": {},
   "outputs": [],
   "source": [
    "from sklearn.cluster import KMeans\n",
    "from sklearn.preprocessing import StandardScaler\n",
    "\n",
    "df_kmeans = df_merged[['Price', 'Sold']].copy(deep = True)\n",
    "X = df_kmeans\n",
    "scaler = StandardScaler()\n",
    "X_scaled = scaler.fit_transform(X)\n",
    "\n",
    "kmeans = KMeans(n_clusters=2, random_state=42)\n",
    "df_kmeans['Cluster'] = kmeans.fit_predict(X_scaled)\n",
    "\n",
    "plt.figure(figsize=(10, 6))\n",
    "plt.scatter(df_kmeans['Price'], df_kmeans['Sold'], c=df_kmeans['Cluster'], cmap='viridis', alpha=0.6, s=100)\n",
    "plt.title('Phân cụm KMeans dựa trên Giá và Số lượng bán')\n",
    "plt.xlabel('Giá tiền')\n",
    "plt.ylabel('Số lượng bán')\n",
    "plt.colorbar(label='Cluster')\n",
    "plt.show()"
   ]
  },
  {
   "cell_type": "code",
   "execution_count": null,
   "id": "dc19b1de-2539-482c-b5f8-d90549332905",
   "metadata": {},
   "outputs": [],
   "source": [
    "df_kmeans[df_kmeans['Cluster'] == 1].describe()"
   ]
  },
  {
   "cell_type": "code",
   "execution_count": null,
   "id": "66d5faa4-fa85-4ecd-a835-267815833416",
   "metadata": {},
   "outputs": [],
   "source": [
    "df_kmeans[df_kmeans['Cluster'] == 0].describe()"
   ]
  },
  {
   "cell_type": "code",
   "execution_count": null,
   "id": "67b1f167-37a9-4a18-acd2-0442741414ab",
   "metadata": {},
   "outputs": [],
   "source": [
    "import re\n",
    "def text_preprocess(text):\n",
    "    text = text.lower()\n",
    "    text = re.sub(r'([:,./?:#()])', r' ', text)\n",
    "    text = re.sub(r'[^\\w\\s]', ' ', text)\n",
    "    text = re.sub(r'\\s+', ' ', text).strip()\n",
    "    return text"
   ]
  },
  {
   "cell_type": "code",
   "execution_count": null,
   "id": "d1997cd3-dcef-4694-8030-447076e65834",
   "metadata": {},
   "outputs": [],
   "source": [
    "df_feedback['Content'] = [text_preprocess(fb) for fb in df_feedback['Content']]"
   ]
  },
  {
   "cell_type": "code",
   "execution_count": null,
   "id": "4f6e95b5-ff4a-47f1-a673-9ecdb4c41aaa",
   "metadata": {},
   "outputs": [],
   "source": [
    "df_feedback['Content']"
   ]
  },
  {
   "cell_type": "code",
   "execution_count": null,
   "id": "d62674bf-eea4-445c-8ae6-191e55a304f3",
   "metadata": {},
   "outputs": [],
   "source": [
    "from collections import Counter\n",
    "\n",
    "word_counts = Counter(df_feedback['Content'].str.split(expand=True).stack())\n",
    "print(word_counts.most_common(10))"
   ]
  },
  {
   "cell_type": "code",
   "execution_count": null,
   "id": "6c5513bb-dd4d-4e00-a46c-3cbb153500ea",
   "metadata": {},
   "outputs": [],
   "source": [
    "word_counts_df = pd.DataFrame(word_counts.most_common(10), columns=['Word', 'Frequency'])\n",
    "\n",
    "sns.set_style(\"white\")\n",
    "sns.barplot(x='Word', y='Frequency', data=word_counts_df, palette='pastel')\n",
    "plt.xticks(rotation=45)\n",
    "plt.show()"
   ]
  },
  {
   "cell_type": "code",
   "execution_count": null,
   "id": "e36a4f5d-9af5-444b-aedc-b6753ec6f30e",
   "metadata": {},
   "outputs": [],
   "source": [
    "from sklearn.feature_extraction.text import TfidfVectorizer\n",
    "\n",
    "vectorizer = TfidfVectorizer(ngram_range=(1, 2))\n",
    "X = vectorizer.fit_transform(df_feedback['Content'])"
   ]
  },
  {
   "cell_type": "code",
   "execution_count": null,
   "id": "0b9afeae-9ddc-455c-a4e3-ad05f639713e",
   "metadata": {},
   "outputs": [],
   "source": [
    "from sklearn.metrics.pairwise import cosine_similarity\n",
    "\n",
    "cosine_similarities = cosine_similarity(X[0], X).flatten()\n",
    "top_indices = cosine_similarities.argsort()[-5:][::-1]\n",
    "\n",
    "for i in top_indices:\n",
    "    print(df_feedback['Content'][i])"
   ]
  },
  {
   "cell_type": "code",
   "execution_count": null,
   "id": "46bd0a72-6751-44b8-a44f-f81d1705fb8b",
   "metadata": {},
   "outputs": [],
   "source": [
    "df_product['Name'] = [text_preprocess(fb) for fb in df_product['Name']]"
   ]
  },
  {
   "cell_type": "code",
   "execution_count": null,
   "id": "cc1d82d0-4c1e-49a1-816d-099126b50120",
   "metadata": {},
   "outputs": [],
   "source": [
    "from sklearn.feature_extraction.text import TfidfVectorizer\n",
    "\n",
    "vectorizer = TfidfVectorizer(ngram_range=(1, 2))\n",
    "X = vectorizer.fit_transform(df_product['Name'])"
   ]
  },
  {
   "cell_type": "code",
   "execution_count": null,
   "id": "9ebcdb05-75cd-4cc3-99bc-748a1ceb0905",
   "metadata": {},
   "outputs": [],
   "source": [
    "from sklearn.metrics.pairwise import cosine_similarity\n",
    "\n",
    "cosine_similarities = cosine_similarity(X[0], X).flatten()\n",
    "top_indices = cosine_similarities.argsort()[-5:][::-1]\n",
    "\n",
    "for i in top_indices:\n",
    "    print(df_product['Name'][i])"
   ]
  },
  {
   "cell_type": "code",
   "execution_count": null,
   "id": "717f01c4-838b-43ef-a84d-cd9188a577cf",
   "metadata": {},
   "outputs": [],
   "source": [
    "top_indices"
   ]
  },
  {
   "cell_type": "code",
   "execution_count": null,
   "id": "b97ba64d-d78d-450b-ba64-7f966eaddef7",
   "metadata": {},
   "outputs": [],
   "source": [
    "from wordcloud import WordCloud\n",
    "\n",
    "text = \" \".join(df_feedback['Content'])\n",
    "wordcloud = WordCloud(width=1200, height=800, background_color='white', colormap='twilight_shifted').generate(text)\n",
    "plt.imshow(wordcloud, interpolation='bilinear')\n",
    "plt.axis(\"off\")\n",
    "plt.show()"
   ]
  },
  {
   "cell_type": "code",
   "execution_count": null,
   "id": "53ae1601-072b-47dc-93ff-ad060443bed7",
   "metadata": {},
   "outputs": [],
   "source": []
  }
 ],
 "metadata": {
  "kernelspec": {
   "display_name": "Python 3 (ipykernel)",
   "language": "python",
   "name": "python3"
  },
  "language_info": {
   "codemirror_mode": {
    "name": "ipython",
    "version": 3
   },
   "file_extension": ".py",
   "mimetype": "text/x-python",
   "name": "python",
   "nbconvert_exporter": "python",
   "pygments_lexer": "ipython3",
   "version": "3.12.4"
  }
 },
 "nbformat": 4,
 "nbformat_minor": 5
}
