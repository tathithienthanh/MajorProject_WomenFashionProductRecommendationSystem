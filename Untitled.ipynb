{
 "cells": [
  {
   "cell_type": "code",
   "execution_count": 3,
   "id": "31400f32-1d5f-4dd2-997f-c2daa68a98a8",
   "metadata": {},
   "outputs": [],
   "source": [
    "import numpy as np\n",
    "import pandas as pd\n",
    "import matplotlib.pyplot as plt\n",
    "import seaborn as sns"
   ]
  },
  {
   "cell_type": "markdown",
   "id": "cd7cb537-d945-443c-ab22-e1741ad04abe",
   "metadata": {},
   "source": [
    "Run this cell if the computer hasn't installed the pymssql library yet"
   ]
  },
  {
   "cell_type": "code",
   "execution_count": null,
   "id": "cb6910a4-a83d-4e26-82e0-0c87b2fe7700",
   "metadata": {},
   "outputs": [],
   "source": [
    "# !pip install pymssql"
   ]
  },
  {
   "cell_type": "code",
   "execution_count": null,
   "id": "4cb94c00-8296-4e2d-b852-ac379b3bd243",
   "metadata": {},
   "outputs": [],
   "source": [
    "import pymssql\n",
    "\n",
    "conn = pymssql.connect(\n",
    "    server='THANH', \n",
    "    user='',\n",
    "    password='',\n",
    "    database='E_Market'\n",
    ")\n",
    "cursor = conn.cursor()"
   ]
  },
  {
   "cell_type": "code",
   "execution_count": null,
   "id": "56816bcf-aae6-4bf9-bfeb-59e317af5584",
   "metadata": {},
   "outputs": [],
   "source": [
    "cursor.execute('''\n",
    "    IF OBJECT_ID('Users', 'U') IS NULL\n",
    "    CREATE TABLE Users (\n",
    "        id INTEGER PRIMARY KEY,\n",
    "        name VARCHAR(255),\n",
    "        follower INTEGER\n",
    "    );\n",
    "\n",
    "    IF OBJECT_ID('Products', 'U') IS NULL\n",
    "    CREATE TABLE Products (\n",
    "        id INTEGER PRIMARY KEY,\n",
    "        name NVARCHAR(255),\n",
    "        id_shop INTEGER,\n",
    "        price FLOAT,\n",
    "        FOREIGN KEY (id_shop) REFERENCES Users(id)\n",
    "    );\n",
    "\n",
    "    IF OBJECT_ID('Feedbacks', 'U') IS NULL\n",
    "    CREATE TABLE Feedbacks (\n",
    "        id INTEGER PRIMARY KEY,\n",
    "        id_product INTEGER,\n",
    "        rate INTEGER,\n",
    "        content VARCHAR(255),\n",
    "        FOREIGN KEY (id_product) REFERENCES Products(id)\n",
    "    );\n",
    "''')\n",
    "\n",
    "conn.commit()"
   ]
  },
  {
   "cell_type": "markdown",
   "id": "682fd1f6-080b-4659-afdd-171d1d8201ad",
   "metadata": {},
   "source": [
    "# Setup Selenium and Web Driver"
   ]
  },
  {
   "cell_type": "markdown",
   "id": "29edec24-4e80-405a-9da3-ebe7a37b3d2f",
   "metadata": {},
   "source": [
    "Run this cell if the computer hasn't installed the selenium and webdriver-manager libraries yet"
   ]
  },
  {
   "cell_type": "code",
   "execution_count": null,
   "id": "4548699c-ff7c-40fa-9c7d-bd8000885626",
   "metadata": {},
   "outputs": [],
   "source": [
    "# !pip install selenium\n",
    "# !pip install webdriver-manager"
   ]
  },
  {
   "cell_type": "code",
   "execution_count": 51,
   "id": "62d8bd07-19d0-4955-87fd-50fd166e11fe",
   "metadata": {},
   "outputs": [],
   "source": [
    "from selenium import webdriver\n",
    "from selenium.webdriver.common.by import By\n",
    "from selenium.webdriver.chrome.service import Service\n",
    "from webdriver_manager.chrome import ChromeDriverManager\n",
    "from selenium.common.exceptions import NoSuchElementException\n",
    "import time\n",
    "\n",
    "service = Service(ChromeDriverManager().install())\n",
    "driver = webdriver.Chrome(service=service)"
   ]
  },
  {
   "cell_type": "markdown",
   "id": "fe3f38d0-02cc-4d58-bd1b-586d14696572",
   "metadata": {},
   "source": [
    "# Scrape Data from Websites"
   ]
  },
  {
   "cell_type": "markdown",
   "id": "c72b2000-586a-4429-adce-7f596aa2b4b2",
   "metadata": {},
   "source": [
    "## Lazada website"
   ]
  },
  {
   "cell_type": "code",
   "execution_count": null,
   "id": "c96ada92-0e17-48b5-9aef-09c7ccf7efc7",
   "metadata": {},
   "outputs": [],
   "source": [
    "# df_Laz_product = pd.DataFrame(columns = ['Url', 'Name', 'Price', 'Shop_url'])\n",
    "df_Laz_product = pd.DataFrame(columns = ['Url', 'Name', 'Price', 'Voucher', 'Sold', 'NumRate'])\n",
    "df_Laz_shop = pd.DataFrame(columns = ['Url', 'Name', 'Followers'])\n",
    "df_Laz_feedback = pd.DataFrame(columns = ['Product_Url', ''])"
   ]
  },
  {
   "cell_type": "code",
   "execution_count": null,
   "id": "11b43f00-75c4-4eb2-a896-d8a82e51afb0",
   "metadata": {
    "scrolled": true
   },
   "outputs": [],
   "source": [
    "url = 'https://www.lazada.vn/#?'\n",
    "driver.get(url)\n",
    "search_box = driver.find_element(By.CSS_SELECTOR, \"input.search-box__input--O34g\")\n",
    "search_box.send_keys(\"Quần áo nữ\")\n",
    "search_button = driver.find_element(By.CSS_SELECTOR, \"a.search-box__button--1oH7\")\n",
    "search_button.click()\n",
    "\n",
    "product_urls = []\n",
    "button_nextPage = driver.find_element(By.CSS_SELECTOR, 'li[title=\"Next Page\"] button')\n",
    "\n",
    "for i in range (0, 3):\n",
    "    time.sleep(2)\n",
    "\n",
    "    dr_products = driver.find_elements(By.CSS_SELECTOR, 'div[data-tracking=\"product-card\"] a')\n",
    "    print(len(dr_products))\n",
    "    \n",
    "    for product in dr_products:\n",
    "        url = product.get_attribute('href')\n",
    "        product_urls.append(url)\n",
    "        print(url)\n",
    "    \n",
    "    product_urls = list(set(product_urls))\n",
    "    button_nextPage.click()"
   ]
  },
  {
   "cell_type": "code",
   "execution_count": 63,
   "id": "fc5350c2-de68-45ea-944b-8b9010140cd2",
   "metadata": {
    "scrolled": true
   },
   "outputs": [],
   "source": [
    "url = 'https://www.lazada.vn/#?'\n",
    "driver.get(url)\n",
    "search_box = driver.find_element(By.CSS_SELECTOR, \"input.search-box__input--O34g\")\n",
    "search_box.send_keys(\"Quần áo nữ\")\n",
    "search_button = driver.find_element(By.CSS_SELECTOR, \"a.search-box__button--1oH7\")\n",
    "search_button.click()\n",
    "\n",
    "product_urls = []\n",
    "button_nextPage = driver.find_element(By.CSS_SELECTOR, 'li[title=\"Next Page\"] button')\n",
    "\n",
    "for i in range (0, 3):\n",
    "    time.sleep(2)\n",
    "\n",
    "    try:\n",
    "        name_elements = driver.find_elements(By.CSS_SELECTOR, '.RfADt a')\n",
    "        names = [e.text for e in name_elements]\n",
    "        urls = [e.get_attribute('href') for e in name_elements]\n",
    "    except NoSuchElementException:\n",
    "        print('NoSuchElementException')\n",
    "        \n",
    "    try:\n",
    "        price_elements = driver.find_elements(By.CSS_SELECTOR, '.aBrP0')\n",
    "        prices = [e.text for e in price_elements]\n",
    "    except NoSuchElementException:\n",
    "        print('NoSuchElementException')\n",
    "        \n",
    "    try:\n",
    "        voucher_elements = driver.find_elements(By.CSS_SELECTOR, '.WNoq3')\n",
    "        vouchers = [e.text for e in voucher_elements]\n",
    "    except NoSuchElementException:\n",
    "        print('NoSuchElementException')\n",
    "        \n",
    "    try:\n",
    "        sold_elements = driver.find_elements(By.CSS_SELECTOR, 'span._1cEkb')\n",
    "        solds = [e.text for e in sold_elements]\n",
    "    except NoSuchElementException:\n",
    "        print('NoSuchElementException')\n",
    "        \n",
    "    try:\n",
    "        nRate_elements = driver.find_elements(By.CSS_SELECTOR, 'span.qzqFw')\n",
    "        nRates = [e.text for e in nRate_elements]\n",
    "    except NoSuchElementException:\n",
    "        print('NoSuchElementException')\n",
    "    \n",
    "    default_length = len(urls)\n",
    "            \n",
    "    if len(names) < default_length:\n",
    "        names.extend([\"0\"] * (default_length - len(names)))\n",
    "    if len(prices) < default_length:\n",
    "        prices.extend([\"0%\"] * (default_length - len(prices)))\n",
    "    if len(vouchers) < default_length:\n",
    "        vouchers.extend([\"0\"] * (default_length - len(vouchers)))\n",
    "    if len(solds) < default_length:\n",
    "        solds.extend([\"0\"] * (default_length - len(solds)))\n",
    "    if len(nRates) < default_length:\n",
    "        nRates.extend([\"0\"] * (default_length - len(nRates)))\n",
    "\n",
    "    df_Laz_product = pd.concat([df_Laz_product, df], ignore_index = True)\n",
    "        \n",
    "    # product_urls = list(set(product_urls))\n",
    "    button_nextPage.click()"
   ]
  },
  {
   "cell_type": "code",
   "execution_count": 64,
   "id": "3de92ffa-a8c3-43b0-8b4a-5187be22cd32",
   "metadata": {},
   "outputs": [
    {
     "data": {
      "text/html": [
       "<div>\n",
       "<style scoped>\n",
       "    .dataframe tbody tr th:only-of-type {\n",
       "        vertical-align: middle;\n",
       "    }\n",
       "\n",
       "    .dataframe tbody tr th {\n",
       "        vertical-align: top;\n",
       "    }\n",
       "\n",
       "    .dataframe thead th {\n",
       "        text-align: right;\n",
       "    }\n",
       "</style>\n",
       "<table border=\"1\" class=\"dataframe\">\n",
       "  <thead>\n",
       "    <tr style=\"text-align: right;\">\n",
       "      <th></th>\n",
       "      <th>Url</th>\n",
       "      <th>Name</th>\n",
       "      <th>Price</th>\n",
       "      <th>Voucher</th>\n",
       "      <th>Sold</th>\n",
       "      <th>NumRate</th>\n",
       "    </tr>\n",
       "  </thead>\n",
       "  <tbody>\n",
       "    <tr>\n",
       "      <th>0</th>\n",
       "      <td>https://www.lazada.vn/products/do-bo-nu-di-cho...</td>\n",
       "      <td>Đồ Bộ Nữ Đi Chơi Chất Thun Mát Size M - dưới 5...</td>\n",
       "      <td>₫39,000</td>\n",
       "      <td>Voucher save 61%</td>\n",
       "      <td>3.9K sold</td>\n",
       "      <td>(1370)</td>\n",
       "    </tr>\n",
       "    <tr>\n",
       "      <th>1</th>\n",
       "      <td>https://www.lazada.vn/products/re-vo-dich-tong...</td>\n",
       "      <td>[ Rẻ Vô Địch ] Tổng hợp các sét quần hoạt hình...</td>\n",
       "      <td>₫79,200</td>\n",
       "      <td>Voucher save 28%</td>\n",
       "      <td>263 sold</td>\n",
       "      <td>(90)</td>\n",
       "    </tr>\n",
       "    <tr>\n",
       "      <th>2</th>\n",
       "      <td>https://www.lazada.vn/products/bo-pijama-lua-m...</td>\n",
       "      <td>Bộ Pijama lụa 💕Mẫu mới nhất💕 tay dài, chất lụa...</td>\n",
       "      <td>₫25,000</td>\n",
       "      <td>Voucher save 84%</td>\n",
       "      <td>319 sold</td>\n",
       "      <td>(70)</td>\n",
       "    </tr>\n",
       "    <tr>\n",
       "      <th>3</th>\n",
       "      <td>https://www.lazada.vn/products/bo-ngu-pijama-d...</td>\n",
       "      <td>Bộ ngủ pijama dài tay cổ vuông nữ ,set bộ đồ n...</td>\n",
       "      <td>₫35,000</td>\n",
       "      <td>Voucher save 56%</td>\n",
       "      <td>1.6K sold</td>\n",
       "      <td>(340)</td>\n",
       "    </tr>\n",
       "    <tr>\n",
       "      <th>4</th>\n",
       "      <td>https://www.lazada.vn/products/set-ao-phong-ta...</td>\n",
       "      <td>Sét áo phông tay lỡ phối kẻ + quần kẻ dài mẫu mới</td>\n",
       "      <td>₫49,000</td>\n",
       "      <td>Voucher save 62%</td>\n",
       "      <td>23 sold</td>\n",
       "      <td>(11)</td>\n",
       "    </tr>\n",
       "    <tr>\n",
       "      <th>...</th>\n",
       "      <td>...</td>\n",
       "      <td>...</td>\n",
       "      <td>...</td>\n",
       "      <td>...</td>\n",
       "      <td>...</td>\n",
       "      <td>...</td>\n",
       "    </tr>\n",
       "    <tr>\n",
       "      <th>115</th>\n",
       "      <td>https://www.lazada.vn/products/set-ao-kem-quan...</td>\n",
       "      <td>SÉT ÁO KÈM QUẦN ỐNG RỘNG IN HÌNH CÔ BÉ CHỤP ẢN...</td>\n",
       "      <td>₫49,000</td>\n",
       "      <td>Voucher save 28%</td>\n",
       "      <td>112 sold</td>\n",
       "      <td>(54)</td>\n",
       "    </tr>\n",
       "    <tr>\n",
       "      <th>116</th>\n",
       "      <td>https://www.lazada.vn/products/set-bo-do-nu-ao...</td>\n",
       "      <td>Set Bộ Đồ Nữ Áo Thun Phối Tay Bbr Mix Quần Xuô...</td>\n",
       "      <td>₫45,000</td>\n",
       "      <td>Voucher save 70%</td>\n",
       "      <td>119 sold</td>\n",
       "      <td>(27)</td>\n",
       "    </tr>\n",
       "    <tr>\n",
       "      <th>117</th>\n",
       "      <td>https://www.lazada.vn/products/bo-do-ao-trang-...</td>\n",
       "      <td>Bộ đồ áo trắng ID kèm quần xuông ống rộng</td>\n",
       "      <td>₫39,000</td>\n",
       "      <td>Voucher save 50%</td>\n",
       "      <td>0</td>\n",
       "      <td>(19)</td>\n",
       "    </tr>\n",
       "    <tr>\n",
       "      <th>118</th>\n",
       "      <td>https://www.lazada.vn/products/bo-mau-hoa-tiet...</td>\n",
       "      <td>Bộ mẫu hoạ tiết Báo hồng quần đùi tay ngắn cho...</td>\n",
       "      <td>₫40,000</td>\n",
       "      <td></td>\n",
       "      <td>0</td>\n",
       "      <td>0</td>\n",
       "    </tr>\n",
       "    <tr>\n",
       "      <th>119</th>\n",
       "      <td>https://www.lazada.vn/products/set-ao-in-hinh-...</td>\n",
       "      <td>SÉT ÁO IN HÌNH GẤU ĐỘI MŨ HÚT TRÀ SỮA ĐI HỌC K...</td>\n",
       "      <td>₫35,000</td>\n",
       "      <td>Voucher save 42%</td>\n",
       "      <td>0</td>\n",
       "      <td>0</td>\n",
       "    </tr>\n",
       "  </tbody>\n",
       "</table>\n",
       "<p>120 rows × 6 columns</p>\n",
       "</div>"
      ],
      "text/plain": [
       "                                                   Url  \\\n",
       "0    https://www.lazada.vn/products/do-bo-nu-di-cho...   \n",
       "1    https://www.lazada.vn/products/re-vo-dich-tong...   \n",
       "2    https://www.lazada.vn/products/bo-pijama-lua-m...   \n",
       "3    https://www.lazada.vn/products/bo-ngu-pijama-d...   \n",
       "4    https://www.lazada.vn/products/set-ao-phong-ta...   \n",
       "..                                                 ...   \n",
       "115  https://www.lazada.vn/products/set-ao-kem-quan...   \n",
       "116  https://www.lazada.vn/products/set-bo-do-nu-ao...   \n",
       "117  https://www.lazada.vn/products/bo-do-ao-trang-...   \n",
       "118  https://www.lazada.vn/products/bo-mau-hoa-tiet...   \n",
       "119  https://www.lazada.vn/products/set-ao-in-hinh-...   \n",
       "\n",
       "                                                  Name    Price  \\\n",
       "0    Đồ Bộ Nữ Đi Chơi Chất Thun Mát Size M - dưới 5...  ₫39,000   \n",
       "1    [ Rẻ Vô Địch ] Tổng hợp các sét quần hoạt hình...  ₫79,200   \n",
       "2    Bộ Pijama lụa 💕Mẫu mới nhất💕 tay dài, chất lụa...  ₫25,000   \n",
       "3    Bộ ngủ pijama dài tay cổ vuông nữ ,set bộ đồ n...  ₫35,000   \n",
       "4    Sét áo phông tay lỡ phối kẻ + quần kẻ dài mẫu mới  ₫49,000   \n",
       "..                                                 ...      ...   \n",
       "115  SÉT ÁO KÈM QUẦN ỐNG RỘNG IN HÌNH CÔ BÉ CHỤP ẢN...  ₫49,000   \n",
       "116  Set Bộ Đồ Nữ Áo Thun Phối Tay Bbr Mix Quần Xuô...  ₫45,000   \n",
       "117          Bộ đồ áo trắng ID kèm quần xuông ống rộng  ₫39,000   \n",
       "118  Bộ mẫu hoạ tiết Báo hồng quần đùi tay ngắn cho...  ₫40,000   \n",
       "119  SÉT ÁO IN HÌNH GẤU ĐỘI MŨ HÚT TRÀ SỮA ĐI HỌC K...  ₫35,000   \n",
       "\n",
       "              Voucher       Sold NumRate  \n",
       "0    Voucher save 61%  3.9K sold  (1370)  \n",
       "1    Voucher save 28%   263 sold    (90)  \n",
       "2    Voucher save 84%   319 sold    (70)  \n",
       "3    Voucher save 56%  1.6K sold   (340)  \n",
       "4    Voucher save 62%    23 sold    (11)  \n",
       "..                ...        ...     ...  \n",
       "115  Voucher save 28%   112 sold    (54)  \n",
       "116  Voucher save 70%   119 sold    (27)  \n",
       "117  Voucher save 50%          0    (19)  \n",
       "118                            0       0  \n",
       "119  Voucher save 42%          0       0  \n",
       "\n",
       "[120 rows x 6 columns]"
      ]
     },
     "execution_count": 64,
     "metadata": {},
     "output_type": "execute_result"
    }
   ],
   "source": [
    "df"
   ]
  },
  {
   "cell_type": "code",
   "execution_count": null,
   "id": "01b8fb32-1836-4fbe-bf5c-94a2d77338fe",
   "metadata": {
    "scrolled": true
   },
   "outputs": [],
   "source": [
    "print(len(product_urls))\n",
    "for url in product_urls:\n",
    "    print(url)"
   ]
  },
  {
   "cell_type": "code",
   "execution_count": null,
   "id": "e8a12252-d997-4eb7-a88d-d468a3d58cf3",
   "metadata": {},
   "outputs": [],
   "source": [
    "with open('Laz_product_urls.txt', mode='w') as file:\n",
    "    for row in product_urls:\n",
    "        file.write(row + \"\\n\")"
   ]
  },
  {
   "cell_type": "code",
   "execution_count": 47,
   "id": "978eeef0-d460-47e2-b380-724d5c6f638f",
   "metadata": {
    "scrolled": true
   },
   "outputs": [],
   "source": [
    "with open('Laz_product_urls.txt', mode='r') as file:\n",
    "    links = file.readlines()\n",
    "links = [link.strip() for link in links]\n",
    "# print(links)"
   ]
  },
  {
   "cell_type": "code",
   "execution_count": 48,
   "id": "77e88ba4-8d28-48a5-8e90-ebbc018a4298",
   "metadata": {},
   "outputs": [],
   "source": [
    "Laz_product_urls = links"
   ]
  },
  {
   "cell_type": "code",
   "execution_count": null,
   "id": "f3a4f566-22f6-400e-a481-792c0ac8440a",
   "metadata": {
    "scrolled": true
   },
   "outputs": [],
   "source": [
    "Laz_shop_urls = []\n",
    "for url in Laz_product_urls:\n",
    "    driver.get(url)\n",
    "    time.sleep(2)\n",
    "\n",
    "    try:            \n",
    "        name = driver.find_element(By.CSS_SELECTOR, 'h1.pdp-mod-product-badge-title').text\n",
    "        # print(name)\n",
    "    \n",
    "        if driver.find_element(By.CSS_SELECTOR, 'span.pdp-price'):\n",
    "            price = driver.find_element(By.CSS_SELECTOR, 'span.pdp-price').text\n",
    "        else:\n",
    "            price = 0\n",
    "        # print(price)\n",
    "    \n",
    "        if driver.find_element(By.CSS_SELECTOR, 'div.seller-link a'):\n",
    "            shop_url = driver.find_element(By.CSS_SELECTOR, 'div.seller-link a').get_attribute('href')\n",
    "            Laz_shop_urls.append(shop_url)\n",
    "        else:\n",
    "            shop_url = ''\n",
    "        # print(shop_url)\n",
    "\n",
    "        df_Laz_product = pd.concat([df_Laz_product, pd.DataFrame([[url, name, price, shop_url]], columns = ['Url', 'Name', 'Price', 'Shop_url'])], ignore_index = True)\n",
    "        print(df_Laz_product[df_Laz_product['Url'] == url])\n",
    "    except NoSuchElementException:\n",
    "        print('NoSuchElementException')"
   ]
  },
  {
   "cell_type": "code",
   "execution_count": null,
   "id": "81e78bbf-e1ba-4771-9328-da502fcb604f",
   "metadata": {
    "scrolled": true
   },
   "outputs": [],
   "source": [
    "df_Laz_product"
   ]
  },
  {
   "cell_type": "code",
   "execution_count": null,
   "id": "faac775c-0e3d-47ca-a66d-a7ea4e5a1de6",
   "metadata": {},
   "outputs": [],
   "source": [
    "df_Laz_product.to_csv('lazada_products.csv', index=False)"
   ]
  },
  {
   "cell_type": "code",
   "execution_count": null,
   "id": "75276a91-7d4c-4b35-ba3a-1578d6fa8573",
   "metadata": {},
   "outputs": [],
   "source": [
    "df_Laz_product = pd.read_csv('lazada_products.csv')\n",
    "df_Laz_product"
   ]
  },
  {
   "cell_type": "code",
   "execution_count": null,
   "id": "79cfd7e8-0a91-43a4-bc0f-7e46f4afde99",
   "metadata": {},
   "outputs": [],
   "source": [
    "Laz_shop_urls = list(set(Laz_shop_urls))"
   ]
  },
  {
   "cell_type": "code",
   "execution_count": null,
   "id": "52eff785-dacc-45b2-b090-f55b2d776462",
   "metadata": {},
   "outputs": [],
   "source": [
    "with open('Laz_shop_urls.txt', mode='w') as file:\n",
    "    for row in Laz_shop_urls:\n",
    "        file.write(row + \"\\n\")"
   ]
  },
  {
   "cell_type": "code",
   "execution_count": null,
   "id": "3a2ed3a5-389b-4efd-944b-cb0b745fa3c5",
   "metadata": {
    "scrolled": true
   },
   "outputs": [],
   "source": [
    "with open('Laz_shop_urls.txt', mode='r') as file:\n",
    "    links = file.readlines()\n",
    "links = [link.strip() for link in links]\n",
    "# print(links)"
   ]
  },
  {
   "cell_type": "code",
   "execution_count": null,
   "id": "978e278d-01fa-4221-8549-edfc32ad1410",
   "metadata": {},
   "outputs": [],
   "source": [
    "Laz_shop_urls = links"
   ]
  },
  {
   "cell_type": "code",
   "execution_count": null,
   "id": "a7bf642c-0719-40d6-8c07-b2df19800959",
   "metadata": {
    "scrolled": true
   },
   "outputs": [],
   "source": [
    "for url in Laz_shop_urls:\n",
    "    driver.get(url)\n",
    "    time.sleep(2)\n",
    "\n",
    "    try:\n",
    "        name = driver.find_element(By.CSS_SELECTOR, '#pi-component-container > div > div:nth-child(2) > div > div > div > div:nth-child(2) > div:nth-child(1) > div > div > div > div:nth-child(2) > div:nth-child(1) > h1').text\n",
    "        print(name)\n",
    "        \n",
    "        followers = driver.find_element(By.CSS_SELECTOR, '#pi-component-container > div > div:nth-child(2) > div > div > div > div:nth-child(2) > div:nth-child(1) > div > div > div > div:nth-child(2) > div:nth-child(2) > div').text\n",
    "        print(followers)\n",
    "\n",
    "        df_Laz_shop = pd.concat([df_Laz_shop, pd.DataFrame([[url, name, followers]], columns = ['Url', 'Name', 'Followers'])], ignore_index = True)\n",
    "        print(df_Laz_shop[df_Laz_shop['Url'] == url])\n",
    "    except NoSuchElementException:\n",
    "        print('NoSuchElementException')"
   ]
  },
  {
   "cell_type": "code",
   "execution_count": null,
   "id": "b2fd575a-ac86-49a4-bbf6-f1ec3445b809",
   "metadata": {
    "scrolled": true
   },
   "outputs": [],
   "source": [
    "df_Laz_shop"
   ]
  },
  {
   "cell_type": "code",
   "execution_count": null,
   "id": "5f6517e6-0826-4bad-92c8-9db857c26bbe",
   "metadata": {},
   "outputs": [],
   "source": [
    "df_Laz_shop.to_csv('lazada_shops.csv', index=False)"
   ]
  },
  {
   "cell_type": "code",
   "execution_count": null,
   "id": "3e97abad-7789-4838-8127-653d4d6e7c27",
   "metadata": {
    "scrolled": true
   },
   "outputs": [],
   "source": [
    "df_Laz_shop = pd.read_csv('lazada_shops.csv')\n",
    "df_Laz_shop"
   ]
  },
  {
   "cell_type": "code",
   "execution_count": null,
   "id": "0fcbd4e6-319b-420c-a3d8-9b6061cec10e",
   "metadata": {},
   "outputs": [],
   "source": [
    "for url in Laz_product_urls:\n",
    "    driver.get(url)\n",
    "    time.sleep(2)\n",
    "\n",
    "    try:\n",
    "        #\n",
    "    except NoSuchElementException:\n",
    "        print('NoSuchElementException')"
   ]
  },
  {
   "cell_type": "code",
   "execution_count": 48,
   "id": "11394765-c38c-474e-b61f-a124afbf4c06",
   "metadata": {},
   "outputs": [],
   "source": [
    "import pandas as pd\n",
    "from selenium import webdriver\n",
    "from selenium.webdriver.chrome.service import Service\n",
    "from selenium.webdriver.chrome.options import Options\n",
    "from selenium.webdriver.common.by import By\n",
    "from selenium.common.exceptions import NoSuchElementException\n",
    "from time import sleep\n",
    "import random\n",
    "from webdriver_manager.chrome import ChromeDriverManager\n",
    "from selenium.webdriver.common.by import By\n",
    "from selenium.webdriver.support.ui import WebDriverWait\n",
    "from selenium.webdriver.support import expected_conditions as EC\n",
    "\n",
    "# Cấu hình trình duyệt\n",
    "chrome_options = Options()\n",
    "driver = webdriver.Chrome(service=Service(ChromeDriverManager().install()), options=chrome_options)\n",
    "\n",
    "def scrape_page(page_number):\n",
    "    driver.get(f\"https://www.lazada.vn/catalog/?page={page_number}&q=th%E1%BB%9Di%20trang%20n%E1%BB%AF&spm=a2o4n.homepage.search.d_go\")\n",
    "    sleep(random.randint(5, 10))  # Đợi một chút để trang tải xong\n",
    "\n",
    "    try:\n",
    "        # Lấy liên kết và tiêu đề\n",
    "        elems = driver.find_elements(By.CSS_SELECTOR, \".RfADt [href]\")\n",
    "        titles = [elem.text for elem in elems]\n",
    "        links = [elem.get_attribute('href') for elem in elems]\n",
    "\n",
    "        # Lấy giá\n",
    "        elems_price = driver.find_elements(By.CSS_SELECTOR, \".aBrP0\")\n",
    "        prices = [elem.text for elem in elems_price]\n",
    "\n",
    "        # Lấy phần trăm giảm giá (discount)\n",
    "        elems_discount = driver.find_elements(By.CSS_SELECTOR, \".WNoq3\")\n",
    "        discounts = [elem.text for elem in elems_discount]\n",
    "\n",
    "        # Lấy số lượng đánh giá\n",
    "        elems_countReviews = driver.find_elements(By.CSS_SELECTOR, \".qzqFw\")\n",
    "        countReviews = [elem.text for elem in elems_countReviews]\n",
    "\n",
    "        # Lấy số lượng bán\n",
    "        elems_countSales = driver.find_elements(By.CSS_SELECTOR, \"._1cEkb\")\n",
    "        countSales = [elem.text for elem in elems_countSales]\n",
    "        \n",
    "        # Đảm bảo tất cả các danh sách có cùng độ dài với danh sách `titles`\n",
    "        default_length = len(titles)\n",
    "        \n",
    "        if len(prices) < default_length:\n",
    "            prices.extend([\"0\"] * (default_length - len(prices)))\n",
    "        if len(discounts) < default_length:\n",
    "            discounts.extend([\"0%\"] * (default_length - len(discounts)))\n",
    "        if len(countReviews) < default_length:\n",
    "            countReviews.extend([\"0\"] * (default_length - len(countReviews)))\n",
    "        if len(countSales) < default_length:\n",
    "            countSales.extend([\"0\"] * (default_length - len(countSales)))\n",
    "\n",
    "        # Tạo DataFrame từ dữ liệu\n",
    "        df = pd.DataFrame({\n",
    "            'Index': range(1, len(titles) + 1),\n",
    "            'Title': titles,\n",
    "            'Link': links,\n",
    "            'Price': prices,\n",
    "            'Discount Percent': discounts,\n",
    "            'Count Reviews': countReviews,\n",
    "            'Count Sales': countSales,\n",
    "            #'Score': score\n",
    "        })\n",
    "\n",
    "        return df\n",
    "    except NoSuchElementException as e:\n",
    "        print(f\"Element not found on page {page_number}: {e}\")\n",
    "        return None"
   ]
  },
  {
   "cell_type": "code",
   "execution_count": 50,
   "id": "20dfa6b4-5463-4ee2-ac99-7cefb55c90b7",
   "metadata": {},
   "outputs": [
    {
     "name": "stdout",
     "output_type": "stream",
     "text": [
      "Empty DataFrame\n",
      "Columns: []\n",
      "Index: []\n"
     ]
    }
   ],
   "source": [
    "chrome_options = Options()\n",
    "driver = webdriver.Chrome(service=Service(ChromeDriverManager().install()), options=chrome_options)\n",
    "\n",
    "page_number = 1\n",
    "max_pages = 3  # Số lượng trang tối đa muốn cào\n",
    "all_data = []\n",
    "\n",
    "while page_number <= max_pages:\n",
    "    df = scrape_page(page_number)\n",
    "    if df is not None:\n",
    "        all_data.append(df)\n",
    "    page_number += 1\n",
    "    sleep(random.randint(5, 10))  # Đợi trước khi chuyển sang trang tiếp theo\n",
    "\n",
    "driver.quit()\n",
    "\n",
    "if all_data:\n",
    "    # Kết hợp tất cả DataFrame thành một DataFrame duy nhất\n",
    "    final_df = pd.concat(all_data, ignore_index=True)\n",
    "    final_df = pd.DataFrame()  # Define the DataFrame before using it\n",
    "\n",
    "    # Hiển thị DataFrame\n",
    "    print(final_df)\n",
    "    \n",
    "    # Lưu DataFrame vào file CSV\n",
    "    #final_df.to_csv(r'D:\\ĐỒ ÁN\\data1.csv', index=False, encoding='utf-8-sig')\n",
    "else:\n",
    "    print(\"No data was collected.\")"
   ]
  },
  {
   "cell_type": "markdown",
   "id": "a4e28a23-354d-4d08-9156-168adcf82852",
   "metadata": {},
   "source": [
    "## Shein website"
   ]
  },
  {
   "cell_type": "code",
   "execution_count": null,
   "id": "4a457e69-3940-43ea-835e-9ca027fbfc01",
   "metadata": {},
   "outputs": [],
   "source": [
    "df_Shein_product = pd.DataFrame(columns = ['Url', 'Name', 'Price', 'Shop_url'])\n",
    "df_Shein_shop = pd.DataFrame(columns = ['Url', 'Name', 'Followers'])"
   ]
  },
  {
   "cell_type": "code",
   "execution_count": null,
   "id": "659f8073-6f3b-45dc-ad61-c10bb292faf5",
   "metadata": {
    "scrolled": true
   },
   "outputs": [],
   "source": [
    "#The url below is the original link to homepage of Shein website\n",
    "#url = 'https://www.shein.com.vn/?_gl=1*1gloy8n*_up*MQ..&gclid=EAIaIQobChMIgbqoh-mDiAMV9tIWBR3KgQ6KEAAYASAAEgKgHPD_BwE'\n",
    "\n",
    "#This url is the Shein website after send key 'QUần áo nữ' to the search input \n",
    "url = 'https://www.shein.com.vn/pdsearch/Qu%E1%BA%A7n%20%C3%A1o%20n%E1%BB%AF/?ici=s1`EditSearch`Qu%E1%BA%A7n%20%C3%A1o%20n%E1%BB%AF`_fb`d0`PageSearchResult&search_source=1&search_type=all&source=search&src_identifier=st%3D2%60sc%3DQu%E1%BA%A7n%20%C3%A1o%20n%E1%BB%AF%60sr%3D0%60ps%3D1&src_identifier_pre_search=&src_module=search&src_tab_page_id=page_search1724166755052'\n",
    "driver.get(url)\n",
    "time.sleep(5)\n",
    "\n",
    "product_urls = []\n",
    "\n",
    "dr_products = driver.find_elements(By.CSS_SELECTOR, 'div.product-card__goods-title-container a.goods-title-link')\n",
    "print(len(dr_products))\n",
    "\n",
    "for product in dr_products:\n",
    "    url = product.get_attribute('href')\n",
    "    product_urls.append(url)\n",
    "    print(url)\n",
    "\n",
    "product_urls = list(set(product_urls))"
   ]
  },
  {
   "cell_type": "code",
   "execution_count": null,
   "id": "21c6c7af-2b4d-42f4-ac5a-4c2c0d0cc095",
   "metadata": {},
   "outputs": [],
   "source": [
    "with open('Shein_product_urls.txt', mode='w') as file:\n",
    "    for row in product_urls:\n",
    "        file.write(row + \"\\n\")"
   ]
  },
  {
   "cell_type": "code",
   "execution_count": null,
   "id": "cb74fcec-bd87-4a8c-a469-7c6991e87bdc",
   "metadata": {
    "scrolled": true
   },
   "outputs": [],
   "source": [
    "with open('Shein_product_urls.txt', mode='r') as file:\n",
    "    links = file.readlines()\n",
    "links = [link.strip() for link in links]\n",
    "# print(links)"
   ]
  },
  {
   "cell_type": "code",
   "execution_count": null,
   "id": "d73154b7-5053-4a41-b03a-d12c8784df1d",
   "metadata": {},
   "outputs": [],
   "source": [
    "Shein_product_urls = links"
   ]
  },
  {
   "cell_type": "code",
   "execution_count": null,
   "id": "c06b7520-2fee-48d3-93da-567191928068",
   "metadata": {
    "scrolled": true
   },
   "outputs": [],
   "source": [
    "Shein_shop_urls = []\n",
    "for url in Shein_product_urls:\n",
    "    driver.get(url)\n",
    "    time.sleep(2)\n",
    "        \n",
    "    name = driver.find_element(By.CSS_SELECTOR, 'h1.product-intro__head-name').text\n",
    "    print(name)\n",
    "\n",
    "    if driver.find_element(By.CSS_SELECTOR, 'div.ProductIntroHeadPrice__head-mainprice .original span'):\n",
    "        price = driver.find_element(By.CSS_SELECTOR, 'div.ProductIntroHeadPrice__head-mainprice .original span').text\n",
    "    else:\n",
    "        price = 0\n",
    "    print(price)\n",
    "\n",
    "    # shop_content_box = driver.find_element(By. CSS_SELECTOR, '.shop-entry__contentBox').get_attribute('style')\n",
    "    # if driver.find_element(By. CSS_SELECTOR, '.shop-entry__contentBox').get_attribute('display') == 'display: none;':\n",
    "    #     driver.find_element(By.CSS_SELECTOR, '.product-intro__brand-head').click()\n",
    "    #     time.sleep(2)\n",
    "    #     shop_url = driver.find_element(By.CSS_SELECTOR, 'div.seller-link a').get_attribute('href')\n",
    "    #     Shein_shop_urls.append(shop_url)\n",
    "    # else:\n",
    "    #     shop_url = ''\n",
    "    # print(shop_url)t\n",
    "\n",
    "drive.quit()"
   ]
  },
  {
   "cell_type": "code",
   "execution_count": null,
   "id": "722fea0a-bbc2-4cea-9fe6-cadd1497e066",
   "metadata": {},
   "outputs": [],
   "source": [
    "# /html/body/div[1]/div[1]/div/div[1]/div/div[2]/div[2]/div/div[5]/div[3]/div[1]/span"
   ]
  },
  {
   "cell_type": "code",
   "execution_count": null,
   "id": "e4c69034-fcc6-4681-b591-ee25ad8ef9ba",
   "metadata": {},
   "outputs": [],
   "source": [
    "\n",
    "\n",
    "# URL of the product page\n",
    "url = \"https://www.shein.com.vn/SHEIN-ICON-Women-s-Summer-Leopard-Print-Slim-Fit-Cropped-Camisole-Fashion-Cami-Top-p-36628205.html?src_identifier=st%3D2%60sc%3DQu%E1%BA%A7n%20%C3%A1o%20n%E1%BB%AF%60sr%3D0%60ps%3D1\"\n",
    "\n",
    "# Navigate to the URL\n",
    "driver.get(url)\n",
    "time.sleep(2)  # Wait for the page to load\n",
    "\n",
    "try:\n",
    "    # Get the product name\n",
    "    product_name = driver.find_element(By.CSS_SELECTOR, 'h1.product-intro__head-name').text\n",
    "    print(f\"Product Name: {product_name}\")\n",
    "    \n",
    "    # Get the price\n",
    "    price = driver.find_element(By.CSS_SELECTOR, 'div.ProductIntroHeadPrice__head-mainprice .original span').text\n",
    "    print(f\"Price: {price}\")\n",
    "    \n",
    "    # Get the shop name (if available)\n",
    "    try:\n",
    "        shop_name = driver.find_element(By.CSS_SELECTOR, 'a.store-name').text\n",
    "        print(f\"Shop Name: {shop_name}\")\n",
    "    except NoSuchElementException:\n",
    "        shop_name = \"N/A\"\n",
    "        print(\"Shop Name not found\")\n",
    "    \n",
    "    # Get the number of followers (if available)\n",
    "    try:\n",
    "        followers = driver.find_element(By.CSS_SELECTOR, 'span.follow-number').text\n",
    "        print(f\"Followers: {followers}\")\n",
    "    except NoSuchElementException:\n",
    "        followers = \"N/A\"\n",
    "        print(\"Followers not found\")\n",
    "\n",
    "except NoSuchElementException as e:\n",
    "    print(f\"An error occurred: {e}\")\n"
   ]
  },
  {
   "cell_type": "markdown",
   "id": "88cfebe3-9f88-4fa9-a89e-479225aaf755",
   "metadata": {
    "jp-MarkdownHeadingCollapsed": true
   },
   "source": [
    "## Tiki website"
   ]
  },
  {
   "cell_type": "code",
   "execution_count": null,
   "id": "99e66d7e-b07b-4a38-b864-07a6e88ab03f",
   "metadata": {},
   "outputs": [],
   "source": [
    "df_Tiki_product = pd.DataFrame(columns = ['Url', 'Name', 'Price', 'Shop_url'])\n",
    "df_Tiki_shop = pd.DataFrame(columns = ['Url', 'Name', 'Followers'])"
   ]
  },
  {
   "cell_type": "code",
   "execution_count": null,
   "id": "aa5fc581-f729-47c2-8264-ddbab1e7b2b3",
   "metadata": {
    "scrolled": true
   },
   "outputs": [],
   "source": [
    "#The url below is the original link to homepage of Tiki website\n",
    "#url = 'https://tiki.vn/'\n",
    "\n",
    "#This url is the Tiki website after send key 'QUần áo nữ' to the search input \n",
    "url = 'https://tiki.vn/search?q=Qu%E1%BA%A7n%20%C3%A1o%20n%E1%BB%AF'\n",
    "driver.get(url)\n",
    "time.sleep(5)\n",
    "\n",
    "product_urls = []\n",
    "button_nextPage = driver.find_element(By.CSS_SELECTOR, '.pagination-block div:nth-child(3) a')\n",
    "dr_products = driver.find_elements(By.CSS_SELECTOR, 'a[data-view-id=\"product_list_item\"]')\n",
    "print(len(dr_products))\n",
    "\n",
    "for i in range (0, 3):\n",
    "    time.sleep(2)\n",
    "\n",
    "    dr_products = driver.find_elements(By.CSS_SELECTOR, 'a[data-view-id=\"product_list_item\"]')\n",
    "    print(len(dr_products))\n",
    "    \n",
    "    for product in dr_products:\n",
    "        url = product.get_attribute('href')\n",
    "        product_urls.append(url)\n",
    "        print(url)\n",
    "    \n",
    "    product_urls = list(set(product_urls))\n",
    "    button_nextPage.click()"
   ]
  },
  {
   "cell_type": "code",
   "execution_count": null,
   "id": "f369f555-aa32-4281-9f2f-1b2bccf0636b",
   "metadata": {},
   "outputs": [],
   "source": [
    "with open('Tiki_product_urls.txt', mode='w') as file:\n",
    "    for row in product_urls:\n",
    "        file.write(row + \"\\n\")"
   ]
  },
  {
   "cell_type": "code",
   "execution_count": null,
   "id": "f736b9d9-41ec-4df7-944f-9ce39667a2ea",
   "metadata": {
    "scrolled": true
   },
   "outputs": [],
   "source": [
    "with open('Tiki_product_urls.txt', mode='r') as file:\n",
    "    links = file.readlines()\n",
    "links = [link.strip() for link in links]\n",
    "# print(links)"
   ]
  },
  {
   "cell_type": "code",
   "execution_count": null,
   "id": "855d4e3c-120e-4846-b043-7c3917ed0eb2",
   "metadata": {},
   "outputs": [],
   "source": [
    "Tiki_product_urls = links"
   ]
  },
  {
   "cell_type": "code",
   "execution_count": null,
   "id": "530614ec-c01b-4ee7-90c0-c70d5e3d2120",
   "metadata": {
    "scrolled": true
   },
   "outputs": [],
   "source": [
    "Tiki_shop_urls = []\n",
    "for url in Tiki_product_urls:\n",
    "    driver.get(url)\n",
    "    time.sleep(2)\n",
    "\n",
    "    try:\n",
    "        name = driver.find_element(By.CSS_SELECTOR, 'h1.Title__TitledStyled-sc-c64ni5-0').text\n",
    "        # print(name)\n",
    "    \n",
    "        if driver.find_element(By.CSS_SELECTOR, '.product-price__current-price'):\n",
    "            price = driver.find_element(By.CSS_SELECTOR, '.product-price__current-price').text\n",
    "        else:\n",
    "            price = 0\n",
    "        # print(price)\n",
    "        \n",
    "        if driver.find_elements(By.CSS_SELECTOR, 'div.SellerHeader__SellerHeaderStyled-sc-la7c6v-0 a'):\n",
    "            shop_url = driver.find_elements(By.CSS_SELECTOR, 'div.SellerHeader__SellerHeaderStyled-sc-la7c6v-0 a')[0].get_attribute('href')\n",
    "            Tiki_shop_urls.append(shop_url)\n",
    "        else:\n",
    "            shop_url = ''\n",
    "        # print(shop_url)\n",
    "\n",
    "        df_Tiki_product = pd.concat([df_Tiki_product, pd.DataFrame([[url, name, price, shop_url]], columns = ['Url', 'Name', 'Price', 'Shop_url'])], ignore_index = True)\n",
    "        print(df_Tiki_product[df_Tiki_product['Url'] == url])\n",
    "    except NoSuchElementException:\n",
    "        print('NoSuchElementException')"
   ]
  },
  {
   "cell_type": "code",
   "execution_count": null,
   "id": "c0585ff4-5f2e-4ed3-ba14-f9b5071bbad7",
   "metadata": {
    "scrolled": true
   },
   "outputs": [],
   "source": [
    "df_Tiki_product"
   ]
  },
  {
   "cell_type": "code",
   "execution_count": null,
   "id": "b30679be-f74e-4d5a-a6bd-247402e6712e",
   "metadata": {},
   "outputs": [],
   "source": [
    "df_Tiki_product.to_csv('tiki_products.csv', index=False)"
   ]
  },
  {
   "cell_type": "code",
   "execution_count": null,
   "id": "2bd6377b-f025-4ccc-b8e6-5081585e58ec",
   "metadata": {},
   "outputs": [],
   "source": [
    "df_Tiki_product = pd.read_csv('tiki_products.csv')\n",
    "df_Tiki_product"
   ]
  },
  {
   "cell_type": "code",
   "execution_count": null,
   "id": "760fd01f-f49e-40a1-958b-322188523f1d",
   "metadata": {},
   "outputs": [],
   "source": [
    "Tiki_shop_urls = list(set(Tiki_shop_urls))"
   ]
  },
  {
   "cell_type": "code",
   "execution_count": null,
   "id": "f06f87e3-8f04-4938-8336-5845c7d2170f",
   "metadata": {},
   "outputs": [],
   "source": [
    "with open('Tiki_shop_urls.txt', mode='w') as file:\n",
    "    for row in Tiki_shop_urls:\n",
    "        file.write(row + \"\\n\")"
   ]
  },
  {
   "cell_type": "code",
   "execution_count": null,
   "id": "5308f62a-7557-4d72-a558-1eb28613d0e8",
   "metadata": {
    "scrolled": true
   },
   "outputs": [],
   "source": [
    "with open('Tiki_shop_urls.txt', mode='r') as file:\n",
    "    links = file.readlines()\n",
    "links = [link.strip() for link in links]\n",
    "# print(links)"
   ]
  },
  {
   "cell_type": "code",
   "execution_count": null,
   "id": "6ddd6a30-82c0-45fa-ae9a-c9e120442c36",
   "metadata": {},
   "outputs": [],
   "source": [
    "Tiki_shop_urls = links"
   ]
  },
  {
   "cell_type": "code",
   "execution_count": null,
   "id": "3e4f1055-41ef-4c02-8c79-ee391f93ecde",
   "metadata": {
    "scrolled": true
   },
   "outputs": [],
   "source": [
    "for url in Tiki_shop_urls:\n",
    "    driver.get(url)\n",
    "    time.sleep(2)\n",
    "\n",
    "    try:\n",
    "        name = driver.find_element(By.CSS_SELECTOR, 'h1.Header__SellerName-sc-vgcg69-2').text\n",
    "        # print(name)\n",
    "        \n",
    "        followers = driver.find_element(By.CSS_SELECTOR, '#seller-info-wrapper > div.Header__SellerNameWrapper-sc-vgcg69-5.jZYoaR > div.Header__BadgeWrapper-sc-vgcg69-11.czboZb > div:nth-child(3) > div.Header__SubInfo-sc-vgcg69-12.iUmIsA').text\n",
    "        # print(followers)\n",
    "        \n",
    "        df_Tiki_shop = pd.concat([df_Tiki_shop, pd.DataFrame([[url, name, followers]], columns = ['Url', 'Name', 'Followers'])], ignore_index = True)\n",
    "        print(df_Tiki_shop[df_Tiki_shop['Url'] == url])\n",
    "    except NoSuchElementException:\n",
    "        print('NoSuchElementException')"
   ]
  },
  {
   "cell_type": "code",
   "execution_count": null,
   "id": "b5613e9b-581a-431c-988b-f8c35cf96287",
   "metadata": {
    "scrolled": true
   },
   "outputs": [],
   "source": [
    "df_Tiki_shop"
   ]
  },
  {
   "cell_type": "code",
   "execution_count": null,
   "id": "446938c1-42d8-405a-b697-fbd96bc84da9",
   "metadata": {},
   "outputs": [],
   "source": [
    "df_Tiki_shop.to_csv('tiki_shops.csv', index=False)"
   ]
  },
  {
   "cell_type": "code",
   "execution_count": null,
   "id": "7a4188e2-61c5-4364-b783-23dde8a6c9dd",
   "metadata": {
    "scrolled": true
   },
   "outputs": [],
   "source": [
    "df_Tiki_shop = pd.read_csv('tiki_shops.csv')\n",
    "df_Tiki_shop"
   ]
  },
  {
   "cell_type": "code",
   "execution_count": null,
   "id": "2e5798a5-10b2-47f6-96c1-f2509d6b01a5",
   "metadata": {},
   "outputs": [],
   "source": [
    "driver.quit()"
   ]
  },
  {
   "cell_type": "markdown",
   "id": "58808100-1ebc-4ef5-a3ef-acf20a78190b",
   "metadata": {},
   "source": [
    "# Pre-proccesing data"
   ]
  },
  {
   "cell_type": "markdown",
   "id": "842fe322-5649-4d92-b686-c736e8ef6969",
   "metadata": {},
   "source": [
    "## Lazada"
   ]
  },
  {
   "cell_type": "code",
   "execution_count": 16,
   "id": "c7cea2e1-88da-400c-9695-f21074075e10",
   "metadata": {},
   "outputs": [],
   "source": [
    "df_Laz_product = pd.read_csv('lazada_products.csv')"
   ]
  },
  {
   "cell_type": "code",
   "execution_count": 44,
   "id": "e6759bc3-e1c4-412f-81c2-5697a64a1bc6",
   "metadata": {},
   "outputs": [
    {
     "data": {
      "text/html": [
       "<div>\n",
       "<style scoped>\n",
       "    .dataframe tbody tr th:only-of-type {\n",
       "        vertical-align: middle;\n",
       "    }\n",
       "\n",
       "    .dataframe tbody tr th {\n",
       "        vertical-align: top;\n",
       "    }\n",
       "\n",
       "    .dataframe thead th {\n",
       "        text-align: right;\n",
       "    }\n",
       "</style>\n",
       "<table border=\"1\" class=\"dataframe\">\n",
       "  <thead>\n",
       "    <tr style=\"text-align: right;\">\n",
       "      <th></th>\n",
       "      <th>Url</th>\n",
       "      <th>Name</th>\n",
       "      <th>Price</th>\n",
       "      <th>Shop_url</th>\n",
       "      <th>Category</th>\n",
       "    </tr>\n",
       "  </thead>\n",
       "  <tbody>\n",
       "    <tr>\n",
       "      <th>0</th>\n",
       "      <td>https://www.lazada.vn/products/set-do-bo-pyjam...</td>\n",
       "      <td>Set đồ bộ pyjama bigsize xinh xắn in hình chib...</td>\n",
       "      <td>121401.0</td>\n",
       "      <td>https://www.lazada.vn/shop/bigsizeconho/?itemI...</td>\n",
       "      <td>đồ bộ</td>\n",
       "    </tr>\n",
       "    <tr>\n",
       "      <th>1</th>\n",
       "      <td>https://www.lazada.vn/products/tangg-mua-he-ma...</td>\n",
       "      <td>Tangg mùa hè màu trơn cho nữ yếm trong bộ đồ n...</td>\n",
       "      <td>51900.0</td>\n",
       "      <td>https://www.lazada.vn/shop/tangganshar/?itemId...</td>\n",
       "      <td>đồ bộ</td>\n",
       "    </tr>\n",
       "    <tr>\n",
       "      <th>2</th>\n",
       "      <td>https://www.lazada.vn/products/xeo-no-theu-co-...</td>\n",
       "      <td>(XÉO NƠ THÊU có Bigsize) Bộ quần áo nữ Phật tử...</td>\n",
       "      <td>165000.0</td>\n",
       "      <td>https://www.lazada.vn/shop/hong-phuc-an/?itemI...</td>\n",
       "      <td>đồ bộ</td>\n",
       "    </tr>\n",
       "    <tr>\n",
       "      <th>3</th>\n",
       "      <td>https://www.lazada.vn/products/hcmdo-bo-ngu-ph...</td>\n",
       "      <td>[HCM]ĐỒ BỘ NGỦ PHI BÓNG 2 DÂY PHỐI REN NGỰC LỤ...</td>\n",
       "      <td>33000.0</td>\n",
       "      <td>https://www.lazada.vn/shop/shopvan99/?itemId=4...</td>\n",
       "      <td>đồ bộ</td>\n",
       "    </tr>\n",
       "    <tr>\n",
       "      <th>4</th>\n",
       "      <td>https://www.lazada.vn/products/bo-lung-tole-la...</td>\n",
       "      <td>bộ lửng tole lanh 2da (4 size) 40-80 kí</td>\n",
       "      <td>75000.0</td>\n",
       "      <td>https://www.lazada.vn/shop/heritageshop/?itemI...</td>\n",
       "      <td>đồ bộ</td>\n",
       "    </tr>\n",
       "    <tr>\n",
       "      <th>...</th>\n",
       "      <td>...</td>\n",
       "      <td>...</td>\n",
       "      <td>...</td>\n",
       "      <td>...</td>\n",
       "      <td>...</td>\n",
       "    </tr>\n",
       "    <tr>\n",
       "      <th>64</th>\n",
       "      <td>https://www.lazada.vn/products/2-size-45-68kg-...</td>\n",
       "      <td>[2 SIZE 45-68KG TÙY CHIỀU CAO] ĐỒ BỘ SÁT NÁCH ...</td>\n",
       "      <td>34405.0</td>\n",
       "      <td>https://www.lazada.vn/shop/winny-shop-16056857...</td>\n",
       "      <td>đồ bộ</td>\n",
       "    </tr>\n",
       "    <tr>\n",
       "      <th>65</th>\n",
       "      <td>https://www.lazada.vn/products/do-bo-mac-nha-n...</td>\n",
       "      <td>Đồ bộ mặc nhà nữ quần lửng bigsize 35-82Kg mùa...</td>\n",
       "      <td>63774.0</td>\n",
       "      <td>https://www.lazada.vn/shop/kkfashion-store/?it...</td>\n",
       "      <td>đồ bộ</td>\n",
       "    </tr>\n",
       "    <tr>\n",
       "      <th>66</th>\n",
       "      <td>https://www.lazada.vn/products/co-size-70kg-do...</td>\n",
       "      <td>CÓ SIZE 70KG ĐỒ BỘ QUẦN ÁO THUN ĐŨA, THUN ĐÙI ...</td>\n",
       "      <td>58000.0</td>\n",
       "      <td>https://www.lazada.vn/shop/winny-shop-16056857...</td>\n",
       "      <td>đồ bộ</td>\n",
       "    </tr>\n",
       "    <tr>\n",
       "      <th>67</th>\n",
       "      <td>https://www.lazada.vn/products/re-vo-dich-tong...</td>\n",
       "      <td>[ Rẻ Vô Địch] Tổng Hợp Các Set Bộ Quần Ống Suô...</td>\n",
       "      <td>79000.0</td>\n",
       "      <td>https://www.lazada.vn/shop/thieu-thu-store/?it...</td>\n",
       "      <td>đồ bộ</td>\n",
       "    </tr>\n",
       "    <tr>\n",
       "      <th>68</th>\n",
       "      <td>https://www.lazada.vn/products/free-ship-2024-...</td>\n",
       "      <td>[Free Ship 2024] Set Bộ Thun Gân From Thụng Áo...</td>\n",
       "      <td>104720.0</td>\n",
       "      <td>https://www.lazada.vn/shop/shop-thien-nana/?it...</td>\n",
       "      <td>đồ bộ</td>\n",
       "    </tr>\n",
       "  </tbody>\n",
       "</table>\n",
       "<p>69 rows × 5 columns</p>\n",
       "</div>"
      ],
      "text/plain": [
       "                                                  Url  \\\n",
       "0   https://www.lazada.vn/products/set-do-bo-pyjam...   \n",
       "1   https://www.lazada.vn/products/tangg-mua-he-ma...   \n",
       "2   https://www.lazada.vn/products/xeo-no-theu-co-...   \n",
       "3   https://www.lazada.vn/products/hcmdo-bo-ngu-ph...   \n",
       "4   https://www.lazada.vn/products/bo-lung-tole-la...   \n",
       "..                                                ...   \n",
       "64  https://www.lazada.vn/products/2-size-45-68kg-...   \n",
       "65  https://www.lazada.vn/products/do-bo-mac-nha-n...   \n",
       "66  https://www.lazada.vn/products/co-size-70kg-do...   \n",
       "67  https://www.lazada.vn/products/re-vo-dich-tong...   \n",
       "68  https://www.lazada.vn/products/free-ship-2024-...   \n",
       "\n",
       "                                                 Name     Price  \\\n",
       "0   Set đồ bộ pyjama bigsize xinh xắn in hình chib...  121401.0   \n",
       "1   Tangg mùa hè màu trơn cho nữ yếm trong bộ đồ n...   51900.0   \n",
       "2   (XÉO NƠ THÊU có Bigsize) Bộ quần áo nữ Phật tử...  165000.0   \n",
       "3   [HCM]ĐỒ BỘ NGỦ PHI BÓNG 2 DÂY PHỐI REN NGỰC LỤ...   33000.0   \n",
       "4             bộ lửng tole lanh 2da (4 size) 40-80 kí   75000.0   \n",
       "..                                                ...       ...   \n",
       "64  [2 SIZE 45-68KG TÙY CHIỀU CAO] ĐỒ BỘ SÁT NÁCH ...   34405.0   \n",
       "65  Đồ bộ mặc nhà nữ quần lửng bigsize 35-82Kg mùa...   63774.0   \n",
       "66  CÓ SIZE 70KG ĐỒ BỘ QUẦN ÁO THUN ĐŨA, THUN ĐÙI ...   58000.0   \n",
       "67  [ Rẻ Vô Địch] Tổng Hợp Các Set Bộ Quần Ống Suô...   79000.0   \n",
       "68  [Free Ship 2024] Set Bộ Thun Gân From Thụng Áo...  104720.0   \n",
       "\n",
       "                                             Shop_url Category  \n",
       "0   https://www.lazada.vn/shop/bigsizeconho/?itemI...    đồ bộ  \n",
       "1   https://www.lazada.vn/shop/tangganshar/?itemId...    đồ bộ  \n",
       "2   https://www.lazada.vn/shop/hong-phuc-an/?itemI...    đồ bộ  \n",
       "3   https://www.lazada.vn/shop/shopvan99/?itemId=4...    đồ bộ  \n",
       "4   https://www.lazada.vn/shop/heritageshop/?itemI...    đồ bộ  \n",
       "..                                                ...      ...  \n",
       "64  https://www.lazada.vn/shop/winny-shop-16056857...    đồ bộ  \n",
       "65  https://www.lazada.vn/shop/kkfashion-store/?it...    đồ bộ  \n",
       "66  https://www.lazada.vn/shop/winny-shop-16056857...    đồ bộ  \n",
       "67  https://www.lazada.vn/shop/thieu-thu-store/?it...    đồ bộ  \n",
       "68  https://www.lazada.vn/shop/shop-thien-nana/?it...    đồ bộ  \n",
       "\n",
       "[69 rows x 5 columns]"
      ]
     },
     "execution_count": 44,
     "metadata": {},
     "output_type": "execute_result"
    }
   ],
   "source": [
    "df_Laz_product"
   ]
  },
  {
   "cell_type": "code",
   "execution_count": 17,
   "id": "5fddbcf8-d3a3-4039-919b-e8db3754db2d",
   "metadata": {},
   "outputs": [
    {
     "name": "stdout",
     "output_type": "stream",
     "text": [
      "<class 'pandas.core.frame.DataFrame'>\n",
      "RangeIndex: 69 entries, 0 to 68\n",
      "Data columns (total 4 columns):\n",
      " #   Column    Non-Null Count  Dtype \n",
      "---  ------    --------------  ----- \n",
      " 0   Url       69 non-null     object\n",
      " 1   Name      69 non-null     object\n",
      " 2   Price     69 non-null     object\n",
      " 3   Shop_url  69 non-null     object\n",
      "dtypes: object(4)\n",
      "memory usage: 2.3+ KB\n"
     ]
    }
   ],
   "source": [
    "df_Laz_product.info()"
   ]
  },
  {
   "cell_type": "markdown",
   "id": "36a246db-3c7f-4ba3-9939-05fac91601b8",
   "metadata": {},
   "source": [
    "Convert column `['Price']` to float"
   ]
  },
  {
   "cell_type": "code",
   "execution_count": 18,
   "id": "28557834-98aa-47b7-9768-8d67a18d40c5",
   "metadata": {},
   "outputs": [],
   "source": [
    "df_Laz_product['Price'] = df_Laz_product['Price'].str.replace('.', '').str.replace(' ₫', '').astype(float)\n",
    "# df_Laz_product['Price']"
   ]
  },
  {
   "cell_type": "markdown",
   "id": "1a17a70a-fe25-4ac9-8bec-b6b72cd3dabf",
   "metadata": {},
   "source": [
    "Run this cell if the computer hasn't installed the nltk library yet"
   ]
  },
  {
   "cell_type": "code",
   "execution_count": 19,
   "id": "a1d696fe-f2fb-4cb0-9246-880ede3413bb",
   "metadata": {},
   "outputs": [],
   "source": [
    "# !pip install nltk"
   ]
  },
  {
   "cell_type": "code",
   "execution_count": 20,
   "id": "f3a70a09-04b0-4ad1-866a-3daf715ecef1",
   "metadata": {},
   "outputs": [],
   "source": [
    "categories_keywords = {\n",
    "    \"đồ bộ\": [\"đồ bộ\", \"set\", \"bộ\", \"quần áo\"],\n",
    "    \"đồ lót\": [\"đồ lót\", \"underwear\", \"quần lót\", \"áo lót\", \"áo ngực\", \"bra\", \"panty\", \"boxer\", \"quần chíp\"],\n",
    "    \"váy/quần\": [\"váy\", \"quần\", \"skirt\", \"pants\", \"jeans\"],\n",
    "    \"áo\": [\"áo\", \"t-shirt\", \"shirt\", \"croptop\", \"yếm\", \"khoác\", \"áo khoác\", \"vest\", \"blazer\"],\n",
    "    \"đầm\": [\"đầm\", \"dress\", \"váy ngủ\"], \n",
    "    \"nón\": [\"nón\", \"mũ\", \"hat\", \"helmet\"],\n",
    "    \"vớ\": [\"vớ\", \"tất\", \"socks\"],\n",
    "    \"giày/dép\": [\"giày\", \"dép\", \"bata\", \"cao gót\", \"shoes\", \"slipper\", \"guốc\", \"boots\", \"xăng đan\", \"sandals\", \"sneakers\"],\n",
    "    \"trang sức\": [\"trang sức\", \"nhẫn\", \"vòng\", \"dây chuyền\", \"earrings\", \"necklace\"]\n",
    "}"
   ]
  },
  {
   "cell_type": "markdown",
   "id": "88374610-aecc-4d8f-a251-5ac62db51f5d",
   "metadata": {},
   "source": [
    "Classify products using n-grams techniques"
   ]
  },
  {
   "cell_type": "code",
   "execution_count": 21,
   "id": "d558c52c-627c-420f-a141-5e0ab979db6c",
   "metadata": {},
   "outputs": [
    {
     "name": "stderr",
     "output_type": "stream",
     "text": [
      "[nltk_data] Downloading package punkt_tab to\n",
      "[nltk_data]     C:\\Users\\ASUS\\AppData\\Roaming\\nltk_data...\n",
      "[nltk_data]   Package punkt_tab is already up-to-date!\n"
     ]
    }
   ],
   "source": [
    "import unicodedata\n",
    "import nltk\n",
    "from nltk.tokenize import word_tokenize\n",
    "nltk.download('punkt_tab')\n",
    "\n",
    "def generate_ngrams(string, n):\n",
    "    string = unicodedata.normalize('NFC', string)\n",
    "    tokens = word_tokenize(string, language='english')\n",
    "    tokens = [token.lower() for token in tokens]\n",
    "    return [' '.join(tokens[i:i + n]) for i in range(len(tokens) - n + 1)]\n",
    "    \n",
    "def classify_product(name, categories_keywords):\n",
    "    _2grams = generate_ngrams(name, 2)\n",
    "    _1grams = generate_ngrams(name, 1)\n",
    "    \n",
    "    for category, keywords in categories_keywords.items():\n",
    "        for keyword in keywords:\n",
    "            if keyword in _2grams + _1grams: \n",
    "                return category \n",
    "    \n",
    "    return \"khác\""
   ]
  },
  {
   "cell_type": "markdown",
   "id": "3272305f-d1a8-4a0c-9191-16d6a7c3712d",
   "metadata": {},
   "source": [
    "Add a column `['Category']` to the `df_Laz_product` DataFrame using the `classify_product` function provided above"
   ]
  },
  {
   "cell_type": "code",
   "execution_count": 22,
   "id": "3c32cba2-d57d-4da1-9599-6d066b4d86d9",
   "metadata": {},
   "outputs": [],
   "source": [
    "df_Laz_product['Category'] = df_Laz_product['Name'].apply(lambda name: classify_product(name, categories_keywords))"
   ]
  },
  {
   "cell_type": "markdown",
   "id": "bd49988e-4a51-4ca1-b226-18b4fe7d84f7",
   "metadata": {},
   "source": [
    "Re-check the new column"
   ]
  },
  {
   "cell_type": "code",
   "execution_count": 23,
   "id": "1cf27852-f2a7-429e-b2e4-a5a80d51e3b7",
   "metadata": {},
   "outputs": [
    {
     "name": "stdout",
     "output_type": "stream",
     "text": [
      "Category\n",
      "đồ bộ       56\n",
      "váy/quần     8\n",
      "đồ lót       2\n",
      "áo           2\n",
      "khác         1\n",
      "Name: count, dtype: int64\n"
     ]
    }
   ],
   "source": [
    "Laz_category_counts = df_Laz_product['Category'].value_counts()\n",
    "print(Laz_category_counts)"
   ]
  },
  {
   "cell_type": "markdown",
   "id": "9605c831-ee7d-4478-af5a-a2192dfe89a8",
   "metadata": {},
   "source": [
    "Identify the outliers and manually replace them with the correct values"
   ]
  },
  {
   "cell_type": "code",
   "execution_count": 26,
   "id": "8e286004-d0b7-4d94-ba2b-39ff8d9e4662",
   "metadata": {},
   "outputs": [
    {
     "data": {
      "text/html": [
       "<div>\n",
       "<style scoped>\n",
       "    .dataframe tbody tr th:only-of-type {\n",
       "        vertical-align: middle;\n",
       "    }\n",
       "\n",
       "    .dataframe tbody tr th {\n",
       "        vertical-align: top;\n",
       "    }\n",
       "\n",
       "    .dataframe thead th {\n",
       "        text-align: right;\n",
       "    }\n",
       "</style>\n",
       "<table border=\"1\" class=\"dataframe\">\n",
       "  <thead>\n",
       "    <tr style=\"text-align: right;\">\n",
       "      <th></th>\n",
       "      <th>Url</th>\n",
       "      <th>Name</th>\n",
       "      <th>Price</th>\n",
       "      <th>Shop_url</th>\n",
       "      <th>Category</th>\n",
       "    </tr>\n",
       "  </thead>\n",
       "  <tbody>\n",
       "  </tbody>\n",
       "</table>\n",
       "</div>"
      ],
      "text/plain": [
       "Empty DataFrame\n",
       "Columns: [Url, Name, Price, Shop_url, Category]\n",
       "Index: []"
      ]
     },
     "execution_count": 26,
     "metadata": {},
     "output_type": "execute_result"
    }
   ],
   "source": [
    "df_Laz_product[df_Laz_product['Category'] == 'khác']"
   ]
  },
  {
   "cell_type": "code",
   "execution_count": 25,
   "id": "6db7a74b-e5a6-433a-8a04-4a85c3c12013",
   "metadata": {},
   "outputs": [],
   "source": [
    "df_Laz_product.loc[50, 'Category'] = 'đồ bộ'"
   ]
  },
  {
   "cell_type": "markdown",
   "id": "0a3aa3e6-5e79-449e-9de6-9d63a75e63aa",
   "metadata": {},
   "source": [
    "Check if the dataframe has NaN value"
   ]
  },
  {
   "cell_type": "code",
   "execution_count": 43,
   "id": "ab19545c-0ea2-44eb-a802-4776b00ce01e",
   "metadata": {},
   "outputs": [
    {
     "name": "stdout",
     "output_type": "stream",
     "text": [
      "Url         0\n",
      "Name        0\n",
      "Price       0\n",
      "Shop_url    0\n",
      "Category    0\n",
      "dtype: int64\n"
     ]
    }
   ],
   "source": [
    "Laz_nan_summary = df_Laz_product.isna().sum()\n",
    "print(Laz_nan_summary)"
   ]
  },
  {
   "cell_type": "markdown",
   "id": "753eaa21-f67a-42a0-9572-19bb53eb1aa3",
   "metadata": {
    "jp-MarkdownHeadingCollapsed": true
   },
   "source": [
    "## Shein"
   ]
  },
  {
   "cell_type": "code",
   "execution_count": null,
   "id": "adc3eddb-ff02-4316-8581-83c21f784398",
   "metadata": {},
   "outputs": [],
   "source": []
  },
  {
   "cell_type": "markdown",
   "id": "3d5b875b-cce1-4b57-a001-63415bd6457c",
   "metadata": {
    "jp-MarkdownHeadingCollapsed": true
   },
   "source": [
    "## Tiki"
   ]
  },
  {
   "cell_type": "code",
   "execution_count": 4,
   "id": "962726fb-7641-4c1b-b5bc-a0f99e1d783b",
   "metadata": {},
   "outputs": [],
   "source": [
    "df_Tiki_product = pd.read_csv('tiki_products.csv')"
   ]
  },
  {
   "cell_type": "code",
   "execution_count": 5,
   "id": "595b5da5-6824-4a52-a80d-3263baa6c063",
   "metadata": {},
   "outputs": [
    {
     "data": {
      "text/html": [
       "<div>\n",
       "<style scoped>\n",
       "    .dataframe tbody tr th:only-of-type {\n",
       "        vertical-align: middle;\n",
       "    }\n",
       "\n",
       "    .dataframe tbody tr th {\n",
       "        vertical-align: top;\n",
       "    }\n",
       "\n",
       "    .dataframe thead th {\n",
       "        text-align: right;\n",
       "    }\n",
       "</style>\n",
       "<table border=\"1\" class=\"dataframe\">\n",
       "  <thead>\n",
       "    <tr style=\"text-align: right;\">\n",
       "      <th></th>\n",
       "      <th>Url</th>\n",
       "      <th>Name</th>\n",
       "      <th>Price</th>\n",
       "      <th>Shop_url</th>\n",
       "    </tr>\n",
       "  </thead>\n",
       "  <tbody>\n",
       "    <tr>\n",
       "      <th>0</th>\n",
       "      <td>https://tiki.vn/set-do-bo-nu-thoi-trang-p68119...</td>\n",
       "      <td>Sét Đồ Bộ Nữ Thời Trang</td>\n",
       "      <td>143.100₫</td>\n",
       "      <td>https://tiki.vn/cua-hang/thoi-trang-tina?sourc...</td>\n",
       "    </tr>\n",
       "    <tr>\n",
       "      <th>1</th>\n",
       "      <td>https://tiki.vn/set-do-nu-bo-quan-ao-nu-thu-do...</td>\n",
       "      <td>set đồ nữ, bộ quần áo nữ thu đông áo dài tay, ...</td>\n",
       "      <td>99.000₫</td>\n",
       "      <td>https://tiki.vn/cua-hang/jelly?source_screen=p...</td>\n",
       "    </tr>\n",
       "    <tr>\n",
       "      <th>2</th>\n",
       "      <td>https://tiki.vn/set-bo-do-nu-3-mon-voi-tone-ma...</td>\n",
       "      <td>Set bộ đồ nữ 3 món với tone màu hồng đơn giản ...</td>\n",
       "      <td>175.000₫</td>\n",
       "      <td>https://tiki.vn/cua-hang/jinshopteen?source_sc...</td>\n",
       "    </tr>\n",
       "    <tr>\n",
       "      <th>3</th>\n",
       "      <td>https://tiki.vn/jumpsui-ngan-nu-tinh-kieu-jump...</td>\n",
       "      <td>Jumpsui Ngắn Nữ Tính Kiểu Jumpsuit Cổ Đắp Chéo...</td>\n",
       "      <td>228.000₫</td>\n",
       "      <td>https://tiki.vn/cua-hang/goti?source_screen=pr...</td>\n",
       "    </tr>\n",
       "    <tr>\n",
       "      <th>4</th>\n",
       "      <td>https://tiki.vn/set-bo-nu-cong-so-luperi-lfsb4...</td>\n",
       "      <td>Sét Bộ Nữ Công Sở LUPERI LFSB499 Áo Cộc Tay Ph...</td>\n",
       "      <td>1.050.000₫</td>\n",
       "      <td>https://tiki.vn/cua-hang/luperi?source_screen=...</td>\n",
       "    </tr>\n",
       "  </tbody>\n",
       "</table>\n",
       "</div>"
      ],
      "text/plain": [
       "                                                 Url  \\\n",
       "0  https://tiki.vn/set-do-bo-nu-thoi-trang-p68119...   \n",
       "1  https://tiki.vn/set-do-nu-bo-quan-ao-nu-thu-do...   \n",
       "2  https://tiki.vn/set-bo-do-nu-3-mon-voi-tone-ma...   \n",
       "3  https://tiki.vn/jumpsui-ngan-nu-tinh-kieu-jump...   \n",
       "4  https://tiki.vn/set-bo-nu-cong-so-luperi-lfsb4...   \n",
       "\n",
       "                                                Name       Price  \\\n",
       "0                            Sét Đồ Bộ Nữ Thời Trang    143.100₫   \n",
       "1  set đồ nữ, bộ quần áo nữ thu đông áo dài tay, ...     99.000₫   \n",
       "2  Set bộ đồ nữ 3 món với tone màu hồng đơn giản ...    175.000₫   \n",
       "3  Jumpsui Ngắn Nữ Tính Kiểu Jumpsuit Cổ Đắp Chéo...    228.000₫   \n",
       "4  Sét Bộ Nữ Công Sở LUPERI LFSB499 Áo Cộc Tay Ph...  1.050.000₫   \n",
       "\n",
       "                                            Shop_url  \n",
       "0  https://tiki.vn/cua-hang/thoi-trang-tina?sourc...  \n",
       "1  https://tiki.vn/cua-hang/jelly?source_screen=p...  \n",
       "2  https://tiki.vn/cua-hang/jinshopteen?source_sc...  \n",
       "3  https://tiki.vn/cua-hang/goti?source_screen=pr...  \n",
       "4  https://tiki.vn/cua-hang/luperi?source_screen=...  "
      ]
     },
     "execution_count": 5,
     "metadata": {},
     "output_type": "execute_result"
    }
   ],
   "source": [
    "df_Tiki_product.head()"
   ]
  },
  {
   "cell_type": "code",
   "execution_count": 6,
   "id": "6a25fc09-af98-43ca-af52-1a8d347bc41c",
   "metadata": {},
   "outputs": [
    {
     "name": "stdout",
     "output_type": "stream",
     "text": [
      "<class 'pandas.core.frame.DataFrame'>\n",
      "RangeIndex: 120 entries, 0 to 119\n",
      "Data columns (total 4 columns):\n",
      " #   Column    Non-Null Count  Dtype \n",
      "---  ------    --------------  ----- \n",
      " 0   Url       120 non-null    object\n",
      " 1   Name      120 non-null    object\n",
      " 2   Price     120 non-null    object\n",
      " 3   Shop_url  120 non-null    object\n",
      "dtypes: object(4)\n",
      "memory usage: 3.9+ KB\n"
     ]
    }
   ],
   "source": [
    "df_Tiki_product.info()"
   ]
  },
  {
   "cell_type": "markdown",
   "id": "c1c54e50-736f-4fd2-a4c7-08d554c6fc7b",
   "metadata": {},
   "source": [
    "Convert column `['Price']` to float"
   ]
  },
  {
   "cell_type": "code",
   "execution_count": 7,
   "id": "07bf3780-e25b-4a22-9379-515ee0e27179",
   "metadata": {},
   "outputs": [
    {
     "data": {
      "text/plain": [
       "0       143100.0\n",
       "1        99000.0\n",
       "2       175000.0\n",
       "3       228000.0\n",
       "4      1050000.0\n",
       "         ...    \n",
       "115      89100.0\n",
       "116      90000.0\n",
       "117     145000.0\n",
       "118     239000.0\n",
       "119     185000.0\n",
       "Name: Price, Length: 120, dtype: float64"
      ]
     },
     "execution_count": 7,
     "metadata": {},
     "output_type": "execute_result"
    }
   ],
   "source": [
    "df_Tiki_product['Price'] = df_Tiki_product['Price'].str.replace('.', '').str.replace('₫', '').astype(float)\n",
    "df_Tiki_product['Price']"
   ]
  },
  {
   "cell_type": "markdown",
   "id": "09a2472e-933d-431b-bc35-db03a0cd1968",
   "metadata": {},
   "source": [
    "Add a column `['Category']` to the `df_Laz_product` DataFrame using the `classify_product` function provided above"
   ]
  },
  {
   "cell_type": "code",
   "execution_count": 11,
   "id": "6bf1f082-c8ef-45d2-a86d-77096b4ea510",
   "metadata": {},
   "outputs": [],
   "source": [
    "df_Tiki_product['Category'] = df_Tiki_product['Name'].apply(lambda name: classify_product(name, categories_keywords))"
   ]
  },
  {
   "cell_type": "markdown",
   "id": "84580598-6a48-48f2-a6bc-cc489d513dc1",
   "metadata": {},
   "source": [
    "Re-check the new column"
   ]
  },
  {
   "cell_type": "code",
   "execution_count": 12,
   "id": "7e5c3398-4e25-4b6e-aada-d2bbc263fe50",
   "metadata": {},
   "outputs": [
    {
     "name": "stdout",
     "output_type": "stream",
     "text": [
      "Category\n",
      "đồ bộ       101\n",
      "váy/quần     13\n",
      "khác          5\n",
      "áo            1\n",
      "Name: count, dtype: int64\n"
     ]
    }
   ],
   "source": [
    "Tiki_category_counts = df_Tiki_product['Category'].value_counts()\n",
    "print(Tiki_category_counts)"
   ]
  },
  {
   "cell_type": "markdown",
   "id": "4ed74af9-b5bf-4d70-a2e8-1e7073328eba",
   "metadata": {},
   "source": [
    "Identify the outliers and manually replace them with the correct values"
   ]
  },
  {
   "cell_type": "code",
   "execution_count": 15,
   "id": "9b306859-c85b-4466-a8d7-a0d1d52325d4",
   "metadata": {
    "scrolled": true
   },
   "outputs": [
    {
     "data": {
      "text/html": [
       "<div>\n",
       "<style scoped>\n",
       "    .dataframe tbody tr th:only-of-type {\n",
       "        vertical-align: middle;\n",
       "    }\n",
       "\n",
       "    .dataframe tbody tr th {\n",
       "        vertical-align: top;\n",
       "    }\n",
       "\n",
       "    .dataframe thead th {\n",
       "        text-align: right;\n",
       "    }\n",
       "</style>\n",
       "<table border=\"1\" class=\"dataframe\">\n",
       "  <thead>\n",
       "    <tr style=\"text-align: right;\">\n",
       "      <th></th>\n",
       "      <th>Url</th>\n",
       "      <th>Name</th>\n",
       "      <th>Price</th>\n",
       "      <th>Shop_url</th>\n",
       "      <th>Category</th>\n",
       "    </tr>\n",
       "  </thead>\n",
       "  <tbody>\n",
       "  </tbody>\n",
       "</table>\n",
       "</div>"
      ],
      "text/plain": [
       "Empty DataFrame\n",
       "Columns: [Url, Name, Price, Shop_url, Category]\n",
       "Index: []"
      ]
     },
     "execution_count": 15,
     "metadata": {},
     "output_type": "execute_result"
    }
   ],
   "source": [
    "df_Tiki_product[df_Tiki_product['Category'] == 'khác']"
   ]
  },
  {
   "cell_type": "code",
   "execution_count": 14,
   "id": "dbe26fb0-6729-4371-a516-07cce85c19b9",
   "metadata": {},
   "outputs": [],
   "source": [
    "df_Tiki_product.loc[3, 'Category'] = 'đồ bộ'\n",
    "df_Tiki_product.loc[29, 'Category'] = 'đồ bộ'\n",
    "df_Tiki_product.loc[76, 'Category'] = 'đồ bộ'\n",
    "df_Tiki_product.loc[83, 'Category'] = 'đồ bộ'\n",
    "df_Tiki_product.loc[103, 'Category'] = 'đồ bộ'"
   ]
  },
  {
   "cell_type": "markdown",
   "id": "0cb432fc-6471-4a21-95d6-fe6462a245aa",
   "metadata": {},
   "source": [
    "# Analysis on each e-market platform"
   ]
  },
  {
   "cell_type": "markdown",
   "id": "4d540c3d-2a04-464f-a24e-7b0d922d3334",
   "metadata": {
    "jp-MarkdownHeadingCollapsed": true
   },
   "source": [
    "## Lazada"
   ]
  },
  {
   "cell_type": "code",
   "execution_count": 27,
   "id": "a3618cb9-31ca-47d9-a716-d88630031829",
   "metadata": {},
   "outputs": [
    {
     "name": "stdout",
     "output_type": "stream",
     "text": [
      "<class 'pandas.core.frame.DataFrame'>\n",
      "RangeIndex: 69 entries, 0 to 68\n",
      "Data columns (total 5 columns):\n",
      " #   Column    Non-Null Count  Dtype  \n",
      "---  ------    --------------  -----  \n",
      " 0   Url       69 non-null     object \n",
      " 1   Name      69 non-null     object \n",
      " 2   Price     69 non-null     float64\n",
      " 3   Shop_url  69 non-null     object \n",
      " 4   Category  69 non-null     object \n",
      "dtypes: float64(1), object(4)\n",
      "memory usage: 2.8+ KB\n"
     ]
    }
   ],
   "source": [
    "df_Laz_product.info()"
   ]
  },
  {
   "cell_type": "code",
   "execution_count": 28,
   "id": "034f9419-0fb3-46dc-a6f1-db9ae22befa4",
   "metadata": {
    "scrolled": true
   },
   "outputs": [
    {
     "data": {
      "text/html": [
       "<div>\n",
       "<style scoped>\n",
       "    .dataframe tbody tr th:only-of-type {\n",
       "        vertical-align: middle;\n",
       "    }\n",
       "\n",
       "    .dataframe tbody tr th {\n",
       "        vertical-align: top;\n",
       "    }\n",
       "\n",
       "    .dataframe thead th {\n",
       "        text-align: right;\n",
       "    }\n",
       "</style>\n",
       "<table border=\"1\" class=\"dataframe\">\n",
       "  <thead>\n",
       "    <tr style=\"text-align: right;\">\n",
       "      <th></th>\n",
       "      <th>Price</th>\n",
       "    </tr>\n",
       "  </thead>\n",
       "  <tbody>\n",
       "    <tr>\n",
       "      <th>count</th>\n",
       "      <td>69.000000</td>\n",
       "    </tr>\n",
       "    <tr>\n",
       "      <th>mean</th>\n",
       "      <td>84360.101449</td>\n",
       "    </tr>\n",
       "    <tr>\n",
       "      <th>std</th>\n",
       "      <td>69306.808994</td>\n",
       "    </tr>\n",
       "    <tr>\n",
       "      <th>min</th>\n",
       "      <td>7434.000000</td>\n",
       "    </tr>\n",
       "    <tr>\n",
       "      <th>25%</th>\n",
       "      <td>43000.000000</td>\n",
       "    </tr>\n",
       "    <tr>\n",
       "      <th>50%</th>\n",
       "      <td>65000.000000</td>\n",
       "    </tr>\n",
       "    <tr>\n",
       "      <th>75%</th>\n",
       "      <td>91446.000000</td>\n",
       "    </tr>\n",
       "    <tr>\n",
       "      <th>max</th>\n",
       "      <td>434720.000000</td>\n",
       "    </tr>\n",
       "  </tbody>\n",
       "</table>\n",
       "</div>"
      ],
      "text/plain": [
       "               Price\n",
       "count      69.000000\n",
       "mean    84360.101449\n",
       "std     69306.808994\n",
       "min      7434.000000\n",
       "25%     43000.000000\n",
       "50%     65000.000000\n",
       "75%     91446.000000\n",
       "max    434720.000000"
      ]
     },
     "execution_count": 28,
     "metadata": {},
     "output_type": "execute_result"
    }
   ],
   "source": [
    "df_Laz_product.describe()"
   ]
  },
  {
   "cell_type": "code",
   "execution_count": 30,
   "id": "58a0d837-0ca6-4a4a-a7bb-1b135a3c4d60",
   "metadata": {},
   "outputs": [
    {
     "name": "stdout",
     "output_type": "stream",
     "text": [
      "Category\n",
      "đồ bộ       57\n",
      "váy/quần     8\n",
      "đồ lót       2\n",
      "áo           2\n",
      "Name: count, dtype: int64\n"
     ]
    }
   ],
   "source": [
    "Laz_category_counts = df_Laz_product['Category'].value_counts()\n",
    "print(Laz_category_counts)"
   ]
  },
  {
   "cell_type": "code",
   "execution_count": 31,
   "id": "54ce7826-01e2-4b5f-af22-a952dc251f28",
   "metadata": {},
   "outputs": [
    {
     "name": "stderr",
     "output_type": "stream",
     "text": [
      "C:\\Users\\ASUS\\AppData\\Local\\Temp\\ipykernel_12760\\2216541898.py:2: FutureWarning: \n",
      "\n",
      "Passing `palette` without assigning `hue` is deprecated and will be removed in v0.14.0. Assign the `x` variable to `hue` and set `legend=False` for the same effect.\n",
      "\n",
      "  sns.barplot(x = Laz_category_counts.index, y = Laz_category_counts.values, palette = 'pastel')\n"
     ]
    },
    {
     "data": {
      "image/png": "[encoded data removed]",
      "text/plain": [
       "<Figure size 1000x600 with 1 Axes>"
      ]
     },
     "metadata": {},
     "output_type": "display_data"
    }
   ],
   "source": [
    "plt.figure(figsize = (10, 6))\n",
    "sns.barplot(x = Laz_category_counts.index, y = Laz_category_counts.values, palette = 'pastel')\n",
    "plt.title('Phân bố các giá trị trong cột Category', fontsize = 16)\n",
    "plt.xlabel('Loại', fontsize = 14)\n",
    "plt.ylabel('Số lượng', fontsize = 14)\n",
    "plt.xticks(rotation = 45, ha = 'right')\n",
    "plt.show()"
   ]
  },
  {
   "cell_type": "code",
   "execution_count": 74,
   "id": "ec022844-e66e-45e6-a764-9b0c919d3984",
   "metadata": {},
   "outputs": [],
   "source": [
    "df_Laz_product.to_csv('lazada_products_.csv', index=False)"
   ]
  },
  {
   "cell_type": "code",
   "execution_count": 32,
   "id": "1cdfed5a-bb73-43be-8282-2386a0c4be3e",
   "metadata": {},
   "outputs": [],
   "source": [
    "Laz_avgPrice_per_category = df_Laz_product.groupby('Category')['Price'].mean().round()"
   ]
  },
  {
   "cell_type": "code",
   "execution_count": 33,
   "id": "f254f821-804d-4157-a010-b8c1305e8e2a",
   "metadata": {},
   "outputs": [
    {
     "name": "stdout",
     "output_type": "stream",
     "text": [
      "Category\n",
      "váy/quần    54987.0\n",
      "áo          48834.0\n",
      "đồ bộ       90680.0\n",
      "đồ lót      57268.0\n",
      "Name: Price, dtype: float64\n"
     ]
    }
   ],
   "source": [
    "print(Laz_avgPrice_per_category)"
   ]
  },
  {
   "cell_type": "code",
   "execution_count": 34,
   "id": "482b2bc1-10a4-4654-ade2-9e4e11eb9403",
   "metadata": {},
   "outputs": [
    {
     "name": "stderr",
     "output_type": "stream",
     "text": [
      "C:\\Users\\ASUS\\AppData\\Local\\Temp\\ipykernel_12760\\1958800687.py:2: FutureWarning: \n",
      "\n",
      "Passing `palette` without assigning `hue` is deprecated and will be removed in v0.14.0. Assign the `x` variable to `hue` and set `legend=False` for the same effect.\n",
      "\n",
      "  sns.barplot(x = Laz_avgPrice_per_category.index, y = Laz_avgPrice_per_category.values, palette = 'pastel')\n"
     ]
    },
    {
     "data": {
      "image/png": "[encoded data removed]",
      "text/plain": [
       "<Figure size 1000x600 with 1 Axes>"
      ]
     },
     "metadata": {},
     "output_type": "display_data"
    }
   ],
   "source": [
    "plt.figure(figsize = (10, 6))\n",
    "sns.barplot(x = Laz_avgPrice_per_category.index, y = Laz_avgPrice_per_category.values, palette = 'pastel')\n",
    "plt.title('Giá tiền trung bình mỗi loại', fontsize = 16)\n",
    "plt.xlabel('Loại', fontsize = 14)\n",
    "plt.ylabel('Giá trung bình', fontsize = 14)\n",
    "plt.xticks(rotation = 45, ha = 'right')\n",
    "plt.show()"
   ]
  },
  {
   "cell_type": "markdown",
   "id": "0ad41127-8896-4e55-b187-a53d0cd3afa7",
   "metadata": {
    "jp-MarkdownHeadingCollapsed": true
   },
   "source": [
    "## Shein"
   ]
  },
  {
   "cell_type": "code",
   "execution_count": null,
   "id": "c712a963-696f-44fd-8ceb-4fdf05b688bf",
   "metadata": {},
   "outputs": [],
   "source": []
  },
  {
   "cell_type": "markdown",
   "id": "30cf15da-4459-4095-915f-879e4db7ffa2",
   "metadata": {
    "jp-MarkdownHeadingCollapsed": true
   },
   "source": [
    "## Tiki"
   ]
  },
  {
   "cell_type": "code",
   "execution_count": 35,
   "id": "20008387-eb0f-4fbe-8c54-ae7db6e34041",
   "metadata": {},
   "outputs": [
    {
     "name": "stdout",
     "output_type": "stream",
     "text": [
      "<class 'pandas.core.frame.DataFrame'>\n",
      "RangeIndex: 120 entries, 0 to 119\n",
      "Data columns (total 5 columns):\n",
      " #   Column    Non-Null Count  Dtype  \n",
      "---  ------    --------------  -----  \n",
      " 0   Url       120 non-null    object \n",
      " 1   Name      120 non-null    object \n",
      " 2   Price     120 non-null    float64\n",
      " 3   Shop_url  120 non-null    object \n",
      " 4   Category  120 non-null    object \n",
      "dtypes: float64(1), object(4)\n",
      "memory usage: 4.8+ KB\n"
     ]
    }
   ],
   "source": [
    "df_Tiki_product.info()"
   ]
  },
  {
   "cell_type": "code",
   "execution_count": 36,
   "id": "3bc9a1ce-ffeb-4a45-9bfe-36c0d8e8e703",
   "metadata": {
    "scrolled": true
   },
   "outputs": [
    {
     "data": {
      "text/html": [
       "<div>\n",
       "<style scoped>\n",
       "    .dataframe tbody tr th:only-of-type {\n",
       "        vertical-align: middle;\n",
       "    }\n",
       "\n",
       "    .dataframe tbody tr th {\n",
       "        vertical-align: top;\n",
       "    }\n",
       "\n",
       "    .dataframe thead th {\n",
       "        text-align: right;\n",
       "    }\n",
       "</style>\n",
       "<table border=\"1\" class=\"dataframe\">\n",
       "  <thead>\n",
       "    <tr style=\"text-align: right;\">\n",
       "      <th></th>\n",
       "      <th>Price</th>\n",
       "    </tr>\n",
       "  </thead>\n",
       "  <tbody>\n",
       "    <tr>\n",
       "      <th>count</th>\n",
       "      <td>1.200000e+02</td>\n",
       "    </tr>\n",
       "    <tr>\n",
       "      <th>mean</th>\n",
       "      <td>2.070561e+05</td>\n",
       "    </tr>\n",
       "    <tr>\n",
       "      <th>std</th>\n",
       "      <td>1.432477e+05</td>\n",
       "    </tr>\n",
       "    <tr>\n",
       "      <th>min</th>\n",
       "      <td>6.300000e+04</td>\n",
       "    </tr>\n",
       "    <tr>\n",
       "      <th>25%</th>\n",
       "      <td>1.334750e+05</td>\n",
       "    </tr>\n",
       "    <tr>\n",
       "      <th>50%</th>\n",
       "      <td>1.750000e+05</td>\n",
       "    </tr>\n",
       "    <tr>\n",
       "      <th>75%</th>\n",
       "      <td>2.292500e+05</td>\n",
       "    </tr>\n",
       "    <tr>\n",
       "      <th>max</th>\n",
       "      <td>1.050000e+06</td>\n",
       "    </tr>\n",
       "  </tbody>\n",
       "</table>\n",
       "</div>"
      ],
      "text/plain": [
       "              Price\n",
       "count  1.200000e+02\n",
       "mean   2.070561e+05\n",
       "std    1.432477e+05\n",
       "min    6.300000e+04\n",
       "25%    1.334750e+05\n",
       "50%    1.750000e+05\n",
       "75%    2.292500e+05\n",
       "max    1.050000e+06"
      ]
     },
     "execution_count": 36,
     "metadata": {},
     "output_type": "execute_result"
    }
   ],
   "source": [
    "df_Tiki_product.describe()"
   ]
  },
  {
   "cell_type": "code",
   "execution_count": 37,
   "id": "5c3bb8da-c9fc-4bb5-8a75-762b4e807b21",
   "metadata": {},
   "outputs": [
    {
     "name": "stdout",
     "output_type": "stream",
     "text": [
      "Url         0\n",
      "Name        0\n",
      "Price       0\n",
      "Shop_url    0\n",
      "Category    0\n",
      "dtype: int64\n"
     ]
    }
   ],
   "source": [
    "Tiki_nan_summary = df_Tiki_product.isna().sum()\n",
    "print(Tiki_nan_summary)"
   ]
  },
  {
   "cell_type": "code",
   "execution_count": 38,
   "id": "eeb85bbf-494f-40aa-8564-392c1330a804",
   "metadata": {},
   "outputs": [
    {
     "name": "stdout",
     "output_type": "stream",
     "text": [
      "Category\n",
      "đồ bộ       106\n",
      "váy/quần     13\n",
      "áo            1\n",
      "Name: count, dtype: int64\n"
     ]
    }
   ],
   "source": [
    "Tiki_category_counts = df_Tiki_product['Category'].value_counts()\n",
    "print(Tiki_category_counts)"
   ]
  },
  {
   "cell_type": "code",
   "execution_count": 39,
   "id": "a1f768a3-6fcd-4983-bfcc-f13f8eb92888",
   "metadata": {},
   "outputs": [
    {
     "name": "stderr",
     "output_type": "stream",
     "text": [
      "C:\\Users\\ASUS\\AppData\\Local\\Temp\\ipykernel_12760\\4263728098.py:2: FutureWarning: \n",
      "\n",
      "Passing `palette` without assigning `hue` is deprecated and will be removed in v0.14.0. Assign the `x` variable to `hue` and set `legend=False` for the same effect.\n",
      "\n",
      "  sns.barplot(x = Tiki_category_counts.index, y = Tiki_category_counts.values, palette = 'pastel')\n"
     ]
    },
    {
     "data": {
      "image/png": "[encoded data removed]",
      "text/plain": [
       "<Figure size 1000x600 with 1 Axes>"
      ]
     },
     "metadata": {},
     "output_type": "display_data"
    }
   ],
   "source": [
    "plt.figure(figsize = (10, 6))\n",
    "sns.barplot(x = Tiki_category_counts.index, y = Tiki_category_counts.values, palette = 'pastel')\n",
    "plt.title('Phân bố các giá trị trong cột Category', fontsize = 16)\n",
    "plt.xlabel('Loại', fontsize = 14)\n",
    "plt.ylabel('Số lượng', fontsize = 14)\n",
    "plt.xticks(rotation = 45, ha = 'right')\n",
    "plt.show()"
   ]
  },
  {
   "cell_type": "code",
   "execution_count": 74,
   "id": "80eadb72-e8ed-493b-bc79-15ef9e469853",
   "metadata": {},
   "outputs": [],
   "source": [
    "df_Tiki_product.to_csv('tiki_products_.csv', index=False)"
   ]
  },
  {
   "cell_type": "code",
   "execution_count": 40,
   "id": "9d4f4508-3877-4a95-a057-940989a99ae4",
   "metadata": {},
   "outputs": [],
   "source": [
    "Tiki_avgPrice_per_category = df_Tiki_product.groupby('Category')['Price'].mean().round()"
   ]
  },
  {
   "cell_type": "code",
   "execution_count": 41,
   "id": "4e857434-8925-4b95-b40b-e695cd8d6c75",
   "metadata": {},
   "outputs": [
    {
     "name": "stdout",
     "output_type": "stream",
     "text": [
      "Category\n",
      "váy/quần    201573.0\n",
      "áo          239000.0\n",
      "đồ bộ       207427.0\n",
      "Name: Price, dtype: float64\n"
     ]
    }
   ],
   "source": [
    "print(Tiki_avgPrice_per_category)"
   ]
  },
  {
   "cell_type": "code",
   "execution_count": 42,
   "id": "dd5344c4-3084-4431-879d-8829f689743f",
   "metadata": {},
   "outputs": [
    {
     "name": "stderr",
     "output_type": "stream",
     "text": [
      "C:\\Users\\ASUS\\AppData\\Local\\Temp\\ipykernel_12760\\1182904304.py:2: FutureWarning: \n",
      "\n",
      "Passing `palette` without assigning `hue` is deprecated and will be removed in v0.14.0. Assign the `x` variable to `hue` and set `legend=False` for the same effect.\n",
      "\n",
      "  sns.barplot(x = Tiki_avgPrice_per_category.index, y = Tiki_avgPrice_per_category.values, palette = 'pastel')\n"
     ]
    },
    {
     "data": {
      "image/png": "[encoded data removed]",
      "text/plain": [
       "<Figure size 1000x600 with 1 Axes>"
      ]
     },
     "metadata": {},
     "output_type": "display_data"
    }
   ],
   "source": [
    "plt.figure(figsize = (10, 6))\n",
    "sns.barplot(x = Tiki_avgPrice_per_category.index, y = Tiki_avgPrice_per_category.values, palette = 'pastel')\n",
    "plt.title('Giá tiền trung bình mỗi loại', fontsize = 16)\n",
    "plt.xlabel('Loại', fontsize = 14)\n",
    "plt.ylabel('Giá trung bình', fontsize = 14)\n",
    "plt.xticks(rotation = 45, ha = 'right')\n",
    "plt.show()"
   ]
  },
  {
   "cell_type": "markdown",
   "id": "69fc6165-421c-41f6-b4fe-71b68f958aeb",
   "metadata": {},
   "source": [
    "# Analysis comprehensive overview based on the whole 3 datasets"
   ]
  },
  {
   "cell_type": "code",
   "execution_count": null,
   "id": "bc9cac7c-34a1-4f3a-acb7-846043536cda",
   "metadata": {},
   "outputs": [],
   "source": []
  }
 ],
 "metadata": {
  "kernelspec": {
   "display_name": "Python 3 (ipykernel)",
   "language": "python",
   "name": "python3"
  },
  "language_info": {
   "codemirror_mode": {
    "name": "ipython",
    "version": 3
   },
   "file_extension": ".py",
   "mimetype": "text/x-python",
   "name": "python",
   "nbconvert_exporter": "python",
   "pygments_lexer": "ipython3",
   "version": "3.12.4"
  }
 },
 "nbformat": 4,
 "nbformat_minor": 5
}
