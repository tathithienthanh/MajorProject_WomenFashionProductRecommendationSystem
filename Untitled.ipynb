{
 "cells": [
  {
   "cell_type": "code",
   "execution_count": 1,
   "id": "31400f32-1d5f-4dd2-997f-c2daa68a98a8",
   "metadata": {},
   "outputs": [],
   "source": [
    "import numpy as np\n",
    "import pandas as pd\n",
    "import matplotlib.pyplot as plt\n",
    "import seaborn as sns"
   ]
  },
  {
   "cell_type": "markdown",
   "id": "cd7cb537-d945-443c-ab22-e1741ad04abe",
   "metadata": {},
   "source": [
    "Run this cell if the computer hasn't installed the pymssql library yet"
   ]
  },
  {
   "cell_type": "code",
   "execution_count": null,
   "id": "cb6910a4-a83d-4e26-82e0-0c87b2fe7700",
   "metadata": {},
   "outputs": [],
   "source": [
    "# !pip install pymssql"
   ]
  },
  {
   "cell_type": "code",
   "execution_count": null,
   "id": "4cb94c00-8296-4e2d-b852-ac379b3bd243",
   "metadata": {},
   "outputs": [],
   "source": [
    "import pymssql\n",
    "\n",
    "conn = pymssql.connect(\n",
    "    server='THANH', \n",
    "    user='',\n",
    "    password='',\n",
    "    database='E_Market'\n",
    ")\n",
    "cursor = conn.cursor()"
   ]
  },
  {
   "cell_type": "code",
   "execution_count": null,
   "id": "56816bcf-aae6-4bf9-bfeb-59e317af5584",
   "metadata": {},
   "outputs": [],
   "source": [
    "cursor.execute('''\n",
    "    IF OBJECT_ID('Users', 'U') IS NULL\n",
    "    CREATE TABLE Users (\n",
    "        id INTEGER PRIMARY KEY,\n",
    "        name VARCHAR(255),\n",
    "        follower INTEGER\n",
    "    );\n",
    "\n",
    "    IF OBJECT_ID('Products', 'U') IS NULL\n",
    "    CREATE TABLE Products (\n",
    "        id INTEGER PRIMARY KEY,\n",
    "        name NVARCHAR(255),\n",
    "        id_shop INTEGER,\n",
    "        price FLOAT,\n",
    "        FOREIGN KEY (id_shop) REFERENCES Users(id)\n",
    "    );\n",
    "\n",
    "    IF OBJECT_ID('Feedbacks', 'U') IS NULL\n",
    "    CREATE TABLE Feedbacks (\n",
    "        id INTEGER PRIMARY KEY,\n",
    "        id_product INTEGER,\n",
    "        rate INTEGER,\n",
    "        content VARCHAR(255),\n",
    "        FOREIGN KEY (id_product) REFERENCES Products(id)\n",
    "    );\n",
    "''')\n",
    "\n",
    "conn.commit()"
   ]
  },
  {
   "cell_type": "markdown",
   "id": "682fd1f6-080b-4659-afdd-171d1d8201ad",
   "metadata": {},
   "source": [
    "# Setup Selenium and Web Driver"
   ]
  },
  {
   "cell_type": "markdown",
   "id": "29edec24-4e80-405a-9da3-ebe7a37b3d2f",
   "metadata": {},
   "source": [
    "Run this cell if the computer hasn't installed the selenium and webdriver-manager libraries yet"
   ]
  },
  {
   "cell_type": "code",
   "execution_count": null,
   "id": "4548699c-ff7c-40fa-9c7d-bd8000885626",
   "metadata": {},
   "outputs": [],
   "source": [
    "# !pip install selenium\n",
    "# !pip install webdriver-manager"
   ]
  },
  {
   "cell_type": "code",
   "execution_count": 2,
   "id": "62d8bd07-19d0-4955-87fd-50fd166e11fe",
   "metadata": {},
   "outputs": [],
   "source": [
    "from selenium import webdriver\n",
    "from selenium.webdriver.common.by import By\n",
    "from selenium.webdriver.chrome.service import Service\n",
    "from webdriver_manager.chrome import ChromeDriverManager\n",
    "from selenium.common.exceptions import NoSuchElementException\n",
    "import time\n",
    "\n",
    "service = Service(ChromeDriverManager().install())\n",
    "driver = webdriver.Chrome(service=service)\n",
    "driver.maximize_window()"
   ]
  },
  {
   "cell_type": "markdown",
   "id": "fe3f38d0-02cc-4d58-bd1b-586d14696572",
   "metadata": {},
   "source": [
    "# Scrape Data from Websites"
   ]
  },
  {
   "cell_type": "markdown",
   "id": "c72b2000-586a-4429-adce-7f596aa2b4b2",
   "metadata": {},
   "source": [
    "## Lazada website"
   ]
  },
  {
   "cell_type": "code",
   "execution_count": 96,
   "id": "c96ada92-0e17-48b5-9aef-09c7ccf7efc7",
   "metadata": {},
   "outputs": [],
   "source": [
    "df_Laz_product = pd.DataFrame(columns = ['Url', 'Name', 'Price', 'Voucher', 'Sold', 'NumRate'])\n",
    "df_Laz_shop = pd.DataFrame(columns = ['Url', 'Name', 'Followers'])\n",
    "df_Laz_feedback = pd.DataFrame(columns = ['Product_Url', 'Content', 'Rate'])"
   ]
  },
  {
   "cell_type": "markdown",
   "id": "a1ae9288-4a8e-4c2e-9f92-18120cef26d4",
   "metadata": {},
   "source": [
    "Extract information from 120 products on Lazada website"
   ]
  },
  {
   "cell_type": "code",
   "execution_count": 97,
   "id": "fc5350c2-de68-45ea-944b-8b9010140cd2",
   "metadata": {
    "scrolled": true
   },
   "outputs": [],
   "source": [
    "url = 'https://www.lazada.vn/#?'\n",
    "driver.get(url)\n",
    "search_box = driver.find_element(By.CSS_SELECTOR, \"input.search-box__input--O34g\")\n",
    "search_box.send_keys(\"Quần áo nữ\")\n",
    "search_button = driver.find_element(By.CSS_SELECTOR, \"a.search-box__button--1oH7\")\n",
    "search_button.click()\n",
    "\n",
    "button_nextPage = driver.find_element(By.CSS_SELECTOR, 'li[title=\"Next Page\"] button')\n",
    "\n",
    "for i in range (0, 3):\n",
    "    time.sleep(2)\n",
    "\n",
    "    try:\n",
    "        name_elements = driver.find_elements(By.CSS_SELECTOR, '.RfADt a')\n",
    "        names = [e.text for e in name_elements]\n",
    "        urls = [e.get_attribute('href') for e in name_elements]\n",
    "    except NoSuchElementException:\n",
    "        print('NoSuchElementException')\n",
    "        \n",
    "    try:\n",
    "        price_elements = driver.find_elements(By.CSS_SELECTOR, '.aBrP0')\n",
    "        prices = [e.text for e in price_elements]\n",
    "    except NoSuchElementException:\n",
    "        print('NoSuchElementException')\n",
    "        \n",
    "    try:\n",
    "        voucher_elements = driver.find_elements(By.CSS_SELECTOR, '.WNoq3')\n",
    "        vouchers = [e.text for e in voucher_elements]\n",
    "    except NoSuchElementException:\n",
    "        print('NoSuchElementException')\n",
    "        \n",
    "    try:\n",
    "        sold_elements = driver.find_elements(By.CSS_SELECTOR, 'span._1cEkb')\n",
    "        solds = [e.text for e in sold_elements]\n",
    "    except NoSuchElementException:\n",
    "        print('NoSuchElementException')\n",
    "        \n",
    "    try:\n",
    "        nRate_elements = driver.find_elements(By.CSS_SELECTOR, 'span.qzqFw')\n",
    "        nRates = [e.text for e in nRate_elements]\n",
    "    except NoSuchElementException:\n",
    "        print('NoSuchElementException')\n",
    "    \n",
    "    default_length = len(urls)\n",
    "            \n",
    "    if len(names) < default_length:\n",
    "        names.extend([\"0\"] * (default_length - len(names)))\n",
    "    if len(prices) < default_length:\n",
    "        prices.extend([\"0%\"] * (default_length - len(prices)))\n",
    "    if len(vouchers) < default_length:\n",
    "        vouchers.extend([\"0\"] * (default_length - len(vouchers)))\n",
    "    if len(solds) < default_length:\n",
    "        solds.extend([\"0\"] * (default_length - len(solds)))\n",
    "    if len(nRates) < default_length:\n",
    "        nRates.extend([\"0\"] * (default_length - len(nRates)))\n",
    "\n",
    "    df = pd.DataFrame({\n",
    "            'Url': urls,\n",
    "            'Name': names,\n",
    "            'Price': prices,\n",
    "            'Voucher': vouchers,\n",
    "            'Sold': solds,\n",
    "            'NumRate': nRates\n",
    "        })\n",
    "\n",
    "    df_Laz_product = pd.concat([df_Laz_product, df], ignore_index = True)\n",
    "        \n",
    "    button_nextPage.click()"
   ]
  },
  {
   "cell_type": "code",
   "execution_count": 98,
   "id": "3de92ffa-a8c3-43b0-8b4a-5187be22cd32",
   "metadata": {},
   "outputs": [
    {
     "data": {
      "text/html": [
       "<div>\n",
       "<style scoped>\n",
       "    .dataframe tbody tr th:only-of-type {\n",
       "        vertical-align: middle;\n",
       "    }\n",
       "\n",
       "    .dataframe tbody tr th {\n",
       "        vertical-align: top;\n",
       "    }\n",
       "\n",
       "    .dataframe thead th {\n",
       "        text-align: right;\n",
       "    }\n",
       "</style>\n",
       "<table border=\"1\" class=\"dataframe\">\n",
       "  <thead>\n",
       "    <tr style=\"text-align: right;\">\n",
       "      <th></th>\n",
       "      <th>Url</th>\n",
       "      <th>Name</th>\n",
       "      <th>Price</th>\n",
       "      <th>Voucher</th>\n",
       "      <th>Sold</th>\n",
       "      <th>NumRate</th>\n",
       "    </tr>\n",
       "  </thead>\n",
       "  <tbody>\n",
       "    <tr>\n",
       "      <th>0</th>\n",
       "      <td>https://www.lazada.vn/products/do-bo-nu-di-cho...</td>\n",
       "      <td>Đồ Bộ Nữ Đi Chơi Chất Thun Mát Size M - dưới 5...</td>\n",
       "      <td>₫39,000</td>\n",
       "      <td>Voucher save 61%</td>\n",
       "      <td>3.9K sold</td>\n",
       "      <td>(1370)</td>\n",
       "    </tr>\n",
       "    <tr>\n",
       "      <th>1</th>\n",
       "      <td>https://www.lazada.vn/products/set-ao-phong-ta...</td>\n",
       "      <td>Sét áo phông tay lỡ phối kẻ + quần kẻ dài mẫu mới</td>\n",
       "      <td>₫49,000</td>\n",
       "      <td>Voucher save 62%</td>\n",
       "      <td>23 sold</td>\n",
       "      <td>(11)</td>\n",
       "    </tr>\n",
       "    <tr>\n",
       "      <th>2</th>\n",
       "      <td>https://www.lazada.vn/products/bo-pijama-do-bo...</td>\n",
       "      <td>Bộ Pijama, Đồ Bộ Mặc Nhà Nữ Dáng Cộc xinh xắn</td>\n",
       "      <td>₫19,000</td>\n",
       "      <td>Voucher save 46%</td>\n",
       "      <td>458 sold</td>\n",
       "      <td>(131)</td>\n",
       "    </tr>\n",
       "    <tr>\n",
       "      <th>3</th>\n",
       "      <td>https://www.lazada.vn/products/re-vo-dich-tong...</td>\n",
       "      <td>[ Rẻ Vô Địch ] Tổng hợp các sét quần hoạt hình...</td>\n",
       "      <td>₫79,200</td>\n",
       "      <td>Voucher save 28%</td>\n",
       "      <td>265 sold</td>\n",
       "      <td>(91)</td>\n",
       "    </tr>\n",
       "    <tr>\n",
       "      <th>4</th>\n",
       "      <td>https://www.lazada.vn/products/set-bo-ao-phong...</td>\n",
       "      <td>Set Bộ áo phông BđBcR Nữ Cotton Mix Quần dài K...</td>\n",
       "      <td>₫49,000</td>\n",
       "      <td>Voucher save 29%</td>\n",
       "      <td>171 sold</td>\n",
       "      <td>(60)</td>\n",
       "    </tr>\n",
       "    <tr>\n",
       "      <th>...</th>\n",
       "      <td>...</td>\n",
       "      <td>...</td>\n",
       "      <td>...</td>\n",
       "      <td>...</td>\n",
       "      <td>...</td>\n",
       "      <td>...</td>\n",
       "    </tr>\n",
       "    <tr>\n",
       "      <th>115</th>\n",
       "      <td>https://www.lazada.vn/products/set-quan-short-...</td>\n",
       "      <td>Set quần short đen + áo len sọc xanh QC</td>\n",
       "      <td>₫52,000</td>\n",
       "      <td></td>\n",
       "      <td>18 sold</td>\n",
       "      <td>(5)</td>\n",
       "    </tr>\n",
       "    <tr>\n",
       "      <th>116</th>\n",
       "      <td>https://www.lazada.vn/products/ph-set-bo-3-ao-...</td>\n",
       "      <td>(PH) Set Bộ 3 Áo Ống Kèm Áo Lưới Tay Dài Croto...</td>\n",
       "      <td>₫105,000</td>\n",
       "      <td>Voucher save 30%</td>\n",
       "      <td>7 sold</td>\n",
       "      <td>(1)</td>\n",
       "    </tr>\n",
       "    <tr>\n",
       "      <th>117</th>\n",
       "      <td>https://www.lazada.vn/products/quan-dui-nu-mac...</td>\n",
       "      <td>Quần đùi nữ mặc nhà ỐNG RỘNG, VẢI XƯỢC, DÂY KÉ...</td>\n",
       "      <td>₫35,800</td>\n",
       "      <td>Voucher save 47%</td>\n",
       "      <td>15 sold</td>\n",
       "      <td>(6)</td>\n",
       "    </tr>\n",
       "    <tr>\n",
       "      <th>118</th>\n",
       "      <td>https://www.lazada.vn/products/do-bo-dui-co-tr...</td>\n",
       "      <td>Đồ Bộ Đùi Cổ Tròn Tay Cộc Chất Thun Cotton Su ...</td>\n",
       "      <td>₫79,000</td>\n",
       "      <td>Voucher save 50%</td>\n",
       "      <td>0</td>\n",
       "      <td>0</td>\n",
       "    </tr>\n",
       "    <tr>\n",
       "      <th>119</th>\n",
       "      <td>https://www.lazada.vn/products/quan-ao-phu-nu-...</td>\n",
       "      <td>Pajama Women's Summer Loose Nightgown Women Ko...</td>\n",
       "      <td>₫98,000</td>\n",
       "      <td>Voucher save 34%</td>\n",
       "      <td>0</td>\n",
       "      <td>0</td>\n",
       "    </tr>\n",
       "  </tbody>\n",
       "</table>\n",
       "<p>120 rows × 6 columns</p>\n",
       "</div>"
      ],
      "text/plain": [
       "                                                   Url  \\\n",
       "0    https://www.lazada.vn/products/do-bo-nu-di-cho...   \n",
       "1    https://www.lazada.vn/products/set-ao-phong-ta...   \n",
       "2    https://www.lazada.vn/products/bo-pijama-do-bo...   \n",
       "3    https://www.lazada.vn/products/re-vo-dich-tong...   \n",
       "4    https://www.lazada.vn/products/set-bo-ao-phong...   \n",
       "..                                                 ...   \n",
       "115  https://www.lazada.vn/products/set-quan-short-...   \n",
       "116  https://www.lazada.vn/products/ph-set-bo-3-ao-...   \n",
       "117  https://www.lazada.vn/products/quan-dui-nu-mac...   \n",
       "118  https://www.lazada.vn/products/do-bo-dui-co-tr...   \n",
       "119  https://www.lazada.vn/products/quan-ao-phu-nu-...   \n",
       "\n",
       "                                                  Name     Price  \\\n",
       "0    Đồ Bộ Nữ Đi Chơi Chất Thun Mát Size M - dưới 5...   ₫39,000   \n",
       "1    Sét áo phông tay lỡ phối kẻ + quần kẻ dài mẫu mới   ₫49,000   \n",
       "2        Bộ Pijama, Đồ Bộ Mặc Nhà Nữ Dáng Cộc xinh xắn   ₫19,000   \n",
       "3    [ Rẻ Vô Địch ] Tổng hợp các sét quần hoạt hình...   ₫79,200   \n",
       "4    Set Bộ áo phông BđBcR Nữ Cotton Mix Quần dài K...   ₫49,000   \n",
       "..                                                 ...       ...   \n",
       "115            Set quần short đen + áo len sọc xanh QC   ₫52,000   \n",
       "116  (PH) Set Bộ 3 Áo Ống Kèm Áo Lưới Tay Dài Croto...  ₫105,000   \n",
       "117  Quần đùi nữ mặc nhà ỐNG RỘNG, VẢI XƯỢC, DÂY KÉ...   ₫35,800   \n",
       "118  Đồ Bộ Đùi Cổ Tròn Tay Cộc Chất Thun Cotton Su ...   ₫79,000   \n",
       "119  Pajama Women's Summer Loose Nightgown Women Ko...   ₫98,000   \n",
       "\n",
       "              Voucher       Sold NumRate  \n",
       "0    Voucher save 61%  3.9K sold  (1370)  \n",
       "1    Voucher save 62%    23 sold    (11)  \n",
       "2    Voucher save 46%   458 sold   (131)  \n",
       "3    Voucher save 28%   265 sold    (91)  \n",
       "4    Voucher save 29%   171 sold    (60)  \n",
       "..                ...        ...     ...  \n",
       "115                      18 sold     (5)  \n",
       "116  Voucher save 30%     7 sold     (1)  \n",
       "117  Voucher save 47%    15 sold     (6)  \n",
       "118  Voucher save 50%          0       0  \n",
       "119  Voucher save 34%          0       0  \n",
       "\n",
       "[120 rows x 6 columns]"
      ]
     },
     "execution_count": 98,
     "metadata": {},
     "output_type": "execute_result"
    }
   ],
   "source": [
    "df_Laz_product"
   ]
  },
  {
   "cell_type": "code",
   "execution_count": 99,
   "id": "6d15c22b-f462-4332-9ba2-a8f2de0e92c0",
   "metadata": {},
   "outputs": [],
   "source": [
    "product_urls = list(df_Laz_product['Url'])"
   ]
  },
  {
   "cell_type": "code",
   "execution_count": 100,
   "id": "01b8fb32-1836-4fbe-bf5c-94a2d77338fe",
   "metadata": {
    "scrolled": true
   },
   "outputs": [
    {
     "name": "stdout",
     "output_type": "stream",
     "text": [
      "120\n",
      "https://www.lazada.vn/products/do-bo-nu-di-choi-chat-thun-mat-size-m-duoi-53kg-size-l-tu-54kg-den-65kg-size-xl-tu-65kg-den-72kg-i1072394871.html\n",
      "https://www.lazada.vn/products/set-ao-phong-tay-lo-phoi-ke-quan-ke-dai-mau-moi-i2598385570.html\n",
      "https://www.lazada.vn/products/bo-pijama-do-bo-mac-nha-nu-dang-coc-xinh-xan-i2379278926.html\n",
      "https://www.lazada.vn/products/re-vo-dich-tong-hop-cac-set-quan-hoat-hinh-mix-ao-phong-form-rong-unisex-i2655851219.html\n",
      "https://www.lazada.vn/products/set-bo-ao-phong-bdbcr-nu-cotton-mix-quan-dai-ke-tho-cap-chun-i2633567179.html\n",
      "https://www.lazada.vn/products/set-bo-hottrend-ao-thun-babytee-gan-no-co-no-tay-quan-suong-kaki-4-soc-that-no-i2724942439.html\n",
      "https://www.lazada.vn/products/set-bo-ao-thun-croptop-mix-quan-xuong-hoat-hinh-i2711435293.html\n",
      "https://www.lazada.vn/products/quan-ao-nu-set-ao-3-chu-gau-kem-quan-ong-rong-i2044014686.html\n",
      "https://www.lazada.vn/products/set-bo-do-nu-ao-thun-phoi-tay-bbr-mix-quan-xuong-ke-dang-rong-i2633561733.html\n",
      "https://www.lazada.vn/products/bo-pijama-lua-mau-moi-nhat-tay-dai-chat-lua-mem-min-mat-anh-that-i2543297162.html\n",
      "https://www.lazada.vn/products/set-do-nu-ngu-mac-nha-tay-ngan-in-hoa-tiet-de-thuong-chat-luong-cao-i2634224023.html\n",
      "https://www.lazada.vn/products/bo-do-nam-nu-in-chu-icon-cheo-ao-ngang-quan-den-trang-vai-cotton-from-rong-mau-hot-2024-i2621622379.html\n",
      "https://www.lazada.vn/products/bo-quan-ao-baggy-bobor-ao-thun-tay-lo-ke-2-tay-quan-ao-chat-cotton-day-dan-dang-rong-nam-nu-i2638102183.html\n",
      "https://www.lazada.vn/products/quan-ao-dai-nu-ong-suong-chat-lieu-phi-bong-i589978164.html\n",
      "https://www.lazada.vn/products/bo-mau-hoa-tiet-bao-hong-quan-dui-tay-ngan-cho-cha-me-be-tu-7kg-den-70kg-hoa-tiet-hoat-hinh-de-thuong-chat-thun-mem-min-mat-i2635424282.html\n",
      "https://www.lazada.vn/products/do-bo-nu-mac-nha-de-thuong-bo-ngu-pijama-ngan-hoat-hinh-coc-tay-mua-he-i2016109656.html\n",
      "https://www.lazada.vn/products/bo-pijama-do-bo-mac-nha-nu-dang-coc-de-thuong-cute-i1996773132.html\n",
      "https://www.lazada.vn/products/gia-re-pijama-mac-nha-cho-nu-gia-soc-hang-chay-sale-gia-re-vo-dich-i2041988552.html\n",
      "https://www.lazada.vn/products/3-size-43-65kg-do-bo-gau-tam-theu-chu-bt-quan-phoi-ke-thoi-trang-chat-thun-cotton-co-gian-i255868021.html\n",
      "https://www.lazada.vn/products/co-size-70kg-do-bo-quan-ao-thun-dua-thun-dui-con-gau-thoi-trang-chat-lieu-thun-cotton-i1085984218.html\n",
      "https://www.lazada.vn/products/do-ngu-nu-pijama-mac-nha-bo-ngu-hoat-hinh-coc-tay-quan-dui-mua-he-de-thuong-i2205793953.html\n",
      "https://www.lazada.vn/products/re-chua-tung-thay-bo-ao-so-mi-trang-tay-lo-quan-den-suong-cap-chun-don-gian-ma-thanh-lich-i2501499129.html\n",
      "https://www.lazada.vn/products/set-do-bo-nu-mac-nha-re-dep-mua-he-bo-dui-the-thao-nu-bo-quan-ao-dui-nu-chat-thun-coton-in-gau-cut-thoi-xuong-may-thanh-nga-wqa-041-i2579070196.html\n",
      "https://www.lazada.vn/products/recool-ao-ngan-tay-va-quan-ong-rong-bo-dan-thoai-mai-khi-mac-trang-phuc-dan-cho-nu-phu-nu-va-nu-i2416217631.html\n",
      "https://www.lazada.vn/products/set-ba-mon-cheo-bungquan-bom-chun-ong-i1418510468.html\n",
      "https://www.lazada.vn/products/set-baggy-jeans-ong-suong-xam-rach-mix-ao-rut-day-tim-i2510101862.html\n",
      "https://www.lazada.vn/products/do-ngu-goi-cam-vai-satiin-dep-bt-fashion-yem-dap-ly-dn01-i1585436921.html\n",
      "https://www.lazada.vn/products/quan-ao-nu-set-ao-sweater-gau-om-sao-kem-quan-bom-day-rut-i2024179499.html\n",
      "https://www.lazada.vn/products/do-bo-mac-nha-nu-quan-lung-bigsize-35-82kg-mua-he-vai-thun-de-thuong-do-ngu-i2653780757.html\n",
      "https://www.lazada.vn/products/quan-ao-nu-set-ao-logo-tho-kem-quan-ke-den-trang-i1948641819.html\n",
      "https://www.lazada.vn/products/set-bo-dui-nu-from-rong-chat-cotton-su_b-i2335600527.html\n",
      "https://www.lazada.vn/products/re-vo-dich-set-quan-ong-loe-chat-umi-mix-ao-phong-form-rong-unisex-trai-tim-be-i2655988191.html\n",
      "https://www.lazada.vn/products/bo-ao-phong-ke-tay-quan-ke-chat-cotton-mat-min-nam-nu-hottrend-2024-i2688191229.html\n",
      "https://www.lazada.vn/products/set-bo-ao-croptop-khuy-nguc-mix-quan-xuong-chan-neo-i2711258907.html\n",
      "https://www.lazada.vn/products/set-vay-gom-ao-tre-vai-bo-tam-be-vai-tay-dai-cheo-vat-chan-vay-dui-gan-phoi-ren-i2724994201.html\n",
      "https://www.lazada.vn/products/set-ao-trang-in-hinh-quan-soc-karo-ao-phong-from-rong-chat-vai-mat-thiet-ke-phong-cach-ca-tinh-mimosa-i2619110849.html\n",
      "https://www.lazada.vn/products/set-bo-dai-do-nu-ao-thun-tay-ke-mix-quan-vai-tho-mem-ke-form-rong-unisex-i2689540241.html\n",
      "https://www.lazada.vn/products/2-size-45-70kg-do-bo-dui-nut-sau-phom-suong-vai-dui-linen-sieu-de-thuong-mem-mat-khong-nhan-thoi-trang-i1086020403.html\n",
      "https://www.lazada.vn/products/bo-do-ngu-nam-nu-khung-long-dong-vat-nguoi-lon-mua-dong-trang-phuc-hoat-hinh-dong-vat-pikachu-gau-truc-kigurumi-stitch-do-ngu-ao-lien-quan-i1869827869.html\n",
      "https://www.lazada.vn/products/kieu-co-dien-cho-nu-zanzea-gian-di-ao-sat-nach-that-lung-co-gian-quan-dai-mau-tuong-phan-bo-thanh-lich-0826-i2772798503.html\n",
      "https://www.lazada.vn/products/ao-khoac-nam-hoodie-chong-nang-whenever-ni-bong-in-noi-form-rong-nam-nu-mua-dong-cap-doi-unisex-dang-boxy-thoi-trang-ba-mau-g8_shop-01-i2590505300.html\n",
      "https://www.lazada.vn/products/set-bo-quan-ong-suong-hoa-tiet-cho-neo-mix-ao-phong-thuy-thu-hang-theu-i2706778715.html\n",
      "https://www.lazada.vn/products/set-ao-kem-quan-ong-rong-in-hinh-co-be-chup-anh-co-ban-le-ao-hinh-in-sac-net-ben-dep-i1780193336.html\n",
      "https://www.lazada.vn/products/tong-hop-cac-set-quan-ong-loe-ke-4-soc-mix-ao-phong-form-rong-tay-lo-cac-mau-hot-i2746125671.html\n",
      "https://www.lazada.vn/products/set-bo-ao-thun-mix-quan-chan-neo-set-club-i2687877247.html\n",
      "https://www.lazada.vn/products/tong-hop-cac-set-bo-quan-ong-loe-chat-umi-mix-ao-phong-form-rong-tay-lo-unisex-i2694872469.html\n",
      "https://www.lazada.vn/products/re-vo-dich-tong-hop-cac-set-bo-quan-ong-suong-hoa-tiet-cho-neo-mix-ao-phong-pari-trang-hong-i2706847460.html\n",
      "https://www.lazada.vn/products/ph120-set-bo-ao-thun-tay-ngan-co-cao-phoi-quan-dai-ong-rong-xep-ly-nu-tinh-de-thuong-i2407839139.html\n",
      "https://www.lazada.vn/products/set-bo-ao-coc-tay-co-be-di-xe-may-kem-quan-bom-day-rut-i1896905264.html\n",
      "https://www.lazada.vn/products/set-bo-ao-thun-mam-la-gian-doi-quan-ke-ong-rong-dep-i1728992685.html\n",
      "https://www.lazada.vn/products/do-lam-ao-trang-phat-tu-trang-phuc-truyen-thong-do-bo-mac-nha-quan-ao-phat-tu-do-lam-di-chua-mau-nu-i2535049375.html\n",
      "https://www.lazada.vn/products/quan-short-dui-nu-co-gian-cap-chun-dang-ngan-i2308596862.html\n",
      "https://www.lazada.vn/products/bo-ao-thun-ngan-tay-dang-rong-quan-short-denim-lung-cao-phong-cach-the-thao-thoi-trang-mua-he-cho-nu-thoi-xuong-may-thanh-nga-wqa-042-i2579070195.html\n",
      "https://www.lazada.vn/products/set-bo-ao-cheo-vat-coc-tay-chat-thun-tam-quan-ong-rong-chat-dui-i2499021384.html\n",
      "https://www.lazada.vn/products/set-ao-thun-cuu-quan-karo-ao-phong-from-rong-chat-vai-mat-thiet-ke-phong-cach-ca-tinh-mimosa-i2325079893.html\n",
      "https://www.lazada.vn/products/bo-do-ngu-mac-nha-ao-hai-day-phoi-quan-short-mac-he-chat-mat-chili-i2589399584.html\n",
      "https://www.lazada.vn/products/mot-nut-theu-kate-trang-phuc-truyen-thong-quan-ao-nu-phat-tu-theu-hoa-van-do-lam-phat-di-chua-nu-mau-01-nut-ma-pn42a-i1947035774.html\n",
      "https://www.lazada.vn/products/set-bo-thun-gan-kate-quan-xuong-ao-croptop-thun-gan-set-bo-2-mon-ao-thun-gan-quan-xuong-ong-rong-set-bo-nu-htun-gan-kem-anh-that-i1870167685.html\n",
      "https://www.lazada.vn/products/bo-do-ao-trang-id-kem-quan-xuong-ong-rong-i2345463411.html\n",
      "https://www.lazada.vn/products/set-bo-ao-thun-tay-lo-phoi-quan-xuong-tron-unisex-form-rong-38-65kg-video-anh-chup-that-phu-thuy-cuoi-choi-i2122948443.html\n",
      "https://www.lazada.vn/products/set-ao-phong-tay-lo-phoi-ke-quan-ke-dai-i2689174377.html\n",
      "https://www.lazada.vn/products/set-ao-kem-quan-smile-phu-hop-di-choi-di-hoc-i1405532566.html\n",
      "https://www.lazada.vn/products/set-do-bo-thun-gan-tam-lanh-ao-phom-suong-quan-ong-rong-i2223727075.html\n",
      "https://www.lazada.vn/products/do-bo-nu-thiet-ke-moi-2024-set-do-nu-ao-sat-nach-quan-sooc-ma-g4-i2722014631.html\n",
      "https://www.lazada.vn/products/set-ao-phong-co-be-so-10-quan-bom-karo-ao-phong-from-rong-chat-vai-mat-thiet-ke-phong-cach-ca-tinh-pudding-i2403382476.html\n",
      "https://www.lazada.vn/products/set-bo-ao-thun-polo-battle-form-rong-mix-quan-dui-i2306107202.html\n",
      "https://www.lazada.vn/products/thoi-trang-nu-mau-tron-playsuit-khong-tay-ho-lung-skinny-ao-lien-quan-ngan-mua-he-cau-lac-bo-rompers-thoi-trang-dao-pho-i2340854788.html\n",
      "https://www.lazada.vn/products/do-bo-nu-mua-he-lanlee-official-chat-cotton-ao-ngan-quan-ngan-in-hinh-cho-snoopy-c-i2631346297.html\n",
      "https://www.lazada.vn/products/vay-ngu-nu-sexy-kieu-ren-duoi-ca-2-day-xuyen-thau-kem-quan-lot-lot-khe-sieu-goi-cam-quyen-ru-i2346752809.html\n",
      "https://www.lazada.vn/products/set-do-bo-nu-mac-nha-re-dep-mua-he-bo-dui-the-thao-nu-bo-quan-ao-dui-nu-chat-thun-coton-in-gau-cut-thoi-rich-man-wqa-041-i2579002702.html\n",
      "https://www.lazada.vn/products/set-bo-ao-croptop-mix-quan-jean-tui-dai-i2646870619.html\n",
      "https://www.lazada.vn/products/ph248-set-do-bo-gan-ao-thun-co-v-vien-mau-phoi-quan-ong-rong-de-thuong-xinh-gai-nu-tinh-dang-yeu-i2417227023.html\n",
      "https://www.lazada.vn/products/set-ao-phong-gau-happy-quan-bom-karo-ao-phong-from-rong-chat-vai-mat-thiet-ke-phong-cach-ca-tinh-fpudding-i2403404969.html\n",
      "https://www.lazada.vn/products/set-bo-thoi-trang-quan-ong-rong-phoi-ao-co-so-mi-sieu-de-thuong-i2261210616.html\n",
      "https://www.lazada.vn/products/set-do-nu-mac-nha-re-dep-mua-he-bo-dui-nu-bo-quan-ao-nu-chat-thun-cotton-in-chu-the-thoi-xuong-may-thanh-nga-wqa-036-i2579011508.html\n",
      "https://www.lazada.vn/products/re-vo-dich-tong-hop-cac-set-bo-quan-ke-caro-vang-bbr-mix-kem-ao-phong-form-rong-tay-lo-i2694760477.html\n",
      "https://www.lazada.vn/products/set-ao-meo-om-nhau-tim-kem-quan-ke-rat-de-thuong-phu-hop-di-hoc-di-choi-teen-i2465363765.html\n",
      "https://www.lazada.vn/products/mua-he-modal-bo-do-ngu-phu-nu-mong-rong-quan-ao-nha-ao-phong-ngan-tay-quan-short-lon-bo-do-hai-manh-ngoai-i2773576750.html\n",
      "https://www.lazada.vn/products/re-vo-dich-set-bo-quan-ong-leo-chat-umi-mix-ao-phong-thuy-thu-form-rong-tay-lo-unisex-i2706977025.html\n",
      "https://www.lazada.vn/products/weci-do-ngu-goi-cam-do-lot-ren-co-day-quan-ao-ngu-goi-cam-cho-nu-dam-mini-hot-pijama-lua-do-ngu-cho-nu-i2198242252.html\n",
      "https://www.lazada.vn/products/re-vo-dich-set-bo-ao-polo-mix-quan-v-i1940798580.html\n",
      "https://www.lazada.vn/products/quan-sot-da-ca-unisex-co-gian-thoi-trang-freesize-duoi-65kg-i2594332341.html\n",
      "https://www.lazada.vn/products/set-ao-in-hinh-gau-doi-mu-hut-tra-sua-di-hoc-kem-quan-ong-rong-rat-de-thuong-phu-hop-di-hoc-di-choi-i1714171822.html\n",
      "https://www.lazada.vn/products/set-bo-ao-thun-pari-su-mix-quan-xuong-cha-neo-i2769955815.html\n",
      "https://www.lazada.vn/products/bo-do-cotton-nu-set-do-nu-thoi-trang-mac-nha-hoac-di-choi-nhieu-mau-thoi-mway-wqa-033-i2579017463.html\n",
      "https://www.lazada.vn/products/top-ban-chay-bo-quan-ao-trai-cay-di-bien-hawaii-anh-that-mau-tuoi-sang-tuyen-chonnamyshop79-i343866105.html\n",
      "https://www.lazada.vn/products/set-ao-croptop-phoi-quan-dai-lua-vai-dep-y-hinh-hang-ban-shop-i2335532242.html\n",
      "https://www.lazada.vn/products/set-2-mon-quan-sooc-ho-tui-kem-ao-2-day-co-dep-nguc-i2664614523.html\n",
      "https://www.lazada.vn/products/set-do-nu-mac-nha-re-dep-chu-b-phoi-tay-mau-mua-he-bo-dui-nu-quan-ngan-ao-tay-coc-in-nhiet-khong-bong-tp645-i2689435385.html\n",
      "https://www.lazada.vn/products/set-quan-suong-ao-co-vuong-tay-tum-i2242837072.html\n",
      "https://www.lazada.vn/products/quan-ao-dai-i1336110912.html\n",
      "https://www.lazada.vn/products/set-bo-croptop-quan-bo-chun-mix-ao-croptop-coc-tay-co-co-i1940818356.html\n",
      "https://www.lazada.vn/products/do-bo-pijama-nu-mac-nha-ao-coc-quan-dui-hang-thiet-ke-chat-lieu-cao-cap-i2589288707.html\n",
      "https://www.lazada.vn/products/set-ao-thun-cuu-quan-karo-ao-phong-from-rong-chat-vai-mat-thiet-ke-phong-cach-ca-tinh-leeda-i2325148429.html\n",
      "https://www.lazada.vn/products/bo-ngu-pijama-dai-tay-co-vuong-nu-set-bo-do-ngu-tieu-thu-tay-dai-quan-dai-de-thuong-i2241219349.html\n",
      "https://www.lazada.vn/products/bo-dui-quan-coc-ao-sat-nach-chat-vai-dui-cao-cap-sn-snlt-i2193174915.html\n",
      "https://www.lazada.vn/products/dam-ngu-nu-dam-ngu-quan-ao-ngu-kem-ao-nguc-ao-hai-day-chap-va-dam-ngu-lua-mac-ngu-i2388560894.html\n",
      "https://www.lazada.vn/products/co-size-dai-75kg-bo-pijama-nu-mac-nha-tay-coctay-dai-quan-dai-quan-ao-ngu-nu-phong-cach-thoi-trang-sbp-i2620474887.html\n",
      "https://www.lazada.vn/products/zanzea-phong-cach-han-quoc-bo-do-nu-2-chiec-ao-blazer-tay-ao-dai-thoi-trang-moi-bo-dam-tank-midi-dong-bang-cong-so-ol-11-i2502193463.html\n",
      "https://www.lazada.vn/products/set-ao-phong-cotton-kho-kem-quan-sooc-jean-theu-chu-pari-i2664607445.html\n",
      "https://www.lazada.vn/products/bigsize-45-95kg-set-vay-nu-bo-do-ao-co-v-phoi-mau-bo-det-tay-ngan-kem-chan-vay-thoi-trang-du-tiec-xinh-i2633215018.html\n",
      "https://www.lazada.vn/products/set-ao-mam-la-choi-lien-quan-dang-rat-hot-hit-va-de-thuong-cho-cac-teen-di-hoc-di-choi-day-a-i1714331297.html\n",
      "https://www.lazada.vn/products/freeship-voucher-8-27-mau-full-mau-bo-dui-bao-hong-pink-panther-set-do-bo-nu-hoat-hinh-cotton-phom-rong-phoi-quan-short-cartoon-unisex-i2489425692.html\n",
      "https://www.lazada.vn/products/set-quan-dai-phoi-ao-croptop-set-quan-kem-ao-di-choi-sang-chanh-vai-dep-i2280337277.html\n",
      "https://www.lazada.vn/products/set-ao-in-logo-2-cun-xinh-xinh-kem-quan-ong-rong-rat-de-thuong-i1714169900.html\n",
      "https://www.lazada.vn/products/bo-quan-ao-nu-quan-short-ao-co-tron-sat-nach-vai-bo-gan-sieu-xinh-co-gian-tot-thiet-ke-sang-chanh-ton-dang-de-thuong-di-choi-dao-pho-deu-dep-du-mau-i2365184810.html\n",
      "https://www.lazada.vn/products/do-bo-mac-nha-danh-cho-nu-form-quan-tay-phoi-ao-dang-vest-full-size-40-70kg-i2053652174.html\n",
      "https://www.lazada.vn/products/bo-ao-coc-co-so-mi-quan-dai-thiet-ke-lich-su-tre-trung-ma-e41-i2751041715.html\n",
      "https://www.lazada.vn/products/ph-set-do-bo-3-mon-ao-thun-croptop-2-day-in-chu-barbie-kem-ao-khoac-ngoai-phoi-quan-dai-ong-rong-in-3d-de-thuong-nu-tinh-dep-gai-i2595333210.html\n",
      "https://www.lazada.vn/products/do-bo-pijama-nu-tieu-thu-tay-dai-quan-dai-co-beo-de-thuong-do-ngu-nu-mac-nha-gia-re-bo-do-ngu-cute-set-bo-ngu-mac-o-nha-chat-kate-thai-cho-nu-duoi-58kg-i1614790212.html\n",
      "https://www.lazada.vn/products/set-bo-sat-nach-nu-thiet-ke-co-ao-so-mi-quan-ong-rong-chat-dui-ma-m64-i2749971095.html\n",
      "https://www.lazada.vn/products/bo-do-ngu-mua-xuan-va-mua-thu-bo-do-the-thao-chu-man-jia-cho-nu-co-tron-rong-quan-ao-gia-dinh-hello-kitty-de-thuong-quan-dai-tay-gian-di-gian-di-bo-do-hai-mon-i2502219312.html\n",
      "https://www.lazada.vn/products/bo-quan-ao-nu-quan-dai-ong-rong-ao-co-tron-tay-dai-om-body-sieu-xinh-vai-gan-co-gian-tot-thiet-ke-sang-chanh-ton-dang-de-thuong-di-choi-dao-pho-deu-dep-i2359789984.html\n",
      "https://www.lazada.vn/products/do-bo-ngu-2-day-bo-do-ngu-mac-nha-quan-dui-chat-lua-mem-mat-chili-i2589337588.html\n",
      "https://www.lazada.vn/products/quan-ao-nu-sang-chanh-ao-sat-nach-quan-suong-set-do-di-choi-di-du-lich-ma-a8-i2721935889.html\n",
      "https://www.lazada.vn/products/set-quan-short-den-ao-len-soc-xanh-qc-i2477884261.html\n",
      "https://www.lazada.vn/products/ph-set-bo-3-ao-ong-kem-ao-luoi-tay-dai-crotop-phoi-quan-dai-ong-rong-in-chu-3d-de-thuong-nu-tinh-dep-gai-i2591701014.html\n",
      "https://www.lazada.vn/products/quan-dui-nu-mac-nha-ong-rong-vai-xuoc-day-keo-co-tui-quan-dui-nu-dep-quan-sot-nu-quan-short-nu-quan-sooc-nu-quan-short-dui-nu-mem-mat-phoi-do-di-choi-di-cafe-i2234778039.html\n",
      "https://www.lazada.vn/products/do-bo-dui-co-tron-tay-coc-chat-thun-cotton-su-mem-3-size-40-70kg-i2731619017.html\n",
      "https://www.lazada.vn/products/quan-ao-phu-nu-mang-thai-tuoi-teen-pajama-phu-nu-mua-he-ao-ngu-suong-cho-nu-phien-ban-han-quoc-kieu-hoc-sinh-de-thuong-co-lon-i2773757003.html\n"
     ]
    }
   ],
   "source": [
    "print(len(product_urls))\n",
    "for url in product_urls:\n",
    "    print(url)"
   ]
  },
  {
   "cell_type": "markdown",
   "id": "9e7b5ce2-d750-46f8-911b-1ff9b5db1a32",
   "metadata": {},
   "source": [
    "Store the product URLs in a text file as a backup"
   ]
  },
  {
   "cell_type": "code",
   "execution_count": 101,
   "id": "e8a12252-d997-4eb7-a88d-d468a3d58cf3",
   "metadata": {},
   "outputs": [],
   "source": [
    "with open('Laz_product_urls.txt', mode='w') as file:\n",
    "    for row in product_urls:\n",
    "        file.write(row + \"\\n\")"
   ]
  },
  {
   "cell_type": "markdown",
   "id": "50f1351d-fe30-48eb-b77d-03fe36dbe32d",
   "metadata": {},
   "source": [
    "Retrieve the list of product URLs from the backup file"
   ]
  },
  {
   "cell_type": "code",
   "execution_count": 102,
   "id": "978eeef0-d460-47e2-b380-724d5c6f638f",
   "metadata": {
    "scrolled": true
   },
   "outputs": [],
   "source": [
    "with open('Laz_product_urls.txt', mode='r') as file:\n",
    "    links = file.readlines()\n",
    "links = [link.strip() for link in links]\n",
    "# print(links)"
   ]
  },
  {
   "cell_type": "code",
   "execution_count": 103,
   "id": "77e88ba4-8d28-48a5-8e90-ebbc018a4298",
   "metadata": {},
   "outputs": [],
   "source": [
    "Laz_product_urls = links"
   ]
  },
  {
   "cell_type": "markdown",
   "id": "26279167-ee70-491a-8e80-679171ed7edf",
   "metadata": {},
   "source": [
    "Store the product dataframe in a csv file as a backup"
   ]
  },
  {
   "cell_type": "code",
   "execution_count": 104,
   "id": "faac775c-0e3d-47ca-a66d-a7ea4e5a1de6",
   "metadata": {},
   "outputs": [],
   "source": [
    "df_Laz_product.to_csv('lazada_products.csv', index=False)"
   ]
  },
  {
   "cell_type": "markdown",
   "id": "148abc4c-ada4-4bfd-be3e-19f502047ca4",
   "metadata": {},
   "source": [
    "Retrieve the product dataframe from the backup file"
   ]
  },
  {
   "cell_type": "code",
   "execution_count": 105,
   "id": "75276a91-7d4c-4b35-ba3a-1578d6fa8573",
   "metadata": {},
   "outputs": [
    {
     "data": {
      "text/html": [
       "<div>\n",
       "<style scoped>\n",
       "    .dataframe tbody tr th:only-of-type {\n",
       "        vertical-align: middle;\n",
       "    }\n",
       "\n",
       "    .dataframe tbody tr th {\n",
       "        vertical-align: top;\n",
       "    }\n",
       "\n",
       "    .dataframe thead th {\n",
       "        text-align: right;\n",
       "    }\n",
       "</style>\n",
       "<table border=\"1\" class=\"dataframe\">\n",
       "  <thead>\n",
       "    <tr style=\"text-align: right;\">\n",
       "      <th></th>\n",
       "      <th>Url</th>\n",
       "      <th>Name</th>\n",
       "      <th>Price</th>\n",
       "      <th>Voucher</th>\n",
       "      <th>Sold</th>\n",
       "      <th>NumRate</th>\n",
       "    </tr>\n",
       "  </thead>\n",
       "  <tbody>\n",
       "    <tr>\n",
       "      <th>0</th>\n",
       "      <td>https://www.lazada.vn/products/do-bo-nu-di-cho...</td>\n",
       "      <td>Đồ Bộ Nữ Đi Chơi Chất Thun Mát Size M - dưới 5...</td>\n",
       "      <td>₫39,000</td>\n",
       "      <td>Voucher save 61%</td>\n",
       "      <td>3.9K sold</td>\n",
       "      <td>(1370)</td>\n",
       "    </tr>\n",
       "    <tr>\n",
       "      <th>1</th>\n",
       "      <td>https://www.lazada.vn/products/set-ao-phong-ta...</td>\n",
       "      <td>Sét áo phông tay lỡ phối kẻ + quần kẻ dài mẫu mới</td>\n",
       "      <td>₫49,000</td>\n",
       "      <td>Voucher save 62%</td>\n",
       "      <td>23 sold</td>\n",
       "      <td>(11)</td>\n",
       "    </tr>\n",
       "    <tr>\n",
       "      <th>2</th>\n",
       "      <td>https://www.lazada.vn/products/bo-pijama-do-bo...</td>\n",
       "      <td>Bộ Pijama, Đồ Bộ Mặc Nhà Nữ Dáng Cộc xinh xắn</td>\n",
       "      <td>₫19,000</td>\n",
       "      <td>Voucher save 46%</td>\n",
       "      <td>458 sold</td>\n",
       "      <td>(131)</td>\n",
       "    </tr>\n",
       "    <tr>\n",
       "      <th>3</th>\n",
       "      <td>https://www.lazada.vn/products/re-vo-dich-tong...</td>\n",
       "      <td>[ Rẻ Vô Địch ] Tổng hợp các sét quần hoạt hình...</td>\n",
       "      <td>₫79,200</td>\n",
       "      <td>Voucher save 28%</td>\n",
       "      <td>265 sold</td>\n",
       "      <td>(91)</td>\n",
       "    </tr>\n",
       "    <tr>\n",
       "      <th>4</th>\n",
       "      <td>https://www.lazada.vn/products/set-bo-ao-phong...</td>\n",
       "      <td>Set Bộ áo phông BđBcR Nữ Cotton Mix Quần dài K...</td>\n",
       "      <td>₫49,000</td>\n",
       "      <td>Voucher save 29%</td>\n",
       "      <td>171 sold</td>\n",
       "      <td>(60)</td>\n",
       "    </tr>\n",
       "    <tr>\n",
       "      <th>...</th>\n",
       "      <td>...</td>\n",
       "      <td>...</td>\n",
       "      <td>...</td>\n",
       "      <td>...</td>\n",
       "      <td>...</td>\n",
       "      <td>...</td>\n",
       "    </tr>\n",
       "    <tr>\n",
       "      <th>115</th>\n",
       "      <td>https://www.lazada.vn/products/set-quan-short-...</td>\n",
       "      <td>Set quần short đen + áo len sọc xanh QC</td>\n",
       "      <td>₫52,000</td>\n",
       "      <td>NaN</td>\n",
       "      <td>18 sold</td>\n",
       "      <td>(5)</td>\n",
       "    </tr>\n",
       "    <tr>\n",
       "      <th>116</th>\n",
       "      <td>https://www.lazada.vn/products/ph-set-bo-3-ao-...</td>\n",
       "      <td>(PH) Set Bộ 3 Áo Ống Kèm Áo Lưới Tay Dài Croto...</td>\n",
       "      <td>₫105,000</td>\n",
       "      <td>Voucher save 30%</td>\n",
       "      <td>7 sold</td>\n",
       "      <td>(1)</td>\n",
       "    </tr>\n",
       "    <tr>\n",
       "      <th>117</th>\n",
       "      <td>https://www.lazada.vn/products/quan-dui-nu-mac...</td>\n",
       "      <td>Quần đùi nữ mặc nhà ỐNG RỘNG, VẢI XƯỢC, DÂY KÉ...</td>\n",
       "      <td>₫35,800</td>\n",
       "      <td>Voucher save 47%</td>\n",
       "      <td>15 sold</td>\n",
       "      <td>(6)</td>\n",
       "    </tr>\n",
       "    <tr>\n",
       "      <th>118</th>\n",
       "      <td>https://www.lazada.vn/products/do-bo-dui-co-tr...</td>\n",
       "      <td>Đồ Bộ Đùi Cổ Tròn Tay Cộc Chất Thun Cotton Su ...</td>\n",
       "      <td>₫79,000</td>\n",
       "      <td>Voucher save 50%</td>\n",
       "      <td>0</td>\n",
       "      <td>0</td>\n",
       "    </tr>\n",
       "    <tr>\n",
       "      <th>119</th>\n",
       "      <td>https://www.lazada.vn/products/quan-ao-phu-nu-...</td>\n",
       "      <td>Pajama Women's Summer Loose Nightgown Women Ko...</td>\n",
       "      <td>₫98,000</td>\n",
       "      <td>Voucher save 34%</td>\n",
       "      <td>0</td>\n",
       "      <td>0</td>\n",
       "    </tr>\n",
       "  </tbody>\n",
       "</table>\n",
       "<p>120 rows × 6 columns</p>\n",
       "</div>"
      ],
      "text/plain": [
       "                                                   Url  \\\n",
       "0    https://www.lazada.vn/products/do-bo-nu-di-cho...   \n",
       "1    https://www.lazada.vn/products/set-ao-phong-ta...   \n",
       "2    https://www.lazada.vn/products/bo-pijama-do-bo...   \n",
       "3    https://www.lazada.vn/products/re-vo-dich-tong...   \n",
       "4    https://www.lazada.vn/products/set-bo-ao-phong...   \n",
       "..                                                 ...   \n",
       "115  https://www.lazada.vn/products/set-quan-short-...   \n",
       "116  https://www.lazada.vn/products/ph-set-bo-3-ao-...   \n",
       "117  https://www.lazada.vn/products/quan-dui-nu-mac...   \n",
       "118  https://www.lazada.vn/products/do-bo-dui-co-tr...   \n",
       "119  https://www.lazada.vn/products/quan-ao-phu-nu-...   \n",
       "\n",
       "                                                  Name     Price  \\\n",
       "0    Đồ Bộ Nữ Đi Chơi Chất Thun Mát Size M - dưới 5...   ₫39,000   \n",
       "1    Sét áo phông tay lỡ phối kẻ + quần kẻ dài mẫu mới   ₫49,000   \n",
       "2        Bộ Pijama, Đồ Bộ Mặc Nhà Nữ Dáng Cộc xinh xắn   ₫19,000   \n",
       "3    [ Rẻ Vô Địch ] Tổng hợp các sét quần hoạt hình...   ₫79,200   \n",
       "4    Set Bộ áo phông BđBcR Nữ Cotton Mix Quần dài K...   ₫49,000   \n",
       "..                                                 ...       ...   \n",
       "115            Set quần short đen + áo len sọc xanh QC   ₫52,000   \n",
       "116  (PH) Set Bộ 3 Áo Ống Kèm Áo Lưới Tay Dài Croto...  ₫105,000   \n",
       "117  Quần đùi nữ mặc nhà ỐNG RỘNG, VẢI XƯỢC, DÂY KÉ...   ₫35,800   \n",
       "118  Đồ Bộ Đùi Cổ Tròn Tay Cộc Chất Thun Cotton Su ...   ₫79,000   \n",
       "119  Pajama Women's Summer Loose Nightgown Women Ko...   ₫98,000   \n",
       "\n",
       "              Voucher       Sold NumRate  \n",
       "0    Voucher save 61%  3.9K sold  (1370)  \n",
       "1    Voucher save 62%    23 sold    (11)  \n",
       "2    Voucher save 46%   458 sold   (131)  \n",
       "3    Voucher save 28%   265 sold    (91)  \n",
       "4    Voucher save 29%   171 sold    (60)  \n",
       "..                ...        ...     ...  \n",
       "115               NaN    18 sold     (5)  \n",
       "116  Voucher save 30%     7 sold     (1)  \n",
       "117  Voucher save 47%    15 sold     (6)  \n",
       "118  Voucher save 50%          0       0  \n",
       "119  Voucher save 34%          0       0  \n",
       "\n",
       "[120 rows x 6 columns]"
      ]
     },
     "execution_count": 105,
     "metadata": {},
     "output_type": "execute_result"
    }
   ],
   "source": [
    "df_Laz_product = pd.read_csv('lazada_products.csv')\n",
    "df_Laz_product"
   ]
  },
  {
   "cell_type": "markdown",
   "id": "f7318182-756e-4b2d-9ba5-d269c5c32fa9",
   "metadata": {},
   "source": [
    "Retrieve the shop urls on Lazada website"
   ]
  },
  {
   "cell_type": "code",
   "execution_count": 31,
   "id": "c5e79883-e7c5-4004-851b-604fe9805efa",
   "metadata": {},
   "outputs": [],
   "source": [
    "def count_rate_star(containerStar_element):\n",
    "    goldStar_url = 'https://img.lazcdn.com/g/tps/tfs/TB19ZvEgfDH8KJjy1XcXXcpdXXa-64-64.png'\n",
    "    countStar = 0\n",
    "    img_elements = container.find_elements(By.TAG_NAME, 'img')\n",
    "    \n",
    "    for img in img_elements:\n",
    "        if img.get_attribute('src') == goldStar_url:\n",
    "            countStar = countStar + 1\n",
    "            # print('Gold')\n",
    "    return countStar"
   ]
  },
  {
   "cell_type": "code",
   "execution_count": 19,
   "id": "74094e3b-f5e1-4dae-90ed-89aef243850f",
   "metadata": {},
   "outputs": [],
   "source": [
    "def scroll_to_feedbacks(driver):\n",
    "    try:\n",
    "        feedbacks_section = driver.find_element(By.CSS_SELECTOR, '.mod-review')\n",
    "        driver.execute_script(\"arguments[0].scrollIntoView();\", feedbacks_section)\n",
    "        time.sleep(2)\n",
    "    except NoSuchElementException:\n",
    "        print(\"No reviews section found.\")\n",
    "\n",
    "def scroll_to_next_page(driver):\n",
    "    try:\n",
    "        next_button = driver.find_element(By.CSS_SELECTOR, 'button.next-btn.next-btn-normal.next-btn-medium.next-pagination-item.next')\n",
    "        driver.execute_script(\"arguments[0].scrollIntoView();\", next_button)\n",
    "        time.sleep(2)\n",
    "    except NoSuchElementException:\n",
    "        print(\"No next button found.\")"
   ]
  },
  {
   "cell_type": "code",
   "execution_count": null,
   "id": "f3a4f566-22f6-400e-a481-792c0ac8440a",
   "metadata": {
    "scrolled": true
   },
   "outputs": [],
   "source": [
    "Laz_shop_urls = []\n",
    "for url in Laz_product_urls:\n",
    "    driver.get(url)\n",
    "    time.sleep(5)\n",
    "\n",
    "    try:    \n",
    "        shop_url = driver.find_element(By.CSS_SELECTOR, 'div.seller-link a').get_attribute('href')\n",
    "        Laz_shop_urls.append(shop_url)\n",
    "    except NoSuchElementException:\n",
    "        shop_url = ''\n",
    "        print('NoSuchElementException')\n",
    "        \n",
    "    # Get the feedback information\n",
    "    \n",
    "    while True:\n",
    "        try:\n",
    "            content_elements = driver.find_elements(By.CSS_SELECTOR, '')\n",
    "            contents = [e.text for e in content_elements]\n",
    "        except NoSuchElementException:\n",
    "            print('NoSuchElementException')\n",
    "            \n",
    "        try:\n",
    "            containerStar_elements = driver.find_elements(By.CSS_SELECTOR, '.container-star.starCtn.left')\n",
    "            rates = [count_rate_star(container) for container in containerStar_elements]\n",
    "        except NoSuchElementException:\n",
    "            print('NoSuchElementException')\n",
    "    \n",
    "        default_length = len(rates)\n",
    "                \n",
    "        if len(contents) < default_length:\n",
    "            contents.extend([\"0\"] * (default_length - len(contents)))\n",
    "            \n",
    "        urls = [url for i in range(0, default_length)]\n",
    "    \n",
    "        df = pd.DataFrame({\n",
    "                'Product_Url': urls,\n",
    "                'Content': contents,\n",
    "                'Rate': rates\n",
    "            })\n",
    "        df_Laz_feedback = pd.concat([df_Laz_feedback, df], ignore_index = True)\n",
    "\n",
    "        scroll_to_next_page(driver)\n",
    "        next_button = driver.find_element(By.CSS_SELECTOR, 'button.next-btn.next-btn-normal.next-btn-medium.next-pagination-item.next')\n",
    "        \n",
    "        if next_button.get_attribute('disabled'):\n",
    "                print(\"No more pages to scrape.\")\n",
    "                break\n",
    "        else:\n",
    "            next_button.click()\n",
    "            time.sleep(5)"
   ]
  },
  {
   "cell_type": "code",
   "execution_count": 51,
   "id": "62b0e9db-aa95-41e0-ba4d-8e6366fbd44f",
   "metadata": {},
   "outputs": [
    {
     "name": "stdout",
     "output_type": "stream",
     "text": [
      "No more pages to scrape.\n"
     ]
    }
   ],
   "source": [
    "####################################################################\n",
    "df1 = pd.DataFrame(columns = ['Product_Url', 'Content', 'Rate'])\n",
    "url = 'https://www.lazada.vn/products/set-ao-thun-cuu-quan-karo-ao-phong-from-rong-chat-vai-mat-thiet-ke-phong-cach-ca-tinh-leeda-i2325148429.html'\n",
    "driver.maximize_window()\n",
    "driver.get(url)\n",
    "time.sleep(5)\n",
    "\n",
    "try:    \n",
    "    shop_url = driver.find_element(By.CSS_SELECTOR, 'div.seller-link a').get_attribute('href')\n",
    "    # Laz_shop_urls.append(shop_url)\n",
    "except NoSuchElementException:\n",
    "    shop_url = ''\n",
    "    print('NoSuchElementException')\n",
    "    \n",
    "# Get the feedback information\n",
    "driver.execute_script(f\"window.scrollTo(0, 1550);\")\n",
    "time.sleep(5)\n",
    "\n",
    "while True:\n",
    "    try:\n",
    "        content_elements = driver.find_elements(By.CSS_SELECTOR, '.item div:nth-child(3) .content')\n",
    "        #module_product_review > div > div > div:nth-child(3) > div.mod-reviews > div:nth-child(3) > div.item-content > div.content\n",
    "        contents = [e.text for e in content_elements]\n",
    "    except NoSuchElementException:\n",
    "        print('NoSuchElementException')\n",
    "        \n",
    "    try:\n",
    "        containerStar_elements = driver.find_elements(By.CSS_SELECTOR, '.container-star.starCtn.left')\n",
    "        #rates = [count_rate_star(container) for container in containerStar_elements]\n",
    "    except NoSuchElementException:\n",
    "        print('NoSuchElementException')\n",
    "\n",
    "    default_length = len(containerStar_elements)\n",
    "            \n",
    "    if len(contents) < default_length:\n",
    "        contents.extend([\"0\"] * (default_length - len(contents)))\n",
    "        \n",
    "    urls = [url for i in range(0, default_length)]\n",
    "\n",
    "    df = pd.DataFrame({\n",
    "            'Product_Url': urls,\n",
    "            'Content': contents,\n",
    "            'Rate': containerStar_elements\n",
    "        })\n",
    "    df1 = pd.concat([df1, df], ignore_index = True)\n",
    "\n",
    "    driver.execute_script(f\"window.scrollTo(0, 2280);\")\n",
    "    time.sleep(5)\n",
    "    next_button = driver.find_element(By.CSS_SELECTOR, 'button.next-btn.next-btn-normal.next-btn-medium.next-pagination-item.next')\n",
    "    \n",
    "    if next_button.get_attribute('disabled'):\n",
    "            print(\"No more pages to scrape.\")\n",
    "            break\n",
    "    else:\n",
    "        next_button.click()\n",
    "        time.sleep(5)\n",
    "        \n",
    "driver.quit()"
   ]
  },
  {
   "cell_type": "code",
   "execution_count": 43,
   "id": "dc2f3c94-29bb-408c-9203-731443e14ba3",
   "metadata": {},
   "outputs": [
    {
     "data": {
      "text/plain": [
       "['sp m nhận được ko giống ảnh shop đăng lắm, áo mỏng nhẹ nhưng có vẻ nóng, quần cũng đc, shop mô tả phom rộng nhưng áo m mua sz L dài 62, quần dài 88, cao 1m62 nặng 50 kg mặc cộc, về tay 100k.',\n",
       " 'Hoàn hảo cho vẻ ngoài giản dị và hợp thời trang, Thiết kế độc đáo và thời trang,',\n",
       " 'Chất liệu thoáng mát và thoải mái,',\n",
       " 'áo quá mỏng sản phẩm rất tốt',\n",
       " 'Đồ đẹp, shop giao hàng nhanh, nhân viên nhiệt tình. Lần sau mình sẽ tiếp tục ủng hộ shop.']"
      ]
     },
     "execution_count": 43,
     "metadata": {},
     "output_type": "execute_result"
    }
   ],
   "source": []
  },
  {
   "cell_type": "code",
   "execution_count": 57,
   "id": "066cebe1-1394-40dd-b253-88be3f6dbfb5",
   "metadata": {},
   "outputs": [
    {
     "ename": "NameError",
     "evalue": "name 'Laz_shop_urls' is not defined",
     "output_type": "error",
     "traceback": [
      "\u001b[1;31m---------------------------------------------------------------------------\u001b[0m",
      "\u001b[1;31mNameError\u001b[0m                                 Traceback (most recent call last)",
      "Cell \u001b[1;32mIn[57], line 1\u001b[0m\n\u001b[1;32m----> 1\u001b[0m \u001b[38;5;28mlen\u001b[39m(\u001b[43mLaz_shop_urls\u001b[49m)\n",
      "\u001b[1;31mNameError\u001b[0m: name 'Laz_shop_urls' is not defined"
     ]
    }
   ],
   "source": [
    "len(Laz_shop_urls)"
   ]
  },
  {
   "cell_type": "code",
   "execution_count": null,
   "id": "79cfd7e8-0a91-43a4-bc0f-7e46f4afde99",
   "metadata": {},
   "outputs": [],
   "source": [
    "Laz_shop_urls = list(set(Laz_shop_urls))"
   ]
  },
  {
   "cell_type": "markdown",
   "id": "61a40b1d-4f5e-40e8-b4fc-a1ba87029b6a",
   "metadata": {},
   "source": [
    "Store the shop URLs in a text file as a backup"
   ]
  },
  {
   "cell_type": "code",
   "execution_count": null,
   "id": "52eff785-dacc-45b2-b090-f55b2d776462",
   "metadata": {},
   "outputs": [],
   "source": [
    "with open('Laz_shop_urls.txt', mode='w') as file:\n",
    "    for row in Laz_shop_urls:\n",
    "        file.write(row + \"\\n\")"
   ]
  },
  {
   "cell_type": "markdown",
   "id": "b23a7031-7a53-4806-b3e2-429d38f8c398",
   "metadata": {},
   "source": [
    "Retrieve the list of shop URLs from the backup file"
   ]
  },
  {
   "cell_type": "code",
   "execution_count": null,
   "id": "3a2ed3a5-389b-4efd-944b-cb0b745fa3c5",
   "metadata": {
    "scrolled": true
   },
   "outputs": [],
   "source": [
    "with open('Laz_shop_urls.txt', mode='r') as file:\n",
    "    links = file.readlines()\n",
    "links = [link.strip() for link in links]\n",
    "# print(links)"
   ]
  },
  {
   "cell_type": "code",
   "execution_count": null,
   "id": "978e278d-01fa-4221-8549-edfc32ad1410",
   "metadata": {},
   "outputs": [],
   "source": [
    "Laz_shop_urls = links"
   ]
  },
  {
   "cell_type": "markdown",
   "id": "8128cb5b-b5e4-4237-b3a6-4c16efb2a7d2",
   "metadata": {},
   "source": [
    "Retrieve the shop's information from the product URLs"
   ]
  },
  {
   "cell_type": "code",
   "execution_count": null,
   "id": "a7bf642c-0719-40d6-8c07-b2df19800959",
   "metadata": {
    "scrolled": true
   },
   "outputs": [],
   "source": [
    "for url in Laz_shop_urls:\n",
    "    driver.get(url)\n",
    "    time.sleep(2)\n",
    "\n",
    "    try:\n",
    "        name = driver.find_element(By.CSS_SELECTOR, '#pi-component-container > div > div:nth-child(2) > div > div > div > div:nth-child(2) > div:nth-child(1) > div > div > div > div:nth-child(2) > div:nth-child(1) > h1').text\n",
    "        print(name)\n",
    "        \n",
    "        followers = driver.find_element(By.CSS_SELECTOR, '#pi-component-container > div > div:nth-child(2) > div > div > div > div:nth-child(2) > div:nth-child(1) > div > div > div > div:nth-child(2) > div:nth-child(2) > div').text\n",
    "        print(followers)\n",
    "\n",
    "        df_Laz_shop = pd.concat([df_Laz_shop, pd.DataFrame([[url, name, followers]], columns = ['Url', 'Name', 'Followers'])], ignore_index = True)\n",
    "        print(df_Laz_shop[df_Laz_shop['Url'] == url])\n",
    "    except NoSuchElementException:\n",
    "        print('NoSuchElementException')"
   ]
  },
  {
   "cell_type": "code",
   "execution_count": null,
   "id": "b2fd575a-ac86-49a4-bbf6-f1ec3445b809",
   "metadata": {
    "scrolled": true
   },
   "outputs": [],
   "source": [
    "df_Laz_shop"
   ]
  },
  {
   "cell_type": "markdown",
   "id": "f23b2cad-0520-4c9b-be47-d9a434fbae1d",
   "metadata": {},
   "source": [
    "Store the shop dataframe in a csv file as a backup"
   ]
  },
  {
   "cell_type": "code",
   "execution_count": null,
   "id": "5f6517e6-0826-4bad-92c8-9db857c26bbe",
   "metadata": {},
   "outputs": [],
   "source": [
    "df_Laz_shop.to_csv('lazada_shops.csv', index=False)"
   ]
  },
  {
   "cell_type": "markdown",
   "id": "01965435-31e1-47d7-a336-b78ae0c96d55",
   "metadata": {},
   "source": [
    "Retrieve the shop dataframe from the backup file"
   ]
  },
  {
   "cell_type": "code",
   "execution_count": null,
   "id": "3e97abad-7789-4838-8127-653d4d6e7c27",
   "metadata": {
    "scrolled": true
   },
   "outputs": [],
   "source": [
    "df_Laz_shop = pd.read_csv('lazada_shops.csv')\n",
    "df_Laz_shop"
   ]
  },
  {
   "cell_type": "markdown",
   "id": "a4e28a23-354d-4d08-9156-168adcf82852",
   "metadata": {},
   "source": [
    "## Shein website"
   ]
  },
  {
   "cell_type": "code",
   "execution_count": null,
   "id": "4a457e69-3940-43ea-835e-9ca027fbfc01",
   "metadata": {},
   "outputs": [],
   "source": [
    "df_Shein_product = pd.DataFrame(columns = ['Url', 'Name', 'Price', 'Shop_url'])\n",
    "df_Shein_shop = pd.DataFrame(columns = ['Url', 'Name', 'Followers'])"
   ]
  },
  {
   "cell_type": "code",
   "execution_count": null,
   "id": "659f8073-6f3b-45dc-ad61-c10bb292faf5",
   "metadata": {
    "scrolled": true
   },
   "outputs": [],
   "source": [
    "#The url below is the original link to homepage of Shein website\n",
    "#url = 'https://www.shein.com.vn/?_gl=1*1gloy8n*_up*MQ..&gclid=EAIaIQobChMIgbqoh-mDiAMV9tIWBR3KgQ6KEAAYASAAEgKgHPD_BwE'\n",
    "\n",
    "#This url is the Shein website after send key 'QUần áo nữ' to the search input \n",
    "url = 'https://www.shein.com.vn/pdsearch/Qu%E1%BA%A7n%20%C3%A1o%20n%E1%BB%AF/?ici=s1`EditSearch`Qu%E1%BA%A7n%20%C3%A1o%20n%E1%BB%AF`_fb`d0`PageSearchResult&search_source=1&search_type=all&source=search&src_identifier=st%3D2%60sc%3DQu%E1%BA%A7n%20%C3%A1o%20n%E1%BB%AF%60sr%3D0%60ps%3D1&src_identifier_pre_search=&src_module=search&src_tab_page_id=page_search1724166755052'\n",
    "driver.get(url)\n",
    "time.sleep(5)\n",
    "\n",
    "product_urls = []\n",
    "\n",
    "dr_products = driver.find_elements(By.CSS_SELECTOR, 'div.product-card__goods-title-container a.goods-title-link')\n",
    "print(len(dr_products))\n",
    "\n",
    "for product in dr_products:\n",
    "    url = product.get_attribute('href')\n",
    "    product_urls.append(url)\n",
    "    print(url)\n",
    "\n",
    "product_urls = list(set(product_urls))"
   ]
  },
  {
   "cell_type": "code",
   "execution_count": null,
   "id": "21c6c7af-2b4d-42f4-ac5a-4c2c0d0cc095",
   "metadata": {},
   "outputs": [],
   "source": [
    "with open('Shein_product_urls.txt', mode='w') as file:\n",
    "    for row in product_urls:\n",
    "        file.write(row + \"\\n\")"
   ]
  },
  {
   "cell_type": "code",
   "execution_count": null,
   "id": "cb74fcec-bd87-4a8c-a469-7c6991e87bdc",
   "metadata": {
    "scrolled": true
   },
   "outputs": [],
   "source": [
    "with open('Shein_product_urls.txt', mode='r') as file:\n",
    "    links = file.readlines()\n",
    "links = [link.strip() for link in links]\n",
    "# print(links)"
   ]
  },
  {
   "cell_type": "code",
   "execution_count": null,
   "id": "d73154b7-5053-4a41-b03a-d12c8784df1d",
   "metadata": {},
   "outputs": [],
   "source": [
    "Shein_product_urls = links"
   ]
  },
  {
   "cell_type": "code",
   "execution_count": null,
   "id": "c06b7520-2fee-48d3-93da-567191928068",
   "metadata": {
    "scrolled": true
   },
   "outputs": [],
   "source": [
    "Shein_shop_urls = []\n",
    "for url in Shein_product_urls:\n",
    "    driver.get(url)\n",
    "    time.sleep(2)\n",
    "        \n",
    "    name = driver.find_element(By.CSS_SELECTOR, 'h1.product-intro__head-name').text\n",
    "    print(name)\n",
    "\n",
    "    if driver.find_element(By.CSS_SELECTOR, 'div.ProductIntroHeadPrice__head-mainprice .original span'):\n",
    "        price = driver.find_element(By.CSS_SELECTOR, 'div.ProductIntroHeadPrice__head-mainprice .original span').text\n",
    "    else:\n",
    "        price = 0\n",
    "    print(price)\n",
    "\n",
    "    # shop_content_box = driver.find_element(By. CSS_SELECTOR, '.shop-entry__contentBox').get_attribute('style')\n",
    "    # if driver.find_element(By. CSS_SELECTOR, '.shop-entry__contentBox').get_attribute('display') == 'display: none;':\n",
    "    #     driver.find_element(By.CSS_SELECTOR, '.product-intro__brand-head').click()\n",
    "    #     time.sleep(2)\n",
    "    #     shop_url = driver.find_element(By.CSS_SELECTOR, 'div.seller-link a').get_attribute('href')\n",
    "    #     Shein_shop_urls.append(shop_url)\n",
    "    # else:\n",
    "    #     shop_url = ''\n",
    "    # print(shop_url)t\n",
    "\n",
    "drive.quit()"
   ]
  },
  {
   "cell_type": "code",
   "execution_count": null,
   "id": "722fea0a-bbc2-4cea-9fe6-cadd1497e066",
   "metadata": {},
   "outputs": [],
   "source": [
    "# /html/body/div[1]/div[1]/div/div[1]/div/div[2]/div[2]/div/div[5]/div[3]/div[1]/span"
   ]
  },
  {
   "cell_type": "code",
   "execution_count": null,
   "id": "e4c69034-fcc6-4681-b591-ee25ad8ef9ba",
   "metadata": {},
   "outputs": [],
   "source": [
    "\n",
    "\n",
    "# URL of the product page\n",
    "url = \"https://www.shein.com.vn/SHEIN-ICON-Women-s-Summer-Leopard-Print-Slim-Fit-Cropped-Camisole-Fashion-Cami-Top-p-36628205.html?src_identifier=st%3D2%60sc%3DQu%E1%BA%A7n%20%C3%A1o%20n%E1%BB%AF%60sr%3D0%60ps%3D1\"\n",
    "\n",
    "# Navigate to the URL\n",
    "driver.get(url)\n",
    "time.sleep(2)  # Wait for the page to load\n",
    "\n",
    "try:\n",
    "    # Get the product name\n",
    "    product_name = driver.find_element(By.CSS_SELECTOR, 'h1.product-intro__head-name').text\n",
    "    print(f\"Product Name: {product_name}\")\n",
    "    \n",
    "    # Get the price\n",
    "    price = driver.find_element(By.CSS_SELECTOR, 'div.ProductIntroHeadPrice__head-mainprice .original span').text\n",
    "    print(f\"Price: {price}\")\n",
    "    \n",
    "    # Get the shop name (if available)\n",
    "    try:\n",
    "        shop_name = driver.find_element(By.CSS_SELECTOR, 'a.store-name').text\n",
    "        print(f\"Shop Name: {shop_name}\")\n",
    "    except NoSuchElementException:\n",
    "        shop_name = \"N/A\"\n",
    "        print(\"Shop Name not found\")\n",
    "    \n",
    "    # Get the number of followers (if available)\n",
    "    try:\n",
    "        followers = driver.find_element(By.CSS_SELECTOR, 'span.follow-number').text\n",
    "        print(f\"Followers: {followers}\")\n",
    "    except NoSuchElementException:\n",
    "        followers = \"N/A\"\n",
    "        print(\"Followers not found\")\n",
    "\n",
    "except NoSuchElementException as e:\n",
    "    print(f\"An error occurred: {e}\")\n"
   ]
  },
  {
   "cell_type": "markdown",
   "id": "88cfebe3-9f88-4fa9-a89e-479225aaf755",
   "metadata": {
    "jp-MarkdownHeadingCollapsed": true
   },
   "source": [
    "## Tiki website"
   ]
  },
  {
   "cell_type": "code",
   "execution_count": null,
   "id": "99e66d7e-b07b-4a38-b864-07a6e88ab03f",
   "metadata": {},
   "outputs": [],
   "source": [
    "df_Tiki_product = pd.DataFrame(columns = ['Url', 'Name', 'Price', 'Shop_url'])\n",
    "df_Tiki_shop = pd.DataFrame(columns = ['Url', 'Name', 'Followers'])"
   ]
  },
  {
   "cell_type": "code",
   "execution_count": null,
   "id": "aa5fc581-f729-47c2-8264-ddbab1e7b2b3",
   "metadata": {
    "scrolled": true
   },
   "outputs": [],
   "source": [
    "#The url below is the original link to homepage of Tiki website\n",
    "#url = 'https://tiki.vn/'\n",
    "\n",
    "#This url is the Tiki website after send key 'QUần áo nữ' to the search input \n",
    "url = 'https://tiki.vn/search?q=Qu%E1%BA%A7n%20%C3%A1o%20n%E1%BB%AF'\n",
    "driver.get(url)\n",
    "time.sleep(5)\n",
    "\n",
    "product_urls = []\n",
    "button_nextPage = driver.find_element(By.CSS_SELECTOR, '.pagination-block div:nth-child(3) a')\n",
    "dr_products = driver.find_elements(By.CSS_SELECTOR, 'a[data-view-id=\"product_list_item\"]')\n",
    "print(len(dr_products))\n",
    "\n",
    "for i in range (0, 3):\n",
    "    time.sleep(2)\n",
    "\n",
    "    dr_products = driver.find_elements(By.CSS_SELECTOR, 'a[data-view-id=\"product_list_item\"]')\n",
    "    print(len(dr_products))\n",
    "    \n",
    "    for product in dr_products:\n",
    "        url = product.get_attribute('href')\n",
    "        product_urls.append(url)\n",
    "        print(url)\n",
    "    \n",
    "    product_urls = list(set(product_urls))\n",
    "    button_nextPage.click()"
   ]
  },
  {
   "cell_type": "code",
   "execution_count": null,
   "id": "f369f555-aa32-4281-9f2f-1b2bccf0636b",
   "metadata": {},
   "outputs": [],
   "source": [
    "with open('Tiki_product_urls.txt', mode='w') as file:\n",
    "    for row in product_urls:\n",
    "        file.write(row + \"\\n\")"
   ]
  },
  {
   "cell_type": "code",
   "execution_count": null,
   "id": "f736b9d9-41ec-4df7-944f-9ce39667a2ea",
   "metadata": {
    "scrolled": true
   },
   "outputs": [],
   "source": [
    "with open('Tiki_product_urls.txt', mode='r') as file:\n",
    "    links = file.readlines()\n",
    "links = [link.strip() for link in links]\n",
    "# print(links)"
   ]
  },
  {
   "cell_type": "code",
   "execution_count": null,
   "id": "855d4e3c-120e-4846-b043-7c3917ed0eb2",
   "metadata": {},
   "outputs": [],
   "source": [
    "Tiki_product_urls = links"
   ]
  },
  {
   "cell_type": "code",
   "execution_count": null,
   "id": "530614ec-c01b-4ee7-90c0-c70d5e3d2120",
   "metadata": {
    "scrolled": true
   },
   "outputs": [],
   "source": [
    "Tiki_shop_urls = []\n",
    "for url in Tiki_product_urls:\n",
    "    driver.get(url)\n",
    "    time.sleep(2)\n",
    "\n",
    "    try:\n",
    "        name = driver.find_element(By.CSS_SELECTOR, 'h1.Title__TitledStyled-sc-c64ni5-0').text\n",
    "        # print(name)\n",
    "    \n",
    "        if driver.find_element(By.CSS_SELECTOR, '.product-price__current-price'):\n",
    "            price = driver.find_element(By.CSS_SELECTOR, '.product-price__current-price').text\n",
    "        else:\n",
    "            price = 0\n",
    "        # print(price)\n",
    "        \n",
    "        if driver.find_elements(By.CSS_SELECTOR, 'div.SellerHeader__SellerHeaderStyled-sc-la7c6v-0 a'):\n",
    "            shop_url = driver.find_elements(By.CSS_SELECTOR, 'div.SellerHeader__SellerHeaderStyled-sc-la7c6v-0 a')[0].get_attribute('href')\n",
    "            Tiki_shop_urls.append(shop_url)\n",
    "        else:\n",
    "            shop_url = ''\n",
    "        # print(shop_url)\n",
    "\n",
    "        df_Tiki_product = pd.concat([df_Tiki_product, pd.DataFrame([[url, name, price, shop_url]], columns = ['Url', 'Name', 'Price', 'Shop_url'])], ignore_index = True)\n",
    "        print(df_Tiki_product[df_Tiki_product['Url'] == url])\n",
    "    except NoSuchElementException:\n",
    "        print('NoSuchElementException')"
   ]
  },
  {
   "cell_type": "code",
   "execution_count": null,
   "id": "c0585ff4-5f2e-4ed3-ba14-f9b5071bbad7",
   "metadata": {
    "scrolled": true
   },
   "outputs": [],
   "source": [
    "df_Tiki_product"
   ]
  },
  {
   "cell_type": "code",
   "execution_count": null,
   "id": "b30679be-f74e-4d5a-a6bd-247402e6712e",
   "metadata": {},
   "outputs": [],
   "source": [
    "df_Tiki_product.to_csv('tiki_products.csv', index=False)"
   ]
  },
  {
   "cell_type": "code",
   "execution_count": null,
   "id": "2bd6377b-f025-4ccc-b8e6-5081585e58ec",
   "metadata": {},
   "outputs": [],
   "source": [
    "df_Tiki_product = pd.read_csv('tiki_products.csv')\n",
    "df_Tiki_product"
   ]
  },
  {
   "cell_type": "code",
   "execution_count": null,
   "id": "760fd01f-f49e-40a1-958b-322188523f1d",
   "metadata": {},
   "outputs": [],
   "source": [
    "Tiki_shop_urls = list(set(Tiki_shop_urls))"
   ]
  },
  {
   "cell_type": "code",
   "execution_count": null,
   "id": "f06f87e3-8f04-4938-8336-5845c7d2170f",
   "metadata": {},
   "outputs": [],
   "source": [
    "with open('Tiki_shop_urls.txt', mode='w') as file:\n",
    "    for row in Tiki_shop_urls:\n",
    "        file.write(row + \"\\n\")"
   ]
  },
  {
   "cell_type": "code",
   "execution_count": null,
   "id": "5308f62a-7557-4d72-a558-1eb28613d0e8",
   "metadata": {
    "scrolled": true
   },
   "outputs": [],
   "source": [
    "with open('Tiki_shop_urls.txt', mode='r') as file:\n",
    "    links = file.readlines()\n",
    "links = [link.strip() for link in links]\n",
    "# print(links)"
   ]
  },
  {
   "cell_type": "code",
   "execution_count": null,
   "id": "6ddd6a30-82c0-45fa-ae9a-c9e120442c36",
   "metadata": {},
   "outputs": [],
   "source": [
    "Tiki_shop_urls = links"
   ]
  },
  {
   "cell_type": "code",
   "execution_count": null,
   "id": "3e4f1055-41ef-4c02-8c79-ee391f93ecde",
   "metadata": {
    "scrolled": true
   },
   "outputs": [],
   "source": [
    "for url in Tiki_shop_urls:\n",
    "    driver.get(url)\n",
    "    time.sleep(2)\n",
    "\n",
    "    try:\n",
    "        name = driver.find_element(By.CSS_SELECTOR, 'h1.Header__SellerName-sc-vgcg69-2').text\n",
    "        # print(name)\n",
    "        \n",
    "        followers = driver.find_element(By.CSS_SELECTOR, '#seller-info-wrapper > div.Header__SellerNameWrapper-sc-vgcg69-5.jZYoaR > div.Header__BadgeWrapper-sc-vgcg69-11.czboZb > div:nth-child(3) > div.Header__SubInfo-sc-vgcg69-12.iUmIsA').text\n",
    "        # print(followers)\n",
    "        \n",
    "        df_Tiki_shop = pd.concat([df_Tiki_shop, pd.DataFrame([[url, name, followers]], columns = ['Url', 'Name', 'Followers'])], ignore_index = True)\n",
    "        print(df_Tiki_shop[df_Tiki_shop['Url'] == url])\n",
    "    except NoSuchElementException:\n",
    "        print('NoSuchElementException')"
   ]
  },
  {
   "cell_type": "code",
   "execution_count": null,
   "id": "b5613e9b-581a-431c-988b-f8c35cf96287",
   "metadata": {
    "scrolled": true
   },
   "outputs": [],
   "source": [
    "df_Tiki_shop"
   ]
  },
  {
   "cell_type": "code",
   "execution_count": null,
   "id": "446938c1-42d8-405a-b697-fbd96bc84da9",
   "metadata": {},
   "outputs": [],
   "source": [
    "df_Tiki_shop.to_csv('tiki_shops.csv', index=False)"
   ]
  },
  {
   "cell_type": "code",
   "execution_count": null,
   "id": "7a4188e2-61c5-4364-b783-23dde8a6c9dd",
   "metadata": {
    "scrolled": true
   },
   "outputs": [],
   "source": [
    "df_Tiki_shop = pd.read_csv('tiki_shops.csv')\n",
    "df_Tiki_shop"
   ]
  },
  {
   "cell_type": "code",
   "execution_count": null,
   "id": "2e5798a5-10b2-47f6-96c1-f2509d6b01a5",
   "metadata": {},
   "outputs": [],
   "source": [
    "driver.quit()"
   ]
  },
  {
   "cell_type": "markdown",
   "id": "58808100-1ebc-4ef5-a3ef-acf20a78190b",
   "metadata": {},
   "source": [
    "# Pre-proccesing data"
   ]
  },
  {
   "cell_type": "markdown",
   "id": "842fe322-5649-4d92-b686-c736e8ef6969",
   "metadata": {},
   "source": [
    "## Lazada"
   ]
  },
  {
   "cell_type": "code",
   "execution_count": null,
   "id": "c7cea2e1-88da-400c-9695-f21074075e10",
   "metadata": {},
   "outputs": [],
   "source": [
    "df_Laz_product = pd.read_csv('lazada_products.csv')"
   ]
  },
  {
   "cell_type": "code",
   "execution_count": null,
   "id": "e6759bc3-e1c4-412f-81c2-5697a64a1bc6",
   "metadata": {},
   "outputs": [],
   "source": [
    "df_Laz_product"
   ]
  },
  {
   "cell_type": "code",
   "execution_count": null,
   "id": "5fddbcf8-d3a3-4039-919b-e8db3754db2d",
   "metadata": {},
   "outputs": [],
   "source": [
    "df_Laz_product.info()"
   ]
  },
  {
   "cell_type": "markdown",
   "id": "36a246db-3c7f-4ba3-9939-05fac91601b8",
   "metadata": {},
   "source": [
    "Convert column `['Price']` to float"
   ]
  },
  {
   "cell_type": "code",
   "execution_count": null,
   "id": "28557834-98aa-47b7-9768-8d67a18d40c5",
   "metadata": {},
   "outputs": [],
   "source": [
    "df_Laz_product['Price'] = df_Laz_product['Price'].str.replace('.', '').str.replace('₫', '').astype(float)\n",
    "# df_Laz_product['Price']"
   ]
  },
  {
   "cell_type": "markdown",
   "id": "715cb7c2-cf07-47ef-abd2-632200f90fd8",
   "metadata": {},
   "source": [
    "Convert column `['NumRate']` to int"
   ]
  },
  {
   "cell_type": "code",
   "execution_count": null,
   "id": "d020b3d5-0155-4253-bc05-f7b63723c916",
   "metadata": {},
   "outputs": [],
   "source": [
    "df_Laz_product['NumRate'] = df_Laz_product[NumRate].str.replace('(', '').str.replace(')', '').astype(int)\n",
    "df_Lax_product['NumRate']"
   ]
  },
  {
   "cell_type": "markdown",
   "id": "1a17a70a-fe25-4ac9-8bec-b6b72cd3dabf",
   "metadata": {},
   "source": [
    "Run this cell if the computer hasn't installed the nltk library yet"
   ]
  },
  {
   "cell_type": "code",
   "execution_count": null,
   "id": "a1d696fe-f2fb-4cb0-9246-880ede3413bb",
   "metadata": {},
   "outputs": [],
   "source": [
    "# !pip install nltk"
   ]
  },
  {
   "cell_type": "code",
   "execution_count": null,
   "id": "f3a70a09-04b0-4ad1-866a-3daf715ecef1",
   "metadata": {},
   "outputs": [],
   "source": [
    "categories_keywords = {\n",
    "    \"đồ bộ\": [\"đồ bộ\", \"set\", \"bộ\", \"quần áo\", \"sét\"],\n",
    "    \"đồ lót\": [\"đồ lót\", \"underwear\", \"quần lót\", \"áo lót\", \"áo ngực\", \"bra\", \"panty\", \"boxer\", \"quần chíp\"],\n",
    "    \"váy/quần\": [\"váy\", \"quần\", \"skirt\", \"pants\", \"jeans\"],\n",
    "    \"áo\": [\"áo\", \"t-shirt\", \"shirt\", \"croptop\", \"yếm\", \"khoác\", \"áo khoác\", \"vest\", \"blazer\"],\n",
    "    \"đầm\": [\"đầm\", \"dress\", \"váy ngủ\"], \n",
    "    \"nón\": [\"nón\", \"mũ\", \"hat\", \"helmet\"],\n",
    "    \"vớ\": [\"vớ\", \"tất\", \"socks\"],\n",
    "    \"giày/dép\": [\"giày\", \"dép\", \"bata\", \"cao gót\", \"shoes\", \"slipper\", \"guốc\", \"boots\", \"xăng đan\", \"sandals\", \"sneakers\"],\n",
    "    \"trang sức\": [\"trang sức\", \"nhẫn\", \"vòng\", \"dây chuyền\", \"earrings\", \"necklace\"]\n",
    "}"
   ]
  },
  {
   "cell_type": "markdown",
   "id": "88374610-aecc-4d8f-a251-5ac62db51f5d",
   "metadata": {},
   "source": [
    "Classify products using n-grams techniques"
   ]
  },
  {
   "cell_type": "code",
   "execution_count": null,
   "id": "d558c52c-627c-420f-a141-5e0ab979db6c",
   "metadata": {},
   "outputs": [],
   "source": [
    "import unicodedata\n",
    "import nltk\n",
    "from nltk.tokenize import word_tokenize\n",
    "nltk.download('punkt_tab')\n",
    "\n",
    "def generate_ngrams(string, n):\n",
    "    string = unicodedata.normalize('NFC', string)\n",
    "    tokens = word_tokenize(string, language='english')\n",
    "    tokens = [token.lower() for token in tokens]\n",
    "    return [' '.join(tokens[i:i + n]) for i in range(len(tokens) - n + 1)]\n",
    "    \n",
    "def classify_product(name, categories_keywords):\n",
    "    _2grams = generate_ngrams(name, 2)\n",
    "    _1grams = generate_ngrams(name, 1)\n",
    "    \n",
    "    for category, keywords in categories_keywords.items():\n",
    "        for keyword in keywords:\n",
    "            if keyword in _2grams + _1grams: \n",
    "                return category \n",
    "    \n",
    "    return \"khác\""
   ]
  },
  {
   "cell_type": "markdown",
   "id": "3272305f-d1a8-4a0c-9191-16d6a7c3712d",
   "metadata": {},
   "source": [
    "Add a column `['Category']` to the `df_Laz_product` DataFrame using the `classify_product` function provided above"
   ]
  },
  {
   "cell_type": "code",
   "execution_count": null,
   "id": "3c32cba2-d57d-4da1-9599-6d066b4d86d9",
   "metadata": {},
   "outputs": [],
   "source": [
    "df_Laz_product['Category'] = df_Laz_product['Name'].apply(lambda name: classify_product(name, categories_keywords))"
   ]
  },
  {
   "cell_type": "markdown",
   "id": "bd49988e-4a51-4ca1-b226-18b4fe7d84f7",
   "metadata": {},
   "source": [
    "Re-check the new column"
   ]
  },
  {
   "cell_type": "code",
   "execution_count": null,
   "id": "1cf27852-f2a7-429e-b2e4-a5a80d51e3b7",
   "metadata": {},
   "outputs": [],
   "source": [
    "Laz_category_counts = df_Laz_product['Category'].value_counts()\n",
    "print(Laz_category_counts)"
   ]
  },
  {
   "cell_type": "markdown",
   "id": "9605c831-ee7d-4478-af5a-a2192dfe89a8",
   "metadata": {},
   "source": [
    "Identify the outliers and manually replace them with the correct values"
   ]
  },
  {
   "cell_type": "code",
   "execution_count": null,
   "id": "8e286004-d0b7-4d94-ba2b-39ff8d9e4662",
   "metadata": {},
   "outputs": [],
   "source": [
    "df_Laz_product[df_Laz_product['Category'] == 'khác']"
   ]
  },
  {
   "cell_type": "code",
   "execution_count": null,
   "id": "6db7a74b-e5a6-433a-8a04-4a85c3c12013",
   "metadata": {},
   "outputs": [],
   "source": [
    "df_Laz_product.loc[50, 'Category'] = 'đồ bộ'"
   ]
  },
  {
   "cell_type": "markdown",
   "id": "0a3aa3e6-5e79-449e-9de6-9d63a75e63aa",
   "metadata": {},
   "source": [
    "Check if the dataframe has NaN value"
   ]
  },
  {
   "cell_type": "code",
   "execution_count": null,
   "id": "ab19545c-0ea2-44eb-a802-4776b00ce01e",
   "metadata": {},
   "outputs": [],
   "source": [
    "Laz_nan_summary = df_Laz_product.isna().sum()\n",
    "print(Laz_nan_summary)"
   ]
  },
  {
   "cell_type": "markdown",
   "id": "753eaa21-f67a-42a0-9572-19bb53eb1aa3",
   "metadata": {
    "jp-MarkdownHeadingCollapsed": true
   },
   "source": [
    "## Shein"
   ]
  },
  {
   "cell_type": "code",
   "execution_count": null,
   "id": "adc3eddb-ff02-4316-8581-83c21f784398",
   "metadata": {},
   "outputs": [],
   "source": []
  },
  {
   "cell_type": "markdown",
   "id": "3d5b875b-cce1-4b57-a001-63415bd6457c",
   "metadata": {
    "jp-MarkdownHeadingCollapsed": true
   },
   "source": [
    "## Tiki"
   ]
  },
  {
   "cell_type": "code",
   "execution_count": null,
   "id": "962726fb-7641-4c1b-b5bc-a0f99e1d783b",
   "metadata": {},
   "outputs": [],
   "source": [
    "df_Tiki_product = pd.read_csv('tiki_products.csv')"
   ]
  },
  {
   "cell_type": "code",
   "execution_count": null,
   "id": "595b5da5-6824-4a52-a80d-3263baa6c063",
   "metadata": {},
   "outputs": [],
   "source": [
    "df_Tiki_product.head()"
   ]
  },
  {
   "cell_type": "code",
   "execution_count": null,
   "id": "6a25fc09-af98-43ca-af52-1a8d347bc41c",
   "metadata": {},
   "outputs": [],
   "source": [
    "df_Tiki_product.info()"
   ]
  },
  {
   "cell_type": "markdown",
   "id": "c1c54e50-736f-4fd2-a4c7-08d554c6fc7b",
   "metadata": {},
   "source": [
    "Convert column `['Price']` to float"
   ]
  },
  {
   "cell_type": "code",
   "execution_count": null,
   "id": "07bf3780-e25b-4a22-9379-515ee0e27179",
   "metadata": {},
   "outputs": [],
   "source": [
    "df_Tiki_product['Price'] = df_Tiki_product['Price'].str.replace('.', '').str.replace('₫', '').astype(float)\n",
    "df_Tiki_product['Price']"
   ]
  },
  {
   "cell_type": "markdown",
   "id": "09a2472e-933d-431b-bc35-db03a0cd1968",
   "metadata": {},
   "source": [
    "Add a column `['Category']` to the `df_Laz_product` DataFrame using the `classify_product` function provided above"
   ]
  },
  {
   "cell_type": "code",
   "execution_count": null,
   "id": "6bf1f082-c8ef-45d2-a86d-77096b4ea510",
   "metadata": {},
   "outputs": [],
   "source": [
    "df_Tiki_product['Category'] = df_Tiki_product['Name'].apply(lambda name: classify_product(name, categories_keywords))"
   ]
  },
  {
   "cell_type": "markdown",
   "id": "84580598-6a48-48f2-a6bc-cc489d513dc1",
   "metadata": {},
   "source": [
    "Re-check the new column"
   ]
  },
  {
   "cell_type": "code",
   "execution_count": null,
   "id": "7e5c3398-4e25-4b6e-aada-d2bbc263fe50",
   "metadata": {},
   "outputs": [],
   "source": [
    "Tiki_category_counts = df_Tiki_product['Category'].value_counts()\n",
    "print(Tiki_category_counts)"
   ]
  },
  {
   "cell_type": "markdown",
   "id": "4ed74af9-b5bf-4d70-a2e8-1e7073328eba",
   "metadata": {},
   "source": [
    "Identify the outliers and manually replace them with the correct values"
   ]
  },
  {
   "cell_type": "code",
   "execution_count": null,
   "id": "9b306859-c85b-4466-a8d7-a0d1d52325d4",
   "metadata": {
    "scrolled": true
   },
   "outputs": [],
   "source": [
    "df_Tiki_product[df_Tiki_product['Category'] == 'khác']"
   ]
  },
  {
   "cell_type": "code",
   "execution_count": null,
   "id": "dbe26fb0-6729-4371-a516-07cce85c19b9",
   "metadata": {},
   "outputs": [],
   "source": [
    "df_Tiki_product.loc[3, 'Category'] = 'đồ bộ'\n",
    "df_Tiki_product.loc[29, 'Category'] = 'đồ bộ'\n",
    "df_Tiki_product.loc[76, 'Category'] = 'đồ bộ'\n",
    "df_Tiki_product.loc[83, 'Category'] = 'đồ bộ'\n",
    "df_Tiki_product.loc[103, 'Category'] = 'đồ bộ'"
   ]
  },
  {
   "cell_type": "markdown",
   "id": "0cb432fc-6471-4a21-95d6-fe6462a245aa",
   "metadata": {},
   "source": [
    "# Analysis on each e-market platform"
   ]
  },
  {
   "cell_type": "markdown",
   "id": "4d540c3d-2a04-464f-a24e-7b0d922d3334",
   "metadata": {
    "jp-MarkdownHeadingCollapsed": true
   },
   "source": [
    "## Lazada"
   ]
  },
  {
   "cell_type": "code",
   "execution_count": null,
   "id": "a3618cb9-31ca-47d9-a716-d88630031829",
   "metadata": {},
   "outputs": [],
   "source": [
    "df_Laz_product.info()"
   ]
  },
  {
   "cell_type": "code",
   "execution_count": null,
   "id": "034f9419-0fb3-46dc-a6f1-db9ae22befa4",
   "metadata": {
    "scrolled": true
   },
   "outputs": [],
   "source": [
    "df_Laz_product.describe()"
   ]
  },
  {
   "cell_type": "code",
   "execution_count": null,
   "id": "58a0d837-0ca6-4a4a-a7bb-1b135a3c4d60",
   "metadata": {},
   "outputs": [],
   "source": [
    "Laz_category_counts = df_Laz_product['Category'].value_counts()\n",
    "print(Laz_category_counts)"
   ]
  },
  {
   "cell_type": "code",
   "execution_count": null,
   "id": "54ce7826-01e2-4b5f-af22-a952dc251f28",
   "metadata": {},
   "outputs": [],
   "source": [
    "plt.figure(figsize = (10, 6))\n",
    "sns.barplot(x = Laz_category_counts.index, y = Laz_category_counts.values, palette = 'pastel')\n",
    "plt.title('Phân bố các giá trị trong cột Category', fontsize = 16)\n",
    "plt.xlabel('Loại', fontsize = 14)\n",
    "plt.ylabel('Số lượng', fontsize = 14)\n",
    "plt.xticks(rotation = 45, ha = 'right')\n",
    "plt.show()"
   ]
  },
  {
   "cell_type": "code",
   "execution_count": null,
   "id": "ec022844-e66e-45e6-a764-9b0c919d3984",
   "metadata": {},
   "outputs": [],
   "source": [
    "df_Laz_product.to_csv('lazada_products_.csv', index=False)"
   ]
  },
  {
   "cell_type": "code",
   "execution_count": null,
   "id": "1cdfed5a-bb73-43be-8282-2386a0c4be3e",
   "metadata": {},
   "outputs": [],
   "source": [
    "Laz_avgPrice_per_category = df_Laz_product.groupby('Category')['Price'].mean().round()"
   ]
  },
  {
   "cell_type": "code",
   "execution_count": null,
   "id": "f254f821-804d-4157-a010-b8c1305e8e2a",
   "metadata": {},
   "outputs": [],
   "source": [
    "print(Laz_avgPrice_per_category)"
   ]
  },
  {
   "cell_type": "code",
   "execution_count": null,
   "id": "482b2bc1-10a4-4654-ade2-9e4e11eb9403",
   "metadata": {},
   "outputs": [],
   "source": [
    "plt.figure(figsize = (10, 6))\n",
    "sns.barplot(x = Laz_avgPrice_per_category.index, y = Laz_avgPrice_per_category.values, palette = 'pastel')\n",
    "plt.title('Giá tiền trung bình mỗi loại', fontsize = 16)\n",
    "plt.xlabel('Loại', fontsize = 14)\n",
    "plt.ylabel('Giá trung bình', fontsize = 14)\n",
    "plt.xticks(rotation = 45, ha = 'right')\n",
    "plt.show()"
   ]
  },
  {
   "cell_type": "markdown",
   "id": "0ad41127-8896-4e55-b187-a53d0cd3afa7",
   "metadata": {
    "jp-MarkdownHeadingCollapsed": true
   },
   "source": [
    "## Shein"
   ]
  },
  {
   "cell_type": "code",
   "execution_count": null,
   "id": "c712a963-696f-44fd-8ceb-4fdf05b688bf",
   "metadata": {},
   "outputs": [],
   "source": []
  },
  {
   "cell_type": "markdown",
   "id": "30cf15da-4459-4095-915f-879e4db7ffa2",
   "metadata": {
    "jp-MarkdownHeadingCollapsed": true
   },
   "source": [
    "## Tiki"
   ]
  },
  {
   "cell_type": "code",
   "execution_count": null,
   "id": "20008387-eb0f-4fbe-8c54-ae7db6e34041",
   "metadata": {},
   "outputs": [],
   "source": [
    "df_Tiki_product.info()"
   ]
  },
  {
   "cell_type": "code",
   "execution_count": null,
   "id": "3bc9a1ce-ffeb-4a45-9bfe-36c0d8e8e703",
   "metadata": {
    "scrolled": true
   },
   "outputs": [],
   "source": [
    "df_Tiki_product.describe()"
   ]
  },
  {
   "cell_type": "code",
   "execution_count": null,
   "id": "5c3bb8da-c9fc-4bb5-8a75-762b4e807b21",
   "metadata": {},
   "outputs": [],
   "source": [
    "Tiki_nan_summary = df_Tiki_product.isna().sum()\n",
    "print(Tiki_nan_summary)"
   ]
  },
  {
   "cell_type": "code",
   "execution_count": null,
   "id": "eeb85bbf-494f-40aa-8564-392c1330a804",
   "metadata": {},
   "outputs": [],
   "source": [
    "Tiki_category_counts = df_Tiki_product['Category'].value_counts()\n",
    "print(Tiki_category_counts)"
   ]
  },
  {
   "cell_type": "code",
   "execution_count": null,
   "id": "a1f768a3-6fcd-4983-bfcc-f13f8eb92888",
   "metadata": {},
   "outputs": [],
   "source": [
    "plt.figure(figsize = (10, 6))\n",
    "sns.barplot(x = Tiki_category_counts.index, y = Tiki_category_counts.values, palette = 'pastel')\n",
    "plt.title('Phân bố các giá trị trong cột Category', fontsize = 16)\n",
    "plt.xlabel('Loại', fontsize = 14)\n",
    "plt.ylabel('Số lượng', fontsize = 14)\n",
    "plt.xticks(rotation = 45, ha = 'right')\n",
    "plt.show()"
   ]
  },
  {
   "cell_type": "code",
   "execution_count": null,
   "id": "80eadb72-e8ed-493b-bc79-15ef9e469853",
   "metadata": {},
   "outputs": [],
   "source": [
    "df_Tiki_product.to_csv('tiki_products_.csv', index=False)"
   ]
  },
  {
   "cell_type": "code",
   "execution_count": null,
   "id": "9d4f4508-3877-4a95-a057-940989a99ae4",
   "metadata": {},
   "outputs": [],
   "source": [
    "Tiki_avgPrice_per_category = df_Tiki_product.groupby('Category')['Price'].mean().round()"
   ]
  },
  {
   "cell_type": "code",
   "execution_count": null,
   "id": "4e857434-8925-4b95-b40b-e695cd8d6c75",
   "metadata": {},
   "outputs": [],
   "source": [
    "print(Tiki_avgPrice_per_category)"
   ]
  },
  {
   "cell_type": "code",
   "execution_count": null,
   "id": "dd5344c4-3084-4431-879d-8829f689743f",
   "metadata": {},
   "outputs": [],
   "source": [
    "plt.figure(figsize = (10, 6))\n",
    "sns.barplot(x = Tiki_avgPrice_per_category.index, y = Tiki_avgPrice_per_category.values, palette = 'pastel')\n",
    "plt.title('Giá tiền trung bình mỗi loại', fontsize = 16)\n",
    "plt.xlabel('Loại', fontsize = 14)\n",
    "plt.ylabel('Giá trung bình', fontsize = 14)\n",
    "plt.xticks(rotation = 45, ha = 'right')\n",
    "plt.show()"
   ]
  },
  {
   "cell_type": "markdown",
   "id": "69fc6165-421c-41f6-b4fe-71b68f958aeb",
   "metadata": {},
   "source": [
    "# Analysis comprehensive overview based on the whole 3 datasets"
   ]
  },
  {
   "cell_type": "code",
   "execution_count": null,
   "id": "bc9cac7c-34a1-4f3a-acb7-846043536cda",
   "metadata": {},
   "outputs": [],
   "source": []
  }
 ],
 "metadata": {
  "kernelspec": {
   "display_name": "Python 3 (ipykernel)",
   "language": "python",
   "name": "python3"
  },
  "language_info": {
   "codemirror_mode": {
    "name": "ipython",
    "version": 3
   },
   "file_extension": ".py",
   "mimetype": "text/x-python",
   "name": "python",
   "nbconvert_exporter": "python",
   "pygments_lexer": "ipython3",
   "version": "3.12.4"
  }
 },
 "nbformat": 4,
 "nbformat_minor": 5
}
