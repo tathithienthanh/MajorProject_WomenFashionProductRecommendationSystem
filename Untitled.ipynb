{
 "cells": [
  {
   "cell_type": "markdown",
   "id": "2240abd4-edf6-4ba6-bc8e-1ae410041e5b",
   "metadata": {},
   "source": [
    "Run this cell if the computer hasn't installed the numpy, pandas, matplotlib and seaborn libraries yet"
   ]
  },
  {
   "cell_type": "code",
   "execution_count": 1,
   "id": "fa0446d2-a27d-4a69-b046-47ff17bec7c6",
   "metadata": {},
   "outputs": [],
   "source": [
    "# !pip install numpy\n",
    "# !pip install pandas\n",
    "# !pip install matplotlib\n",
    "# !pip install seaborn"
   ]
  },
  {
   "cell_type": "code",
   "execution_count": 2,
   "id": "31400f32-1d5f-4dd2-997f-c2daa68a98a8",
   "metadata": {},
   "outputs": [],
   "source": [
    "import numpy as np\n",
    "import pandas as pd\n",
    "import matplotlib.pyplot as plt\n",
    "import seaborn as sns"
   ]
  },
  {
   "cell_type": "markdown",
   "id": "682fd1f6-080b-4659-afdd-171d1d8201ad",
   "metadata": {
    "jp-MarkdownHeadingCollapsed": true
   },
   "source": [
    "# Setup Selenium and Web Driver"
   ]
  },
  {
   "cell_type": "markdown",
   "id": "29edec24-4e80-405a-9da3-ebe7a37b3d2f",
   "metadata": {},
   "source": [
    "Run this cell if the computer hasn't installed the selenium and webdriver-manager libraries yet"
   ]
  },
  {
   "cell_type": "code",
   "execution_count": null,
   "id": "4548699c-ff7c-40fa-9c7d-bd8000885626",
   "metadata": {},
   "outputs": [],
   "source": [
    "# !pip install selenium\n",
    "# !pip install webdriver-manager"
   ]
  },
  {
   "cell_type": "code",
   "execution_count": 26,
   "id": "62d8bd07-19d0-4955-87fd-50fd166e11fe",
   "metadata": {},
   "outputs": [],
   "source": [
    "from selenium import webdriver\n",
    "from selenium.webdriver.common.by import By\n",
    "from selenium.webdriver.chrome.service import Service\n",
    "from webdriver_manager.chrome import ChromeDriverManager\n",
    "from selenium.common.exceptions import NoSuchElementException\n",
    "import time\n",
    "\n",
    "service = Service(ChromeDriverManager().install())\n",
    "driver = webdriver.Chrome(service=service)\n",
    "driver.maximize_window()"
   ]
  },
  {
   "cell_type": "markdown",
   "id": "fe3f38d0-02cc-4d58-bd1b-586d14696572",
   "metadata": {
    "jp-MarkdownHeadingCollapsed": true
   },
   "source": [
    "# Scrape Data from Websites"
   ]
  },
  {
   "cell_type": "markdown",
   "id": "c72b2000-586a-4429-adce-7f596aa2b4b2",
   "metadata": {},
   "source": [
    "## Lazada website"
   ]
  },
  {
   "cell_type": "code",
   "execution_count": 3,
   "id": "c96ada92-0e17-48b5-9aef-09c7ccf7efc7",
   "metadata": {},
   "outputs": [],
   "source": [
    "df_Laz_product = pd.DataFrame(columns = ['Url', 'Name', 'Price', 'Voucher', 'Sold', 'NumRate'])\n",
    "df_Laz_shop = pd.DataFrame(columns = ['Url', 'Name', 'Followers'])\n",
    "df_Laz_feedback = pd.DataFrame(columns = ['Product_Url', 'Content'])"
   ]
  },
  {
   "cell_type": "markdown",
   "id": "a1ae9288-4a8e-4c2e-9f92-18120cef26d4",
   "metadata": {},
   "source": [
    "Extract information from 120 products on Lazada website"
   ]
  },
  {
   "cell_type": "code",
   "execution_count": null,
   "id": "fc5350c2-de68-45ea-944b-8b9010140cd2",
   "metadata": {
    "scrolled": true
   },
   "outputs": [],
   "source": [
    "url = 'https://www.lazada.vn/#?'\n",
    "driver.get(url)\n",
    "search_box = driver.find_element(By.CSS_SELECTOR, \"input.search-box__input--O34g\")\n",
    "search_box.send_keys(\"Quần áo nữ\")\n",
    "search_button = driver.find_element(By.CSS_SELECTOR, \"a.search-box__button--1oH7\")\n",
    "search_button.click()\n",
    "\n",
    "button_nextPage = driver.find_element(By.CSS_SELECTOR, 'li[title=\"Next Page\"] button')\n",
    "\n",
    "for i in range (0, 3):\n",
    "    time.sleep(2)\n",
    "\n",
    "    try:\n",
    "        name_elements = driver.find_elements(By.CSS_SELECTOR, '.RfADt a')\n",
    "        names = [e.text for e in name_elements]\n",
    "        urls = [e.get_attribute('href') for e in name_elements]\n",
    "    except NoSuchElementException:\n",
    "        print('NoSuchElementException')\n",
    "        \n",
    "    try:\n",
    "        price_elements = driver.find_elements(By.CSS_SELECTOR, '.aBrP0')\n",
    "        prices = [e.text for e in price_elements]\n",
    "    except NoSuchElementException:\n",
    "        print('NoSuchElementException')\n",
    "        \n",
    "    try:\n",
    "        voucher_elements = driver.find_elements(By.CSS_SELECTOR, '.WNoq3')\n",
    "        vouchers = [e.text for e in voucher_elements]\n",
    "    except NoSuchElementException:\n",
    "        print('NoSuchElementException')\n",
    "        \n",
    "    try:\n",
    "        sold_elements = driver.find_elements(By.CSS_SELECTOR, 'span._1cEkb')\n",
    "        solds = [e.text for e in sold_elements]\n",
    "    except NoSuchElementException:\n",
    "        print('NoSuchElementException')\n",
    "        \n",
    "    try:\n",
    "        nRate_elements = driver.find_elements(By.CSS_SELECTOR, 'span.qzqFw')\n",
    "        nRates = [e.text for e in nRate_elements]\n",
    "    except NoSuchElementException:\n",
    "        print('NoSuchElementException')\n",
    "    \n",
    "    default_length = len(urls)\n",
    "            \n",
    "    if len(names) < default_length:\n",
    "        names.extend([\"0\"] * (default_length - len(names)))\n",
    "    if len(prices) < default_length:\n",
    "        prices.extend([\"0%\"] * (default_length - len(prices)))\n",
    "    if len(vouchers) < default_length:\n",
    "        vouchers.extend([\"0\"] * (default_length - len(vouchers)))\n",
    "    if len(solds) < default_length:\n",
    "        solds.extend([\"0\"] * (default_length - len(solds)))\n",
    "    if len(nRates) < default_length:\n",
    "        nRates.extend([\"0\"] * (default_length - len(nRates)))\n",
    "\n",
    "    df = pd.DataFrame({\n",
    "            'Url': urls,\n",
    "            'Name': names,\n",
    "            'Price': prices,\n",
    "            'Voucher': vouchers,\n",
    "            'Sold': solds,\n",
    "            'NumRate': nRates\n",
    "        })\n",
    "\n",
    "    df_Laz_product = pd.concat([df_Laz_product, df], ignore_index = True)\n",
    "        \n",
    "    button_nextPage.click()"
   ]
  },
  {
   "cell_type": "code",
   "execution_count": null,
   "id": "3de92ffa-a8c3-43b0-8b4a-5187be22cd32",
   "metadata": {},
   "outputs": [],
   "source": [
    "df_Laz_product"
   ]
  },
  {
   "cell_type": "code",
   "execution_count": null,
   "id": "6d15c22b-f462-4332-9ba2-a8f2de0e92c0",
   "metadata": {},
   "outputs": [],
   "source": [
    "product_urls = list(df_Laz_product['Url'])"
   ]
  },
  {
   "cell_type": "code",
   "execution_count": null,
   "id": "01b8fb32-1836-4fbe-bf5c-94a2d77338fe",
   "metadata": {
    "scrolled": true
   },
   "outputs": [],
   "source": [
    "print(len(product_urls))\n",
    "for url in product_urls:\n",
    "    print(url)"
   ]
  },
  {
   "cell_type": "markdown",
   "id": "9e7b5ce2-d750-46f8-911b-1ff9b5db1a32",
   "metadata": {},
   "source": [
    "Store the product URLs in a text file as a backup"
   ]
  },
  {
   "cell_type": "code",
   "execution_count": null,
   "id": "e8a12252-d997-4eb7-a88d-d468a3d58cf3",
   "metadata": {},
   "outputs": [],
   "source": [
    "with open('Laz_product_urls.txt', mode='w') as file:\n",
    "    for row in product_urls:\n",
    "        file.write(row + \"\\n\")"
   ]
  },
  {
   "cell_type": "markdown",
   "id": "50f1351d-fe30-48eb-b77d-03fe36dbe32d",
   "metadata": {},
   "source": [
    "Retrieve the list of product URLs from the backup file"
   ]
  },
  {
   "cell_type": "code",
   "execution_count": 22,
   "id": "978eeef0-d460-47e2-b380-724d5c6f638f",
   "metadata": {
    "scrolled": true
   },
   "outputs": [],
   "source": [
    "with open('Laz_product_urls.txt', mode='r') as file:\n",
    "    links = file.readlines()\n",
    "links = [link.strip() for link in links]\n",
    "# print(links)"
   ]
  },
  {
   "cell_type": "code",
   "execution_count": 23,
   "id": "77e88ba4-8d28-48a5-8e90-ebbc018a4298",
   "metadata": {},
   "outputs": [],
   "source": [
    "Laz_product_urls = links"
   ]
  },
  {
   "cell_type": "markdown",
   "id": "26279167-ee70-491a-8e80-679171ed7edf",
   "metadata": {},
   "source": [
    "Store the product dataframe in a csv file as a backup"
   ]
  },
  {
   "cell_type": "code",
   "execution_count": null,
   "id": "faac775c-0e3d-47ca-a66d-a7ea4e5a1de6",
   "metadata": {},
   "outputs": [],
   "source": [
    "df_Laz_product.to_csv('lazada_products.csv', index=False)"
   ]
  },
  {
   "cell_type": "markdown",
   "id": "148abc4c-ada4-4bfd-be3e-19f502047ca4",
   "metadata": {},
   "source": [
    "Retrieve the product dataframe from the backup file"
   ]
  },
  {
   "cell_type": "code",
   "execution_count": 2,
   "id": "75276a91-7d4c-4b35-ba3a-1578d6fa8573",
   "metadata": {},
   "outputs": [
    {
     "data": {
      "text/html": [
       "<div>\n",
       "<style scoped>\n",
       "    .dataframe tbody tr th:only-of-type {\n",
       "        vertical-align: middle;\n",
       "    }\n",
       "\n",
       "    .dataframe tbody tr th {\n",
       "        vertical-align: top;\n",
       "    }\n",
       "\n",
       "    .dataframe thead th {\n",
       "        text-align: right;\n",
       "    }\n",
       "</style>\n",
       "<table border=\"1\" class=\"dataframe\">\n",
       "  <thead>\n",
       "    <tr style=\"text-align: right;\">\n",
       "      <th></th>\n",
       "      <th>Url</th>\n",
       "      <th>Name</th>\n",
       "      <th>Price</th>\n",
       "      <th>Voucher</th>\n",
       "      <th>Sold</th>\n",
       "      <th>NumRate</th>\n",
       "    </tr>\n",
       "  </thead>\n",
       "  <tbody>\n",
       "    <tr>\n",
       "      <th>0</th>\n",
       "      <td>https://www.lazada.vn/products/do-bo-nu-di-cho...</td>\n",
       "      <td>Đồ Bộ Nữ Đi Chơi Chất Thun Mát Size M - dưới 5...</td>\n",
       "      <td>₫39,000</td>\n",
       "      <td>Voucher save 61%</td>\n",
       "      <td>3.9K sold</td>\n",
       "      <td>(1370)</td>\n",
       "    </tr>\n",
       "    <tr>\n",
       "      <th>1</th>\n",
       "      <td>https://www.lazada.vn/products/set-ao-phong-ta...</td>\n",
       "      <td>Sét áo phông tay lỡ phối kẻ + quần kẻ dài mẫu mới</td>\n",
       "      <td>₫49,000</td>\n",
       "      <td>Voucher save 62%</td>\n",
       "      <td>23 sold</td>\n",
       "      <td>(11)</td>\n",
       "    </tr>\n",
       "    <tr>\n",
       "      <th>2</th>\n",
       "      <td>https://www.lazada.vn/products/bo-pijama-do-bo...</td>\n",
       "      <td>Bộ Pijama, Đồ Bộ Mặc Nhà Nữ Dáng Cộc xinh xắn</td>\n",
       "      <td>₫19,000</td>\n",
       "      <td>Voucher save 46%</td>\n",
       "      <td>458 sold</td>\n",
       "      <td>(131)</td>\n",
       "    </tr>\n",
       "    <tr>\n",
       "      <th>3</th>\n",
       "      <td>https://www.lazada.vn/products/re-vo-dich-tong...</td>\n",
       "      <td>[ Rẻ Vô Địch ] Tổng hợp các sét quần hoạt hình...</td>\n",
       "      <td>₫79,200</td>\n",
       "      <td>Voucher save 28%</td>\n",
       "      <td>265 sold</td>\n",
       "      <td>(91)</td>\n",
       "    </tr>\n",
       "    <tr>\n",
       "      <th>4</th>\n",
       "      <td>https://www.lazada.vn/products/set-bo-ao-phong...</td>\n",
       "      <td>Set Bộ áo phông BđBcR Nữ Cotton Mix Quần dài K...</td>\n",
       "      <td>₫49,000</td>\n",
       "      <td>Voucher save 29%</td>\n",
       "      <td>171 sold</td>\n",
       "      <td>(60)</td>\n",
       "    </tr>\n",
       "    <tr>\n",
       "      <th>...</th>\n",
       "      <td>...</td>\n",
       "      <td>...</td>\n",
       "      <td>...</td>\n",
       "      <td>...</td>\n",
       "      <td>...</td>\n",
       "      <td>...</td>\n",
       "    </tr>\n",
       "    <tr>\n",
       "      <th>115</th>\n",
       "      <td>https://www.lazada.vn/products/set-quan-short-...</td>\n",
       "      <td>Set quần short đen + áo len sọc xanh QC</td>\n",
       "      <td>₫52,000</td>\n",
       "      <td>NaN</td>\n",
       "      <td>18 sold</td>\n",
       "      <td>(5)</td>\n",
       "    </tr>\n",
       "    <tr>\n",
       "      <th>116</th>\n",
       "      <td>https://www.lazada.vn/products/ph-set-bo-3-ao-...</td>\n",
       "      <td>(PH) Set Bộ 3 Áo Ống Kèm Áo Lưới Tay Dài Croto...</td>\n",
       "      <td>₫105,000</td>\n",
       "      <td>Voucher save 30%</td>\n",
       "      <td>7 sold</td>\n",
       "      <td>(1)</td>\n",
       "    </tr>\n",
       "    <tr>\n",
       "      <th>117</th>\n",
       "      <td>https://www.lazada.vn/products/quan-dui-nu-mac...</td>\n",
       "      <td>Quần đùi nữ mặc nhà ỐNG RỘNG, VẢI XƯỢC, DÂY KÉ...</td>\n",
       "      <td>₫35,800</td>\n",
       "      <td>Voucher save 47%</td>\n",
       "      <td>15 sold</td>\n",
       "      <td>(6)</td>\n",
       "    </tr>\n",
       "    <tr>\n",
       "      <th>118</th>\n",
       "      <td>https://www.lazada.vn/products/do-bo-dui-co-tr...</td>\n",
       "      <td>Đồ Bộ Đùi Cổ Tròn Tay Cộc Chất Thun Cotton Su ...</td>\n",
       "      <td>₫79,000</td>\n",
       "      <td>Voucher save 50%</td>\n",
       "      <td>0</td>\n",
       "      <td>0</td>\n",
       "    </tr>\n",
       "    <tr>\n",
       "      <th>119</th>\n",
       "      <td>https://www.lazada.vn/products/quan-ao-phu-nu-...</td>\n",
       "      <td>Pajama Women's Summer Loose Nightgown Women Ko...</td>\n",
       "      <td>₫98,000</td>\n",
       "      <td>Voucher save 34%</td>\n",
       "      <td>0</td>\n",
       "      <td>0</td>\n",
       "    </tr>\n",
       "  </tbody>\n",
       "</table>\n",
       "<p>120 rows × 6 columns</p>\n",
       "</div>"
      ],
      "text/plain": [
       "                                                   Url  \\\n",
       "0    https://www.lazada.vn/products/do-bo-nu-di-cho...   \n",
       "1    https://www.lazada.vn/products/set-ao-phong-ta...   \n",
       "2    https://www.lazada.vn/products/bo-pijama-do-bo...   \n",
       "3    https://www.lazada.vn/products/re-vo-dich-tong...   \n",
       "4    https://www.lazada.vn/products/set-bo-ao-phong...   \n",
       "..                                                 ...   \n",
       "115  https://www.lazada.vn/products/set-quan-short-...   \n",
       "116  https://www.lazada.vn/products/ph-set-bo-3-ao-...   \n",
       "117  https://www.lazada.vn/products/quan-dui-nu-mac...   \n",
       "118  https://www.lazada.vn/products/do-bo-dui-co-tr...   \n",
       "119  https://www.lazada.vn/products/quan-ao-phu-nu-...   \n",
       "\n",
       "                                                  Name     Price  \\\n",
       "0    Đồ Bộ Nữ Đi Chơi Chất Thun Mát Size M - dưới 5...   ₫39,000   \n",
       "1    Sét áo phông tay lỡ phối kẻ + quần kẻ dài mẫu mới   ₫49,000   \n",
       "2        Bộ Pijama, Đồ Bộ Mặc Nhà Nữ Dáng Cộc xinh xắn   ₫19,000   \n",
       "3    [ Rẻ Vô Địch ] Tổng hợp các sét quần hoạt hình...   ₫79,200   \n",
       "4    Set Bộ áo phông BđBcR Nữ Cotton Mix Quần dài K...   ₫49,000   \n",
       "..                                                 ...       ...   \n",
       "115            Set quần short đen + áo len sọc xanh QC   ₫52,000   \n",
       "116  (PH) Set Bộ 3 Áo Ống Kèm Áo Lưới Tay Dài Croto...  ₫105,000   \n",
       "117  Quần đùi nữ mặc nhà ỐNG RỘNG, VẢI XƯỢC, DÂY KÉ...   ₫35,800   \n",
       "118  Đồ Bộ Đùi Cổ Tròn Tay Cộc Chất Thun Cotton Su ...   ₫79,000   \n",
       "119  Pajama Women's Summer Loose Nightgown Women Ko...   ₫98,000   \n",
       "\n",
       "              Voucher       Sold NumRate  \n",
       "0    Voucher save 61%  3.9K sold  (1370)  \n",
       "1    Voucher save 62%    23 sold    (11)  \n",
       "2    Voucher save 46%   458 sold   (131)  \n",
       "3    Voucher save 28%   265 sold    (91)  \n",
       "4    Voucher save 29%   171 sold    (60)  \n",
       "..                ...        ...     ...  \n",
       "115               NaN    18 sold     (5)  \n",
       "116  Voucher save 30%     7 sold     (1)  \n",
       "117  Voucher save 47%    15 sold     (6)  \n",
       "118  Voucher save 50%          0       0  \n",
       "119  Voucher save 34%          0       0  \n",
       "\n",
       "[120 rows x 6 columns]"
      ]
     },
     "execution_count": 2,
     "metadata": {},
     "output_type": "execute_result"
    }
   ],
   "source": [
    "df_Laz_product = pd.read_csv('lazada_products.csv')\n",
    "df_Laz_product"
   ]
  },
  {
   "cell_type": "markdown",
   "id": "f7318182-756e-4b2d-9ba5-d269c5c32fa9",
   "metadata": {},
   "source": [
    "Retrieve the shop urls on Lazada website"
   ]
  },
  {
   "cell_type": "code",
   "execution_count": 15,
   "id": "f3a4f566-22f6-400e-a481-792c0ac8440a",
   "metadata": {
    "scrolled": true
   },
   "outputs": [
    {
     "name": "stdout",
     "output_type": "stream",
     "text": [
      "No more pages to scrape.\n",
      "No more pages to scrape.\n",
      "No more pages to scrape.\n",
      "No more pages to scrape.\n"
     ]
    }
   ],
   "source": [
    "Laz_shop_urls = []\n",
    "for url in Laz_product_urls:\n",
    "    driver.get(url)\n",
    "    time.sleep(5)\n",
    "\n",
    "    try:    \n",
    "        shop_url = driver.find_element(By.CSS_SELECTOR, 'div.seller-link a').get_attribute('href')\n",
    "        Laz_shop_urls.append(shop_url)\n",
    "    except NoSuchElementException:\n",
    "        shop_url = ''\n",
    "        print('NoSuchElementException')\n",
    "        \n",
    "    # Get the feedback information\n",
    "    \n",
    "    driver.execute_script(f\"window.scrollTo(0, 1550);\")\n",
    "    time.sleep(5)\n",
    "    \n",
    "    while True:\n",
    "        try:\n",
    "            content_elements = driver.find_elements(By.CSS_SELECTOR, '.item div:nth-child(3) .content')\n",
    "            contents = [e.text for e in content_elements]\n",
    "        except NoSuchElementException:\n",
    "            print('NoSuchElementException')\n",
    "            \n",
    "        urls = [url for i in range(0, default_length)]\n",
    "    \n",
    "        df = pd.DataFrame({\n",
    "                'Product_Url': urls,\n",
    "                'Content': contents\n",
    "            })\n",
    "        df_Laz_feedback = pd.concat([df_Laz_feedback, df], ignore_index = True)\n",
    "    \n",
    "        driver.execute_script(f\"window.scrollTo(0, 2280);\")\n",
    "        time.sleep(5)\n",
    "        \n",
    "        try:\n",
    "            next_button = driver.find_element(By.CSS_SELECTOR, 'button.next-btn.next-btn-normal.next-btn-medium.next-pagination-item.next')\n",
    "        except NoSuchElementException:\n",
    "            break\n",
    "            print('NoSuchElementException')\n",
    "        \n",
    "        if next_button.get_attribute('disabled'):\n",
    "            print(\"No more pages to scrape.\")\n",
    "            break\n",
    "        else:\n",
    "            next_button.click()\n",
    "            time.sleep(5)"
   ]
  },
  {
   "cell_type": "code",
   "execution_count": 16,
   "id": "dc2f3c94-29bb-408c-9203-731443e14ba3",
   "metadata": {},
   "outputs": [
    {
     "data": {
      "text/html": [
       "<div>\n",
       "<style scoped>\n",
       "    .dataframe tbody tr th:only-of-type {\n",
       "        vertical-align: middle;\n",
       "    }\n",
       "\n",
       "    .dataframe tbody tr th {\n",
       "        vertical-align: top;\n",
       "    }\n",
       "\n",
       "    .dataframe thead th {\n",
       "        text-align: right;\n",
       "    }\n",
       "</style>\n",
       "<table border=\"1\" class=\"dataframe\">\n",
       "  <thead>\n",
       "    <tr style=\"text-align: right;\">\n",
       "      <th></th>\n",
       "      <th>Product_Url</th>\n",
       "      <th>Content</th>\n",
       "      <th>Rate</th>\n",
       "    </tr>\n",
       "  </thead>\n",
       "  <tbody>\n",
       "    <tr>\n",
       "      <th>0</th>\n",
       "      <td>https://www.lazada.vn/products/do-bo-nu-di-cho...</td>\n",
       "      <td>Màu sắc đẹp hình in rõ nét mà vải mỏng quá mỏn...</td>\n",
       "      <td>&lt;selenium.webdriver.remote.webelement.WebEleme...</td>\n",
       "    </tr>\n",
       "    <tr>\n",
       "      <th>1</th>\n",
       "      <td>https://www.lazada.vn/products/do-bo-nu-di-cho...</td>\n",
       "      <td>Màu sắc đẹp hình in rõ nét mà vải mỏng quá mỏn...</td>\n",
       "      <td>&lt;selenium.webdriver.remote.webelement.WebEleme...</td>\n",
       "    </tr>\n",
       "    <tr>\n",
       "      <th>2</th>\n",
       "      <td>https://www.lazada.vn/products/do-bo-nu-di-cho...</td>\n",
       "      <td>Màu sắc đẹp hình in rõ nét mà vải mỏng quá mỏn...</td>\n",
       "      <td>&lt;selenium.webdriver.remote.webelement.WebEleme...</td>\n",
       "    </tr>\n",
       "    <tr>\n",
       "      <th>3</th>\n",
       "      <td>https://www.lazada.vn/products/do-bo-nu-di-cho...</td>\n",
       "      <td>Vừa vặn và tôn dáng, Thiết kế thời trang cho v...</td>\n",
       "      <td>&lt;selenium.webdriver.remote.webelement.WebEleme...</td>\n",
       "    </tr>\n",
       "    <tr>\n",
       "      <th>4</th>\n",
       "      <td>https://www.lazada.vn/products/do-bo-nu-di-cho...</td>\n",
       "      <td>Màu sắc đẹp hình in rõ nét mà vải mỏng quá mỏn...</td>\n",
       "      <td>&lt;selenium.webdriver.remote.webelement.WebEleme...</td>\n",
       "    </tr>\n",
       "    <tr>\n",
       "      <th>...</th>\n",
       "      <td>...</td>\n",
       "      <td>...</td>\n",
       "      <td>...</td>\n",
       "    </tr>\n",
       "    <tr>\n",
       "      <th>15805</th>\n",
       "      <td>https://www.lazada.vn/products/quan-dui-nu-mac...</td>\n",
       "      <td>cái quần không có nút sao xài , làm ăn gian dố...</td>\n",
       "      <td>&lt;selenium.webdriver.remote.webelement.WebEleme...</td>\n",
       "    </tr>\n",
       "    <tr>\n",
       "      <th>15806</th>\n",
       "      <td>https://www.lazada.vn/products/do-bo-dui-co-tr...</td>\n",
       "      <td>ba con coi ne,mua mâu nay giao mâu khac gi ma ...</td>\n",
       "      <td>&lt;selenium.webdriver.remote.webelement.WebEleme...</td>\n",
       "    </tr>\n",
       "    <tr>\n",
       "      <th>15807</th>\n",
       "      <td>https://www.lazada.vn/products/do-bo-dui-co-tr...</td>\n",
       "      <td>Hoàn hảo để thư giãn tại nhà, Vải mềm mại và t...</td>\n",
       "      <td>&lt;selenium.webdriver.remote.webelement.WebEleme...</td>\n",
       "    </tr>\n",
       "    <tr>\n",
       "      <th>15808</th>\n",
       "      <td>https://www.lazada.vn/products/do-bo-dui-co-tr...</td>\n",
       "      <td></td>\n",
       "      <td>&lt;selenium.webdriver.remote.webelement.WebEleme...</td>\n",
       "    </tr>\n",
       "    <tr>\n",
       "      <th>15809</th>\n",
       "      <td>https://www.lazada.vn/products/do-bo-dui-co-tr...</td>\n",
       "      <td></td>\n",
       "      <td>&lt;selenium.webdriver.remote.webelement.WebEleme...</td>\n",
       "    </tr>\n",
       "  </tbody>\n",
       "</table>\n",
       "<p>15810 rows × 3 columns</p>\n",
       "</div>"
      ],
      "text/plain": [
       "                                             Product_Url  \\\n",
       "0      https://www.lazada.vn/products/do-bo-nu-di-cho...   \n",
       "1      https://www.lazada.vn/products/do-bo-nu-di-cho...   \n",
       "2      https://www.lazada.vn/products/do-bo-nu-di-cho...   \n",
       "3      https://www.lazada.vn/products/do-bo-nu-di-cho...   \n",
       "4      https://www.lazada.vn/products/do-bo-nu-di-cho...   \n",
       "...                                                  ...   \n",
       "15805  https://www.lazada.vn/products/quan-dui-nu-mac...   \n",
       "15806  https://www.lazada.vn/products/do-bo-dui-co-tr...   \n",
       "15807  https://www.lazada.vn/products/do-bo-dui-co-tr...   \n",
       "15808  https://www.lazada.vn/products/do-bo-dui-co-tr...   \n",
       "15809  https://www.lazada.vn/products/do-bo-dui-co-tr...   \n",
       "\n",
       "                                                 Content  \\\n",
       "0      Màu sắc đẹp hình in rõ nét mà vải mỏng quá mỏn...   \n",
       "1      Màu sắc đẹp hình in rõ nét mà vải mỏng quá mỏn...   \n",
       "2      Màu sắc đẹp hình in rõ nét mà vải mỏng quá mỏn...   \n",
       "3      Vừa vặn và tôn dáng, Thiết kế thời trang cho v...   \n",
       "4      Màu sắc đẹp hình in rõ nét mà vải mỏng quá mỏn...   \n",
       "...                                                  ...   \n",
       "15805  cái quần không có nút sao xài , làm ăn gian dố...   \n",
       "15806  ba con coi ne,mua mâu nay giao mâu khac gi ma ...   \n",
       "15807  Hoàn hảo để thư giãn tại nhà, Vải mềm mại và t...   \n",
       "15808                                                      \n",
       "15809                                                      \n",
       "\n",
       "                                                    Rate  \n",
       "0      <selenium.webdriver.remote.webelement.WebEleme...  \n",
       "1      <selenium.webdriver.remote.webelement.WebEleme...  \n",
       "2      <selenium.webdriver.remote.webelement.WebEleme...  \n",
       "3      <selenium.webdriver.remote.webelement.WebEleme...  \n",
       "4      <selenium.webdriver.remote.webelement.WebEleme...  \n",
       "...                                                  ...  \n",
       "15805  <selenium.webdriver.remote.webelement.WebEleme...  \n",
       "15806  <selenium.webdriver.remote.webelement.WebEleme...  \n",
       "15807  <selenium.webdriver.remote.webelement.WebEleme...  \n",
       "15808  <selenium.webdriver.remote.webelement.WebEleme...  \n",
       "15809  <selenium.webdriver.remote.webelement.WebEleme...  \n",
       "\n",
       "[15810 rows x 3 columns]"
      ]
     },
     "execution_count": 16,
     "metadata": {},
     "output_type": "execute_result"
    }
   ],
   "source": [
    "df_Laz_feedback"
   ]
  },
  {
   "cell_type": "code",
   "execution_count": 17,
   "id": "b5c21752-f943-4f75-88e4-cbe04939a079",
   "metadata": {},
   "outputs": [],
   "source": [
    "df_Laz_feedback.to_csv('lazada_feedbacks.csv', index=False)"
   ]
  },
  {
   "cell_type": "code",
   "execution_count": 3,
   "id": "4a6d879b-5668-407f-a6c1-5946727f4589",
   "metadata": {},
   "outputs": [
    {
     "data": {
      "text/html": [
       "<div>\n",
       "<style scoped>\n",
       "    .dataframe tbody tr th:only-of-type {\n",
       "        vertical-align: middle;\n",
       "    }\n",
       "\n",
       "    .dataframe tbody tr th {\n",
       "        vertical-align: top;\n",
       "    }\n",
       "\n",
       "    .dataframe thead th {\n",
       "        text-align: right;\n",
       "    }\n",
       "</style>\n",
       "<table border=\"1\" class=\"dataframe\">\n",
       "  <thead>\n",
       "    <tr style=\"text-align: right;\">\n",
       "      <th></th>\n",
       "      <th>Product_Url</th>\n",
       "      <th>Content</th>\n",
       "      <th>Rate</th>\n",
       "    </tr>\n",
       "  </thead>\n",
       "  <tbody>\n",
       "    <tr>\n",
       "      <th>0</th>\n",
       "      <td>https://www.lazada.vn/products/do-bo-nu-di-cho...</td>\n",
       "      <td>Màu sắc đẹp hình in rõ nét mà vải mỏng quá mỏn...</td>\n",
       "      <td>&lt;selenium.webdriver.remote.webelement.WebEleme...</td>\n",
       "    </tr>\n",
       "    <tr>\n",
       "      <th>1</th>\n",
       "      <td>https://www.lazada.vn/products/do-bo-nu-di-cho...</td>\n",
       "      <td>Màu sắc đẹp hình in rõ nét mà vải mỏng quá mỏn...</td>\n",
       "      <td>&lt;selenium.webdriver.remote.webelement.WebEleme...</td>\n",
       "    </tr>\n",
       "    <tr>\n",
       "      <th>2</th>\n",
       "      <td>https://www.lazada.vn/products/do-bo-nu-di-cho...</td>\n",
       "      <td>Màu sắc đẹp hình in rõ nét mà vải mỏng quá mỏn...</td>\n",
       "      <td>&lt;selenium.webdriver.remote.webelement.WebEleme...</td>\n",
       "    </tr>\n",
       "    <tr>\n",
       "      <th>3</th>\n",
       "      <td>https://www.lazada.vn/products/do-bo-nu-di-cho...</td>\n",
       "      <td>Vừa vặn và tôn dáng, Thiết kế thời trang cho v...</td>\n",
       "      <td>&lt;selenium.webdriver.remote.webelement.WebEleme...</td>\n",
       "    </tr>\n",
       "    <tr>\n",
       "      <th>4</th>\n",
       "      <td>https://www.lazada.vn/products/do-bo-nu-di-cho...</td>\n",
       "      <td>Màu sắc đẹp hình in rõ nét mà vải mỏng quá mỏn...</td>\n",
       "      <td>&lt;selenium.webdriver.remote.webelement.WebEleme...</td>\n",
       "    </tr>\n",
       "    <tr>\n",
       "      <th>...</th>\n",
       "      <td>...</td>\n",
       "      <td>...</td>\n",
       "      <td>...</td>\n",
       "    </tr>\n",
       "    <tr>\n",
       "      <th>15805</th>\n",
       "      <td>https://www.lazada.vn/products/quan-dui-nu-mac...</td>\n",
       "      <td>cái quần không có nút sao xài , làm ăn gian dố...</td>\n",
       "      <td>&lt;selenium.webdriver.remote.webelement.WebEleme...</td>\n",
       "    </tr>\n",
       "    <tr>\n",
       "      <th>15806</th>\n",
       "      <td>https://www.lazada.vn/products/do-bo-dui-co-tr...</td>\n",
       "      <td>ba con coi ne,mua mâu nay giao mâu khac gi ma ...</td>\n",
       "      <td>&lt;selenium.webdriver.remote.webelement.WebEleme...</td>\n",
       "    </tr>\n",
       "    <tr>\n",
       "      <th>15807</th>\n",
       "      <td>https://www.lazada.vn/products/do-bo-dui-co-tr...</td>\n",
       "      <td>Hoàn hảo để thư giãn tại nhà, Vải mềm mại và t...</td>\n",
       "      <td>&lt;selenium.webdriver.remote.webelement.WebEleme...</td>\n",
       "    </tr>\n",
       "    <tr>\n",
       "      <th>15808</th>\n",
       "      <td>https://www.lazada.vn/products/do-bo-dui-co-tr...</td>\n",
       "      <td>NaN</td>\n",
       "      <td>&lt;selenium.webdriver.remote.webelement.WebEleme...</td>\n",
       "    </tr>\n",
       "    <tr>\n",
       "      <th>15809</th>\n",
       "      <td>https://www.lazada.vn/products/do-bo-dui-co-tr...</td>\n",
       "      <td>NaN</td>\n",
       "      <td>&lt;selenium.webdriver.remote.webelement.WebEleme...</td>\n",
       "    </tr>\n",
       "  </tbody>\n",
       "</table>\n",
       "<p>15810 rows × 3 columns</p>\n",
       "</div>"
      ],
      "text/plain": [
       "                                             Product_Url  \\\n",
       "0      https://www.lazada.vn/products/do-bo-nu-di-cho...   \n",
       "1      https://www.lazada.vn/products/do-bo-nu-di-cho...   \n",
       "2      https://www.lazada.vn/products/do-bo-nu-di-cho...   \n",
       "3      https://www.lazada.vn/products/do-bo-nu-di-cho...   \n",
       "4      https://www.lazada.vn/products/do-bo-nu-di-cho...   \n",
       "...                                                  ...   \n",
       "15805  https://www.lazada.vn/products/quan-dui-nu-mac...   \n",
       "15806  https://www.lazada.vn/products/do-bo-dui-co-tr...   \n",
       "15807  https://www.lazada.vn/products/do-bo-dui-co-tr...   \n",
       "15808  https://www.lazada.vn/products/do-bo-dui-co-tr...   \n",
       "15809  https://www.lazada.vn/products/do-bo-dui-co-tr...   \n",
       "\n",
       "                                                 Content  \\\n",
       "0      Màu sắc đẹp hình in rõ nét mà vải mỏng quá mỏn...   \n",
       "1      Màu sắc đẹp hình in rõ nét mà vải mỏng quá mỏn...   \n",
       "2      Màu sắc đẹp hình in rõ nét mà vải mỏng quá mỏn...   \n",
       "3      Vừa vặn và tôn dáng, Thiết kế thời trang cho v...   \n",
       "4      Màu sắc đẹp hình in rõ nét mà vải mỏng quá mỏn...   \n",
       "...                                                  ...   \n",
       "15805  cái quần không có nút sao xài , làm ăn gian dố...   \n",
       "15806  ba con coi ne,mua mâu nay giao mâu khac gi ma ...   \n",
       "15807  Hoàn hảo để thư giãn tại nhà, Vải mềm mại và t...   \n",
       "15808                                                NaN   \n",
       "15809                                                NaN   \n",
       "\n",
       "                                                    Rate  \n",
       "0      <selenium.webdriver.remote.webelement.WebEleme...  \n",
       "1      <selenium.webdriver.remote.webelement.WebEleme...  \n",
       "2      <selenium.webdriver.remote.webelement.WebEleme...  \n",
       "3      <selenium.webdriver.remote.webelement.WebEleme...  \n",
       "4      <selenium.webdriver.remote.webelement.WebEleme...  \n",
       "...                                                  ...  \n",
       "15805  <selenium.webdriver.remote.webelement.WebEleme...  \n",
       "15806  <selenium.webdriver.remote.webelement.WebEleme...  \n",
       "15807  <selenium.webdriver.remote.webelement.WebEleme...  \n",
       "15808  <selenium.webdriver.remote.webelement.WebEleme...  \n",
       "15809  <selenium.webdriver.remote.webelement.WebEleme...  \n",
       "\n",
       "[15810 rows x 3 columns]"
      ]
     },
     "execution_count": 3,
     "metadata": {},
     "output_type": "execute_result"
    }
   ],
   "source": [
    "df_Laz_feedback = pd.read_csv('lazada_feedbacks.csv')\n",
    "df_Laz_feedback"
   ]
  },
  {
   "cell_type": "code",
   "execution_count": 27,
   "id": "f35e08da-2332-4a29-8a03-f135f8c566d9",
   "metadata": {},
   "outputs": [
    {
     "name": "stdout",
     "output_type": "stream",
     "text": [
      "NoSuchElementException\n",
      "NoSuchElementException\n",
      "NoSuchElementException\n",
      "NoSuchElementException\n",
      "NoSuchElementException\n",
      "NoSuchElementException\n",
      "NoSuchElementException\n",
      "NoSuchElementException\n",
      "NoSuchElementException\n",
      "NoSuchElementException\n",
      "NoSuchElementException\n",
      "NoSuchElementException\n",
      "NoSuchElementException\n",
      "NoSuchElementException\n",
      "NoSuchElementException\n",
      "NoSuchElementException\n"
     ]
    },
    {
     "ename": "NoSuchWindowException",
     "evalue": "Message: no such window: target window already closed\nfrom unknown error: web view not found\n  (Session info: chrome=128.0.6613.120)\nStacktrace:\n\tGetHandleVerifier [0x004D8213+26163]\n\t(No symbol) [0x00469CC4]\n\t(No symbol) [0x003624C3]\n\t(No symbol) [0x0033E27B]\n\t(No symbol) [0x003D192F]\n\t(No symbol) [0x003E3F99]\n\t(No symbol) [0x003CAA56]\n\t(No symbol) [0x0039BE89]\n\t(No symbol) [0x0039C8CD]\n\tGetHandleVerifier [0x007AD313+2996019]\n\tGetHandleVerifier [0x00801B89+3342249]\n\tGetHandleVerifier [0x00567AEF+614159]\n\tGetHandleVerifier [0x0056F17C+644508]\n\t(No symbol) [0x004727FD]\n\t(No symbol) [0x0046F6F8]\n\t(No symbol) [0x0046F895]\n\t(No symbol) [0x00461C16]\n\tBaseThreadInitThunk [0x76BE7D59+25]\n\tRtlInitializeExceptionChain [0x77B6B74B+107]\n\tRtlClearBits [0x77B6B6CF+191]\n",
     "output_type": "error",
     "traceback": [
      "\u001b[1;31m---------------------------------------------------------------------------\u001b[0m",
      "\u001b[1;31mNoSuchWindowException\u001b[0m                     Traceback (most recent call last)",
      "Cell \u001b[1;32mIn[27], line 7\u001b[0m\n\u001b[0;32m      4\u001b[0m time\u001b[38;5;241m.\u001b[39msleep(\u001b[38;5;241m5\u001b[39m)\n\u001b[0;32m      6\u001b[0m \u001b[38;5;28;01mtry\u001b[39;00m:    \n\u001b[1;32m----> 7\u001b[0m     shop_url \u001b[38;5;241m=\u001b[39m \u001b[43mdriver\u001b[49m\u001b[38;5;241;43m.\u001b[39;49m\u001b[43mfind_element\u001b[49m\u001b[43m(\u001b[49m\u001b[43mBy\u001b[49m\u001b[38;5;241;43m.\u001b[39;49m\u001b[43mCSS_SELECTOR\u001b[49m\u001b[43m,\u001b[49m\u001b[43m \u001b[49m\u001b[38;5;124;43m'\u001b[39;49m\u001b[38;5;124;43mdiv.seller-link a\u001b[39;49m\u001b[38;5;124;43m'\u001b[39;49m\u001b[43m)\u001b[49m\u001b[38;5;241m.\u001b[39mget_attribute(\u001b[38;5;124m'\u001b[39m\u001b[38;5;124mhref\u001b[39m\u001b[38;5;124m'\u001b[39m)\n\u001b[0;32m      8\u001b[0m     Laz_shop_urls\u001b[38;5;241m.\u001b[39mappend(shop_url)\n\u001b[0;32m      9\u001b[0m \u001b[38;5;28;01mexcept\u001b[39;00m NoSuchElementException:\n",
      "File \u001b[1;32m~\\AppData\\Local\\Programs\\Python\\Python312\\Lib\\site-packages\\selenium\\webdriver\\remote\\webdriver.py:748\u001b[0m, in \u001b[0;36mWebDriver.find_element\u001b[1;34m(self, by, value)\u001b[0m\n\u001b[0;32m    745\u001b[0m     by \u001b[38;5;241m=\u001b[39m By\u001b[38;5;241m.\u001b[39mCSS_SELECTOR\n\u001b[0;32m    746\u001b[0m     value \u001b[38;5;241m=\u001b[39m \u001b[38;5;124mf\u001b[39m\u001b[38;5;124m'\u001b[39m\u001b[38;5;124m[name=\u001b[39m\u001b[38;5;124m\"\u001b[39m\u001b[38;5;132;01m{\u001b[39;00mvalue\u001b[38;5;132;01m}\u001b[39;00m\u001b[38;5;124m\"\u001b[39m\u001b[38;5;124m]\u001b[39m\u001b[38;5;124m'\u001b[39m\n\u001b[1;32m--> 748\u001b[0m \u001b[38;5;28;01mreturn\u001b[39;00m \u001b[38;5;28;43mself\u001b[39;49m\u001b[38;5;241;43m.\u001b[39;49m\u001b[43mexecute\u001b[49m\u001b[43m(\u001b[49m\u001b[43mCommand\u001b[49m\u001b[38;5;241;43m.\u001b[39;49m\u001b[43mFIND_ELEMENT\u001b[49m\u001b[43m,\u001b[49m\u001b[43m \u001b[49m\u001b[43m{\u001b[49m\u001b[38;5;124;43m\"\u001b[39;49m\u001b[38;5;124;43musing\u001b[39;49m\u001b[38;5;124;43m\"\u001b[39;49m\u001b[43m:\u001b[49m\u001b[43m \u001b[49m\u001b[43mby\u001b[49m\u001b[43m,\u001b[49m\u001b[43m \u001b[49m\u001b[38;5;124;43m\"\u001b[39;49m\u001b[38;5;124;43mvalue\u001b[39;49m\u001b[38;5;124;43m\"\u001b[39;49m\u001b[43m:\u001b[49m\u001b[43m \u001b[49m\u001b[43mvalue\u001b[49m\u001b[43m}\u001b[49m\u001b[43m)\u001b[49m[\u001b[38;5;124m\"\u001b[39m\u001b[38;5;124mvalue\u001b[39m\u001b[38;5;124m\"\u001b[39m]\n",
      "File \u001b[1;32m~\\AppData\\Local\\Programs\\Python\\Python312\\Lib\\site-packages\\selenium\\webdriver\\remote\\webdriver.py:354\u001b[0m, in \u001b[0;36mWebDriver.execute\u001b[1;34m(self, driver_command, params)\u001b[0m\n\u001b[0;32m    352\u001b[0m response \u001b[38;5;241m=\u001b[39m \u001b[38;5;28mself\u001b[39m\u001b[38;5;241m.\u001b[39mcommand_executor\u001b[38;5;241m.\u001b[39mexecute(driver_command, params)\n\u001b[0;32m    353\u001b[0m \u001b[38;5;28;01mif\u001b[39;00m response:\n\u001b[1;32m--> 354\u001b[0m     \u001b[38;5;28;43mself\u001b[39;49m\u001b[38;5;241;43m.\u001b[39;49m\u001b[43merror_handler\u001b[49m\u001b[38;5;241;43m.\u001b[39;49m\u001b[43mcheck_response\u001b[49m\u001b[43m(\u001b[49m\u001b[43mresponse\u001b[49m\u001b[43m)\u001b[49m\n\u001b[0;32m    355\u001b[0m     response[\u001b[38;5;124m\"\u001b[39m\u001b[38;5;124mvalue\u001b[39m\u001b[38;5;124m\"\u001b[39m] \u001b[38;5;241m=\u001b[39m \u001b[38;5;28mself\u001b[39m\u001b[38;5;241m.\u001b[39m_unwrap_value(response\u001b[38;5;241m.\u001b[39mget(\u001b[38;5;124m\"\u001b[39m\u001b[38;5;124mvalue\u001b[39m\u001b[38;5;124m\"\u001b[39m, \u001b[38;5;28;01mNone\u001b[39;00m))\n\u001b[0;32m    356\u001b[0m     \u001b[38;5;28;01mreturn\u001b[39;00m response\n",
      "File \u001b[1;32m~\\AppData\\Local\\Programs\\Python\\Python312\\Lib\\site-packages\\selenium\\webdriver\\remote\\errorhandler.py:229\u001b[0m, in \u001b[0;36mErrorHandler.check_response\u001b[1;34m(self, response)\u001b[0m\n\u001b[0;32m    227\u001b[0m         alert_text \u001b[38;5;241m=\u001b[39m value[\u001b[38;5;124m\"\u001b[39m\u001b[38;5;124malert\u001b[39m\u001b[38;5;124m\"\u001b[39m]\u001b[38;5;241m.\u001b[39mget(\u001b[38;5;124m\"\u001b[39m\u001b[38;5;124mtext\u001b[39m\u001b[38;5;124m\"\u001b[39m)\n\u001b[0;32m    228\u001b[0m     \u001b[38;5;28;01mraise\u001b[39;00m exception_class(message, screen, stacktrace, alert_text)  \u001b[38;5;66;03m# type: ignore[call-arg]  # mypy is not smart enough here\u001b[39;00m\n\u001b[1;32m--> 229\u001b[0m \u001b[38;5;28;01mraise\u001b[39;00m exception_class(message, screen, stacktrace)\n",
      "\u001b[1;31mNoSuchWindowException\u001b[0m: Message: no such window: target window already closed\nfrom unknown error: web view not found\n  (Session info: chrome=128.0.6613.120)\nStacktrace:\n\tGetHandleVerifier [0x004D8213+26163]\n\t(No symbol) [0x00469CC4]\n\t(No symbol) [0x003624C3]\n\t(No symbol) [0x0033E27B]\n\t(No symbol) [0x003D192F]\n\t(No symbol) [0x003E3F99]\n\t(No symbol) [0x003CAA56]\n\t(No symbol) [0x0039BE89]\n\t(No symbol) [0x0039C8CD]\n\tGetHandleVerifier [0x007AD313+2996019]\n\tGetHandleVerifier [0x00801B89+3342249]\n\tGetHandleVerifier [0x00567AEF+614159]\n\tGetHandleVerifier [0x0056F17C+644508]\n\t(No symbol) [0x004727FD]\n\t(No symbol) [0x0046F6F8]\n\t(No symbol) [0x0046F895]\n\t(No symbol) [0x00461C16]\n\tBaseThreadInitThunk [0x76BE7D59+25]\n\tRtlInitializeExceptionChain [0x77B6B74B+107]\n\tRtlClearBits [0x77B6B6CF+191]\n"
     ]
    }
   ],
   "source": [
    "Laz_shop_urls = []\n",
    "for url in Laz_product_urls:\n",
    "    driver.get(url)\n",
    "    time.sleep(5)\n",
    "\n",
    "    try:    \n",
    "        shop_url = driver.find_element(By.CSS_SELECTOR, 'div.seller-link a').get_attribute('href')\n",
    "        Laz_shop_urls.append(shop_url)\n",
    "    except NoSuchElementException:\n",
    "        shop_url = ''\n",
    "        print('NoSuchElementException')"
   ]
  },
  {
   "cell_type": "code",
   "execution_count": 28,
   "id": "066cebe1-1394-40dd-b253-88be3f6dbfb5",
   "metadata": {},
   "outputs": [
    {
     "data": {
      "text/plain": [
       "80"
      ]
     },
     "execution_count": 28,
     "metadata": {},
     "output_type": "execute_result"
    }
   ],
   "source": [
    "len(Laz_shop_urls)"
   ]
  },
  {
   "cell_type": "code",
   "execution_count": null,
   "id": "79cfd7e8-0a91-43a4-bc0f-7e46f4afde99",
   "metadata": {},
   "outputs": [],
   "source": [
    "Laz_shop_urls = list(set(Laz_shop_urls))"
   ]
  },
  {
   "cell_type": "markdown",
   "id": "61a40b1d-4f5e-40e8-b4fc-a1ba87029b6a",
   "metadata": {},
   "source": [
    "Store the shop URLs in a text file as a backup"
   ]
  },
  {
   "cell_type": "code",
   "execution_count": null,
   "id": "52eff785-dacc-45b2-b090-f55b2d776462",
   "metadata": {},
   "outputs": [],
   "source": [
    "with open('Laz_shop_urls.txt', mode='w') as file:\n",
    "    for row in Laz_shop_urls:\n",
    "        file.write(row + \"\\n\")"
   ]
  },
  {
   "cell_type": "markdown",
   "id": "b23a7031-7a53-4806-b3e2-429d38f8c398",
   "metadata": {},
   "source": [
    "Retrieve the list of shop URLs from the backup file"
   ]
  },
  {
   "cell_type": "code",
   "execution_count": null,
   "id": "3a2ed3a5-389b-4efd-944b-cb0b745fa3c5",
   "metadata": {
    "scrolled": true
   },
   "outputs": [],
   "source": [
    "with open('Laz_shop_urls.txt', mode='r') as file:\n",
    "    links = file.readlines()\n",
    "links = [link.strip() for link in links]\n",
    "# print(links)"
   ]
  },
  {
   "cell_type": "code",
   "execution_count": null,
   "id": "978e278d-01fa-4221-8549-edfc32ad1410",
   "metadata": {},
   "outputs": [],
   "source": [
    "Laz_shop_urls = links"
   ]
  },
  {
   "cell_type": "markdown",
   "id": "8128cb5b-b5e4-4237-b3a6-4c16efb2a7d2",
   "metadata": {},
   "source": [
    "Retrieve the shop's information from the product URLs"
   ]
  },
  {
   "cell_type": "code",
   "execution_count": null,
   "id": "a7bf642c-0719-40d6-8c07-b2df19800959",
   "metadata": {
    "scrolled": true
   },
   "outputs": [],
   "source": [
    "for url in Laz_shop_urls:\n",
    "    driver.get(url)\n",
    "    time.sleep(2)\n",
    "\n",
    "    try:\n",
    "        name = driver.find_element(By.CSS_SELECTOR, '#pi-component-container > div > div:nth-child(2) > div > div > div > div:nth-child(2) > div:nth-child(1) > div > div > div > div:nth-child(2) > div:nth-child(1) > h1').text\n",
    "        print(name)\n",
    "        \n",
    "        followers = driver.find_element(By.CSS_SELECTOR, '#pi-component-container > div > div:nth-child(2) > div > div > div > div:nth-child(2) > div:nth-child(1) > div > div > div > div:nth-child(2) > div:nth-child(2) > div').text\n",
    "        print(followers)\n",
    "\n",
    "        df_Laz_shop = pd.concat([df_Laz_shop, pd.DataFrame([[url, name, followers]], columns = ['Url', 'Name', 'Followers'])], ignore_index = True)\n",
    "        print(df_Laz_shop[df_Laz_shop['Url'] == url])\n",
    "    except NoSuchElementException:\n",
    "        print('NoSuchElementException')"
   ]
  },
  {
   "cell_type": "code",
   "execution_count": null,
   "id": "b2fd575a-ac86-49a4-bbf6-f1ec3445b809",
   "metadata": {
    "scrolled": true
   },
   "outputs": [],
   "source": [
    "df_Laz_shop"
   ]
  },
  {
   "cell_type": "markdown",
   "id": "f23b2cad-0520-4c9b-be47-d9a434fbae1d",
   "metadata": {},
   "source": [
    "Store the shop dataframe in a csv file as a backup"
   ]
  },
  {
   "cell_type": "code",
   "execution_count": null,
   "id": "5f6517e6-0826-4bad-92c8-9db857c26bbe",
   "metadata": {},
   "outputs": [],
   "source": [
    "df_Laz_shop.to_csv('lazada_shops.csv', index=False)"
   ]
  },
  {
   "cell_type": "markdown",
   "id": "01965435-31e1-47d7-a336-b78ae0c96d55",
   "metadata": {},
   "source": [
    "Retrieve the shop dataframe from the backup file"
   ]
  },
  {
   "cell_type": "code",
   "execution_count": null,
   "id": "3e97abad-7789-4838-8127-653d4d6e7c27",
   "metadata": {
    "scrolled": true
   },
   "outputs": [],
   "source": [
    "df_Laz_shop = pd.read_csv('lazada_shops.csv')\n",
    "df_Laz_shop"
   ]
  },
  {
   "cell_type": "markdown",
   "id": "a4e28a23-354d-4d08-9156-168adcf82852",
   "metadata": {
    "jp-MarkdownHeadingCollapsed": true
   },
   "source": [
    "## Shein website"
   ]
  },
  {
   "cell_type": "code",
   "execution_count": null,
   "id": "4a457e69-3940-43ea-835e-9ca027fbfc01",
   "metadata": {},
   "outputs": [],
   "source": [
    "df_Shein_product = pd.DataFrame(columns = ['Url', 'Name', 'Price', 'Shop_url'])\n",
    "df_Shein_shop = pd.DataFrame(columns = ['Url', 'Name', 'Followers'])"
   ]
  },
  {
   "cell_type": "code",
   "execution_count": null,
   "id": "659f8073-6f3b-45dc-ad61-c10bb292faf5",
   "metadata": {
    "scrolled": true
   },
   "outputs": [],
   "source": [
    "#The url below is the original link to homepage of Shein website\n",
    "#url = 'https://www.shein.com.vn/?_gl=1*1gloy8n*_up*MQ..&gclid=EAIaIQobChMIgbqoh-mDiAMV9tIWBR3KgQ6KEAAYASAAEgKgHPD_BwE'\n",
    "\n",
    "#This url is the Shein website after send key 'QUần áo nữ' to the search input \n",
    "url = 'https://www.shein.com.vn/pdsearch/Qu%E1%BA%A7n%20%C3%A1o%20n%E1%BB%AF/?ici=s1`EditSearch`Qu%E1%BA%A7n%20%C3%A1o%20n%E1%BB%AF`_fb`d0`PageSearchResult&search_source=1&search_type=all&source=search&src_identifier=st%3D2%60sc%3DQu%E1%BA%A7n%20%C3%A1o%20n%E1%BB%AF%60sr%3D0%60ps%3D1&src_identifier_pre_search=&src_module=search&src_tab_page_id=page_search1724166755052'\n",
    "driver.get(url)\n",
    "time.sleep(5)\n",
    "\n",
    "product_urls = []\n",
    "\n",
    "dr_products = driver.find_elements(By.CSS_SELECTOR, 'div.product-card__goods-title-container a.goods-title-link')\n",
    "print(len(dr_products))\n",
    "\n",
    "for product in dr_products:\n",
    "    url = product.get_attribute('href')\n",
    "    product_urls.append(url)\n",
    "    print(url)\n",
    "\n",
    "product_urls = list(set(product_urls))"
   ]
  },
  {
   "cell_type": "code",
   "execution_count": null,
   "id": "21c6c7af-2b4d-42f4-ac5a-4c2c0d0cc095",
   "metadata": {},
   "outputs": [],
   "source": [
    "with open('Shein_product_urls.txt', mode='w') as file:\n",
    "    for row in product_urls:\n",
    "        file.write(row + \"\\n\")"
   ]
  },
  {
   "cell_type": "code",
   "execution_count": null,
   "id": "cb74fcec-bd87-4a8c-a469-7c6991e87bdc",
   "metadata": {
    "scrolled": true
   },
   "outputs": [],
   "source": [
    "with open('Shein_product_urls.txt', mode='r') as file:\n",
    "    links = file.readlines()\n",
    "links = [link.strip() for link in links]\n",
    "# print(links)"
   ]
  },
  {
   "cell_type": "code",
   "execution_count": null,
   "id": "d73154b7-5053-4a41-b03a-d12c8784df1d",
   "metadata": {},
   "outputs": [],
   "source": [
    "Shein_product_urls = links"
   ]
  },
  {
   "cell_type": "code",
   "execution_count": null,
   "id": "c06b7520-2fee-48d3-93da-567191928068",
   "metadata": {
    "scrolled": true
   },
   "outputs": [],
   "source": [
    "Shein_shop_urls = []\n",
    "for url in Shein_product_urls:\n",
    "    driver.get(url)\n",
    "    time.sleep(2)\n",
    "        \n",
    "    name = driver.find_element(By.CSS_SELECTOR, 'h1.product-intro__head-name').text\n",
    "    print(name)\n",
    "\n",
    "    if driver.find_element(By.CSS_SELECTOR, 'div.ProductIntroHeadPrice__head-mainprice .original span'):\n",
    "        price = driver.find_element(By.CSS_SELECTOR, 'div.ProductIntroHeadPrice__head-mainprice .original span').text\n",
    "    else:\n",
    "        price = 0\n",
    "    print(price)\n",
    "\n",
    "    # shop_content_box = driver.find_element(By. CSS_SELECTOR, '.shop-entry__contentBox').get_attribute('style')\n",
    "    # if driver.find_element(By. CSS_SELECTOR, '.shop-entry__contentBox').get_attribute('display') == 'display: none;':\n",
    "    #     driver.find_element(By.CSS_SELECTOR, '.product-intro__brand-head').click()\n",
    "    #     time.sleep(2)\n",
    "    #     shop_url = driver.find_element(By.CSS_SELECTOR, 'div.seller-link a').get_attribute('href')\n",
    "    #     Shein_shop_urls.append(shop_url)\n",
    "    # else:\n",
    "    #     shop_url = ''\n",
    "    # print(shop_url)t\n",
    "\n",
    "drive.quit()"
   ]
  },
  {
   "cell_type": "code",
   "execution_count": null,
   "id": "722fea0a-bbc2-4cea-9fe6-cadd1497e066",
   "metadata": {},
   "outputs": [],
   "source": [
    "# /html/body/div[1]/div[1]/div/div[1]/div/div[2]/div[2]/div/div[5]/div[3]/div[1]/span"
   ]
  },
  {
   "cell_type": "code",
   "execution_count": null,
   "id": "e4c69034-fcc6-4681-b591-ee25ad8ef9ba",
   "metadata": {},
   "outputs": [],
   "source": [
    "\n",
    "\n",
    "# URL of the product page\n",
    "url = \"https://www.shein.com.vn/SHEIN-ICON-Women-s-Summer-Leopard-Print-Slim-Fit-Cropped-Camisole-Fashion-Cami-Top-p-36628205.html?src_identifier=st%3D2%60sc%3DQu%E1%BA%A7n%20%C3%A1o%20n%E1%BB%AF%60sr%3D0%60ps%3D1\"\n",
    "\n",
    "# Navigate to the URL\n",
    "driver.get(url)\n",
    "time.sleep(2)  # Wait for the page to load\n",
    "\n",
    "try:\n",
    "    # Get the product name\n",
    "    product_name = driver.find_element(By.CSS_SELECTOR, 'h1.product-intro__head-name').text\n",
    "    print(f\"Product Name: {product_name}\")\n",
    "    \n",
    "    # Get the price\n",
    "    price = driver.find_element(By.CSS_SELECTOR, 'div.ProductIntroHeadPrice__head-mainprice .original span').text\n",
    "    print(f\"Price: {price}\")\n",
    "    \n",
    "    # Get the shop name (if available)\n",
    "    try:\n",
    "        shop_name = driver.find_element(By.CSS_SELECTOR, 'a.store-name').text\n",
    "        print(f\"Shop Name: {shop_name}\")\n",
    "    except NoSuchElementException:\n",
    "        shop_name = \"N/A\"\n",
    "        print(\"Shop Name not found\")\n",
    "    \n",
    "    # Get the number of followers (if available)\n",
    "    try:\n",
    "        followers = driver.find_element(By.CSS_SELECTOR, 'span.follow-number').text\n",
    "        print(f\"Followers: {followers}\")\n",
    "    except NoSuchElementException:\n",
    "        followers = \"N/A\"\n",
    "        print(\"Followers not found\")\n",
    "\n",
    "except NoSuchElementException as e:\n",
    "    print(f\"An error occurred: {e}\")\n"
   ]
  },
  {
   "cell_type": "markdown",
   "id": "88cfebe3-9f88-4fa9-a89e-479225aaf755",
   "metadata": {
    "jp-MarkdownHeadingCollapsed": true
   },
   "source": [
    "## Tiki website"
   ]
  },
  {
   "cell_type": "code",
   "execution_count": null,
   "id": "99e66d7e-b07b-4a38-b864-07a6e88ab03f",
   "metadata": {},
   "outputs": [],
   "source": [
    "df_Tiki_product = pd.DataFrame(columns = ['Url', 'Name', 'Price', 'Shop_url'])\n",
    "df_Tiki_shop = pd.DataFrame(columns = ['Url', 'Name', 'Followers'])"
   ]
  },
  {
   "cell_type": "markdown",
   "id": "526e5380-5c28-4332-a5d1-d49ff7409ae3",
   "metadata": {},
   "source": [
    "Extract information from 120 products on Tiki website"
   ]
  },
  {
   "cell_type": "code",
   "execution_count": null,
   "id": "aa5fc581-f729-47c2-8264-ddbab1e7b2b3",
   "metadata": {
    "scrolled": true
   },
   "outputs": [],
   "source": [
    "#The url below is the original link to homepage of Tiki website\n",
    "#url = 'https://tiki.vn/'\n",
    "\n",
    "#This url is the Tiki website after send key 'QUần áo nữ' to the search input \n",
    "url = 'https://tiki.vn/search?q=Qu%E1%BA%A7n%20%C3%A1o%20n%E1%BB%AF'\n",
    "driver.get(url)\n",
    "time.sleep(5)\n",
    "\n",
    "product_urls = []\n",
    "button_nextPage = driver.find_element(By.CSS_SELECTOR, '.pagination-block div:nth-child(3) a')\n",
    "dr_products = driver.find_elements(By.CSS_SELECTOR, 'a[data-view-id=\"product_list_item\"]')\n",
    "print(len(dr_products))\n",
    "\n",
    "for i in range (0, 3):\n",
    "    time.sleep(2)\n",
    "\n",
    "    dr_products = driver.find_elements(By.CSS_SELECTOR, 'a[data-view-id=\"product_list_item\"]')\n",
    "    print(len(dr_products))\n",
    "    \n",
    "    for product in dr_products:\n",
    "        url = product.get_attribute('href')\n",
    "        product_urls.append(url)\n",
    "        print(url)\n",
    "    \n",
    "    product_urls = list(set(product_urls))\n",
    "    button_nextPage.click()"
   ]
  },
  {
   "cell_type": "markdown",
   "id": "5396c9b0-a52e-495f-a63f-800a06e0788b",
   "metadata": {},
   "source": []
  },
  {
   "cell_type": "code",
   "execution_count": null,
   "id": "f369f555-aa32-4281-9f2f-1b2bccf0636b",
   "metadata": {},
   "outputs": [],
   "source": [
    "with open('Tiki_product_urls.txt', mode='w') as file:\n",
    "    for row in product_urls:\n",
    "        file.write(row + \"\\n\")"
   ]
  },
  {
   "cell_type": "markdown",
   "id": "6193c3cc-ef98-46a3-b44c-b719b76502cc",
   "metadata": {},
   "source": []
  },
  {
   "cell_type": "code",
   "execution_count": null,
   "id": "f736b9d9-41ec-4df7-944f-9ce39667a2ea",
   "metadata": {
    "scrolled": true
   },
   "outputs": [],
   "source": [
    "with open('Tiki_product_urls.txt', mode='r') as file:\n",
    "    links = file.readlines()\n",
    "links = [link.strip() for link in links]\n",
    "# print(links)"
   ]
  },
  {
   "cell_type": "code",
   "execution_count": null,
   "id": "855d4e3c-120e-4846-b043-7c3917ed0eb2",
   "metadata": {},
   "outputs": [],
   "source": [
    "Tiki_product_urls = links"
   ]
  },
  {
   "cell_type": "markdown",
   "id": "1b31962f-9654-45c5-b82b-182e8567cae6",
   "metadata": {},
   "source": [
    "Extract information from 120 products on Tiki website"
   ]
  },
  {
   "cell_type": "code",
   "execution_count": null,
   "id": "530614ec-c01b-4ee7-90c0-c70d5e3d2120",
   "metadata": {
    "scrolled": true
   },
   "outputs": [],
   "source": [
    "Tiki_shop_urls = []\n",
    "for url in Tiki_product_urls:\n",
    "    driver.get(url)\n",
    "    time.sleep(2)\n",
    "\n",
    "    try:\n",
    "        name = driver.find_element(By.CSS_SELECTOR, 'h1.Title__TitledStyled-sc-c64ni5-0').text\n",
    "        # print(name)\n",
    "    \n",
    "        if driver.find_element(By.CSS_SELECTOR, '.product-price__current-price'):\n",
    "            price = driver.find_element(By.CSS_SELECTOR, '.product-price__current-price').text\n",
    "        else:\n",
    "            price = 0\n",
    "        # print(price)\n",
    "        \n",
    "        if driver.find_elements(By.CSS_SELECTOR, 'div.SellerHeader__SellerHeaderStyled-sc-la7c6v-0 a'):\n",
    "            shop_url = driver.find_elements(By.CSS_SELECTOR, 'div.SellerHeader__SellerHeaderStyled-sc-la7c6v-0 a')[0].get_attribute('href')\n",
    "            Tiki_shop_urls.append(shop_url)\n",
    "        else:\n",
    "            shop_url = ''\n",
    "        # print(shop_url)\n",
    "\n",
    "        df_Tiki_product = pd.concat([df_Tiki_product, pd.DataFrame([[url, name, price, shop_url]], columns = ['Url', 'Name', 'Price', 'Shop_url'])], ignore_index = True)\n",
    "        print(df_Tiki_product[df_Tiki_product['Url'] == url])\n",
    "    except NoSuchElementException:\n",
    "        print('NoSuchElementException')"
   ]
  },
  {
   "cell_type": "code",
   "execution_count": null,
   "id": "c0585ff4-5f2e-4ed3-ba14-f9b5071bbad7",
   "metadata": {
    "scrolled": true
   },
   "outputs": [],
   "source": [
    "df_Tiki_product"
   ]
  },
  {
   "cell_type": "markdown",
   "id": "77c45399-b29e-40da-b015-e3d6caea40bc",
   "metadata": {},
   "source": []
  },
  {
   "cell_type": "code",
   "execution_count": null,
   "id": "b30679be-f74e-4d5a-a6bd-247402e6712e",
   "metadata": {},
   "outputs": [],
   "source": [
    "df_Tiki_product.to_csv('tiki_products.csv', index=False)"
   ]
  },
  {
   "cell_type": "markdown",
   "id": "d59979b1-2c97-4182-9379-206cfad162bb",
   "metadata": {},
   "source": []
  },
  {
   "cell_type": "code",
   "execution_count": null,
   "id": "2bd6377b-f025-4ccc-b8e6-5081585e58ec",
   "metadata": {},
   "outputs": [],
   "source": [
    "df_Tiki_product = pd.read_csv('tiki_products.csv')\n",
    "df_Tiki_product"
   ]
  },
  {
   "cell_type": "code",
   "execution_count": null,
   "id": "760fd01f-f49e-40a1-958b-322188523f1d",
   "metadata": {},
   "outputs": [],
   "source": [
    "Tiki_shop_urls = list(set(Tiki_shop_urls))"
   ]
  },
  {
   "cell_type": "markdown",
   "id": "1b9faea2-63f5-4530-9888-dd9f6c8a6cc5",
   "metadata": {},
   "source": []
  },
  {
   "cell_type": "code",
   "execution_count": null,
   "id": "f06f87e3-8f04-4938-8336-5845c7d2170f",
   "metadata": {},
   "outputs": [],
   "source": [
    "with open('Tiki_shop_urls.txt', mode='w') as file:\n",
    "    for row in Tiki_shop_urls:\n",
    "        file.write(row + \"\\n\")"
   ]
  },
  {
   "cell_type": "markdown",
   "id": "33d4d688-8a3b-436f-88bf-5170154b46ed",
   "metadata": {},
   "source": []
  },
  {
   "cell_type": "code",
   "execution_count": null,
   "id": "5308f62a-7557-4d72-a558-1eb28613d0e8",
   "metadata": {
    "scrolled": true
   },
   "outputs": [],
   "source": [
    "with open('Tiki_shop_urls.txt', mode='r') as file:\n",
    "    links = file.readlines()\n",
    "links = [link.strip() for link in links]\n",
    "# print(links)"
   ]
  },
  {
   "cell_type": "code",
   "execution_count": null,
   "id": "6ddd6a30-82c0-45fa-ae9a-c9e120442c36",
   "metadata": {},
   "outputs": [],
   "source": [
    "Tiki_shop_urls = links"
   ]
  },
  {
   "cell_type": "markdown",
   "id": "d95613ae-f3a5-40aa-bc58-87650b4f67ed",
   "metadata": {},
   "source": []
  },
  {
   "cell_type": "code",
   "execution_count": null,
   "id": "3e4f1055-41ef-4c02-8c79-ee391f93ecde",
   "metadata": {
    "scrolled": true
   },
   "outputs": [],
   "source": [
    "for url in Tiki_shop_urls:\n",
    "    driver.get(url)\n",
    "    time.sleep(2)\n",
    "\n",
    "    try:\n",
    "        name = driver.find_element(By.CSS_SELECTOR, 'h1.Header__SellerName-sc-vgcg69-2').text\n",
    "        # print(name)\n",
    "        \n",
    "        followers = driver.find_element(By.CSS_SELECTOR, '#seller-info-wrapper > div.Header__SellerNameWrapper-sc-vgcg69-5.jZYoaR > div.Header__BadgeWrapper-sc-vgcg69-11.czboZb > div:nth-child(3) > div.Header__SubInfo-sc-vgcg69-12.iUmIsA').text\n",
    "        # print(followers)\n",
    "        \n",
    "        df_Tiki_shop = pd.concat([df_Tiki_shop, pd.DataFrame([[url, name, followers]], columns = ['Url', 'Name', 'Followers'])], ignore_index = True)\n",
    "        print(df_Tiki_shop[df_Tiki_shop['Url'] == url])\n",
    "    except NoSuchElementException:\n",
    "        print('NoSuchElementException')"
   ]
  },
  {
   "cell_type": "code",
   "execution_count": null,
   "id": "b5613e9b-581a-431c-988b-f8c35cf96287",
   "metadata": {
    "scrolled": true
   },
   "outputs": [],
   "source": [
    "df_Tiki_shop"
   ]
  },
  {
   "cell_type": "markdown",
   "id": "2ef66f9e-ef37-4a22-a2d6-373613e16380",
   "metadata": {},
   "source": []
  },
  {
   "cell_type": "code",
   "execution_count": null,
   "id": "446938c1-42d8-405a-b697-fbd96bc84da9",
   "metadata": {},
   "outputs": [],
   "source": [
    "df_Tiki_shop.to_csv('tiki_shops.csv', index=False)"
   ]
  },
  {
   "cell_type": "markdown",
   "id": "6ab08c1b-1c93-4d2f-8136-3b0f89bfe236",
   "metadata": {},
   "source": []
  },
  {
   "cell_type": "code",
   "execution_count": null,
   "id": "7a4188e2-61c5-4364-b783-23dde8a6c9dd",
   "metadata": {
    "scrolled": true
   },
   "outputs": [],
   "source": [
    "df_Tiki_shop = pd.read_csv('tiki_shops.csv')\n",
    "df_Tiki_shop"
   ]
  },
  {
   "cell_type": "code",
   "execution_count": null,
   "id": "2e5798a5-10b2-47f6-96c1-f2509d6b01a5",
   "metadata": {},
   "outputs": [],
   "source": [
    "driver.quit()"
   ]
  },
  {
   "cell_type": "markdown",
   "id": "58808100-1ebc-4ef5-a3ef-acf20a78190b",
   "metadata": {},
   "source": [
    "# Pre-proccesing data"
   ]
  },
  {
   "cell_type": "markdown",
   "id": "842fe322-5649-4d92-b686-c736e8ef6969",
   "metadata": {},
   "source": [
    "## Lazada"
   ]
  },
  {
   "cell_type": "code",
   "execution_count": 3,
   "id": "c7cea2e1-88da-400c-9695-f21074075e10",
   "metadata": {},
   "outputs": [],
   "source": [
    "df_Laz_product = pd.read_csv('lazada_products.csv')"
   ]
  },
  {
   "cell_type": "code",
   "execution_count": 4,
   "id": "e6759bc3-e1c4-412f-81c2-5697a64a1bc6",
   "metadata": {},
   "outputs": [
    {
     "data": {
      "text/html": [
       "<div>\n",
       "<style scoped>\n",
       "    .dataframe tbody tr th:only-of-type {\n",
       "        vertical-align: middle;\n",
       "    }\n",
       "\n",
       "    .dataframe tbody tr th {\n",
       "        vertical-align: top;\n",
       "    }\n",
       "\n",
       "    .dataframe thead th {\n",
       "        text-align: right;\n",
       "    }\n",
       "</style>\n",
       "<table border=\"1\" class=\"dataframe\">\n",
       "  <thead>\n",
       "    <tr style=\"text-align: right;\">\n",
       "      <th></th>\n",
       "      <th>Url</th>\n",
       "      <th>Name</th>\n",
       "      <th>Price</th>\n",
       "      <th>Voucher</th>\n",
       "      <th>Sold</th>\n",
       "      <th>NumRate</th>\n",
       "    </tr>\n",
       "  </thead>\n",
       "  <tbody>\n",
       "    <tr>\n",
       "      <th>0</th>\n",
       "      <td>https://www.lazada.vn/products/do-bo-nu-di-cho...</td>\n",
       "      <td>Đồ Bộ Nữ Đi Chơi Chất Thun Mát Size M - dưới 5...</td>\n",
       "      <td>₫39,000</td>\n",
       "      <td>Voucher save 61%</td>\n",
       "      <td>3.9K sold</td>\n",
       "      <td>(1370)</td>\n",
       "    </tr>\n",
       "    <tr>\n",
       "      <th>1</th>\n",
       "      <td>https://www.lazada.vn/products/set-ao-phong-ta...</td>\n",
       "      <td>Sét áo phông tay lỡ phối kẻ + quần kẻ dài mẫu mới</td>\n",
       "      <td>₫49,000</td>\n",
       "      <td>Voucher save 62%</td>\n",
       "      <td>23 sold</td>\n",
       "      <td>(11)</td>\n",
       "    </tr>\n",
       "    <tr>\n",
       "      <th>2</th>\n",
       "      <td>https://www.lazada.vn/products/bo-pijama-do-bo...</td>\n",
       "      <td>Bộ Pijama, Đồ Bộ Mặc Nhà Nữ Dáng Cộc xinh xắn</td>\n",
       "      <td>₫19,000</td>\n",
       "      <td>Voucher save 46%</td>\n",
       "      <td>458 sold</td>\n",
       "      <td>(131)</td>\n",
       "    </tr>\n",
       "    <tr>\n",
       "      <th>3</th>\n",
       "      <td>https://www.lazada.vn/products/re-vo-dich-tong...</td>\n",
       "      <td>[ Rẻ Vô Địch ] Tổng hợp các sét quần hoạt hình...</td>\n",
       "      <td>₫79,200</td>\n",
       "      <td>Voucher save 28%</td>\n",
       "      <td>265 sold</td>\n",
       "      <td>(91)</td>\n",
       "    </tr>\n",
       "    <tr>\n",
       "      <th>4</th>\n",
       "      <td>https://www.lazada.vn/products/set-bo-ao-phong...</td>\n",
       "      <td>Set Bộ áo phông BđBcR Nữ Cotton Mix Quần dài K...</td>\n",
       "      <td>₫49,000</td>\n",
       "      <td>Voucher save 29%</td>\n",
       "      <td>171 sold</td>\n",
       "      <td>(60)</td>\n",
       "    </tr>\n",
       "    <tr>\n",
       "      <th>...</th>\n",
       "      <td>...</td>\n",
       "      <td>...</td>\n",
       "      <td>...</td>\n",
       "      <td>...</td>\n",
       "      <td>...</td>\n",
       "      <td>...</td>\n",
       "    </tr>\n",
       "    <tr>\n",
       "      <th>115</th>\n",
       "      <td>https://www.lazada.vn/products/set-quan-short-...</td>\n",
       "      <td>Set quần short đen + áo len sọc xanh QC</td>\n",
       "      <td>₫52,000</td>\n",
       "      <td>NaN</td>\n",
       "      <td>18 sold</td>\n",
       "      <td>(5)</td>\n",
       "    </tr>\n",
       "    <tr>\n",
       "      <th>116</th>\n",
       "      <td>https://www.lazada.vn/products/ph-set-bo-3-ao-...</td>\n",
       "      <td>(PH) Set Bộ 3 Áo Ống Kèm Áo Lưới Tay Dài Croto...</td>\n",
       "      <td>₫105,000</td>\n",
       "      <td>Voucher save 30%</td>\n",
       "      <td>7 sold</td>\n",
       "      <td>(1)</td>\n",
       "    </tr>\n",
       "    <tr>\n",
       "      <th>117</th>\n",
       "      <td>https://www.lazada.vn/products/quan-dui-nu-mac...</td>\n",
       "      <td>Quần đùi nữ mặc nhà ỐNG RỘNG, VẢI XƯỢC, DÂY KÉ...</td>\n",
       "      <td>₫35,800</td>\n",
       "      <td>Voucher save 47%</td>\n",
       "      <td>15 sold</td>\n",
       "      <td>(6)</td>\n",
       "    </tr>\n",
       "    <tr>\n",
       "      <th>118</th>\n",
       "      <td>https://www.lazada.vn/products/do-bo-dui-co-tr...</td>\n",
       "      <td>Đồ Bộ Đùi Cổ Tròn Tay Cộc Chất Thun Cotton Su ...</td>\n",
       "      <td>₫79,000</td>\n",
       "      <td>Voucher save 50%</td>\n",
       "      <td>0</td>\n",
       "      <td>0</td>\n",
       "    </tr>\n",
       "    <tr>\n",
       "      <th>119</th>\n",
       "      <td>https://www.lazada.vn/products/quan-ao-phu-nu-...</td>\n",
       "      <td>Pajama Women's Summer Loose Nightgown Women Ko...</td>\n",
       "      <td>₫98,000</td>\n",
       "      <td>Voucher save 34%</td>\n",
       "      <td>0</td>\n",
       "      <td>0</td>\n",
       "    </tr>\n",
       "  </tbody>\n",
       "</table>\n",
       "<p>120 rows × 6 columns</p>\n",
       "</div>"
      ],
      "text/plain": [
       "                                                   Url  \\\n",
       "0    https://www.lazada.vn/products/do-bo-nu-di-cho...   \n",
       "1    https://www.lazada.vn/products/set-ao-phong-ta...   \n",
       "2    https://www.lazada.vn/products/bo-pijama-do-bo...   \n",
       "3    https://www.lazada.vn/products/re-vo-dich-tong...   \n",
       "4    https://www.lazada.vn/products/set-bo-ao-phong...   \n",
       "..                                                 ...   \n",
       "115  https://www.lazada.vn/products/set-quan-short-...   \n",
       "116  https://www.lazada.vn/products/ph-set-bo-3-ao-...   \n",
       "117  https://www.lazada.vn/products/quan-dui-nu-mac...   \n",
       "118  https://www.lazada.vn/products/do-bo-dui-co-tr...   \n",
       "119  https://www.lazada.vn/products/quan-ao-phu-nu-...   \n",
       "\n",
       "                                                  Name     Price  \\\n",
       "0    Đồ Bộ Nữ Đi Chơi Chất Thun Mát Size M - dưới 5...   ₫39,000   \n",
       "1    Sét áo phông tay lỡ phối kẻ + quần kẻ dài mẫu mới   ₫49,000   \n",
       "2        Bộ Pijama, Đồ Bộ Mặc Nhà Nữ Dáng Cộc xinh xắn   ₫19,000   \n",
       "3    [ Rẻ Vô Địch ] Tổng hợp các sét quần hoạt hình...   ₫79,200   \n",
       "4    Set Bộ áo phông BđBcR Nữ Cotton Mix Quần dài K...   ₫49,000   \n",
       "..                                                 ...       ...   \n",
       "115            Set quần short đen + áo len sọc xanh QC   ₫52,000   \n",
       "116  (PH) Set Bộ 3 Áo Ống Kèm Áo Lưới Tay Dài Croto...  ₫105,000   \n",
       "117  Quần đùi nữ mặc nhà ỐNG RỘNG, VẢI XƯỢC, DÂY KÉ...   ₫35,800   \n",
       "118  Đồ Bộ Đùi Cổ Tròn Tay Cộc Chất Thun Cotton Su ...   ₫79,000   \n",
       "119  Pajama Women's Summer Loose Nightgown Women Ko...   ₫98,000   \n",
       "\n",
       "              Voucher       Sold NumRate  \n",
       "0    Voucher save 61%  3.9K sold  (1370)  \n",
       "1    Voucher save 62%    23 sold    (11)  \n",
       "2    Voucher save 46%   458 sold   (131)  \n",
       "3    Voucher save 28%   265 sold    (91)  \n",
       "4    Voucher save 29%   171 sold    (60)  \n",
       "..                ...        ...     ...  \n",
       "115               NaN    18 sold     (5)  \n",
       "116  Voucher save 30%     7 sold     (1)  \n",
       "117  Voucher save 47%    15 sold     (6)  \n",
       "118  Voucher save 50%          0       0  \n",
       "119  Voucher save 34%          0       0  \n",
       "\n",
       "[120 rows x 6 columns]"
      ]
     },
     "execution_count": 4,
     "metadata": {},
     "output_type": "execute_result"
    }
   ],
   "source": [
    "df_Laz_product"
   ]
  },
  {
   "cell_type": "code",
   "execution_count": 5,
   "id": "5fddbcf8-d3a3-4039-919b-e8db3754db2d",
   "metadata": {},
   "outputs": [
    {
     "name": "stdout",
     "output_type": "stream",
     "text": [
      "<class 'pandas.core.frame.DataFrame'>\n",
      "RangeIndex: 120 entries, 0 to 119\n",
      "Data columns (total 6 columns):\n",
      " #   Column   Non-Null Count  Dtype \n",
      "---  ------   --------------  ----- \n",
      " 0   Url      120 non-null    object\n",
      " 1   Name     120 non-null    object\n",
      " 2   Price    120 non-null    object\n",
      " 3   Voucher  108 non-null    object\n",
      " 4   Sold     120 non-null    object\n",
      " 5   NumRate  120 non-null    object\n",
      "dtypes: object(6)\n",
      "memory usage: 5.8+ KB\n"
     ]
    }
   ],
   "source": [
    "df_Laz_product.info()"
   ]
  },
  {
   "cell_type": "markdown",
   "id": "36a246db-3c7f-4ba3-9939-05fac91601b8",
   "metadata": {},
   "source": [
    "Convert column `['Price']` to float"
   ]
  },
  {
   "cell_type": "code",
   "execution_count": 6,
   "id": "28557834-98aa-47b7-9768-8d67a18d40c5",
   "metadata": {},
   "outputs": [
    {
     "data": {
      "text/plain": [
       "0       39000.0\n",
       "1       49000.0\n",
       "2       19000.0\n",
       "3       79200.0\n",
       "4       49000.0\n",
       "         ...   \n",
       "115     52000.0\n",
       "116    105000.0\n",
       "117     35800.0\n",
       "118     79000.0\n",
       "119     98000.0\n",
       "Name: Price, Length: 120, dtype: float64"
      ]
     },
     "execution_count": 6,
     "metadata": {},
     "output_type": "execute_result"
    }
   ],
   "source": [
    "df_Laz_product['Price'] = df_Laz_product['Price'].str.replace(',', '').str.replace('₫', '').astype(float)\n",
    "df_Laz_product['Price']"
   ]
  },
  {
   "cell_type": "markdown",
   "id": "715cb7c2-cf07-47ef-abd2-632200f90fd8",
   "metadata": {},
   "source": [
    "Convert column `['NumRate']` to int"
   ]
  },
  {
   "cell_type": "code",
   "execution_count": 7,
   "id": "d020b3d5-0155-4253-bc05-f7b63723c916",
   "metadata": {},
   "outputs": [
    {
     "data": {
      "text/plain": [
       "0      1370\n",
       "1        11\n",
       "2       131\n",
       "3        91\n",
       "4        60\n",
       "       ... \n",
       "115       5\n",
       "116       1\n",
       "117       6\n",
       "118       0\n",
       "119       0\n",
       "Name: NumRate, Length: 120, dtype: int32"
      ]
     },
     "execution_count": 7,
     "metadata": {},
     "output_type": "execute_result"
    }
   ],
   "source": [
    "df_Laz_product['NumRate'] = df_Laz_product['NumRate'].str.replace('(', '').str.replace(')', '').astype(int)\n",
    "df_Laz_product['NumRate']"
   ]
  },
  {
   "cell_type": "markdown",
   "id": "c487d52f-650c-4a79-b889-eba6ac14bc60",
   "metadata": {},
   "source": [
    "Convert `['Sold']` to int"
   ]
  },
  {
   "cell_type": "code",
   "execution_count": 8,
   "id": "ae6a0e05-00fe-42c6-b109-cc31b57fd101",
   "metadata": {},
   "outputs": [],
   "source": [
    "def convert_sold_to_int(sold_value):\n",
    "    if 'K' in sold_value:\n",
    "        return int(float(sold_value.replace('K', '')) * 1000)\n",
    "    return int(sold_value)"
   ]
  },
  {
   "cell_type": "code",
   "execution_count": 9,
   "id": "40ced11e-3aab-4774-ab73-fd1e69243519",
   "metadata": {},
   "outputs": [
    {
     "data": {
      "text/plain": [
       "0      3900\n",
       "1        23\n",
       "2       458\n",
       "3       265\n",
       "4       171\n",
       "       ... \n",
       "115      18\n",
       "116       7\n",
       "117      15\n",
       "118       0\n",
       "119       0\n",
       "Name: Sold, Length: 120, dtype: int64"
      ]
     },
     "execution_count": 9,
     "metadata": {},
     "output_type": "execute_result"
    }
   ],
   "source": [
    "df_Laz_product['Sold'] = df_Laz_product['Sold'].str.replace(' sold', '')\n",
    "df_Laz_product['Sold'] = df_Laz_product['Sold'].apply(convert_sold_to_int)\n",
    "df_Laz_product['Sold']"
   ]
  },
  {
   "cell_type": "markdown",
   "id": "d3c50a6e-003f-4338-a1f8-c89c2ccd3bb5",
   "metadata": {},
   "source": [
    "Convert `['Voucher']` to percent "
   ]
  },
  {
   "cell_type": "code",
   "execution_count": 10,
   "id": "a82eca87-272c-46be-baaa-cc93b58665d4",
   "metadata": {},
   "outputs": [
    {
     "data": {
      "text/plain": [
       "0      61%\n",
       "1      62%\n",
       "2      46%\n",
       "3      28%\n",
       "4      29%\n",
       "      ... \n",
       "115    NaN\n",
       "116    30%\n",
       "117    47%\n",
       "118    50%\n",
       "119    34%\n",
       "Name: Voucher, Length: 120, dtype: object"
      ]
     },
     "execution_count": 10,
     "metadata": {},
     "output_type": "execute_result"
    }
   ],
   "source": [
    "df_Laz_product['Voucher'] = df_Laz_product['Voucher'].str.replace('Voucher save ', '')\n",
    "df_Laz_product['Voucher']"
   ]
  },
  {
   "cell_type": "markdown",
   "id": "1a17a70a-fe25-4ac9-8bec-b6b72cd3dabf",
   "metadata": {},
   "source": [
    "Run this cell if the computer hasn't installed the nltk library yet"
   ]
  },
  {
   "cell_type": "code",
   "execution_count": 11,
   "id": "a1d696fe-f2fb-4cb0-9246-880ede3413bb",
   "metadata": {},
   "outputs": [],
   "source": [
    "# !pip install nltk"
   ]
  },
  {
   "cell_type": "code",
   "execution_count": 12,
   "id": "f3a70a09-04b0-4ad1-866a-3daf715ecef1",
   "metadata": {},
   "outputs": [],
   "source": [
    "categories_keywords = {\n",
    "    \"đồ bộ\": [\"đồ bộ\", \"set\", \"bộ\", \"quần áo\", \"sét\"],\n",
    "    \"đồ lót\": [\"đồ lót\", \"underwear\", \"quần lót\", \"áo lót\", \"áo ngực\", \"bra\", \"panty\", \"boxer\", \"quần chíp\"],\n",
    "    \"váy/quần\": [\"váy\", \"quần\", \"skirt\", \"pants\", \"jeans\"],\n",
    "    \"áo\": [\"áo\", \"t-shirt\", \"shirt\", \"croptop\", \"yếm\", \"khoác\", \"áo khoác\", \"vest\", \"blazer\"],\n",
    "    \"đầm\": [\"đầm\", \"dress\", \"váy ngủ\"], \n",
    "    \"nón\": [\"nón\", \"mũ\", \"hat\", \"helmet\"],\n",
    "    \"vớ\": [\"vớ\", \"tất\", \"socks\"],\n",
    "    \"giày/dép\": [\"giày\", \"dép\", \"bata\", \"cao gót\", \"shoes\", \"slipper\", \"guốc\", \"boots\", \"xăng đan\", \"sandals\", \"sneakers\"],\n",
    "    \"trang sức\": [\"trang sức\", \"nhẫn\", \"vòng\", \"dây chuyền\", \"earrings\", \"necklace\"]\n",
    "}"
   ]
  },
  {
   "cell_type": "code",
   "execution_count": 13,
   "id": "01154457-7989-43ad-a9a2-2adb04459f3c",
   "metadata": {},
   "outputs": [
    {
     "name": "stdout",
     "output_type": "stream",
     "text": [
      "đồ bộ: ['đồ bộ', 'set', 'bộ', 'quần áo', 'sét']\n",
      "đồ lót: ['đồ lót', 'underwear', 'quần lót', 'áo lót', 'áo ngực', 'bra', 'panty', 'boxer', 'quần chíp']\n",
      "váy/quần: ['váy', 'quần', 'skirt', 'pants', 'jeans']\n",
      "áo: ['áo', 't-shirt', 'shirt', 'croptop', 'yếm', 'khoác', 'áo khoác', 'vest', 'blazer']\n",
      "đầm: ['đầm', 'dress', 'váy ngủ']\n",
      "nón: ['nón', 'mũ', 'hat', 'helmet']\n",
      "vớ: ['vớ', 'tất', 'socks']\n",
      "giày/dép: ['giày', 'dép', 'bata', 'cao gót', 'shoes', 'slipper', 'guốc', 'boots', 'xăng đan', 'sandals', 'sneakers']\n",
      "trang sức: ['trang sức', 'nhẫn', 'vòng', 'dây chuyền', 'earrings', 'necklace']\n"
     ]
    }
   ],
   "source": [
    "for c, k in categories_keywords.items():\n",
    "    print('{0}: {1}'.format(c, k))"
   ]
  },
  {
   "cell_type": "markdown",
   "id": "88374610-aecc-4d8f-a251-5ac62db51f5d",
   "metadata": {},
   "source": [
    "Classify products using n-grams techniques"
   ]
  },
  {
   "cell_type": "code",
   "execution_count": 14,
   "id": "d558c52c-627c-420f-a141-5e0ab979db6c",
   "metadata": {},
   "outputs": [
    {
     "name": "stderr",
     "output_type": "stream",
     "text": [
      "[nltk_data] Downloading package punkt_tab to\n",
      "[nltk_data]     C:\\Users\\ASUS\\AppData\\Roaming\\nltk_data...\n",
      "[nltk_data]   Package punkt_tab is already up-to-date!\n"
     ]
    }
   ],
   "source": [
    "import unicodedata\n",
    "import nltk\n",
    "from nltk.tokenize import word_tokenize\n",
    "nltk.download('punkt_tab')\n",
    "\n",
    "def generate_ngrams(string, n):\n",
    "    string = unicodedata.normalize('NFC', string)\n",
    "    tokens = word_tokenize(string, language='english')\n",
    "    tokens = [token.lower() for token in tokens]\n",
    "    return [' '.join(tokens[i:i + n]) for i in range(len(tokens) - n + 1)]\n",
    "    \n",
    "def classify_product(name, categories_keywords):\n",
    "    _2grams = generate_ngrams(name, 2)\n",
    "    _1grams = generate_ngrams(name, 1)\n",
    "    \n",
    "    for category, keywords in categories_keywords.items():\n",
    "        for keyword in keywords:\n",
    "            if keyword in _2grams + _1grams: \n",
    "                return category \n",
    "    \n",
    "    return \"khác\""
   ]
  },
  {
   "cell_type": "markdown",
   "id": "3272305f-d1a8-4a0c-9191-16d6a7c3712d",
   "metadata": {},
   "source": [
    "Add a column `['Category']` to the `df_Laz_product` DataFrame using the `classify_product` function provided above"
   ]
  },
  {
   "cell_type": "code",
   "execution_count": 15,
   "id": "3c32cba2-d57d-4da1-9599-6d066b4d86d9",
   "metadata": {},
   "outputs": [],
   "source": [
    "df_Laz_product['Category'] = df_Laz_product['Name'].apply(lambda name: classify_product(name, categories_keywords))"
   ]
  },
  {
   "cell_type": "markdown",
   "id": "bd49988e-4a51-4ca1-b226-18b4fe7d84f7",
   "metadata": {},
   "source": [
    "Re-check the new column"
   ]
  },
  {
   "cell_type": "code",
   "execution_count": 16,
   "id": "1cf27852-f2a7-429e-b2e4-a5a80d51e3b7",
   "metadata": {},
   "outputs": [
    {
     "name": "stdout",
     "output_type": "stream",
     "text": [
      "Category\n",
      "đồ bộ       104\n",
      "khác          6\n",
      "váy/quần      4\n",
      "áo            3\n",
      "đồ lót        2\n",
      "đầm           1\n",
      "Name: count, dtype: int64\n"
     ]
    }
   ],
   "source": [
    "Laz_category_counts = df_Laz_product['Category'].value_counts()\n",
    "print(Laz_category_counts)"
   ]
  },
  {
   "cell_type": "markdown",
   "id": "9605c831-ee7d-4478-af5a-a2192dfe89a8",
   "metadata": {},
   "source": [
    "Identify the outliers and manually replace them with the correct values"
   ]
  },
  {
   "cell_type": "code",
   "execution_count": 17,
   "id": "8e286004-d0b7-4d94-ba2b-39ff8d9e4662",
   "metadata": {},
   "outputs": [
    {
     "data": {
      "text/html": [
       "<div>\n",
       "<style scoped>\n",
       "    .dataframe tbody tr th:only-of-type {\n",
       "        vertical-align: middle;\n",
       "    }\n",
       "\n",
       "    .dataframe tbody tr th {\n",
       "        vertical-align: top;\n",
       "    }\n",
       "\n",
       "    .dataframe thead th {\n",
       "        text-align: right;\n",
       "    }\n",
       "</style>\n",
       "<table border=\"1\" class=\"dataframe\">\n",
       "  <thead>\n",
       "    <tr style=\"text-align: right;\">\n",
       "      <th></th>\n",
       "      <th>Url</th>\n",
       "      <th>Name</th>\n",
       "      <th>Price</th>\n",
       "      <th>Voucher</th>\n",
       "      <th>Sold</th>\n",
       "      <th>NumRate</th>\n",
       "      <th>Category</th>\n",
       "    </tr>\n",
       "  </thead>\n",
       "  <tbody>\n",
       "    <tr>\n",
       "      <th>17</th>\n",
       "      <td>https://www.lazada.vn/products/gia-re-pijama-m...</td>\n",
       "      <td>[Giá rẻ] pijama mặc nhà cho nữ giá sốc , hàng ...</td>\n",
       "      <td>35000.0</td>\n",
       "      <td>76%</td>\n",
       "      <td>78</td>\n",
       "      <td>25</td>\n",
       "      <td>khác</td>\n",
       "    </tr>\n",
       "    <tr>\n",
       "      <th>38</th>\n",
       "      <td>https://www.lazada.vn/products/bo-do-ngu-nam-n...</td>\n",
       "      <td>Winter Adults Animal Dinosaur Onesies Women Me...</td>\n",
       "      <td>90000.0</td>\n",
       "      <td>64%</td>\n",
       "      <td>0</td>\n",
       "      <td>0</td>\n",
       "      <td>khác</td>\n",
       "    </tr>\n",
       "    <tr>\n",
       "      <th>39</th>\n",
       "      <td>https://www.lazada.vn/products/kieu-co-dien-ch...</td>\n",
       "      <td>ZANZEA Women Vintage Casual Sleeveless Top Ela...</td>\n",
       "      <td>243200.0</td>\n",
       "      <td>Voucher Applied\\n50%</td>\n",
       "      <td>0</td>\n",
       "      <td>0</td>\n",
       "      <td>khác</td>\n",
       "    </tr>\n",
       "    <tr>\n",
       "      <th>66</th>\n",
       "      <td>https://www.lazada.vn/products/thoi-trang-nu-m...</td>\n",
       "      <td>Casual Slim Playsuit Solid Color Sleeveless Se...</td>\n",
       "      <td>80623.0</td>\n",
       "      <td>47%</td>\n",
       "      <td>28</td>\n",
       "      <td>8</td>\n",
       "      <td>khác</td>\n",
       "    </tr>\n",
       "    <tr>\n",
       "      <th>111</th>\n",
       "      <td>https://www.lazada.vn/products/bo-do-ngu-mua-x...</td>\n",
       "      <td>CHU MAN JIA Tracksuit Spring and autumn pajama...</td>\n",
       "      <td>86000.0</td>\n",
       "      <td>44%</td>\n",
       "      <td>80</td>\n",
       "      <td>22</td>\n",
       "      <td>khác</td>\n",
       "    </tr>\n",
       "    <tr>\n",
       "      <th>119</th>\n",
       "      <td>https://www.lazada.vn/products/quan-ao-phu-nu-...</td>\n",
       "      <td>Pajama Women's Summer Loose Nightgown Women Ko...</td>\n",
       "      <td>98000.0</td>\n",
       "      <td>34%</td>\n",
       "      <td>0</td>\n",
       "      <td>0</td>\n",
       "      <td>khác</td>\n",
       "    </tr>\n",
       "  </tbody>\n",
       "</table>\n",
       "</div>"
      ],
      "text/plain": [
       "                                                   Url  \\\n",
       "17   https://www.lazada.vn/products/gia-re-pijama-m...   \n",
       "38   https://www.lazada.vn/products/bo-do-ngu-nam-n...   \n",
       "39   https://www.lazada.vn/products/kieu-co-dien-ch...   \n",
       "66   https://www.lazada.vn/products/thoi-trang-nu-m...   \n",
       "111  https://www.lazada.vn/products/bo-do-ngu-mua-x...   \n",
       "119  https://www.lazada.vn/products/quan-ao-phu-nu-...   \n",
       "\n",
       "                                                  Name     Price  \\\n",
       "17   [Giá rẻ] pijama mặc nhà cho nữ giá sốc , hàng ...   35000.0   \n",
       "38   Winter Adults Animal Dinosaur Onesies Women Me...   90000.0   \n",
       "39   ZANZEA Women Vintage Casual Sleeveless Top Ela...  243200.0   \n",
       "66   Casual Slim Playsuit Solid Color Sleeveless Se...   80623.0   \n",
       "111  CHU MAN JIA Tracksuit Spring and autumn pajama...   86000.0   \n",
       "119  Pajama Women's Summer Loose Nightgown Women Ko...   98000.0   \n",
       "\n",
       "                  Voucher  Sold  NumRate Category  \n",
       "17                    76%    78       25     khác  \n",
       "38                    64%     0        0     khác  \n",
       "39   Voucher Applied\\n50%     0        0     khác  \n",
       "66                    47%    28        8     khác  \n",
       "111                   44%    80       22     khác  \n",
       "119                   34%     0        0     khác  "
      ]
     },
     "execution_count": 17,
     "metadata": {},
     "output_type": "execute_result"
    }
   ],
   "source": [
    "df_Laz_product[df_Laz_product['Category'] == 'khác']"
   ]
  },
  {
   "cell_type": "code",
   "execution_count": 18,
   "id": "3294b6ea-cd59-4f82-9489-ccd9918032aa",
   "metadata": {},
   "outputs": [
    {
     "data": {
      "text/plain": [
       "'https://www.lazada.vn/products/quan-ao-phu-nu-mang-thai-tuoi-teen-pajama-phu-nu-mua-he-ao-ngu-suong-cho-nu-phien-ban-han-quoc-kieu-hoc-sinh-de-thuong-co-lon-i2773757003.html'"
      ]
     },
     "execution_count": 18,
     "metadata": {},
     "output_type": "execute_result"
    }
   ],
   "source": [
    "df_Laz_product.loc[119, 'Url']"
   ]
  },
  {
   "cell_type": "code",
   "execution_count": 19,
   "id": "6db7a74b-e5a6-433a-8a04-4a85c3c12013",
   "metadata": {},
   "outputs": [],
   "source": [
    "df_Laz_product.loc[17, 'Category'] = 'đồ bộ'\n",
    "df_Laz_product.loc[38, 'Category'] = 'đồ bộ'\n",
    "df_Laz_product.loc[39, 'Category'] = 'áo'\n",
    "df_Laz_product.loc[66, 'Category'] = 'đồ bộ'\n",
    "df_Laz_product.loc[111, 'Category'] = 'đồ bộ'\n",
    "df_Laz_product.loc[119, 'Category'] = 'đồ bộ'"
   ]
  },
  {
   "cell_type": "markdown",
   "id": "0a3aa3e6-5e79-449e-9de6-9d63a75e63aa",
   "metadata": {},
   "source": [
    "Check if the dataframe has NaN value"
   ]
  },
  {
   "cell_type": "code",
   "execution_count": 20,
   "id": "ab19545c-0ea2-44eb-a802-4776b00ce01e",
   "metadata": {},
   "outputs": [
    {
     "name": "stdout",
     "output_type": "stream",
     "text": [
      "Url          0\n",
      "Name         0\n",
      "Price        0\n",
      "Voucher     12\n",
      "Sold         0\n",
      "NumRate      0\n",
      "Category     0\n",
      "dtype: int64\n"
     ]
    }
   ],
   "source": [
    "Laz_nan_summary = df_Laz_product.isna().sum()\n",
    "print(Laz_nan_summary)"
   ]
  },
  {
   "cell_type": "markdown",
   "id": "a541d10c-ada6-4157-96dd-2b0778d03410",
   "metadata": {},
   "source": [
    "Check if the dataframe has duplicated value"
   ]
  },
  {
   "cell_type": "code",
   "execution_count": 21,
   "id": "ebbfcee8-30ef-407d-bc06-ce97a2a305a1",
   "metadata": {},
   "outputs": [
    {
     "name": "stdout",
     "output_type": "stream",
     "text": [
      "0\n"
     ]
    }
   ],
   "source": [
    "print(len(df_Laz_product[df_Laz_product.duplicated()]))"
   ]
  },
  {
   "cell_type": "markdown",
   "id": "e50f25fc-8f0c-4356-a13a-6f007f5c98bc",
   "metadata": {},
   "source": [
    "Overview the feedback dataframe"
   ]
  },
  {
   "cell_type": "code",
   "execution_count": 22,
   "id": "79366374-ea43-4e39-a238-1602d8c6d246",
   "metadata": {},
   "outputs": [],
   "source": [
    "df_Laz_feedback = pd.read_csv('lazada_feedbacks.csv')"
   ]
  },
  {
   "cell_type": "code",
   "execution_count": 23,
   "id": "9b76a0dc-e3ee-40f6-8369-d0d7f7ca1ecd",
   "metadata": {},
   "outputs": [
    {
     "data": {
      "text/html": [
       "<div>\n",
       "<style scoped>\n",
       "    .dataframe tbody tr th:only-of-type {\n",
       "        vertical-align: middle;\n",
       "    }\n",
       "\n",
       "    .dataframe tbody tr th {\n",
       "        vertical-align: top;\n",
       "    }\n",
       "\n",
       "    .dataframe thead th {\n",
       "        text-align: right;\n",
       "    }\n",
       "</style>\n",
       "<table border=\"1\" class=\"dataframe\">\n",
       "  <thead>\n",
       "    <tr style=\"text-align: right;\">\n",
       "      <th></th>\n",
       "      <th>Product_Url</th>\n",
       "      <th>Content</th>\n",
       "    </tr>\n",
       "  </thead>\n",
       "  <tbody>\n",
       "    <tr>\n",
       "      <th>0</th>\n",
       "      <td>https://www.lazada.vn/products/do-bo-nu-di-cho...</td>\n",
       "      <td>Màu sắc đẹp hình in rõ nét mà vải mỏng quá mỏn...</td>\n",
       "    </tr>\n",
       "    <tr>\n",
       "      <th>1</th>\n",
       "      <td>https://www.lazada.vn/products/do-bo-nu-di-cho...</td>\n",
       "      <td>Màu sắc đẹp hình in rõ nét mà vải mỏng quá mỏn...</td>\n",
       "    </tr>\n",
       "    <tr>\n",
       "      <th>2</th>\n",
       "      <td>https://www.lazada.vn/products/do-bo-nu-di-cho...</td>\n",
       "      <td>Màu sắc đẹp hình in rõ nét mà vải mỏng quá mỏn...</td>\n",
       "    </tr>\n",
       "    <tr>\n",
       "      <th>3</th>\n",
       "      <td>https://www.lazada.vn/products/do-bo-nu-di-cho...</td>\n",
       "      <td>Vừa vặn và tôn dáng, Thiết kế thời trang cho v...</td>\n",
       "    </tr>\n",
       "    <tr>\n",
       "      <th>4</th>\n",
       "      <td>https://www.lazada.vn/products/do-bo-nu-di-cho...</td>\n",
       "      <td>Màu sắc đẹp hình in rõ nét mà vải mỏng quá mỏn...</td>\n",
       "    </tr>\n",
       "    <tr>\n",
       "      <th>...</th>\n",
       "      <td>...</td>\n",
       "      <td>...</td>\n",
       "    </tr>\n",
       "    <tr>\n",
       "      <th>9782</th>\n",
       "      <td>https://www.lazada.vn/products/quan-dui-nu-mac...</td>\n",
       "      <td>quần tạm đc, đặt màu đen giao màu trắng.</td>\n",
       "    </tr>\n",
       "    <tr>\n",
       "      <th>9783</th>\n",
       "      <td>https://www.lazada.vn/products/quan-dui-nu-mac...</td>\n",
       "      <td>quần tạm đc, giao đúng màu.</td>\n",
       "    </tr>\n",
       "    <tr>\n",
       "      <th>9784</th>\n",
       "      <td>https://www.lazada.vn/products/quan-dui-nu-mac...</td>\n",
       "      <td>cái quần không có nút sao xài , làm ăn gian dố...</td>\n",
       "    </tr>\n",
       "    <tr>\n",
       "      <th>9785</th>\n",
       "      <td>https://www.lazada.vn/products/do-bo-dui-co-tr...</td>\n",
       "      <td>ba con coi ne,mua mâu nay giao mâu khac gi ma ...</td>\n",
       "    </tr>\n",
       "    <tr>\n",
       "      <th>9786</th>\n",
       "      <td>https://www.lazada.vn/products/do-bo-dui-co-tr...</td>\n",
       "      <td>Hoàn hảo để thư giãn tại nhà, Vải mềm mại và t...</td>\n",
       "    </tr>\n",
       "  </tbody>\n",
       "</table>\n",
       "<p>9787 rows × 2 columns</p>\n",
       "</div>"
      ],
      "text/plain": [
       "                                            Product_Url  \\\n",
       "0     https://www.lazada.vn/products/do-bo-nu-di-cho...   \n",
       "1     https://www.lazada.vn/products/do-bo-nu-di-cho...   \n",
       "2     https://www.lazada.vn/products/do-bo-nu-di-cho...   \n",
       "3     https://www.lazada.vn/products/do-bo-nu-di-cho...   \n",
       "4     https://www.lazada.vn/products/do-bo-nu-di-cho...   \n",
       "...                                                 ...   \n",
       "9782  https://www.lazada.vn/products/quan-dui-nu-mac...   \n",
       "9783  https://www.lazada.vn/products/quan-dui-nu-mac...   \n",
       "9784  https://www.lazada.vn/products/quan-dui-nu-mac...   \n",
       "9785  https://www.lazada.vn/products/do-bo-dui-co-tr...   \n",
       "9786  https://www.lazada.vn/products/do-bo-dui-co-tr...   \n",
       "\n",
       "                                                Content  \n",
       "0     Màu sắc đẹp hình in rõ nét mà vải mỏng quá mỏn...  \n",
       "1     Màu sắc đẹp hình in rõ nét mà vải mỏng quá mỏn...  \n",
       "2     Màu sắc đẹp hình in rõ nét mà vải mỏng quá mỏn...  \n",
       "3     Vừa vặn và tôn dáng, Thiết kế thời trang cho v...  \n",
       "4     Màu sắc đẹp hình in rõ nét mà vải mỏng quá mỏn...  \n",
       "...                                                 ...  \n",
       "9782           quần tạm đc, đặt màu đen giao màu trắng.  \n",
       "9783                        quần tạm đc, giao đúng màu.  \n",
       "9784  cái quần không có nút sao xài , làm ăn gian dố...  \n",
       "9785  ba con coi ne,mua mâu nay giao mâu khac gi ma ...  \n",
       "9786  Hoàn hảo để thư giãn tại nhà, Vải mềm mại và t...  \n",
       "\n",
       "[9787 rows x 2 columns]"
      ]
     },
     "execution_count": 23,
     "metadata": {},
     "output_type": "execute_result"
    }
   ],
   "source": [
    "df_Laz_feedback"
   ]
  },
  {
   "cell_type": "code",
   "execution_count": 24,
   "id": "782c6fc7-844f-408d-9bf5-2de2ebfbda59",
   "metadata": {},
   "outputs": [
    {
     "name": "stdout",
     "output_type": "stream",
     "text": [
      "<class 'pandas.core.frame.DataFrame'>\n",
      "RangeIndex: 9787 entries, 0 to 9786\n",
      "Data columns (total 2 columns):\n",
      " #   Column       Non-Null Count  Dtype \n",
      "---  ------       --------------  ----- \n",
      " 0   Product_Url  9787 non-null   object\n",
      " 1   Content      9787 non-null   object\n",
      "dtypes: object(2)\n",
      "memory usage: 153.1+ KB\n"
     ]
    }
   ],
   "source": [
    "df_Laz_feedback.info()"
   ]
  },
  {
   "cell_type": "code",
   "execution_count": 25,
   "id": "095f2702-2ce0-4628-8460-7532e545e7be",
   "metadata": {},
   "outputs": [
    {
     "name": "stdout",
     "output_type": "stream",
     "text": [
      "Product_Url    0\n",
      "Content        0\n",
      "dtype: int64\n"
     ]
    }
   ],
   "source": [
    "print(df_Laz_feedback.isna().sum())"
   ]
  },
  {
   "cell_type": "code",
   "execution_count": 26,
   "id": "ea0fdf15-baf3-4fea-83d7-8cca5229692c",
   "metadata": {},
   "outputs": [],
   "source": [
    "df_Laz_feedback = df_Laz_feedback.dropna(subset=['Content'])"
   ]
  },
  {
   "cell_type": "code",
   "execution_count": 27,
   "id": "5177c263-2358-4845-a809-28fec0cc263e",
   "metadata": {},
   "outputs": [
    {
     "name": "stdout",
     "output_type": "stream",
     "text": [
      "888\n"
     ]
    }
   ],
   "source": [
    "print(len(df_Laz_feedback[df_Laz_feedback.duplicated()]))"
   ]
  },
  {
   "cell_type": "code",
   "execution_count": 28,
   "id": "1e426985-7ce7-4733-80e4-5c172fdda112",
   "metadata": {},
   "outputs": [],
   "source": [
    "df_Laz_feedback = df_Laz_feedback.drop_duplicates()"
   ]
  },
  {
   "cell_type": "markdown",
   "id": "753eaa21-f67a-42a0-9572-19bb53eb1aa3",
   "metadata": {
    "jp-MarkdownHeadingCollapsed": true
   },
   "source": [
    "## Shein"
   ]
  },
  {
   "cell_type": "code",
   "execution_count": null,
   "id": "adc3eddb-ff02-4316-8581-83c21f784398",
   "metadata": {},
   "outputs": [],
   "source": []
  },
  {
   "cell_type": "markdown",
   "id": "3d5b875b-cce1-4b57-a001-63415bd6457c",
   "metadata": {
    "jp-MarkdownHeadingCollapsed": true
   },
   "source": [
    "## Tiki"
   ]
  },
  {
   "cell_type": "code",
   "execution_count": null,
   "id": "962726fb-7641-4c1b-b5bc-a0f99e1d783b",
   "metadata": {},
   "outputs": [],
   "source": [
    "df_Tiki_product = pd.read_csv('tiki_products.csv')"
   ]
  },
  {
   "cell_type": "code",
   "execution_count": null,
   "id": "595b5da5-6824-4a52-a80d-3263baa6c063",
   "metadata": {},
   "outputs": [],
   "source": [
    "df_Tiki_product.head()"
   ]
  },
  {
   "cell_type": "code",
   "execution_count": null,
   "id": "6a25fc09-af98-43ca-af52-1a8d347bc41c",
   "metadata": {},
   "outputs": [],
   "source": [
    "df_Tiki_product.info()"
   ]
  },
  {
   "cell_type": "markdown",
   "id": "c1c54e50-736f-4fd2-a4c7-08d554c6fc7b",
   "metadata": {},
   "source": [
    "Convert column `['Price']` to float"
   ]
  },
  {
   "cell_type": "code",
   "execution_count": null,
   "id": "07bf3780-e25b-4a22-9379-515ee0e27179",
   "metadata": {},
   "outputs": [],
   "source": [
    "df_Tiki_product['Price'] = df_Tiki_product['Price'].str.replace('.', '').str.replace('₫', '').astype(float)\n",
    "df_Tiki_product['Price']"
   ]
  },
  {
   "cell_type": "markdown",
   "id": "09a2472e-933d-431b-bc35-db03a0cd1968",
   "metadata": {},
   "source": [
    "Add a column `['Category']` to the `df_Laz_product` DataFrame using the `classify_product` function provided above"
   ]
  },
  {
   "cell_type": "code",
   "execution_count": null,
   "id": "6bf1f082-c8ef-45d2-a86d-77096b4ea510",
   "metadata": {},
   "outputs": [],
   "source": [
    "df_Tiki_product['Category'] = df_Tiki_product['Name'].apply(lambda name: classify_product(name, categories_keywords))"
   ]
  },
  {
   "cell_type": "markdown",
   "id": "84580598-6a48-48f2-a6bc-cc489d513dc1",
   "metadata": {},
   "source": [
    "Re-check the new column"
   ]
  },
  {
   "cell_type": "code",
   "execution_count": null,
   "id": "7e5c3398-4e25-4b6e-aada-d2bbc263fe50",
   "metadata": {},
   "outputs": [],
   "source": [
    "Tiki_category_counts = df_Tiki_product['Category'].value_counts()\n",
    "print(Tiki_category_counts)"
   ]
  },
  {
   "cell_type": "markdown",
   "id": "4ed74af9-b5bf-4d70-a2e8-1e7073328eba",
   "metadata": {},
   "source": [
    "Identify the outliers and manually replace them with the correct values"
   ]
  },
  {
   "cell_type": "code",
   "execution_count": null,
   "id": "9b306859-c85b-4466-a8d7-a0d1d52325d4",
   "metadata": {
    "scrolled": true
   },
   "outputs": [],
   "source": [
    "df_Tiki_product[df_Tiki_product['Category'] == 'khác']"
   ]
  },
  {
   "cell_type": "code",
   "execution_count": null,
   "id": "dbe26fb0-6729-4371-a516-07cce85c19b9",
   "metadata": {},
   "outputs": [],
   "source": [
    "df_Tiki_product.loc[3, 'Category'] = 'đồ bộ'\n",
    "df_Tiki_product.loc[29, 'Category'] = 'đồ bộ'\n",
    "df_Tiki_product.loc[76, 'Category'] = 'đồ bộ'\n",
    "df_Tiki_product.loc[83, 'Category'] = 'đồ bộ'\n",
    "df_Tiki_product.loc[103, 'Category'] = 'đồ bộ'"
   ]
  },
  {
   "cell_type": "markdown",
   "id": "0cb432fc-6471-4a21-95d6-fe6462a245aa",
   "metadata": {},
   "source": [
    "# Analysis on each e-market platform"
   ]
  },
  {
   "cell_type": "markdown",
   "id": "4d540c3d-2a04-464f-a24e-7b0d922d3334",
   "metadata": {},
   "source": [
    "## Lazada"
   ]
  },
  {
   "cell_type": "code",
   "execution_count": 29,
   "id": "a3618cb9-31ca-47d9-a716-d88630031829",
   "metadata": {
    "scrolled": true
   },
   "outputs": [
    {
     "name": "stdout",
     "output_type": "stream",
     "text": [
      "<class 'pandas.core.frame.DataFrame'>\n",
      "RangeIndex: 120 entries, 0 to 119\n",
      "Data columns (total 7 columns):\n",
      " #   Column    Non-Null Count  Dtype  \n",
      "---  ------    --------------  -----  \n",
      " 0   Url       120 non-null    object \n",
      " 1   Name      120 non-null    object \n",
      " 2   Price     120 non-null    float64\n",
      " 3   Voucher   108 non-null    object \n",
      " 4   Sold      120 non-null    int64  \n",
      " 5   NumRate   120 non-null    int32  \n",
      " 6   Category  120 non-null    object \n",
      "dtypes: float64(1), int32(1), int64(1), object(4)\n",
      "memory usage: 6.2+ KB\n"
     ]
    }
   ],
   "source": [
    "df_Laz_product.info()"
   ]
  },
  {
   "cell_type": "code",
   "execution_count": 30,
   "id": "034f9419-0fb3-46dc-a6f1-db9ae22befa4",
   "metadata": {
    "scrolled": true
   },
   "outputs": [
    {
     "data": {
      "text/html": [
       "<div>\n",
       "<style scoped>\n",
       "    .dataframe tbody tr th:only-of-type {\n",
       "        vertical-align: middle;\n",
       "    }\n",
       "\n",
       "    .dataframe tbody tr th {\n",
       "        vertical-align: top;\n",
       "    }\n",
       "\n",
       "    .dataframe thead th {\n",
       "        text-align: right;\n",
       "    }\n",
       "</style>\n",
       "<table border=\"1\" class=\"dataframe\">\n",
       "  <thead>\n",
       "    <tr style=\"text-align: right;\">\n",
       "      <th></th>\n",
       "      <th>Price</th>\n",
       "      <th>Sold</th>\n",
       "      <th>NumRate</th>\n",
       "    </tr>\n",
       "  </thead>\n",
       "  <tbody>\n",
       "    <tr>\n",
       "      <th>count</th>\n",
       "      <td>120.000000</td>\n",
       "      <td>120.000000</td>\n",
       "      <td>120.000000</td>\n",
       "    </tr>\n",
       "    <tr>\n",
       "      <th>mean</th>\n",
       "      <td>68980.708333</td>\n",
       "      <td>589.025000</td>\n",
       "      <td>151.850000</td>\n",
       "    </tr>\n",
       "    <tr>\n",
       "      <th>std</th>\n",
       "      <td>44870.242093</td>\n",
       "      <td>1369.368102</td>\n",
       "      <td>320.538272</td>\n",
       "    </tr>\n",
       "    <tr>\n",
       "      <th>min</th>\n",
       "      <td>15000.000000</td>\n",
       "      <td>0.000000</td>\n",
       "      <td>0.000000</td>\n",
       "    </tr>\n",
       "    <tr>\n",
       "      <th>25%</th>\n",
       "      <td>40000.000000</td>\n",
       "      <td>23.750000</td>\n",
       "      <td>8.000000</td>\n",
       "    </tr>\n",
       "    <tr>\n",
       "      <th>50%</th>\n",
       "      <td>55000.000000</td>\n",
       "      <td>111.500000</td>\n",
       "      <td>28.500000</td>\n",
       "    </tr>\n",
       "    <tr>\n",
       "      <th>75%</th>\n",
       "      <td>83250.000000</td>\n",
       "      <td>433.250000</td>\n",
       "      <td>116.000000</td>\n",
       "    </tr>\n",
       "    <tr>\n",
       "      <th>max</th>\n",
       "      <td>276051.000000</td>\n",
       "      <td>10100.000000</td>\n",
       "      <td>1598.000000</td>\n",
       "    </tr>\n",
       "  </tbody>\n",
       "</table>\n",
       "</div>"
      ],
      "text/plain": [
       "               Price          Sold      NumRate\n",
       "count     120.000000    120.000000   120.000000\n",
       "mean    68980.708333    589.025000   151.850000\n",
       "std     44870.242093   1369.368102   320.538272\n",
       "min     15000.000000      0.000000     0.000000\n",
       "25%     40000.000000     23.750000     8.000000\n",
       "50%     55000.000000    111.500000    28.500000\n",
       "75%     83250.000000    433.250000   116.000000\n",
       "max    276051.000000  10100.000000  1598.000000"
      ]
     },
     "execution_count": 30,
     "metadata": {},
     "output_type": "execute_result"
    }
   ],
   "source": [
    "df_Laz_product.describe()"
   ]
  },
  {
   "cell_type": "code",
   "execution_count": 31,
   "id": "58a0d837-0ca6-4a4a-a7bb-1b135a3c4d60",
   "metadata": {},
   "outputs": [
    {
     "name": "stdout",
     "output_type": "stream",
     "text": [
      "Category\n",
      "đồ bộ       109\n",
      "váy/quần      4\n",
      "áo            4\n",
      "đồ lót        2\n",
      "đầm           1\n",
      "Name: count, dtype: int64\n"
     ]
    }
   ],
   "source": [
    "Laz_category_counts = df_Laz_product['Category'].value_counts()\n",
    "print(Laz_category_counts)"
   ]
  },
  {
   "cell_type": "code",
   "execution_count": 32,
   "id": "54ce7826-01e2-4b5f-af22-a952dc251f28",
   "metadata": {},
   "outputs": [
    {
     "name": "stderr",
     "output_type": "stream",
     "text": [
      "C:\\Users\\ASUS\\AppData\\Local\\Temp\\ipykernel_3824\\2216541898.py:2: FutureWarning: \n",
      "\n",
      "Passing `palette` without assigning `hue` is deprecated and will be removed in v0.14.0. Assign the `x` variable to `hue` and set `legend=False` for the same effect.\n",
      "\n",
      "  sns.barplot(x = Laz_category_counts.index, y = Laz_category_counts.values, palette = 'pastel')\n"
     ]
    },
    {
     "data": {
      "image/png": "[encoded data removed]",
      "text/plain": [
       "<Figure size 1000x600 with 1 Axes>"
      ]
     },
     "metadata": {},
     "output_type": "display_data"
    }
   ],
   "source": [
    "plt.figure(figsize = (10, 6))\n",
    "sns.barplot(x = Laz_category_counts.index, y = Laz_category_counts.values, palette = 'pastel')\n",
    "plt.title('Phân bố các giá trị trong cột Category', fontsize = 16)\n",
    "plt.xlabel('Loại', fontsize = 14)\n",
    "plt.ylabel('Số lượng', fontsize = 14)\n",
    "plt.xticks(rotation = 45, ha = 'right')\n",
    "plt.show()"
   ]
  },
  {
   "cell_type": "code",
   "execution_count": 33,
   "id": "ec022844-e66e-45e6-a764-9b0c919d3984",
   "metadata": {},
   "outputs": [],
   "source": [
    "df_Laz_product.to_csv('lazada_products_.csv', index=False)"
   ]
  },
  {
   "cell_type": "code",
   "execution_count": 34,
   "id": "1cdfed5a-bb73-43be-8282-2386a0c4be3e",
   "metadata": {},
   "outputs": [],
   "source": [
    "Laz_avgPrice_per_category = df_Laz_product.groupby('Category')['Price'].mean().round()"
   ]
  },
  {
   "cell_type": "code",
   "execution_count": 35,
   "id": "f254f821-804d-4157-a010-b8c1305e8e2a",
   "metadata": {},
   "outputs": [
    {
     "name": "stdout",
     "output_type": "stream",
     "text": [
      "Category\n",
      "váy/quần     60125.0\n",
      "áo          133561.0\n",
      "đầm          51985.0\n",
      "đồ bộ        67573.0\n",
      "đồ lót       42768.0\n",
      "Name: Price, dtype: float64\n"
     ]
    }
   ],
   "source": [
    "print(Laz_avgPrice_per_category)"
   ]
  },
  {
   "cell_type": "code",
   "execution_count": 36,
   "id": "482b2bc1-10a4-4654-ade2-9e4e11eb9403",
   "metadata": {},
   "outputs": [
    {
     "name": "stderr",
     "output_type": "stream",
     "text": [
      "C:\\Users\\ASUS\\AppData\\Local\\Temp\\ipykernel_3824\\1958800687.py:2: FutureWarning: \n",
      "\n",
      "Passing `palette` without assigning `hue` is deprecated and will be removed in v0.14.0. Assign the `x` variable to `hue` and set `legend=False` for the same effect.\n",
      "\n",
      "  sns.barplot(x = Laz_avgPrice_per_category.index, y = Laz_avgPrice_per_category.values, palette = 'pastel')\n"
     ]
    },
    {
     "data": {
      "image/png": "[encoded data removed]",
      "text/plain": [
       "<Figure size 1000x600 with 1 Axes>"
      ]
     },
     "metadata": {},
     "output_type": "display_data"
    }
   ],
   "source": [
    "plt.figure(figsize = (10, 6))\n",
    "sns.barplot(x = Laz_avgPrice_per_category.index, y = Laz_avgPrice_per_category.values, palette = 'pastel')\n",
    "plt.title('Giá tiền trung bình mỗi loại', fontsize = 16)\n",
    "plt.xlabel('Loại', fontsize = 14)\n",
    "plt.ylabel('Giá trung bình', fontsize = 14)\n",
    "plt.xticks(rotation = 45, ha = 'right')\n",
    "plt.show()"
   ]
  },
  {
   "cell_type": "code",
   "execution_count": 37,
   "id": "efc63409-d7b0-464e-a63f-28b3498a6049",
   "metadata": {},
   "outputs": [
    {
     "data": {
      "text/html": [
       "<div>\n",
       "<style scoped>\n",
       "    .dataframe tbody tr th:only-of-type {\n",
       "        vertical-align: middle;\n",
       "    }\n",
       "\n",
       "    .dataframe tbody tr th {\n",
       "        vertical-align: top;\n",
       "    }\n",
       "\n",
       "    .dataframe thead th {\n",
       "        text-align: right;\n",
       "    }\n",
       "</style>\n",
       "<table border=\"1\" class=\"dataframe\">\n",
       "  <thead>\n",
       "    <tr style=\"text-align: right;\">\n",
       "      <th></th>\n",
       "      <th>Name</th>\n",
       "      <th>Price</th>\n",
       "      <th>Sold</th>\n",
       "      <th>Category</th>\n",
       "    </tr>\n",
       "  </thead>\n",
       "  <tbody>\n",
       "    <tr>\n",
       "      <th>26</th>\n",
       "      <td>Đồ Ngủ Gợi Cảm Vải Satiin Đẹp BT FASHION (Yếm ...</td>\n",
       "      <td>35400.0</td>\n",
       "      <td>561</td>\n",
       "      <td>áo</td>\n",
       "    </tr>\n",
       "    <tr>\n",
       "      <th>39</th>\n",
       "      <td>ZANZEA Women Vintage Casual Sleeveless Top Ela...</td>\n",
       "      <td>243200.0</td>\n",
       "      <td>0</td>\n",
       "      <td>áo</td>\n",
       "    </tr>\n",
       "    <tr>\n",
       "      <th>40</th>\n",
       "      <td>Áo khoác nam Hoodie Chống Nắng WHENEVER Nỉ Bôn...</td>\n",
       "      <td>48999.0</td>\n",
       "      <td>537</td>\n",
       "      <td>áo</td>\n",
       "    </tr>\n",
       "    <tr>\n",
       "      <th>98</th>\n",
       "      <td>ZANZEA Korean Style Women's 2pcs Suits New Fas...</td>\n",
       "      <td>206646.0</td>\n",
       "      <td>31</td>\n",
       "      <td>áo</td>\n",
       "    </tr>\n",
       "  </tbody>\n",
       "</table>\n",
       "</div>"
      ],
      "text/plain": [
       "                                                 Name     Price  Sold Category\n",
       "26  Đồ Ngủ Gợi Cảm Vải Satiin Đẹp BT FASHION (Yếm ...   35400.0   561       áo\n",
       "39  ZANZEA Women Vintage Casual Sleeveless Top Ela...  243200.0     0       áo\n",
       "40  Áo khoác nam Hoodie Chống Nắng WHENEVER Nỉ Bôn...   48999.0   537       áo\n",
       "98  ZANZEA Korean Style Women's 2pcs Suits New Fas...  206646.0    31       áo"
      ]
     },
     "execution_count": 37,
     "metadata": {},
     "output_type": "execute_result"
    }
   ],
   "source": [
    "df_Laz_product[df_Laz_product['Category'] == 'áo'][['Name', 'Price', 'Sold', 'Category']]"
   ]
  },
  {
   "cell_type": "code",
   "execution_count": 38,
   "id": "ce32e8f4-0d61-4eb2-904e-ed35f1c1ed44",
   "metadata": {},
   "outputs": [
    {
     "data": {
      "text/html": [
       "<div>\n",
       "<style scoped>\n",
       "    .dataframe tbody tr th:only-of-type {\n",
       "        vertical-align: middle;\n",
       "    }\n",
       "\n",
       "    .dataframe tbody tr th {\n",
       "        vertical-align: top;\n",
       "    }\n",
       "\n",
       "    .dataframe thead th {\n",
       "        text-align: right;\n",
       "    }\n",
       "</style>\n",
       "<table border=\"1\" class=\"dataframe\">\n",
       "  <thead>\n",
       "    <tr style=\"text-align: right;\">\n",
       "      <th></th>\n",
       "      <th>Name</th>\n",
       "      <th>Price</th>\n",
       "      <th>Sold</th>\n",
       "      <th>Category</th>\n",
       "    </tr>\n",
       "  </thead>\n",
       "  <tbody>\n",
       "    <tr>\n",
       "      <th>23</th>\n",
       "      <td>Recool Short Sleeve Top and Wide Leg Pants Kni...</td>\n",
       "      <td>276051.0</td>\n",
       "      <td>9</td>\n",
       "      <td>đồ bộ</td>\n",
       "    </tr>\n",
       "  </tbody>\n",
       "</table>\n",
       "</div>"
      ],
      "text/plain": [
       "                                                 Name     Price  Sold Category\n",
       "23  Recool Short Sleeve Top and Wide Leg Pants Kni...  276051.0     9    đồ bộ"
      ]
     },
     "execution_count": 38,
     "metadata": {},
     "output_type": "execute_result"
    }
   ],
   "source": [
    "df_Laz_product[df_Laz_product['Price'] == df_Laz_product['Price'].max()][['Name', 'Price', 'Sold', 'Category']]"
   ]
  },
  {
   "cell_type": "code",
   "execution_count": 39,
   "id": "1813a8e8-a6ec-4d09-9544-974b2eb24e5d",
   "metadata": {},
   "outputs": [
    {
     "data": {
      "text/html": [
       "<div>\n",
       "<style scoped>\n",
       "    .dataframe tbody tr th:only-of-type {\n",
       "        vertical-align: middle;\n",
       "    }\n",
       "\n",
       "    .dataframe tbody tr th {\n",
       "        vertical-align: top;\n",
       "    }\n",
       "\n",
       "    .dataframe thead th {\n",
       "        text-align: right;\n",
       "    }\n",
       "</style>\n",
       "<table border=\"1\" class=\"dataframe\">\n",
       "  <thead>\n",
       "    <tr style=\"text-align: right;\">\n",
       "      <th></th>\n",
       "      <th>Name</th>\n",
       "      <th>Price</th>\n",
       "      <th>Sold</th>\n",
       "      <th>Category</th>\n",
       "    </tr>\n",
       "  </thead>\n",
       "  <tbody>\n",
       "    <tr>\n",
       "      <th>51</th>\n",
       "      <td>Quần Short Đùi Nữ Co Giãn Cạp Chun Dáng Ngắn</td>\n",
       "      <td>15000.0</td>\n",
       "      <td>87</td>\n",
       "      <td>váy/quần</td>\n",
       "    </tr>\n",
       "  </tbody>\n",
       "</table>\n",
       "</div>"
      ],
      "text/plain": [
       "                                            Name    Price  Sold  Category\n",
       "51  Quần Short Đùi Nữ Co Giãn Cạp Chun Dáng Ngắn  15000.0    87  váy/quần"
      ]
     },
     "execution_count": 39,
     "metadata": {},
     "output_type": "execute_result"
    }
   ],
   "source": [
    "df_Laz_product[df_Laz_product['Price'] == df_Laz_product['Price'].min()][['Name', 'Price', 'Sold', 'Category']]"
   ]
  },
  {
   "cell_type": "code",
   "execution_count": 40,
   "id": "48245637-792b-4104-bf08-4d246c3c6e75",
   "metadata": {},
   "outputs": [
    {
     "data": {
      "text/html": [
       "<div>\n",
       "<style scoped>\n",
       "    .dataframe tbody tr th:only-of-type {\n",
       "        vertical-align: middle;\n",
       "    }\n",
       "\n",
       "    .dataframe tbody tr th {\n",
       "        vertical-align: top;\n",
       "    }\n",
       "\n",
       "    .dataframe thead th {\n",
       "        text-align: right;\n",
       "    }\n",
       "</style>\n",
       "<table border=\"1\" class=\"dataframe\">\n",
       "  <thead>\n",
       "    <tr style=\"text-align: right;\">\n",
       "      <th></th>\n",
       "      <th>Name</th>\n",
       "      <th>Price</th>\n",
       "      <th>Sold</th>\n",
       "      <th>Category</th>\n",
       "    </tr>\n",
       "  </thead>\n",
       "  <tbody>\n",
       "    <tr>\n",
       "      <th>23</th>\n",
       "      <td>Recool Short Sleeve Top and Wide Leg Pants Kni...</td>\n",
       "      <td>276051.0</td>\n",
       "      <td>9</td>\n",
       "      <td>đồ bộ</td>\n",
       "    </tr>\n",
       "    <tr>\n",
       "      <th>25</th>\n",
       "      <td>⭐Set Baggy Jeans Ống Suông Xám Rách Mix áo rút...</td>\n",
       "      <td>155000.0</td>\n",
       "      <td>168</td>\n",
       "      <td>váy/quần</td>\n",
       "    </tr>\n",
       "    <tr>\n",
       "      <th>39</th>\n",
       "      <td>ZANZEA Women Vintage Casual Sleeveless Top Ela...</td>\n",
       "      <td>243200.0</td>\n",
       "      <td>0</td>\n",
       "      <td>áo</td>\n",
       "    </tr>\n",
       "    <tr>\n",
       "      <th>56</th>\n",
       "      <td>MỘT NÚT THÊU KATE, Trang phục truyền thồng, Qu...</td>\n",
       "      <td>152000.0</td>\n",
       "      <td>1400</td>\n",
       "      <td>đồ bộ</td>\n",
       "    </tr>\n",
       "    <tr>\n",
       "      <th>63</th>\n",
       "      <td>Đồ Bộ Nữ Thiết Kế Mới 2024, Set Đồ Nữ, Áo Sát ...</td>\n",
       "      <td>175000.0</td>\n",
       "      <td>53</td>\n",
       "      <td>đồ bộ</td>\n",
       "    </tr>\n",
       "    <tr>\n",
       "      <th>98</th>\n",
       "      <td>ZANZEA Korean Style Women's 2pcs Suits New Fas...</td>\n",
       "      <td>206646.0</td>\n",
       "      <td>31</td>\n",
       "      <td>áo</td>\n",
       "    </tr>\n",
       "    <tr>\n",
       "      <th>107</th>\n",
       "      <td>Bộ Áo Cộc Cổ Sơ Mi, Quần Dài, Thiết Kế Lịch Sự...</td>\n",
       "      <td>187000.0</td>\n",
       "      <td>18</td>\n",
       "      <td>đồ bộ</td>\n",
       "    </tr>\n",
       "    <tr>\n",
       "      <th>110</th>\n",
       "      <td>Set Bộ Sát Nách Nữ Thiết Kế, Cổ Áo Sơ Mi Quần ...</td>\n",
       "      <td>192000.0</td>\n",
       "      <td>9</td>\n",
       "      <td>đồ bộ</td>\n",
       "    </tr>\n",
       "    <tr>\n",
       "      <th>114</th>\n",
       "      <td>Quần Áo Nữ Sang Chảnh, Áo Sát Nách Quần suông,...</td>\n",
       "      <td>189000.0</td>\n",
       "      <td>12</td>\n",
       "      <td>đồ bộ</td>\n",
       "    </tr>\n",
       "  </tbody>\n",
       "</table>\n",
       "</div>"
      ],
      "text/plain": [
       "                                                  Name     Price  Sold  \\\n",
       "23   Recool Short Sleeve Top and Wide Leg Pants Kni...  276051.0     9   \n",
       "25   ⭐Set Baggy Jeans Ống Suông Xám Rách Mix áo rút...  155000.0   168   \n",
       "39   ZANZEA Women Vintage Casual Sleeveless Top Ela...  243200.0     0   \n",
       "56   MỘT NÚT THÊU KATE, Trang phục truyền thồng, Qu...  152000.0  1400   \n",
       "63   Đồ Bộ Nữ Thiết Kế Mới 2024, Set Đồ Nữ, Áo Sát ...  175000.0    53   \n",
       "98   ZANZEA Korean Style Women's 2pcs Suits New Fas...  206646.0    31   \n",
       "107  Bộ Áo Cộc Cổ Sơ Mi, Quần Dài, Thiết Kế Lịch Sự...  187000.0    18   \n",
       "110  Set Bộ Sát Nách Nữ Thiết Kế, Cổ Áo Sơ Mi Quần ...  192000.0     9   \n",
       "114  Quần Áo Nữ Sang Chảnh, Áo Sát Nách Quần suông,...  189000.0    12   \n",
       "\n",
       "     Category  \n",
       "23      đồ bộ  \n",
       "25   váy/quần  \n",
       "39         áo  \n",
       "56      đồ bộ  \n",
       "63      đồ bộ  \n",
       "98         áo  \n",
       "107     đồ bộ  \n",
       "110     đồ bộ  \n",
       "114     đồ bộ  "
      ]
     },
     "execution_count": 40,
     "metadata": {},
     "output_type": "execute_result"
    }
   ],
   "source": [
    "df_Laz_product[df_Laz_product['Price'] > 150000][['Name', 'Price', 'Sold', 'Category']]"
   ]
  },
  {
   "cell_type": "code",
   "execution_count": 41,
   "id": "81bd4952-a18d-4db1-91ba-caf8653e5838",
   "metadata": {},
   "outputs": [
    {
     "data": {
      "text/html": [
       "<div>\n",
       "<style scoped>\n",
       "    .dataframe tbody tr th:only-of-type {\n",
       "        vertical-align: middle;\n",
       "    }\n",
       "\n",
       "    .dataframe tbody tr th {\n",
       "        vertical-align: top;\n",
       "    }\n",
       "\n",
       "    .dataframe thead th {\n",
       "        text-align: right;\n",
       "    }\n",
       "</style>\n",
       "<table border=\"1\" class=\"dataframe\">\n",
       "  <thead>\n",
       "    <tr style=\"text-align: right;\">\n",
       "      <th></th>\n",
       "      <th>Name</th>\n",
       "      <th>Price</th>\n",
       "      <th>Sold</th>\n",
       "      <th>Category</th>\n",
       "    </tr>\n",
       "  </thead>\n",
       "  <tbody>\n",
       "    <tr>\n",
       "      <th>23</th>\n",
       "      <td>Recool Short Sleeve Top and Wide Leg Pants Kni...</td>\n",
       "      <td>276051.0</td>\n",
       "      <td>9</td>\n",
       "      <td>đồ bộ</td>\n",
       "    </tr>\n",
       "    <tr>\n",
       "      <th>56</th>\n",
       "      <td>MỘT NÚT THÊU KATE, Trang phục truyền thồng, Qu...</td>\n",
       "      <td>152000.0</td>\n",
       "      <td>1400</td>\n",
       "      <td>đồ bộ</td>\n",
       "    </tr>\n",
       "    <tr>\n",
       "      <th>63</th>\n",
       "      <td>Đồ Bộ Nữ Thiết Kế Mới 2024, Set Đồ Nữ, Áo Sát ...</td>\n",
       "      <td>175000.0</td>\n",
       "      <td>53</td>\n",
       "      <td>đồ bộ</td>\n",
       "    </tr>\n",
       "    <tr>\n",
       "      <th>107</th>\n",
       "      <td>Bộ Áo Cộc Cổ Sơ Mi, Quần Dài, Thiết Kế Lịch Sự...</td>\n",
       "      <td>187000.0</td>\n",
       "      <td>18</td>\n",
       "      <td>đồ bộ</td>\n",
       "    </tr>\n",
       "    <tr>\n",
       "      <th>110</th>\n",
       "      <td>Set Bộ Sát Nách Nữ Thiết Kế, Cổ Áo Sơ Mi Quần ...</td>\n",
       "      <td>192000.0</td>\n",
       "      <td>9</td>\n",
       "      <td>đồ bộ</td>\n",
       "    </tr>\n",
       "    <tr>\n",
       "      <th>114</th>\n",
       "      <td>Quần Áo Nữ Sang Chảnh, Áo Sát Nách Quần suông,...</td>\n",
       "      <td>189000.0</td>\n",
       "      <td>12</td>\n",
       "      <td>đồ bộ</td>\n",
       "    </tr>\n",
       "  </tbody>\n",
       "</table>\n",
       "</div>"
      ],
      "text/plain": [
       "                                                  Name     Price  Sold  \\\n",
       "23   Recool Short Sleeve Top and Wide Leg Pants Kni...  276051.0     9   \n",
       "56   MỘT NÚT THÊU KATE, Trang phục truyền thồng, Qu...  152000.0  1400   \n",
       "63   Đồ Bộ Nữ Thiết Kế Mới 2024, Set Đồ Nữ, Áo Sát ...  175000.0    53   \n",
       "107  Bộ Áo Cộc Cổ Sơ Mi, Quần Dài, Thiết Kế Lịch Sự...  187000.0    18   \n",
       "110  Set Bộ Sát Nách Nữ Thiết Kế, Cổ Áo Sơ Mi Quần ...  192000.0     9   \n",
       "114  Quần Áo Nữ Sang Chảnh, Áo Sát Nách Quần suông,...  189000.0    12   \n",
       "\n",
       "    Category  \n",
       "23     đồ bộ  \n",
       "56     đồ bộ  \n",
       "63     đồ bộ  \n",
       "107    đồ bộ  \n",
       "110    đồ bộ  \n",
       "114    đồ bộ  "
      ]
     },
     "execution_count": 41,
     "metadata": {},
     "output_type": "execute_result"
    }
   ],
   "source": [
    "df_Laz_product[(df_Laz_product['Category'] == 'đồ bộ') & (df_Laz_product['Price'] > 150000)][['Name', 'Price', 'Sold', 'Category']]"
   ]
  },
  {
   "cell_type": "code",
   "execution_count": 42,
   "id": "3379591a-4f03-4dbf-b79a-1851ee26c38e",
   "metadata": {},
   "outputs": [
    {
     "data": {
      "text/html": [
       "<div>\n",
       "<style scoped>\n",
       "    .dataframe tbody tr th:only-of-type {\n",
       "        vertical-align: middle;\n",
       "    }\n",
       "\n",
       "    .dataframe tbody tr th {\n",
       "        vertical-align: top;\n",
       "    }\n",
       "\n",
       "    .dataframe thead th {\n",
       "        text-align: right;\n",
       "    }\n",
       "</style>\n",
       "<table border=\"1\" class=\"dataframe\">\n",
       "  <thead>\n",
       "    <tr style=\"text-align: right;\">\n",
       "      <th></th>\n",
       "      <th>Name</th>\n",
       "      <th>Price</th>\n",
       "      <th>Sold</th>\n",
       "      <th>Category</th>\n",
       "    </tr>\n",
       "  </thead>\n",
       "  <tbody>\n",
       "    <tr>\n",
       "      <th>0</th>\n",
       "      <td>Đồ Bộ Nữ Đi Chơi Chất Thun Mát Size M - dưới 5...</td>\n",
       "      <td>39000.0</td>\n",
       "      <td>3900</td>\n",
       "      <td>đồ bộ</td>\n",
       "    </tr>\n",
       "    <tr>\n",
       "      <th>1</th>\n",
       "      <td>Sét áo phông tay lỡ phối kẻ + quần kẻ dài mẫu mới</td>\n",
       "      <td>49000.0</td>\n",
       "      <td>23</td>\n",
       "      <td>đồ bộ</td>\n",
       "    </tr>\n",
       "    <tr>\n",
       "      <th>2</th>\n",
       "      <td>Bộ Pijama, Đồ Bộ Mặc Nhà Nữ Dáng Cộc xinh xắn</td>\n",
       "      <td>19000.0</td>\n",
       "      <td>458</td>\n",
       "      <td>đồ bộ</td>\n",
       "    </tr>\n",
       "    <tr>\n",
       "      <th>3</th>\n",
       "      <td>[ Rẻ Vô Địch ] Tổng hợp các sét quần hoạt hình...</td>\n",
       "      <td>79200.0</td>\n",
       "      <td>265</td>\n",
       "      <td>đồ bộ</td>\n",
       "    </tr>\n",
       "    <tr>\n",
       "      <th>4</th>\n",
       "      <td>Set Bộ áo phông BđBcR Nữ Cotton Mix Quần dài K...</td>\n",
       "      <td>49000.0</td>\n",
       "      <td>171</td>\n",
       "      <td>đồ bộ</td>\n",
       "    </tr>\n",
       "    <tr>\n",
       "      <th>...</th>\n",
       "      <td>...</td>\n",
       "      <td>...</td>\n",
       "      <td>...</td>\n",
       "      <td>...</td>\n",
       "    </tr>\n",
       "    <tr>\n",
       "      <th>113</th>\n",
       "      <td>Đồ bộ ngủ 2 dây, bộ đồ ngủ mặc nhà quần đùi ch...</td>\n",
       "      <td>55000.0</td>\n",
       "      <td>48</td>\n",
       "      <td>đồ bộ</td>\n",
       "    </tr>\n",
       "    <tr>\n",
       "      <th>115</th>\n",
       "      <td>Set quần short đen + áo len sọc xanh QC</td>\n",
       "      <td>52000.0</td>\n",
       "      <td>18</td>\n",
       "      <td>đồ bộ</td>\n",
       "    </tr>\n",
       "    <tr>\n",
       "      <th>116</th>\n",
       "      <td>(PH) Set Bộ 3 Áo Ống Kèm Áo Lưới Tay Dài Croto...</td>\n",
       "      <td>105000.0</td>\n",
       "      <td>7</td>\n",
       "      <td>đồ bộ</td>\n",
       "    </tr>\n",
       "    <tr>\n",
       "      <th>118</th>\n",
       "      <td>Đồ Bộ Đùi Cổ Tròn Tay Cộc Chất Thun Cotton Su ...</td>\n",
       "      <td>79000.0</td>\n",
       "      <td>0</td>\n",
       "      <td>đồ bộ</td>\n",
       "    </tr>\n",
       "    <tr>\n",
       "      <th>119</th>\n",
       "      <td>Pajama Women's Summer Loose Nightgown Women Ko...</td>\n",
       "      <td>98000.0</td>\n",
       "      <td>0</td>\n",
       "      <td>đồ bộ</td>\n",
       "    </tr>\n",
       "  </tbody>\n",
       "</table>\n",
       "<p>103 rows × 4 columns</p>\n",
       "</div>"
      ],
      "text/plain": [
       "                                                  Name     Price  Sold  \\\n",
       "0    Đồ Bộ Nữ Đi Chơi Chất Thun Mát Size M - dưới 5...   39000.0  3900   \n",
       "1    Sét áo phông tay lỡ phối kẻ + quần kẻ dài mẫu mới   49000.0    23   \n",
       "2        Bộ Pijama, Đồ Bộ Mặc Nhà Nữ Dáng Cộc xinh xắn   19000.0   458   \n",
       "3    [ Rẻ Vô Địch ] Tổng hợp các sét quần hoạt hình...   79200.0   265   \n",
       "4    Set Bộ áo phông BđBcR Nữ Cotton Mix Quần dài K...   49000.0   171   \n",
       "..                                                 ...       ...   ...   \n",
       "113  Đồ bộ ngủ 2 dây, bộ đồ ngủ mặc nhà quần đùi ch...   55000.0    48   \n",
       "115            Set quần short đen + áo len sọc xanh QC   52000.0    18   \n",
       "116  (PH) Set Bộ 3 Áo Ống Kèm Áo Lưới Tay Dài Croto...  105000.0     7   \n",
       "118  Đồ Bộ Đùi Cổ Tròn Tay Cộc Chất Thun Cotton Su ...   79000.0     0   \n",
       "119  Pajama Women's Summer Loose Nightgown Women Ko...   98000.0     0   \n",
       "\n",
       "    Category  \n",
       "0      đồ bộ  \n",
       "1      đồ bộ  \n",
       "2      đồ bộ  \n",
       "3      đồ bộ  \n",
       "4      đồ bộ  \n",
       "..       ...  \n",
       "113    đồ bộ  \n",
       "115    đồ bộ  \n",
       "116    đồ bộ  \n",
       "118    đồ bộ  \n",
       "119    đồ bộ  \n",
       "\n",
       "[103 rows x 4 columns]"
      ]
     },
     "execution_count": 42,
     "metadata": {},
     "output_type": "execute_result"
    }
   ],
   "source": [
    "df_Laz_product[(df_Laz_product['Category'] == 'đồ bộ') & (df_Laz_product['Price'] <= 150000)][['Name', 'Price', 'Sold', 'Category']]"
   ]
  },
  {
   "cell_type": "code",
   "execution_count": 43,
   "id": "40b542c1-8c6b-4798-98ec-1876dc918326",
   "metadata": {},
   "outputs": [
    {
     "data": {
      "text/plain": [
       "Category\n",
       "đồ bộ       6\n",
       "áo          2\n",
       "váy/quần    1\n",
       "Name: count, dtype: int64"
      ]
     },
     "execution_count": 43,
     "metadata": {},
     "output_type": "execute_result"
    }
   ],
   "source": [
    "df_Laz_product[df_Laz_product['Price'] > 150000]['Category'].value_counts()"
   ]
  },
  {
   "cell_type": "code",
   "execution_count": 44,
   "id": "20615629-3427-46ee-85cf-2bf28322a34c",
   "metadata": {},
   "outputs": [
    {
     "data": {
      "text/plain": [
       "Category\n",
       "đồ bộ       103\n",
       "váy/quần      3\n",
       "áo            2\n",
       "đồ lót        2\n",
       "đầm           1\n",
       "Name: count, dtype: int64"
      ]
     },
     "execution_count": 44,
     "metadata": {},
     "output_type": "execute_result"
    }
   ],
   "source": [
    "df_Laz_product[df_Laz_product['Price'] <= 150000]['Category'].value_counts()"
   ]
  },
  {
   "cell_type": "code",
   "execution_count": 45,
   "id": "925e6145-9eed-4cce-9e83-e5b34c21f846",
   "metadata": {},
   "outputs": [],
   "source": [
    "df_Laz_product_dobo = df_Laz_product[df_Laz_product['Category'] == 'đồ bộ'].copy(deep = True)\n",
    "df_Laz_product_dobo['Phân khúc'] = df_Laz_product_dobo['Price'].apply(lambda x: 1 if x > 150000 else 0)"
   ]
  },
  {
   "cell_type": "code",
   "execution_count": 46,
   "id": "3903b571-07e7-46aa-a5b1-622a99a1767e",
   "metadata": {},
   "outputs": [
    {
     "data": {
      "text/html": [
       "<div>\n",
       "<style scoped>\n",
       "    .dataframe tbody tr th:only-of-type {\n",
       "        vertical-align: middle;\n",
       "    }\n",
       "\n",
       "    .dataframe tbody tr th {\n",
       "        vertical-align: top;\n",
       "    }\n",
       "\n",
       "    .dataframe thead th {\n",
       "        text-align: right;\n",
       "    }\n",
       "</style>\n",
       "<table border=\"1\" class=\"dataframe\">\n",
       "  <thead>\n",
       "    <tr style=\"text-align: right;\">\n",
       "      <th></th>\n",
       "      <th>Url</th>\n",
       "      <th>Name</th>\n",
       "      <th>Price</th>\n",
       "      <th>Voucher</th>\n",
       "      <th>Sold</th>\n",
       "      <th>NumRate</th>\n",
       "      <th>Category</th>\n",
       "      <th>Phân khúc</th>\n",
       "    </tr>\n",
       "  </thead>\n",
       "  <tbody>\n",
       "    <tr>\n",
       "      <th>0</th>\n",
       "      <td>https://www.lazada.vn/products/do-bo-nu-di-cho...</td>\n",
       "      <td>Đồ Bộ Nữ Đi Chơi Chất Thun Mát Size M - dưới 5...</td>\n",
       "      <td>39000.0</td>\n",
       "      <td>61%</td>\n",
       "      <td>3900</td>\n",
       "      <td>1370</td>\n",
       "      <td>đồ bộ</td>\n",
       "      <td>0</td>\n",
       "    </tr>\n",
       "    <tr>\n",
       "      <th>1</th>\n",
       "      <td>https://www.lazada.vn/products/set-ao-phong-ta...</td>\n",
       "      <td>Sét áo phông tay lỡ phối kẻ + quần kẻ dài mẫu mới</td>\n",
       "      <td>49000.0</td>\n",
       "      <td>62%</td>\n",
       "      <td>23</td>\n",
       "      <td>11</td>\n",
       "      <td>đồ bộ</td>\n",
       "      <td>0</td>\n",
       "    </tr>\n",
       "    <tr>\n",
       "      <th>2</th>\n",
       "      <td>https://www.lazada.vn/products/bo-pijama-do-bo...</td>\n",
       "      <td>Bộ Pijama, Đồ Bộ Mặc Nhà Nữ Dáng Cộc xinh xắn</td>\n",
       "      <td>19000.0</td>\n",
       "      <td>46%</td>\n",
       "      <td>458</td>\n",
       "      <td>131</td>\n",
       "      <td>đồ bộ</td>\n",
       "      <td>0</td>\n",
       "    </tr>\n",
       "    <tr>\n",
       "      <th>3</th>\n",
       "      <td>https://www.lazada.vn/products/re-vo-dich-tong...</td>\n",
       "      <td>[ Rẻ Vô Địch ] Tổng hợp các sét quần hoạt hình...</td>\n",
       "      <td>79200.0</td>\n",
       "      <td>28%</td>\n",
       "      <td>265</td>\n",
       "      <td>91</td>\n",
       "      <td>đồ bộ</td>\n",
       "      <td>0</td>\n",
       "    </tr>\n",
       "    <tr>\n",
       "      <th>4</th>\n",
       "      <td>https://www.lazada.vn/products/set-bo-ao-phong...</td>\n",
       "      <td>Set Bộ áo phông BđBcR Nữ Cotton Mix Quần dài K...</td>\n",
       "      <td>49000.0</td>\n",
       "      <td>29%</td>\n",
       "      <td>171</td>\n",
       "      <td>60</td>\n",
       "      <td>đồ bộ</td>\n",
       "      <td>0</td>\n",
       "    </tr>\n",
       "    <tr>\n",
       "      <th>...</th>\n",
       "      <td>...</td>\n",
       "      <td>...</td>\n",
       "      <td>...</td>\n",
       "      <td>...</td>\n",
       "      <td>...</td>\n",
       "      <td>...</td>\n",
       "      <td>...</td>\n",
       "      <td>...</td>\n",
       "    </tr>\n",
       "    <tr>\n",
       "      <th>114</th>\n",
       "      <td>https://www.lazada.vn/products/quan-ao-nu-sang...</td>\n",
       "      <td>Quần Áo Nữ Sang Chảnh, Áo Sát Nách Quần suông,...</td>\n",
       "      <td>189000.0</td>\n",
       "      <td>23%</td>\n",
       "      <td>12</td>\n",
       "      <td>3</td>\n",
       "      <td>đồ bộ</td>\n",
       "      <td>1</td>\n",
       "    </tr>\n",
       "    <tr>\n",
       "      <th>115</th>\n",
       "      <td>https://www.lazada.vn/products/set-quan-short-...</td>\n",
       "      <td>Set quần short đen + áo len sọc xanh QC</td>\n",
       "      <td>52000.0</td>\n",
       "      <td>NaN</td>\n",
       "      <td>18</td>\n",
       "      <td>5</td>\n",
       "      <td>đồ bộ</td>\n",
       "      <td>0</td>\n",
       "    </tr>\n",
       "    <tr>\n",
       "      <th>116</th>\n",
       "      <td>https://www.lazada.vn/products/ph-set-bo-3-ao-...</td>\n",
       "      <td>(PH) Set Bộ 3 Áo Ống Kèm Áo Lưới Tay Dài Croto...</td>\n",
       "      <td>105000.0</td>\n",
       "      <td>30%</td>\n",
       "      <td>7</td>\n",
       "      <td>1</td>\n",
       "      <td>đồ bộ</td>\n",
       "      <td>0</td>\n",
       "    </tr>\n",
       "    <tr>\n",
       "      <th>118</th>\n",
       "      <td>https://www.lazada.vn/products/do-bo-dui-co-tr...</td>\n",
       "      <td>Đồ Bộ Đùi Cổ Tròn Tay Cộc Chất Thun Cotton Su ...</td>\n",
       "      <td>79000.0</td>\n",
       "      <td>50%</td>\n",
       "      <td>0</td>\n",
       "      <td>0</td>\n",
       "      <td>đồ bộ</td>\n",
       "      <td>0</td>\n",
       "    </tr>\n",
       "    <tr>\n",
       "      <th>119</th>\n",
       "      <td>https://www.lazada.vn/products/quan-ao-phu-nu-...</td>\n",
       "      <td>Pajama Women's Summer Loose Nightgown Women Ko...</td>\n",
       "      <td>98000.0</td>\n",
       "      <td>34%</td>\n",
       "      <td>0</td>\n",
       "      <td>0</td>\n",
       "      <td>đồ bộ</td>\n",
       "      <td>0</td>\n",
       "    </tr>\n",
       "  </tbody>\n",
       "</table>\n",
       "<p>109 rows × 8 columns</p>\n",
       "</div>"
      ],
      "text/plain": [
       "                                                   Url  \\\n",
       "0    https://www.lazada.vn/products/do-bo-nu-di-cho...   \n",
       "1    https://www.lazada.vn/products/set-ao-phong-ta...   \n",
       "2    https://www.lazada.vn/products/bo-pijama-do-bo...   \n",
       "3    https://www.lazada.vn/products/re-vo-dich-tong...   \n",
       "4    https://www.lazada.vn/products/set-bo-ao-phong...   \n",
       "..                                                 ...   \n",
       "114  https://www.lazada.vn/products/quan-ao-nu-sang...   \n",
       "115  https://www.lazada.vn/products/set-quan-short-...   \n",
       "116  https://www.lazada.vn/products/ph-set-bo-3-ao-...   \n",
       "118  https://www.lazada.vn/products/do-bo-dui-co-tr...   \n",
       "119  https://www.lazada.vn/products/quan-ao-phu-nu-...   \n",
       "\n",
       "                                                  Name     Price Voucher  \\\n",
       "0    Đồ Bộ Nữ Đi Chơi Chất Thun Mát Size M - dưới 5...   39000.0     61%   \n",
       "1    Sét áo phông tay lỡ phối kẻ + quần kẻ dài mẫu mới   49000.0     62%   \n",
       "2        Bộ Pijama, Đồ Bộ Mặc Nhà Nữ Dáng Cộc xinh xắn   19000.0     46%   \n",
       "3    [ Rẻ Vô Địch ] Tổng hợp các sét quần hoạt hình...   79200.0     28%   \n",
       "4    Set Bộ áo phông BđBcR Nữ Cotton Mix Quần dài K...   49000.0     29%   \n",
       "..                                                 ...       ...     ...   \n",
       "114  Quần Áo Nữ Sang Chảnh, Áo Sát Nách Quần suông,...  189000.0     23%   \n",
       "115            Set quần short đen + áo len sọc xanh QC   52000.0     NaN   \n",
       "116  (PH) Set Bộ 3 Áo Ống Kèm Áo Lưới Tay Dài Croto...  105000.0     30%   \n",
       "118  Đồ Bộ Đùi Cổ Tròn Tay Cộc Chất Thun Cotton Su ...   79000.0     50%   \n",
       "119  Pajama Women's Summer Loose Nightgown Women Ko...   98000.0     34%   \n",
       "\n",
       "     Sold  NumRate Category  Phân khúc  \n",
       "0    3900     1370    đồ bộ          0  \n",
       "1      23       11    đồ bộ          0  \n",
       "2     458      131    đồ bộ          0  \n",
       "3     265       91    đồ bộ          0  \n",
       "4     171       60    đồ bộ          0  \n",
       "..    ...      ...      ...        ...  \n",
       "114    12        3    đồ bộ          1  \n",
       "115    18        5    đồ bộ          0  \n",
       "116     7        1    đồ bộ          0  \n",
       "118     0        0    đồ bộ          0  \n",
       "119     0        0    đồ bộ          0  \n",
       "\n",
       "[109 rows x 8 columns]"
      ]
     },
     "execution_count": 46,
     "metadata": {},
     "output_type": "execute_result"
    }
   ],
   "source": [
    "df_Laz_product_dobo"
   ]
  },
  {
   "cell_type": "code",
   "execution_count": 47,
   "id": "ed73ab6e-9527-483f-9caa-107fbce275bf",
   "metadata": {},
   "outputs": [
    {
     "name": "stderr",
     "output_type": "stream",
     "text": [
      "C:\\Users\\ASUS\\AppData\\Local\\Temp\\ipykernel_3824\\591534270.py:5: FutureWarning: \n",
      "\n",
      "Passing `palette` without assigning `hue` is deprecated and will be removed in v0.14.0. Assign the `x` variable to `hue` and set `legend=False` for the same effect.\n",
      "\n",
      "  sns.barplot(x='Phân khúc', y='Số lượng sản phẩm', data=count_by_segment, palette='pastel')\n"
     ]
    },
    {
     "data": {
      "image/png": "[encoded data removed]",
      "text/plain": [
       "<Figure size 1000x600 with 1 Axes>"
      ]
     },
     "metadata": {},
     "output_type": "display_data"
    }
   ],
   "source": [
    "count_by_segment = df_Laz_product_dobo['Phân khúc'].value_counts().reset_index()\n",
    "count_by_segment.columns = ['Phân khúc', 'Số lượng sản phẩm']\n",
    "\n",
    "plt.figure(figsize=(10, 6))\n",
    "sns.barplot(x='Phân khúc', y='Số lượng sản phẩm', data=count_by_segment, palette='pastel')\n",
    "plt.title('Số lượng sản phẩm theo Phân khúc')\n",
    "plt.xlabel('Phân khúc')\n",
    "plt.ylabel('Số lượng sản phẩm')\n",
    "plt.show()"
   ]
  },
  {
   "cell_type": "code",
   "execution_count": 48,
   "id": "817a25c0-4ff6-4472-a634-c9fe8e8822e9",
   "metadata": {},
   "outputs": [
    {
     "data": {
      "text/plain": [
       "count       109.000000\n",
       "mean      67572.642202\n",
       "std       40098.168726\n",
       "min       19000.000000\n",
       "25%       41000.000000\n",
       "50%       55500.000000\n",
       "75%       83000.000000\n",
       "max      276051.000000\n",
       "Name: Price, dtype: float64"
      ]
     },
     "execution_count": 48,
     "metadata": {},
     "output_type": "execute_result"
    }
   ],
   "source": [
    "df_Laz_product[df_Laz_product['Category'] == 'đồ bộ']['Price'].describe()"
   ]
  },
  {
   "cell_type": "code",
   "execution_count": 49,
   "id": "255a09a3-20cc-4187-911f-f36f8be8da0d",
   "metadata": {},
   "outputs": [
    {
     "data": {
      "text/html": [
       "<div>\n",
       "<style scoped>\n",
       "    .dataframe tbody tr th:only-of-type {\n",
       "        vertical-align: middle;\n",
       "    }\n",
       "\n",
       "    .dataframe tbody tr th {\n",
       "        vertical-align: top;\n",
       "    }\n",
       "\n",
       "    .dataframe thead th {\n",
       "        text-align: right;\n",
       "    }\n",
       "</style>\n",
       "<table border=\"1\" class=\"dataframe\">\n",
       "  <thead>\n",
       "    <tr style=\"text-align: right;\">\n",
       "      <th></th>\n",
       "      <th>Name</th>\n",
       "      <th>Price</th>\n",
       "      <th>Sold</th>\n",
       "      <th>Category</th>\n",
       "    </tr>\n",
       "  </thead>\n",
       "  <tbody>\n",
       "    <tr>\n",
       "      <th>0</th>\n",
       "      <td>Đồ Bộ Nữ Đi Chơi Chất Thun Mát Size M - dưới 5...</td>\n",
       "      <td>39000.0</td>\n",
       "      <td>3900</td>\n",
       "      <td>đồ bộ</td>\n",
       "    </tr>\n",
       "    <tr>\n",
       "      <th>1</th>\n",
       "      <td>Sét áo phông tay lỡ phối kẻ + quần kẻ dài mẫu mới</td>\n",
       "      <td>49000.0</td>\n",
       "      <td>23</td>\n",
       "      <td>đồ bộ</td>\n",
       "    </tr>\n",
       "    <tr>\n",
       "      <th>2</th>\n",
       "      <td>Bộ Pijama, Đồ Bộ Mặc Nhà Nữ Dáng Cộc xinh xắn</td>\n",
       "      <td>19000.0</td>\n",
       "      <td>458</td>\n",
       "      <td>đồ bộ</td>\n",
       "    </tr>\n",
       "    <tr>\n",
       "      <th>3</th>\n",
       "      <td>[ Rẻ Vô Địch ] Tổng hợp các sét quần hoạt hình...</td>\n",
       "      <td>79200.0</td>\n",
       "      <td>265</td>\n",
       "      <td>đồ bộ</td>\n",
       "    </tr>\n",
       "    <tr>\n",
       "      <th>4</th>\n",
       "      <td>Set Bộ áo phông BđBcR Nữ Cotton Mix Quần dài K...</td>\n",
       "      <td>49000.0</td>\n",
       "      <td>171</td>\n",
       "      <td>đồ bộ</td>\n",
       "    </tr>\n",
       "    <tr>\n",
       "      <th>...</th>\n",
       "      <td>...</td>\n",
       "      <td>...</td>\n",
       "      <td>...</td>\n",
       "      <td>...</td>\n",
       "    </tr>\n",
       "    <tr>\n",
       "      <th>114</th>\n",
       "      <td>Quần Áo Nữ Sang Chảnh, Áo Sát Nách Quần suông,...</td>\n",
       "      <td>189000.0</td>\n",
       "      <td>12</td>\n",
       "      <td>đồ bộ</td>\n",
       "    </tr>\n",
       "    <tr>\n",
       "      <th>115</th>\n",
       "      <td>Set quần short đen + áo len sọc xanh QC</td>\n",
       "      <td>52000.0</td>\n",
       "      <td>18</td>\n",
       "      <td>đồ bộ</td>\n",
       "    </tr>\n",
       "    <tr>\n",
       "      <th>116</th>\n",
       "      <td>(PH) Set Bộ 3 Áo Ống Kèm Áo Lưới Tay Dài Croto...</td>\n",
       "      <td>105000.0</td>\n",
       "      <td>7</td>\n",
       "      <td>đồ bộ</td>\n",
       "    </tr>\n",
       "    <tr>\n",
       "      <th>118</th>\n",
       "      <td>Đồ Bộ Đùi Cổ Tròn Tay Cộc Chất Thun Cotton Su ...</td>\n",
       "      <td>79000.0</td>\n",
       "      <td>0</td>\n",
       "      <td>đồ bộ</td>\n",
       "    </tr>\n",
       "    <tr>\n",
       "      <th>119</th>\n",
       "      <td>Pajama Women's Summer Loose Nightgown Women Ko...</td>\n",
       "      <td>98000.0</td>\n",
       "      <td>0</td>\n",
       "      <td>đồ bộ</td>\n",
       "    </tr>\n",
       "  </tbody>\n",
       "</table>\n",
       "<p>109 rows × 4 columns</p>\n",
       "</div>"
      ],
      "text/plain": [
       "                                                  Name     Price  Sold  \\\n",
       "0    Đồ Bộ Nữ Đi Chơi Chất Thun Mát Size M - dưới 5...   39000.0  3900   \n",
       "1    Sét áo phông tay lỡ phối kẻ + quần kẻ dài mẫu mới   49000.0    23   \n",
       "2        Bộ Pijama, Đồ Bộ Mặc Nhà Nữ Dáng Cộc xinh xắn   19000.0   458   \n",
       "3    [ Rẻ Vô Địch ] Tổng hợp các sét quần hoạt hình...   79200.0   265   \n",
       "4    Set Bộ áo phông BđBcR Nữ Cotton Mix Quần dài K...   49000.0   171   \n",
       "..                                                 ...       ...   ...   \n",
       "114  Quần Áo Nữ Sang Chảnh, Áo Sát Nách Quần suông,...  189000.0    12   \n",
       "115            Set quần short đen + áo len sọc xanh QC   52000.0    18   \n",
       "116  (PH) Set Bộ 3 Áo Ống Kèm Áo Lưới Tay Dài Croto...  105000.0     7   \n",
       "118  Đồ Bộ Đùi Cổ Tròn Tay Cộc Chất Thun Cotton Su ...   79000.0     0   \n",
       "119  Pajama Women's Summer Loose Nightgown Women Ko...   98000.0     0   \n",
       "\n",
       "    Category  \n",
       "0      đồ bộ  \n",
       "1      đồ bộ  \n",
       "2      đồ bộ  \n",
       "3      đồ bộ  \n",
       "4      đồ bộ  \n",
       "..       ...  \n",
       "114    đồ bộ  \n",
       "115    đồ bộ  \n",
       "116    đồ bộ  \n",
       "118    đồ bộ  \n",
       "119    đồ bộ  \n",
       "\n",
       "[109 rows x 4 columns]"
      ]
     },
     "execution_count": 49,
     "metadata": {},
     "output_type": "execute_result"
    }
   ],
   "source": [
    "df_Laz_product[df_Laz_product['Category'] == 'đồ bộ'][['Name', 'Price', 'Sold', 'Category']]"
   ]
  },
  {
   "cell_type": "code",
   "execution_count": 50,
   "id": "05b82b84-d63e-42ae-9c27-204eaaefdd3f",
   "metadata": {},
   "outputs": [
    {
     "name": "stderr",
     "output_type": "stream",
     "text": [
      "C:\\Users\\ASUS\\AppData\\Local\\Temp\\ipykernel_3824\\2429509977.py:2: FutureWarning: \n",
      "\n",
      "Passing `palette` without assigning `hue` is deprecated and will be removed in v0.14.0. Assign the `y` variable to `hue` and set `legend=False` for the same effect.\n",
      "\n",
      "  sns.boxplot(x='Price', data=df_Laz_product, palette='Set2')\n"
     ]
    },
    {
     "data": {
      "image/png": "[encoded data removed]",
      "text/plain": [
       "<Figure size 1000x600 with 1 Axes>"
      ]
     },
     "metadata": {},
     "output_type": "display_data"
    }
   ],
   "source": [
    "plt.figure(figsize=(10, 6))\n",
    "sns.boxplot(x='Price', data=df_Laz_product, palette='Set2')\n",
    "plt.title(' Biểu đồ Box Plot thể hiện sự phân phối của giá sản phẩm quần áo nữ trên Lazada (VNĐ)')\n",
    "plt.xlabel('Giá tiền')\n",
    "plt.ylabel('')\n",
    "plt.show()"
   ]
  },
  {
   "cell_type": "code",
   "execution_count": 51,
   "id": "ce930f46-c146-49db-b700-5b78cd65838c",
   "metadata": {},
   "outputs": [
    {
     "data": {
      "image/png": "[encoded data removed]",
      "text/plain": [
       "<Figure size 640x480 with 1 Axes>"
      ]
     },
     "metadata": {},
     "output_type": "display_data"
    }
   ],
   "source": [
    "stats = {\n",
    "    'Mean': df_Laz_product['Price'].mean(),\n",
    "    'Median': df_Laz_product['Price'].median(),\n",
    "    'Min': df_Laz_product['Price'].min(),\n",
    "    'Max': df_Laz_product['Price'].max(),\n",
    "    'Std': df_Laz_product['Price'].std()\n",
    "}\n",
    "\n",
    "colors = ['#FF9999', '#66B3FF', '#99FF99', '#FFCC99', '#FFD700']\n",
    "plt.bar(stats.keys(), stats.values(), color = colors)\n",
    "plt.title('Thống kê giá tiền các sản phẩm quần áo nữ trên Lazada (VNĐ)')\n",
    "plt.show()"
   ]
  },
  {
   "cell_type": "markdown",
   "id": "18923d87-791e-4f3e-9f3d-01064ae8705b",
   "metadata": {},
   "source": [
    "Run this cell if the computer hasn't installed the scikit-learn libraries yet"
   ]
  },
  {
   "cell_type": "code",
   "execution_count": 52,
   "id": "7ae3281f-e184-46e8-b731-3faa3fcf1e69",
   "metadata": {},
   "outputs": [],
   "source": [
    "# !pip install scikit-learn"
   ]
  },
  {
   "cell_type": "code",
   "execution_count": 53,
   "id": "405b6dcc-23d8-41f5-bd8b-0149e6f096b3",
   "metadata": {},
   "outputs": [
    {
     "name": "stdout",
     "output_type": "stream",
     "text": [
      "                                                   Url  \\\n",
      "0    https://www.lazada.vn/products/do-bo-nu-di-cho...   \n",
      "1    https://www.lazada.vn/products/set-ao-phong-ta...   \n",
      "2    https://www.lazada.vn/products/bo-pijama-do-bo...   \n",
      "3    https://www.lazada.vn/products/re-vo-dich-tong...   \n",
      "4    https://www.lazada.vn/products/set-bo-ao-phong...   \n",
      "..                                                 ...   \n",
      "115  https://www.lazada.vn/products/set-quan-short-...   \n",
      "116  https://www.lazada.vn/products/ph-set-bo-3-ao-...   \n",
      "117  https://www.lazada.vn/products/quan-dui-nu-mac...   \n",
      "118  https://www.lazada.vn/products/do-bo-dui-co-tr...   \n",
      "119  https://www.lazada.vn/products/quan-ao-phu-nu-...   \n",
      "\n",
      "                                                  Name     Price Voucher  \\\n",
      "0    Đồ Bộ Nữ Đi Chơi Chất Thun Mát Size M - dưới 5...   39000.0     61%   \n",
      "1    Sét áo phông tay lỡ phối kẻ + quần kẻ dài mẫu mới   49000.0     62%   \n",
      "2        Bộ Pijama, Đồ Bộ Mặc Nhà Nữ Dáng Cộc xinh xắn   19000.0     46%   \n",
      "3    [ Rẻ Vô Địch ] Tổng hợp các sét quần hoạt hình...   79200.0     28%   \n",
      "4    Set Bộ áo phông BđBcR Nữ Cotton Mix Quần dài K...   49000.0     29%   \n",
      "..                                                 ...       ...     ...   \n",
      "115            Set quần short đen + áo len sọc xanh QC   52000.0     NaN   \n",
      "116  (PH) Set Bộ 3 Áo Ống Kèm Áo Lưới Tay Dài Croto...  105000.0     30%   \n",
      "117  Quần đùi nữ mặc nhà ỐNG RỘNG, VẢI XƯỢC, DÂY KÉ...   35800.0     47%   \n",
      "118  Đồ Bộ Đùi Cổ Tròn Tay Cộc Chất Thun Cotton Su ...   79000.0     50%   \n",
      "119  Pajama Women's Summer Loose Nightgown Women Ko...   98000.0     34%   \n",
      "\n",
      "     Sold  NumRate  Category  Cluster_DBSCAN  \n",
      "0    3900     1370     đồ bộ               0  \n",
      "1      23       11     đồ bộ               0  \n",
      "2     458      131     đồ bộ               0  \n",
      "3     265       91     đồ bộ               0  \n",
      "4     171       60     đồ bộ               0  \n",
      "..    ...      ...       ...             ...  \n",
      "115    18        5     đồ bộ               0  \n",
      "116     7        1     đồ bộ               0  \n",
      "117    15        6  váy/quần               0  \n",
      "118     0        0     đồ bộ               0  \n",
      "119     0        0     đồ bộ               0  \n",
      "\n",
      "[120 rows x 8 columns]\n"
     ]
    }
   ],
   "source": [
    "from sklearn.preprocessing import StandardScaler\n",
    "from sklearn.cluster import DBSCAN\n",
    "\n",
    "cluster_price = df_Laz_product.copy(deep = True)\n",
    "\n",
    "prices = cluster_price[['Price']].values\n",
    "scaler = StandardScaler()\n",
    "prices_scaled = scaler.fit_transform(prices)\n",
    "\n",
    "dbscan = DBSCAN(eps = 0.5, min_samples = 5)\n",
    "cluster_price['Cluster_DBSCAN'] = dbscan.fit_predict(prices_scaled)\n",
    "\n",
    "print(cluster_price)"
   ]
  },
  {
   "cell_type": "code",
   "execution_count": 54,
   "id": "09854302-18df-4388-82e8-2551ead93392",
   "metadata": {},
   "outputs": [
    {
     "data": {
      "text/html": [
       "<div>\n",
       "<style scoped>\n",
       "    .dataframe tbody tr th:only-of-type {\n",
       "        vertical-align: middle;\n",
       "    }\n",
       "\n",
       "    .dataframe tbody tr th {\n",
       "        vertical-align: top;\n",
       "    }\n",
       "\n",
       "    .dataframe thead th {\n",
       "        text-align: right;\n",
       "    }\n",
       "</style>\n",
       "<table border=\"1\" class=\"dataframe\">\n",
       "  <thead>\n",
       "    <tr style=\"text-align: right;\">\n",
       "      <th></th>\n",
       "      <th>Price</th>\n",
       "      <th>Cluster_DBSCAN</th>\n",
       "    </tr>\n",
       "  </thead>\n",
       "  <tbody>\n",
       "    <tr>\n",
       "      <th>count</th>\n",
       "      <td>118.000000</td>\n",
       "      <td>118.0</td>\n",
       "    </tr>\n",
       "    <tr>\n",
       "      <th>mean</th>\n",
       "      <td>65749.440678</td>\n",
       "      <td>0.0</td>\n",
       "    </tr>\n",
       "    <tr>\n",
       "      <th>std</th>\n",
       "      <td>37567.577908</td>\n",
       "      <td>0.0</td>\n",
       "    </tr>\n",
       "    <tr>\n",
       "      <th>min</th>\n",
       "      <td>15000.000000</td>\n",
       "      <td>0.0</td>\n",
       "    </tr>\n",
       "    <tr>\n",
       "      <th>25%</th>\n",
       "      <td>40000.000000</td>\n",
       "      <td>0.0</td>\n",
       "    </tr>\n",
       "    <tr>\n",
       "      <th>50%</th>\n",
       "      <td>54892.000000</td>\n",
       "      <td>0.0</td>\n",
       "    </tr>\n",
       "    <tr>\n",
       "      <th>75%</th>\n",
       "      <td>80442.250000</td>\n",
       "      <td>0.0</td>\n",
       "    </tr>\n",
       "    <tr>\n",
       "      <th>max</th>\n",
       "      <td>206646.000000</td>\n",
       "      <td>0.0</td>\n",
       "    </tr>\n",
       "  </tbody>\n",
       "</table>\n",
       "</div>"
      ],
      "text/plain": [
       "               Price  Cluster_DBSCAN\n",
       "count     118.000000           118.0\n",
       "mean    65749.440678             0.0\n",
       "std     37567.577908             0.0\n",
       "min     15000.000000             0.0\n",
       "25%     40000.000000             0.0\n",
       "50%     54892.000000             0.0\n",
       "75%     80442.250000             0.0\n",
       "max    206646.000000             0.0"
      ]
     },
     "execution_count": 54,
     "metadata": {},
     "output_type": "execute_result"
    }
   ],
   "source": [
    "cluster_price[cluster_price['Cluster_DBSCAN'] == 0][['Price', 'Cluster_DBSCAN']].describe()"
   ]
  },
  {
   "cell_type": "code",
   "execution_count": 55,
   "id": "6a937662-0424-4dfb-9968-de858bc12e20",
   "metadata": {},
   "outputs": [
    {
     "data": {
      "text/html": [
       "<div>\n",
       "<style scoped>\n",
       "    .dataframe tbody tr th:only-of-type {\n",
       "        vertical-align: middle;\n",
       "    }\n",
       "\n",
       "    .dataframe tbody tr th {\n",
       "        vertical-align: top;\n",
       "    }\n",
       "\n",
       "    .dataframe thead th {\n",
       "        text-align: right;\n",
       "    }\n",
       "</style>\n",
       "<table border=\"1\" class=\"dataframe\">\n",
       "  <thead>\n",
       "    <tr style=\"text-align: right;\">\n",
       "      <th></th>\n",
       "      <th>Price</th>\n",
       "      <th>Cluster_DBSCAN</th>\n",
       "    </tr>\n",
       "  </thead>\n",
       "  <tbody>\n",
       "    <tr>\n",
       "      <th>count</th>\n",
       "      <td>2.000000</td>\n",
       "      <td>2.0</td>\n",
       "    </tr>\n",
       "    <tr>\n",
       "      <th>mean</th>\n",
       "      <td>259625.500000</td>\n",
       "      <td>-1.0</td>\n",
       "    </tr>\n",
       "    <tr>\n",
       "      <th>std</th>\n",
       "      <td>23229.164869</td>\n",
       "      <td>0.0</td>\n",
       "    </tr>\n",
       "    <tr>\n",
       "      <th>min</th>\n",
       "      <td>243200.000000</td>\n",
       "      <td>-1.0</td>\n",
       "    </tr>\n",
       "    <tr>\n",
       "      <th>25%</th>\n",
       "      <td>251412.750000</td>\n",
       "      <td>-1.0</td>\n",
       "    </tr>\n",
       "    <tr>\n",
       "      <th>50%</th>\n",
       "      <td>259625.500000</td>\n",
       "      <td>-1.0</td>\n",
       "    </tr>\n",
       "    <tr>\n",
       "      <th>75%</th>\n",
       "      <td>267838.250000</td>\n",
       "      <td>-1.0</td>\n",
       "    </tr>\n",
       "    <tr>\n",
       "      <th>max</th>\n",
       "      <td>276051.000000</td>\n",
       "      <td>-1.0</td>\n",
       "    </tr>\n",
       "  </tbody>\n",
       "</table>\n",
       "</div>"
      ],
      "text/plain": [
       "               Price  Cluster_DBSCAN\n",
       "count       2.000000             2.0\n",
       "mean   259625.500000            -1.0\n",
       "std     23229.164869             0.0\n",
       "min    243200.000000            -1.0\n",
       "25%    251412.750000            -1.0\n",
       "50%    259625.500000            -1.0\n",
       "75%    267838.250000            -1.0\n",
       "max    276051.000000            -1.0"
      ]
     },
     "execution_count": 55,
     "metadata": {},
     "output_type": "execute_result"
    }
   ],
   "source": [
    "cluster_price[cluster_price['Cluster_DBSCAN'] != 0][['Price', 'Cluster_DBSCAN']].describe()"
   ]
  },
  {
   "cell_type": "code",
   "execution_count": 56,
   "id": "13dec548-014b-4762-8091-dfbbf4d60ef6",
   "metadata": {},
   "outputs": [
    {
     "data": {
      "image/png": "[encoded data removed]",
      "text/plain": [
       "<Figure size 640x480 with 2 Axes>"
      ]
     },
     "metadata": {},
     "output_type": "display_data"
    }
   ],
   "source": [
    "plt.scatter(cluster_price['Price'], np.zeros_like(cluster_price['Price']),\n",
    "            c=cluster_price['Cluster_DBSCAN'], cmap='viridis', marker='o')\n",
    "plt.xlabel('Price')\n",
    "plt.title('DBSCAN Clustering')\n",
    "plt.colorbar(label='Cluster')\n",
    "plt.show()"
   ]
  },
  {
   "cell_type": "code",
   "execution_count": 57,
   "id": "3d783349-ee4a-45f7-ac56-7fbb96c23ba1",
   "metadata": {},
   "outputs": [
    {
     "name": "stderr",
     "output_type": "stream",
     "text": [
      "C:\\Users\\ASUS\\AppData\\Local\\Temp\\ipykernel_3824\\1320482987.py:8: FutureWarning: \n",
      "\n",
      "Passing `palette` without assigning `hue` is deprecated and will be removed in v0.14.0. Assign the `x` variable to `hue` and set `legend=False` for the same effect.\n",
      "\n",
      "  sns.barplot(x='Phân khúc', y='Số lượng sản phẩm', data=count_by_segment, palette='pastel')\n"
     ]
    },
    {
     "data": {
      "image/png": "[encoded data removed]",
      "text/plain": [
       "<Figure size 1000x600 with 1 Axes>"
      ]
     },
     "metadata": {},
     "output_type": "display_data"
    }
   ],
   "source": [
    "df_Laz_product_pk = df_Laz_product.copy(deep = True)\n",
    "df_Laz_product_pk['Phân khúc'] = df_Laz_product_pk['Price'].apply(lambda x: 1 if x > 150000 else 0)\n",
    "\n",
    "count_by_segment = df_Laz_product_pk['Phân khúc'].value_counts().reset_index()\n",
    "count_by_segment.columns = ['Phân khúc', 'Số lượng sản phẩm']\n",
    "\n",
    "plt.figure(figsize=(10, 6))\n",
    "sns.barplot(x='Phân khúc', y='Số lượng sản phẩm', data=count_by_segment, palette='pastel')\n",
    "plt.title('Số lượng sản phẩm theo Phân khúc')\n",
    "plt.xlabel('Phân khúc')\n",
    "plt.ylabel('Số lượng sản phẩm')\n",
    "plt.show()"
   ]
  },
  {
   "cell_type": "code",
   "execution_count": 58,
   "id": "3c94f7bf-0522-432f-bd41-51e79377fa97",
   "metadata": {},
   "outputs": [
    {
     "data": {
      "text/plain": [
       "70683"
      ]
     },
     "execution_count": 58,
     "metadata": {},
     "output_type": "execute_result"
    }
   ],
   "source": [
    "df_Laz_product['Sold'].sum()"
   ]
  },
  {
   "cell_type": "code",
   "execution_count": 59,
   "id": "b8a4b83e-8284-4c94-8cf6-615ef46dbe2f",
   "metadata": {},
   "outputs": [
    {
     "data": {
      "text/plain": [
       "count      120.000000\n",
       "mean       589.025000\n",
       "std       1369.368102\n",
       "min          0.000000\n",
       "25%         23.750000\n",
       "50%        111.500000\n",
       "75%        433.250000\n",
       "max      10100.000000\n",
       "Name: Sold, dtype: float64"
      ]
     },
     "execution_count": 59,
     "metadata": {},
     "output_type": "execute_result"
    }
   ],
   "source": [
    "df_Laz_product['Sold'].describe()"
   ]
  },
  {
   "cell_type": "code",
   "execution_count": 60,
   "id": "32414bc0-3408-4282-9bf2-f93d98dd8fcb",
   "metadata": {},
   "outputs": [
    {
     "data": {
      "image/png": "[encoded data removed]",
      "text/plain": [
       "<Figure size 640x480 with 1 Axes>"
      ]
     },
     "metadata": {},
     "output_type": "display_data"
    }
   ],
   "source": [
    "stats = {\n",
    "    'Mean': df_Laz_product['Sold'].mean(),\n",
    "    'Median': df_Laz_product['Sold'].median(),\n",
    "    'Min': df_Laz_product['Sold'].min(),\n",
    "    'Max': df_Laz_product['Sold'].max(),\n",
    "    'Std': df_Laz_product['Sold'].std()\n",
    "}\n",
    "\n",
    "colors = ['#FF9999', '#66B3FF', '#99FF99', '#FFCC99', '#FFD700']\n",
    "plt.bar(stats.keys(), stats.values(), color = colors)\n",
    "plt.title('Thống kê số lượng bán các sản phẩm quần áo nữ trên Lazada')\n",
    "plt.show()"
   ]
  },
  {
   "cell_type": "code",
   "execution_count": 67,
   "id": "419046a0-3034-4400-89e0-859a2b1641a7",
   "metadata": {},
   "outputs": [
    {
     "data": {
      "text/html": [
       "<div>\n",
       "<style scoped>\n",
       "    .dataframe tbody tr th:only-of-type {\n",
       "        vertical-align: middle;\n",
       "    }\n",
       "\n",
       "    .dataframe tbody tr th {\n",
       "        vertical-align: top;\n",
       "    }\n",
       "\n",
       "    .dataframe thead th {\n",
       "        text-align: right;\n",
       "    }\n",
       "</style>\n",
       "<table border=\"1\" class=\"dataframe\">\n",
       "  <thead>\n",
       "    <tr style=\"text-align: right;\">\n",
       "      <th></th>\n",
       "      <th>Url</th>\n",
       "      <th>Name</th>\n",
       "      <th>Price</th>\n",
       "      <th>Voucher</th>\n",
       "      <th>Sold</th>\n",
       "      <th>NumRate</th>\n",
       "      <th>Category</th>\n",
       "    </tr>\n",
       "  </thead>\n",
       "  <tbody>\n",
       "    <tr>\n",
       "      <th>38</th>\n",
       "      <td>https://www.lazada.vn/products/bo-do-ngu-nam-n...</td>\n",
       "      <td>Winter Adults Animal Dinosaur Onesies Women Me...</td>\n",
       "      <td>90000.0</td>\n",
       "      <td>64%</td>\n",
       "      <td>0</td>\n",
       "      <td>0</td>\n",
       "      <td>đồ bộ</td>\n",
       "    </tr>\n",
       "    <tr>\n",
       "      <th>39</th>\n",
       "      <td>https://www.lazada.vn/products/kieu-co-dien-ch...</td>\n",
       "      <td>ZANZEA Women Vintage Casual Sleeveless Top Ela...</td>\n",
       "      <td>243200.0</td>\n",
       "      <td>Voucher Applied\\n50%</td>\n",
       "      <td>0</td>\n",
       "      <td>0</td>\n",
       "      <td>áo</td>\n",
       "    </tr>\n",
       "    <tr>\n",
       "      <th>78</th>\n",
       "      <td>https://www.lazada.vn/products/re-vo-dich-set-...</td>\n",
       "      <td>[Rẻ vô địch] Set Bộ Quần Ống leo chất umi+ mix...</td>\n",
       "      <td>84000.0</td>\n",
       "      <td>7%</td>\n",
       "      <td>0</td>\n",
       "      <td>0</td>\n",
       "      <td>đồ bộ</td>\n",
       "    </tr>\n",
       "    <tr>\n",
       "      <th>79</th>\n",
       "      <td>https://www.lazada.vn/products/weci-do-ngu-goi...</td>\n",
       "      <td>WECI Sexy Pyjamas Straps Lace Lingerie Sleepin...</td>\n",
       "      <td>51985.0</td>\n",
       "      <td>69%</td>\n",
       "      <td>0</td>\n",
       "      <td>0</td>\n",
       "      <td>đầm</td>\n",
       "    </tr>\n",
       "    <tr>\n",
       "      <th>118</th>\n",
       "      <td>https://www.lazada.vn/products/do-bo-dui-co-tr...</td>\n",
       "      <td>Đồ Bộ Đùi Cổ Tròn Tay Cộc Chất Thun Cotton Su ...</td>\n",
       "      <td>79000.0</td>\n",
       "      <td>50%</td>\n",
       "      <td>0</td>\n",
       "      <td>0</td>\n",
       "      <td>đồ bộ</td>\n",
       "    </tr>\n",
       "    <tr>\n",
       "      <th>119</th>\n",
       "      <td>https://www.lazada.vn/products/quan-ao-phu-nu-...</td>\n",
       "      <td>Pajama Women's Summer Loose Nightgown Women Ko...</td>\n",
       "      <td>98000.0</td>\n",
       "      <td>34%</td>\n",
       "      <td>0</td>\n",
       "      <td>0</td>\n",
       "      <td>đồ bộ</td>\n",
       "    </tr>\n",
       "  </tbody>\n",
       "</table>\n",
       "</div>"
      ],
      "text/plain": [
       "                                                   Url  \\\n",
       "38   https://www.lazada.vn/products/bo-do-ngu-nam-n...   \n",
       "39   https://www.lazada.vn/products/kieu-co-dien-ch...   \n",
       "78   https://www.lazada.vn/products/re-vo-dich-set-...   \n",
       "79   https://www.lazada.vn/products/weci-do-ngu-goi...   \n",
       "118  https://www.lazada.vn/products/do-bo-dui-co-tr...   \n",
       "119  https://www.lazada.vn/products/quan-ao-phu-nu-...   \n",
       "\n",
       "                                                  Name     Price  \\\n",
       "38   Winter Adults Animal Dinosaur Onesies Women Me...   90000.0   \n",
       "39   ZANZEA Women Vintage Casual Sleeveless Top Ela...  243200.0   \n",
       "78   [Rẻ vô địch] Set Bộ Quần Ống leo chất umi+ mix...   84000.0   \n",
       "79   WECI Sexy Pyjamas Straps Lace Lingerie Sleepin...   51985.0   \n",
       "118  Đồ Bộ Đùi Cổ Tròn Tay Cộc Chất Thun Cotton Su ...   79000.0   \n",
       "119  Pajama Women's Summer Loose Nightgown Women Ko...   98000.0   \n",
       "\n",
       "                  Voucher  Sold  NumRate Category  \n",
       "38                    64%     0        0    đồ bộ  \n",
       "39   Voucher Applied\\n50%     0        0       áo  \n",
       "78                     7%     0        0    đồ bộ  \n",
       "79                    69%     0        0      đầm  \n",
       "118                   50%     0        0    đồ bộ  \n",
       "119                   34%     0        0    đồ bộ  "
      ]
     },
     "execution_count": 67,
     "metadata": {},
     "output_type": "execute_result"
    }
   ],
   "source": [
    "df_Laz_product[df_Laz_product['Sold'] == 0]"
   ]
  },
  {
   "cell_type": "code",
   "execution_count": 76,
   "id": "f2de2f32-5a26-4510-8557-4252e3b208df",
   "metadata": {},
   "outputs": [
    {
     "data": {
      "image/png": "[encoded data removed]",
      "text/plain": [
       "<Figure size 1000x600 with 1 Axes>"
      ]
     },
     "metadata": {},
     "output_type": "display_data"
    }
   ],
   "source": [
    "plt.figure(figsize=(10, 6))\n",
    "sns.histplot(df_Laz_product['Sold'], bins=10, kde=False, color='skyblue')\n",
    "plt.title('Độ phân bố số lượng bán')\n",
    "plt.xlabel('Số lượng bán')\n",
    "plt.ylabel('Số sản phẩm')\n",
    "plt.show()"
   ]
  },
  {
   "cell_type": "code",
   "execution_count": 88,
   "id": "a1d88a1b-d4c7-4cc0-a40c-b1795a61ac3a",
   "metadata": {},
   "outputs": [
    {
     "data": {
      "image/png": "[encoded data removed]",
      "text/plain": [
       "<Figure size 1000x600 with 1 Axes>"
      ]
     },
     "metadata": {},
     "output_type": "display_data"
    }
   ],
   "source": [
    "plt.figure(figsize=(10, 6))\n",
    "sns.histplot(df_Laz_product[df_Laz_product['Sold'] > 2000]['Sold'], bins=5, kde=False, color='skyblue')\n",
    "plt.title('Độ phân bố số lượng bán')\n",
    "plt.xlabel('Số lượng bán')\n",
    "plt.ylabel('Số sản phẩm')\n",
    "plt.show()"
   ]
  },
  {
   "cell_type": "code",
   "execution_count": 94,
   "id": "ebe9614b-6f64-4f2a-a381-855e08b6a9d5",
   "metadata": {},
   "outputs": [
    {
     "data": {
      "text/html": [
       "<div>\n",
       "<style scoped>\n",
       "    .dataframe tbody tr th:only-of-type {\n",
       "        vertical-align: middle;\n",
       "    }\n",
       "\n",
       "    .dataframe tbody tr th {\n",
       "        vertical-align: top;\n",
       "    }\n",
       "\n",
       "    .dataframe thead th {\n",
       "        text-align: right;\n",
       "    }\n",
       "</style>\n",
       "<table border=\"1\" class=\"dataframe\">\n",
       "  <thead>\n",
       "    <tr style=\"text-align: right;\">\n",
       "      <th></th>\n",
       "      <th>Url</th>\n",
       "      <th>Name</th>\n",
       "      <th>Price</th>\n",
       "      <th>Voucher</th>\n",
       "      <th>Sold</th>\n",
       "      <th>NumRate</th>\n",
       "      <th>Category</th>\n",
       "    </tr>\n",
       "  </thead>\n",
       "  <tbody>\n",
       "    <tr>\n",
       "      <th>16</th>\n",
       "      <td>https://www.lazada.vn/products/bo-pijama-do-bo...</td>\n",
       "      <td>Bộ Pijama, Đồ Bộ Mặc Nhà Nữ Dáng Cộc Dễ Thương...</td>\n",
       "      <td>29000.0</td>\n",
       "      <td>51%</td>\n",
       "      <td>5000</td>\n",
       "      <td>940</td>\n",
       "      <td>đồ bộ</td>\n",
       "    </tr>\n",
       "    <tr>\n",
       "      <th>19</th>\n",
       "      <td>https://www.lazada.vn/products/co-size-70kg-do...</td>\n",
       "      <td>CÓ SIZE 70KG ĐỒ BỘ QUẦN ÁO THUN ĐŨA, THUN ĐÙI ...</td>\n",
       "      <td>54784.0</td>\n",
       "      <td>LazFlash Sale,only 1 day left\\n54%</td>\n",
       "      <td>4400</td>\n",
       "      <td>1114</td>\n",
       "      <td>đồ bộ</td>\n",
       "    </tr>\n",
       "    <tr>\n",
       "      <th>72</th>\n",
       "      <td>https://www.lazada.vn/products/set-ao-phong-ga...</td>\n",
       "      <td>Sét Áo phông Gấu Happy + quần bom karo, Áo phô...</td>\n",
       "      <td>56000.0</td>\n",
       "      <td>53%</td>\n",
       "      <td>4500</td>\n",
       "      <td>39</td>\n",
       "      <td>đồ bộ</td>\n",
       "    </tr>\n",
       "    <tr>\n",
       "      <th>84</th>\n",
       "      <td>https://www.lazada.vn/products/bo-do-cotton-nu...</td>\n",
       "      <td>Bộ đồ cotton nữ - set đồ nữ thời trang mặc nhà...</td>\n",
       "      <td>49000.0</td>\n",
       "      <td>50%</td>\n",
       "      <td>10100</td>\n",
       "      <td>1213</td>\n",
       "      <td>đồ bộ</td>\n",
       "    </tr>\n",
       "    <tr>\n",
       "      <th>91</th>\n",
       "      <td>https://www.lazada.vn/products/set-bo-croptop-...</td>\n",
       "      <td>Set bộ croptop quần bo chun mix áo croptop cọc...</td>\n",
       "      <td>61500.0</td>\n",
       "      <td>51%</td>\n",
       "      <td>4500</td>\n",
       "      <td>1598</td>\n",
       "      <td>đồ bộ</td>\n",
       "    </tr>\n",
       "  </tbody>\n",
       "</table>\n",
       "</div>"
      ],
      "text/plain": [
       "                                                  Url  \\\n",
       "16  https://www.lazada.vn/products/bo-pijama-do-bo...   \n",
       "19  https://www.lazada.vn/products/co-size-70kg-do...   \n",
       "72  https://www.lazada.vn/products/set-ao-phong-ga...   \n",
       "84  https://www.lazada.vn/products/bo-do-cotton-nu...   \n",
       "91  https://www.lazada.vn/products/set-bo-croptop-...   \n",
       "\n",
       "                                                 Name    Price  \\\n",
       "16  Bộ Pijama, Đồ Bộ Mặc Nhà Nữ Dáng Cộc Dễ Thương...  29000.0   \n",
       "19  CÓ SIZE 70KG ĐỒ BỘ QUẦN ÁO THUN ĐŨA, THUN ĐÙI ...  54784.0   \n",
       "72  Sét Áo phông Gấu Happy + quần bom karo, Áo phô...  56000.0   \n",
       "84  Bộ đồ cotton nữ - set đồ nữ thời trang mặc nhà...  49000.0   \n",
       "91  Set bộ croptop quần bo chun mix áo croptop cọc...  61500.0   \n",
       "\n",
       "                               Voucher   Sold  NumRate Category  \n",
       "16                                 51%   5000      940    đồ bộ  \n",
       "19  LazFlash Sale,only 1 day left\\n54%   4400     1114    đồ bộ  \n",
       "72                                 53%   4500       39    đồ bộ  \n",
       "84                                 50%  10100     1213    đồ bộ  \n",
       "91                                 51%   4500     1598    đồ bộ  "
      ]
     },
     "execution_count": 94,
     "metadata": {},
     "output_type": "execute_result"
    }
   ],
   "source": [
    "df_Laz_product[df_Laz_product['Sold'] > 4000]"
   ]
  },
  {
   "cell_type": "code",
   "execution_count": 61,
   "id": "efa83850-a3ee-40e3-8fa9-8260a9c3f8d0",
   "metadata": {},
   "outputs": [
    {
     "data": {
      "image/png": "[encoded data removed]",
      "text/plain": [
       "<Figure size 1000x600 with 1 Axes>"
      ]
     },
     "metadata": {},
     "output_type": "display_data"
    }
   ],
   "source": [
    "plt.figure(figsize=(10, 6))\n",
    "plt.scatter(df_Laz_product['Price'], df_Laz_product['Sold'], alpha=0.5)\n",
    "plt.title('Mối tương quan giữa Giá và Số lượng bán')\n",
    "plt.xlabel('Giá')\n",
    "plt.ylabel('Số lượng bán')\n",
    "plt.show()"
   ]
  },
  {
   "cell_type": "code",
   "execution_count": 101,
   "id": "fd34ec09-44e2-47e6-a75a-016038fced51",
   "metadata": {},
   "outputs": [
    {
     "data": {
      "image/png": "[encoded data removed]",
      "text/plain": [
       "<Figure size 800x500 with 1 Axes>"
      ]
     },
     "metadata": {},
     "output_type": "display_data"
    },
    {
     "data": {
      "image/png": "[encoded data removed]",
      "text/plain": [
       "<Figure size 800x500 with 1 Axes>"
      ]
     },
     "metadata": {},
     "output_type": "display_data"
    }
   ],
   "source": [
    "from sklearn.cluster import KMeans\n",
    "from sklearn.metrics import silhouette_score\n",
    "import matplotlib.pyplot as plt\n",
    "import numpy as np\n",
    "\n",
    "df_Laz_product_kmeans = df_Laz_product[['Price', 'Sold']].copy(deep = True)\n",
    "X = df_Laz_product_kmeans\n",
    "\n",
    "scaler = StandardScaler()\n",
    "X_scaled = scaler.fit_transform(X)\n",
    "\n",
    "# Phương pháp Elbow\n",
    "sse = []\n",
    "k_range = range(1, 11)\n",
    "\n",
    "for k in k_range:\n",
    "    kmeans = KMeans(n_clusters=k, random_state=42)\n",
    "    kmeans.fit(X_scaled)\n",
    "    sse.append(kmeans.inertia_)  # inertia_ là tổng khoảng cách từ điểm đến tâm cụm\n",
    "\n",
    "# Vẽ biểu đồ Elbow\n",
    "plt.figure(figsize=(8, 5))\n",
    "plt.plot(k_range, sse, marker='o')\n",
    "plt.xlabel('Số lượng cụm (k)')\n",
    "plt.ylabel('Tổng khoảng cách (SSE)')\n",
    "plt.title('Phương pháp Elbow để tìm số cụm hợp lý')\n",
    "plt.show()\n",
    "\n",
    "# Phương pháp Silhouette\n",
    "silhouette_scores = []\n",
    "\n",
    "for k in range(2, 11):\n",
    "    kmeans = KMeans(n_clusters=k, random_state=42)\n",
    "    labels = kmeans.fit_predict(X_scaled)\n",
    "    silhouette_scores.append(silhouette_score(X_scaled, labels))\n",
    "\n",
    "# Vẽ biểu đồ Silhouette\n",
    "plt.figure(figsize=(8, 5))\n",
    "plt.plot(range(2, 11), silhouette_scores, marker='o')\n",
    "plt.xlabel('Số lượng cụm (k)')\n",
    "plt.ylabel('Chỉ số Silhouette')\n",
    "plt.title('Phương pháp Silhouette để tìm số cụm hợp lý')\n",
    "plt.show()"
   ]
  },
  {
   "cell_type": "code",
   "execution_count": 103,
   "id": "a6b413c7-2e74-4be2-ad8a-e3509398c28b",
   "metadata": {},
   "outputs": [
    {
     "data": {
      "image/png": "[encoded data removed]",
      "text/plain": [
       "<Figure size 1000x600 with 2 Axes>"
      ]
     },
     "metadata": {},
     "output_type": "display_data"
    }
   ],
   "source": [
    "from sklearn.cluster import KMeans\n",
    "\n",
    "df_Laz_product_kmeans = df_Laz_product[['Price', 'Sold']].copy(deep = True)\n",
    "X = df_Laz_product_kmeans\n",
    "scaler = StandardScaler()\n",
    "X_scaled = scaler.fit_transform(X)\n",
    "\n",
    "kmeans = KMeans(n_clusters=4, random_state=42)\n",
    "df_Laz_product_kmeans['Cluster'] = kmeans.fit_predict(X_scaled)\n",
    "\n",
    "plt.figure(figsize=(10, 6))\n",
    "plt.scatter(df_Laz_product_kmeans['Price'], df_Laz_product_kmeans['Sold'], c=df_Laz_product_kmeans['Cluster'], cmap='viridis', alpha=0.6, s=100)\n",
    "plt.title('Phân cụm KMeans dựa trên Giá và Số lượng bán')\n",
    "plt.xlabel('Giá tiền')\n",
    "plt.ylabel('Số lượng bán')\n",
    "plt.colorbar(label='Cluster')\n",
    "plt.show()"
   ]
  },
  {
   "cell_type": "code",
   "execution_count": 105,
   "id": "9fe26cfa-ce0c-44cd-847a-5e5191a675b7",
   "metadata": {},
   "outputs": [
    {
     "data": {
      "text/html": [
       "<div>\n",
       "<style scoped>\n",
       "    .dataframe tbody tr th:only-of-type {\n",
       "        vertical-align: middle;\n",
       "    }\n",
       "\n",
       "    .dataframe tbody tr th {\n",
       "        vertical-align: top;\n",
       "    }\n",
       "\n",
       "    .dataframe thead th {\n",
       "        text-align: right;\n",
       "    }\n",
       "</style>\n",
       "<table border=\"1\" class=\"dataframe\">\n",
       "  <thead>\n",
       "    <tr style=\"text-align: right;\">\n",
       "      <th></th>\n",
       "      <th>Price</th>\n",
       "      <th>Sold</th>\n",
       "      <th>Cluster</th>\n",
       "    </tr>\n",
       "  </thead>\n",
       "  <tbody>\n",
       "    <tr>\n",
       "      <th>84</th>\n",
       "      <td>49000.0</td>\n",
       "      <td>10100</td>\n",
       "      <td>1</td>\n",
       "    </tr>\n",
       "  </tbody>\n",
       "</table>\n",
       "</div>"
      ],
      "text/plain": [
       "      Price   Sold  Cluster\n",
       "84  49000.0  10100        1"
      ]
     },
     "execution_count": 105,
     "metadata": {},
     "output_type": "execute_result"
    }
   ],
   "source": [
    "df_Laz_product_kmeans[df_Laz_product_kmeans['Cluster'] == 1]"
   ]
  },
  {
   "cell_type": "code",
   "execution_count": 62,
   "id": "b984b881-6b9d-4aec-b502-b3c3ddc84896",
   "metadata": {},
   "outputs": [
    {
     "name": "stdout",
     "output_type": "stream",
     "text": [
      "<class 'pandas.core.frame.DataFrame'>\n",
      "Index: 8899 entries, 0 to 9786\n",
      "Data columns (total 2 columns):\n",
      " #   Column       Non-Null Count  Dtype \n",
      "---  ------       --------------  ----- \n",
      " 0   Product_Url  8899 non-null   object\n",
      " 1   Content      8899 non-null   object\n",
      "dtypes: object(2)\n",
      "memory usage: 208.6+ KB\n"
     ]
    }
   ],
   "source": [
    "df_Laz_feedback.info()"
   ]
  },
  {
   "cell_type": "markdown",
   "id": "0ad41127-8896-4e55-b187-a53d0cd3afa7",
   "metadata": {
    "jp-MarkdownHeadingCollapsed": true
   },
   "source": [
    "## Shein"
   ]
  },
  {
   "cell_type": "code",
   "execution_count": null,
   "id": "c712a963-696f-44fd-8ceb-4fdf05b688bf",
   "metadata": {},
   "outputs": [],
   "source": []
  },
  {
   "cell_type": "markdown",
   "id": "30cf15da-4459-4095-915f-879e4db7ffa2",
   "metadata": {
    "jp-MarkdownHeadingCollapsed": true
   },
   "source": [
    "## Tiki"
   ]
  },
  {
   "cell_type": "code",
   "execution_count": null,
   "id": "20008387-eb0f-4fbe-8c54-ae7db6e34041",
   "metadata": {},
   "outputs": [],
   "source": [
    "df_Tiki_product.info()"
   ]
  },
  {
   "cell_type": "code",
   "execution_count": null,
   "id": "3bc9a1ce-ffeb-4a45-9bfe-36c0d8e8e703",
   "metadata": {
    "scrolled": true
   },
   "outputs": [],
   "source": [
    "df_Tiki_product.describe()"
   ]
  },
  {
   "cell_type": "code",
   "execution_count": null,
   "id": "5c3bb8da-c9fc-4bb5-8a75-762b4e807b21",
   "metadata": {},
   "outputs": [],
   "source": [
    "Tiki_nan_summary = df_Tiki_product.isna().sum()\n",
    "print(Tiki_nan_summary)"
   ]
  },
  {
   "cell_type": "code",
   "execution_count": null,
   "id": "eeb85bbf-494f-40aa-8564-392c1330a804",
   "metadata": {},
   "outputs": [],
   "source": [
    "Tiki_category_counts = df_Tiki_product['Category'].value_counts()\n",
    "print(Tiki_category_counts)"
   ]
  },
  {
   "cell_type": "code",
   "execution_count": null,
   "id": "a1f768a3-6fcd-4983-bfcc-f13f8eb92888",
   "metadata": {},
   "outputs": [],
   "source": [
    "plt.figure(figsize = (10, 6))\n",
    "sns.barplot(x = Tiki_category_counts.index, y = Tiki_category_counts.values, palette = 'pastel')\n",
    "plt.title('Phân bố các giá trị trong cột Category', fontsize = 16)\n",
    "plt.xlabel('Loại', fontsize = 14)\n",
    "plt.ylabel('Số lượng', fontsize = 14)\n",
    "plt.xticks(rotation = 45, ha = 'right')\n",
    "plt.show()"
   ]
  },
  {
   "cell_type": "code",
   "execution_count": null,
   "id": "80eadb72-e8ed-493b-bc79-15ef9e469853",
   "metadata": {},
   "outputs": [],
   "source": [
    "df_Tiki_product.to_csv('tiki_products_.csv', index=False)"
   ]
  },
  {
   "cell_type": "code",
   "execution_count": null,
   "id": "9d4f4508-3877-4a95-a057-940989a99ae4",
   "metadata": {},
   "outputs": [],
   "source": [
    "Tiki_avgPrice_per_category = df_Tiki_product.groupby('Category')['Price'].mean().round()"
   ]
  },
  {
   "cell_type": "code",
   "execution_count": null,
   "id": "4e857434-8925-4b95-b40b-e695cd8d6c75",
   "metadata": {},
   "outputs": [],
   "source": [
    "print(Tiki_avgPrice_per_category)"
   ]
  },
  {
   "cell_type": "code",
   "execution_count": null,
   "id": "dd5344c4-3084-4431-879d-8829f689743f",
   "metadata": {},
   "outputs": [],
   "source": [
    "plt.figure(figsize = (10, 6))\n",
    "sns.barplot(x = Tiki_avgPrice_per_category.index, y = Tiki_avgPrice_per_category.values, palette = 'pastel')\n",
    "plt.title('Giá tiền trung bình mỗi loại', fontsize = 16)\n",
    "plt.xlabel('Loại', fontsize = 14)\n",
    "plt.ylabel('Giá trung bình', fontsize = 14)\n",
    "plt.xticks(rotation = 45, ha = 'right')\n",
    "plt.show()"
   ]
  },
  {
   "cell_type": "markdown",
   "id": "69fc6165-421c-41f6-b4fe-71b68f958aeb",
   "metadata": {},
   "source": [
    "# Analysis comprehensive overview based on the whole 3 datasets"
   ]
  },
  {
   "cell_type": "code",
   "execution_count": null,
   "id": "bc9cac7c-34a1-4f3a-acb7-846043536cda",
   "metadata": {},
   "outputs": [],
   "source": []
  }
 ],
 "metadata": {
  "kernelspec": {
   "display_name": "Python 3 (ipykernel)",
   "language": "python",
   "name": "python3"
  },
  "language_info": {
   "codemirror_mode": {
    "name": "ipython",
    "version": 3
   },
   "file_extension": ".py",
   "mimetype": "text/x-python",
   "name": "python",
   "nbconvert_exporter": "python",
   "pygments_lexer": "ipython3",
   "version": "3.12.4"
  }
 },
 "nbformat": 4,
 "nbformat_minor": 5
}
